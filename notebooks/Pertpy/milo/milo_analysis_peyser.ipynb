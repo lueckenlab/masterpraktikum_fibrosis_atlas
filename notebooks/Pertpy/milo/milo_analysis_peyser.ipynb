{
 "cells": [
  {
   "cell_type": "code",
   "execution_count": 1,
   "id": "5273707f-96e2-4e0f-ac2d-a01e8567533b",
   "metadata": {},
   "outputs": [],
   "source": [
    "import os\n",
    "#os.environ['R_HOME'] = '/home/h/hollenberg/miniconda3/envs/milopy-envv/lib/R' #path to your R installation\n",
    "#os.environ['R_USER'] = '//home/h/hollenberg/miniconda3/envs/milopy-envv/lib/python3.11/site-packages/rpy2'\n",
    "#home/h/hollenberg/miniconda3/envs/milopy-envv/bin/python\n",
    "import warnings\n",
    "\n",
    "warnings.filterwarnings(\"ignore\")\n",
    "\n",
    "import matplotlib.pyplot as plt\n",
    "import seaborn as sns\n",
    "import scanpy as sc\n",
    "import pandas as pd\n",
    "import numpy as np\n",
    "import random\n",
    "import sc_toolbox\n",
    "\n",
    "import rpy2.rinterface_lib.callbacks\n",
    "import anndata2ri\n",
    "import logging\n",
    "import milopy\n",
    "import milopy.core as milo\n",
    "import milopy.plot as milopl\n",
    "import milopy.utils\n",
    "\n",
    "from rpy2.robjects import pandas2ri\n",
    "from rpy2.robjects import r\n",
    "\n",
    "sc.settings.verbosity = 0\n",
    "rpy2.rinterface_lib.callbacks.logger.setLevel(logging.ERROR)\n",
    "\n",
    "pandas2ri.activate()\n",
    "anndata2ri.activate()\n",
    "\n",
    "%load_ext rpy2.ipython"
   ]
  },
  {
   "cell_type": "code",
   "execution_count": 2,
   "id": "8338f2fc-081b-40d8-8e14-fc9baa8f2a9e",
   "metadata": {},
   "outputs": [],
   "source": [
    "# path of partly preprocessed HLCA file used in this notebook:\n",
    "adata_path = \"/home/h/hollenberg/MaPra/datasets_seperate/peyser.h5ad\"\n",
    "\n",
    "# add annotation when not in adata -> None if annotation already in adata\n",
    "#add_annotation = \"/home/h/hollenberg/MaPra/datasets_seperate/galapagos_radiation_obs_annotation.csv\"\n",
    "\n",
    "sample_identifier = \"batch\" \n",
    "cell_type_identifier = \"harmonized_anno\" \n",
    "covariate_obs = \"condition\"\n"
   ]
  },
  {
   "cell_type": "code",
   "execution_count": 3,
   "id": "8bab3eda-19b1-44ba-8ef8-ccb182b13a20",
   "metadata": {},
   "outputs": [],
   "source": [
    "adata = sc.read(adata_path)\n",
    "#if add_annotation is not None:\n",
    "#    adata.obs = pd.read_csv(add_annotation)"
   ]
  },
  {
   "cell_type": "code",
   "execution_count": 14,
   "id": "21b68b99-559a-4e74-9b69-9915d90a1845",
   "metadata": {},
   "outputs": [
    {
     "data": {
      "text/plain": [
       "AnnData object with n_obs × n_vars = 13454 × 23767\n",
       "    obs: 'author_annotation', 'scDblFinder_score', 'scDblFinder_class', 'manual_celltype_annotation', 'batch', 'condition', 'doublet_score', 'predicted_doublet', 'timepoint', 'author_annotation_coarse', 'dataset', 'fibrotic/control', 'n_genes_by_counts', 'log1p_n_genes_by_counts', 'total_counts', 'log1p_total_counts', 'pct_counts_in_top_20_genes', 'total_counts_mt', 'log1p_total_counts_mt', 'pct_counts_mt', 'total_counts_ribo', 'log1p_total_counts_ribo', 'pct_counts_ribo', 'total_counts_hb', 'log1p_total_counts_hb', 'pct_counts_hb', 'low_hierarchy', 'high_hierarchy', 'harmonized_anno', 'coarse_harmonized_anno', 'low_hierarchy_fine', 'high_hierarchy_fine', 'low_hierarchy_coarse', 'high_hierarchy_coarse', 'project', 'nhood_ixs_random', 'nhood_ixs_refined', 'nhood_kth_distance', 'condition_continuous'\n",
       "    var: 'mt', 'ribo', 'hb', 'n_cells_by_counts', 'mean_counts', 'log1p_mean_counts', 'pct_dropout_by_counts', 'total_counts', 'log1p_total_counts', 'highly_variable', 'means', 'dispersions', 'dispersions_norm', 'highly_variable_nbatches', 'highly_variable_intersection', 'n_counts'\n",
       "    uns: 'batch_colors', 'dataset_colors', 'high_hierarchy_colors', 'hvg', 'log1p', 'low_hierarchy_colors', 'manual_celltype_annotation_colors', 'neighbors', 'pca', 'umap', 'nhood_neighbors_key', 'nhood_adata'\n",
       "    obsm: 'X_pca', 'X_umap', 'nhoods'\n",
       "    varm: 'PCs'\n",
       "    layers: 'log1p_norm', 'raw_counts'\n",
       "    obsp: 'connectivities', 'distances'"
      ]
     },
     "execution_count": 14,
     "metadata": {},
     "output_type": "execute_result"
    }
   ],
   "source": [
    "adata \n",
    "\n"
   ]
  },
  {
   "cell_type": "code",
   "execution_count": 4,
   "id": "8109f527-5842-49a0-b50c-9fc3d384f043",
   "metadata": {},
   "outputs": [],
   "source": [
    "d = 30\n",
    "k = 50\n",
    "\n",
    "sc.pp.neighbors(adata, n_neighbors=k, n_pcs=d)"
   ]
  },
  {
   "cell_type": "code",
   "execution_count": 5,
   "id": "4a2d4311-2456-42b6-b668-dd7b964c9320",
   "metadata": {},
   "outputs": [
    {
     "name": "stderr",
     "output_type": "stream",
     "text": [
      "WARNING:root:Using X_pca as default embedding\n"
     ]
    },
    {
     "data": {
      "text/html": [
       "<div>\n",
       "<style scoped>\n",
       "    .dataframe tbody tr th:only-of-type {\n",
       "        vertical-align: middle;\n",
       "    }\n",
       "\n",
       "    .dataframe tbody tr th {\n",
       "        vertical-align: top;\n",
       "    }\n",
       "\n",
       "    .dataframe thead th {\n",
       "        text-align: right;\n",
       "    }\n",
       "</style>\n",
       "<table border=\"1\" class=\"dataframe\">\n",
       "  <thead>\n",
       "    <tr style=\"text-align: right;\">\n",
       "      <th></th>\n",
       "      <th>nhood_ixs_refined</th>\n",
       "      <th>nhood_kth_distance</th>\n",
       "    </tr>\n",
       "  </thead>\n",
       "  <tbody>\n",
       "    <tr>\n",
       "      <th>AAACCTGCATAACCTG-1_peyser</th>\n",
       "      <td>1</td>\n",
       "      <td>2.397161</td>\n",
       "    </tr>\n",
       "    <tr>\n",
       "      <th>AAACGGGGTAGAAGGA-1_peyser</th>\n",
       "      <td>1</td>\n",
       "      <td>1.229450</td>\n",
       "    </tr>\n",
       "    <tr>\n",
       "      <th>AACGTTGCACACAGAG-1_peyser</th>\n",
       "      <td>1</td>\n",
       "      <td>1.932498</td>\n",
       "    </tr>\n",
       "    <tr>\n",
       "      <th>AACTCAGCATGTAGTC-1_peyser</th>\n",
       "      <td>1</td>\n",
       "      <td>2.944524</td>\n",
       "    </tr>\n",
       "    <tr>\n",
       "      <th>AACTCTTCATTGTGCA-1_peyser</th>\n",
       "      <td>1</td>\n",
       "      <td>1.843539</td>\n",
       "    </tr>\n",
       "    <tr>\n",
       "      <th>...</th>\n",
       "      <td>...</td>\n",
       "      <td>...</td>\n",
       "    </tr>\n",
       "    <tr>\n",
       "      <th>TTAGGCAGTGCGAAAC-1_peyser</th>\n",
       "      <td>1</td>\n",
       "      <td>2.116790</td>\n",
       "    </tr>\n",
       "    <tr>\n",
       "      <th>TTAGTTCTCAGTCAGT-1_peyser</th>\n",
       "      <td>1</td>\n",
       "      <td>8.057677</td>\n",
       "    </tr>\n",
       "    <tr>\n",
       "      <th>TTCTCCTCAGACAAGC-1_peyser</th>\n",
       "      <td>1</td>\n",
       "      <td>1.341553</td>\n",
       "    </tr>\n",
       "    <tr>\n",
       "      <th>TTGAACGAGATCCGAG-1_peyser</th>\n",
       "      <td>1</td>\n",
       "      <td>7.125179</td>\n",
       "    </tr>\n",
       "    <tr>\n",
       "      <th>TTTGGTTAGAATTCCC-1_peyser</th>\n",
       "      <td>1</td>\n",
       "      <td>4.087969</td>\n",
       "    </tr>\n",
       "  </tbody>\n",
       "</table>\n",
       "<p>846 rows × 2 columns</p>\n",
       "</div>"
      ],
      "text/plain": [
       "                           nhood_ixs_refined  nhood_kth_distance\n",
       "AAACCTGCATAACCTG-1_peyser                  1            2.397161\n",
       "AAACGGGGTAGAAGGA-1_peyser                  1            1.229450\n",
       "AACGTTGCACACAGAG-1_peyser                  1            1.932498\n",
       "AACTCAGCATGTAGTC-1_peyser                  1            2.944524\n",
       "AACTCTTCATTGTGCA-1_peyser                  1            1.843539\n",
       "...                                      ...                 ...\n",
       "TTAGGCAGTGCGAAAC-1_peyser                  1            2.116790\n",
       "TTAGTTCTCAGTCAGT-1_peyser                  1            8.057677\n",
       "TTCTCCTCAGACAAGC-1_peyser                  1            1.341553\n",
       "TTGAACGAGATCCGAG-1_peyser                  1            7.125179\n",
       "TTTGGTTAGAATTCCC-1_peyser                  1            4.087969\n",
       "\n",
       "[846 rows x 2 columns]"
      ]
     },
     "execution_count": 5,
     "metadata": {},
     "output_type": "execute_result"
    }
   ],
   "source": [
    "milo.make_nhoods(adata, prop=0.1)\n",
    "adata.obsm[\"nhoods\"]\n",
    "adata[adata.obs['nhood_ixs_refined'] != 0].obs[['nhood_ixs_refined', 'nhood_kth_distance']]"
   ]
  },
  {
   "cell_type": "code",
   "execution_count": 6,
   "id": "e6797d1e-2641-4e5a-8e6b-d8f3be158696",
   "metadata": {},
   "outputs": [
    {
     "data": {
      "image/png": "[encoded data removed]",
      "text/plain": [
       "<Figure size 640x480 with 1 Axes>"
      ]
     },
     "metadata": {},
     "output_type": "display_data"
    }
   ],
   "source": [
    "nhood_size = np.array(adata.obsm[\"nhoods\"].sum(0)).ravel()\n",
    "plt.hist(nhood_size, bins=100);"
   ]
  },
  {
   "cell_type": "code",
   "execution_count": 7,
   "id": "742772c5-9226-4c45-86df-0ff4fc63a308",
   "metadata": {},
   "outputs": [
    {
     "data": {
      "text/plain": [
       "AnnData object with n_obs × n_vars = 846 × 8\n",
       "    obs: 'index_cell', 'kth_distance'\n",
       "    uns: 'sample_col'"
      ]
     },
     "execution_count": 7,
     "metadata": {},
     "output_type": "execute_result"
    }
   ],
   "source": [
    "milo.count_nhoods(adata, sample_col=sample_identifier)\n",
    "adata.uns[\"nhood_adata\"]"
   ]
  },
  {
   "cell_type": "code",
   "execution_count": 8,
   "id": "cc70a263-67bb-4ce4-9831-c18b2b053514",
   "metadata": {
    "scrolled": true
   },
   "outputs": [],
   "source": [
    "adata.obs[\"condition_continuous\"] = adata.obs[covariate_obs].astype('category').cat.codes\n",
    "milo.DA_nhoods(adata, design=\"~condition_continuous\")"
   ]
  },
  {
   "cell_type": "code",
   "execution_count": 9,
   "id": "76702c26-19b0-4b3e-b1fd-cfab663a5cdb",
   "metadata": {
    "scrolled": true
   },
   "outputs": [
    {
     "data": {
      "text/html": [
       "<div>\n",
       "<style scoped>\n",
       "    .dataframe tbody tr th:only-of-type {\n",
       "        vertical-align: middle;\n",
       "    }\n",
       "\n",
       "    .dataframe tbody tr th {\n",
       "        vertical-align: top;\n",
       "    }\n",
       "\n",
       "    .dataframe thead th {\n",
       "        text-align: right;\n",
       "    }\n",
       "</style>\n",
       "<table border=\"1\" class=\"dataframe\">\n",
       "  <thead>\n",
       "    <tr style=\"text-align: right;\">\n",
       "      <th></th>\n",
       "      <th>index_cell</th>\n",
       "      <th>kth_distance</th>\n",
       "      <th>logFC</th>\n",
       "      <th>logCPM</th>\n",
       "      <th>F</th>\n",
       "      <th>PValue</th>\n",
       "      <th>FDR</th>\n",
       "      <th>SpatialFDR</th>\n",
       "    </tr>\n",
       "  </thead>\n",
       "  <tbody>\n",
       "    <tr>\n",
       "      <th>0</th>\n",
       "      <td>AAACCTGCATAACCTG-1_peyser</td>\n",
       "      <td>2.397161</td>\n",
       "      <td>0.502978</td>\n",
       "      <td>10.498432</td>\n",
       "      <td>0.398313</td>\n",
       "      <td>0.539705</td>\n",
       "      <td>0.666555</td>\n",
       "      <td>0.706435</td>\n",
       "    </tr>\n",
       "    <tr>\n",
       "      <th>1</th>\n",
       "      <td>AAACGGGGTAGAAGGA-1_peyser</td>\n",
       "      <td>1.229450</td>\n",
       "      <td>0.162873</td>\n",
       "      <td>11.139336</td>\n",
       "      <td>0.011736</td>\n",
       "      <td>0.915500</td>\n",
       "      <td>0.945682</td>\n",
       "      <td>0.952049</td>\n",
       "    </tr>\n",
       "    <tr>\n",
       "      <th>2</th>\n",
       "      <td>AACGTTGCACACAGAG-1_peyser</td>\n",
       "      <td>1.932498</td>\n",
       "      <td>-0.078756</td>\n",
       "      <td>10.300046</td>\n",
       "      <td>0.007026</td>\n",
       "      <td>0.934587</td>\n",
       "      <td>0.959540</td>\n",
       "      <td>0.965274</td>\n",
       "    </tr>\n",
       "    <tr>\n",
       "      <th>3</th>\n",
       "      <td>AACTCAGCATGTAGTC-1_peyser</td>\n",
       "      <td>2.944524</td>\n",
       "      <td>0.186234</td>\n",
       "      <td>10.618134</td>\n",
       "      <td>0.067987</td>\n",
       "      <td>0.798655</td>\n",
       "      <td>0.868460</td>\n",
       "      <td>0.881509</td>\n",
       "    </tr>\n",
       "    <tr>\n",
       "      <th>4</th>\n",
       "      <td>AACTCTTCATTGTGCA-1_peyser</td>\n",
       "      <td>1.843539</td>\n",
       "      <td>1.481344</td>\n",
       "      <td>9.588529</td>\n",
       "      <td>1.635241</td>\n",
       "      <td>0.225311</td>\n",
       "      <td>0.361009</td>\n",
       "      <td>0.408651</td>\n",
       "    </tr>\n",
       "    <tr>\n",
       "      <th>...</th>\n",
       "      <td>...</td>\n",
       "      <td>...</td>\n",
       "      <td>...</td>\n",
       "      <td>...</td>\n",
       "      <td>...</td>\n",
       "      <td>...</td>\n",
       "      <td>...</td>\n",
       "      <td>...</td>\n",
       "    </tr>\n",
       "    <tr>\n",
       "      <th>841</th>\n",
       "      <td>TTAGGCAGTGCGAAAC-1_peyser</td>\n",
       "      <td>2.116790</td>\n",
       "      <td>7.771104</td>\n",
       "      <td>10.641546</td>\n",
       "      <td>8.614712</td>\n",
       "      <td>0.016771</td>\n",
       "      <td>0.058365</td>\n",
       "      <td>0.075324</td>\n",
       "    </tr>\n",
       "    <tr>\n",
       "      <th>842</th>\n",
       "      <td>TTAGTTCTCAGTCAGT-1_peyser</td>\n",
       "      <td>8.057677</td>\n",
       "      <td>0.163750</td>\n",
       "      <td>10.158738</td>\n",
       "      <td>0.047749</td>\n",
       "      <td>0.830664</td>\n",
       "      <td>0.888422</td>\n",
       "      <td>0.899595</td>\n",
       "    </tr>\n",
       "    <tr>\n",
       "      <th>843</th>\n",
       "      <td>TTCTCCTCAGACAAGC-1_peyser</td>\n",
       "      <td>1.341553</td>\n",
       "      <td>0.438169</td>\n",
       "      <td>10.359221</td>\n",
       "      <td>0.164937</td>\n",
       "      <td>0.691846</td>\n",
       "      <td>0.793092</td>\n",
       "      <td>0.823999</td>\n",
       "    </tr>\n",
       "    <tr>\n",
       "      <th>844</th>\n",
       "      <td>TTGAACGAGATCCGAG-1_peyser</td>\n",
       "      <td>7.125179</td>\n",
       "      <td>0.472057</td>\n",
       "      <td>9.902912</td>\n",
       "      <td>0.395059</td>\n",
       "      <td>0.541325</td>\n",
       "      <td>0.667581</td>\n",
       "      <td>0.706879</td>\n",
       "    </tr>\n",
       "    <tr>\n",
       "      <th>845</th>\n",
       "      <td>TTTGGTTAGAATTCCC-1_peyser</td>\n",
       "      <td>4.087969</td>\n",
       "      <td>2.824994</td>\n",
       "      <td>10.352860</td>\n",
       "      <td>9.018003</td>\n",
       "      <td>0.011076</td>\n",
       "      <td>0.042209</td>\n",
       "      <td>0.055698</td>\n",
       "    </tr>\n",
       "  </tbody>\n",
       "</table>\n",
       "<p>846 rows × 8 columns</p>\n",
       "</div>"
      ],
      "text/plain": [
       "                    index_cell  kth_distance     logFC     logCPM         F  \\\n",
       "0    AAACCTGCATAACCTG-1_peyser      2.397161  0.502978  10.498432  0.398313   \n",
       "1    AAACGGGGTAGAAGGA-1_peyser      1.229450  0.162873  11.139336  0.011736   \n",
       "2    AACGTTGCACACAGAG-1_peyser      1.932498 -0.078756  10.300046  0.007026   \n",
       "3    AACTCAGCATGTAGTC-1_peyser      2.944524  0.186234  10.618134  0.067987   \n",
       "4    AACTCTTCATTGTGCA-1_peyser      1.843539  1.481344   9.588529  1.635241   \n",
       "..                         ...           ...       ...        ...       ...   \n",
       "841  TTAGGCAGTGCGAAAC-1_peyser      2.116790  7.771104  10.641546  8.614712   \n",
       "842  TTAGTTCTCAGTCAGT-1_peyser      8.057677  0.163750  10.158738  0.047749   \n",
       "843  TTCTCCTCAGACAAGC-1_peyser      1.341553  0.438169  10.359221  0.164937   \n",
       "844  TTGAACGAGATCCGAG-1_peyser      7.125179  0.472057   9.902912  0.395059   \n",
       "845  TTTGGTTAGAATTCCC-1_peyser      4.087969  2.824994  10.352860  9.018003   \n",
       "\n",
       "       PValue       FDR  SpatialFDR  \n",
       "0    0.539705  0.666555    0.706435  \n",
       "1    0.915500  0.945682    0.952049  \n",
       "2    0.934587  0.959540    0.965274  \n",
       "3    0.798655  0.868460    0.881509  \n",
       "4    0.225311  0.361009    0.408651  \n",
       "..        ...       ...         ...  \n",
       "841  0.016771  0.058365    0.075324  \n",
       "842  0.830664  0.888422    0.899595  \n",
       "843  0.691846  0.793092    0.823999  \n",
       "844  0.541325  0.667581    0.706879  \n",
       "845  0.011076  0.042209    0.055698  \n",
       "\n",
       "[846 rows x 8 columns]"
      ]
     },
     "execution_count": 9,
     "metadata": {},
     "output_type": "execute_result"
    }
   ],
   "source": [
    "adata.uns[\"nhood_adata\"].obs"
   ]
  },
  {
   "cell_type": "code",
   "execution_count": 10,
   "id": "1d0ee438-fc70-4f89-a074-7170f757ef4c",
   "metadata": {},
   "outputs": [
    {
     "data": {
      "image/png": "[encoded data removed]",
      "text/plain": [
       "<Figure size 1000x500 with 2 Axes>"
      ]
     },
     "metadata": {},
     "output_type": "display_data"
    }
   ],
   "source": [
    "old_figsize = plt.rcParams[\"figure.figsize\"]\n",
    "plt.rcParams[\"figure.figsize\"] = [10,5]\n",
    "plt.subplot(1,2,1)\n",
    "plt.hist(adata.uns[\"nhood_adata\"].obs.PValue, bins=50);\n",
    "plt.xlabel(\"P-Vals\");\n",
    "plt.subplot(1,2,2)\n",
    "plt.plot(adata.uns[\"nhood_adata\"].obs.logFC, -np.log10(adata.uns[\"nhood_adata\"].obs.SpatialFDR), '.');\n",
    "plt.xlabel(\"log-Fold Change\");\n",
    "plt.ylabel(\"- log10(Spatial FDR)\");\n",
    "plt.tight_layout()\n",
    "plt.rcParams[\"figure.figsize\"] = old_figsize"
   ]
  },
  {
   "cell_type": "code",
   "execution_count": 11,
   "id": "586256f8-7fd5-4470-9c6f-150bb66fa3e1",
   "metadata": {
    "scrolled": true
   },
   "outputs": [],
   "source": [
    "milopy.utils.build_nhood_graph(adata)"
   ]
  },
  {
   "cell_type": "code",
   "execution_count": 12,
   "id": "c1c84684-767b-409e-a661-a1421d4641cb",
   "metadata": {},
   "outputs": [
    {
     "data": {
      "text/plain": [
       "AnnData object with n_obs × n_vars = 846 × 8\n",
       "    obs: 'index_cell', 'kth_distance', 'logFC', 'logCPM', 'F', 'PValue', 'FDR', 'SpatialFDR', 'Nhood_size'\n",
       "    var: 'condition_continuous', 'batch'\n",
       "    uns: 'sample_col', 'nhood'\n",
       "    obsm: 'X_milo_graph'\n",
       "    obsp: 'nhood_connectivities'"
      ]
     },
     "execution_count": 12,
     "metadata": {},
     "output_type": "execute_result"
    }
   ],
   "source": [
    "nhood_adata = adata.uns[\"nhood_adata\"].copy()\n",
    "nhood_adata"
   ]
  },
  {
   "cell_type": "code",
   "execution_count": 13,
   "id": "b69ad868-63a4-4075-933d-2c82029b76f4",
   "metadata": {},
   "outputs": [
    {
     "ename": "StopIteration",
     "evalue": "",
     "output_type": "error",
     "traceback": [
      "\u001b[0;31m---------------------------------------------------------------------------\u001b[0m",
      "\u001b[0;31mStopIteration\u001b[0m                             Traceback (most recent call last)",
      "Cell \u001b[0;32mIn[13], line 3\u001b[0m\n\u001b[1;32m      1\u001b[0m \u001b[38;5;66;03m#import milopy.utils \u001b[39;00m\n\u001b[1;32m      2\u001b[0m plt\u001b[38;5;241m.\u001b[39mrcParams[\u001b[38;5;124m\"\u001b[39m\u001b[38;5;124mfigure.figsize\u001b[39m\u001b[38;5;124m\"\u001b[39m] \u001b[38;5;241m=\u001b[39m [\u001b[38;5;241m10\u001b[39m,\u001b[38;5;241m10\u001b[39m]\n\u001b[0;32m----> 3\u001b[0m \u001b[43mmilopl\u001b[49m\u001b[38;5;241;43m.\u001b[39;49m\u001b[43mplot_nhood_graph\u001b[49m\u001b[43m(\u001b[49m\u001b[43madata\u001b[49m\u001b[43m,\u001b[49m\n\u001b[1;32m      4\u001b[0m \u001b[43m    \u001b[49m\u001b[43malpha\u001b[49m\u001b[38;5;241;43m=\u001b[39;49m\u001b[38;5;241;43m0.01\u001b[39;49m\u001b[43m,\u001b[49m\u001b[43m \u001b[49m\u001b[38;5;66;43;03m## SpatialFDR level (1%)\u001b[39;49;00m\n\u001b[1;32m      5\u001b[0m \u001b[43m    \u001b[49m\u001b[43mmin_size\u001b[49m\u001b[38;5;241;43m=\u001b[39;49m\u001b[38;5;241;43m2\u001b[39;49m\u001b[43m \u001b[49m\u001b[38;5;66;43;03m## Size of smallest dot \u001b[39;49;00m\n\u001b[1;32m      6\u001b[0m \u001b[43m                       \u001b[49m\u001b[43m)\u001b[49m\n",
      "File \u001b[0;32m~/miniconda3/envs/milo_R/lib/python3.9/site-packages/milopy/plot.py:60\u001b[0m, in \u001b[0;36mplot_nhood_graph\u001b[0;34m(adata, alpha, min_logFC, min_size, plot_edges, title, **kwargs)\u001b[0m\n\u001b[1;32m     56\u001b[0m vmax \u001b[38;5;241m=\u001b[39m np\u001b[38;5;241m.\u001b[39mmax([nhood_adata\u001b[38;5;241m.\u001b[39mobs[\u001b[38;5;124m\"\u001b[39m\u001b[38;5;124mgraph_color\u001b[39m\u001b[38;5;124m\"\u001b[39m]\u001b[38;5;241m.\u001b[39mmax(),\n\u001b[1;32m     57\u001b[0m               \u001b[38;5;28mabs\u001b[39m(nhood_adata\u001b[38;5;241m.\u001b[39mobs[\u001b[38;5;124m\"\u001b[39m\u001b[38;5;124mgraph_color\u001b[39m\u001b[38;5;124m\"\u001b[39m]\u001b[38;5;241m.\u001b[39mmin())])\n\u001b[1;32m     58\u001b[0m vmin \u001b[38;5;241m=\u001b[39m \u001b[38;5;241m-\u001b[39m vmax\n\u001b[0;32m---> 60\u001b[0m \u001b[43msc\u001b[49m\u001b[38;5;241;43m.\u001b[39;49m\u001b[43mpl\u001b[49m\u001b[38;5;241;43m.\u001b[39;49m\u001b[43membedding\u001b[49m\u001b[43m(\u001b[49m\u001b[43mnhood_adata\u001b[49m\u001b[43m,\u001b[49m\u001b[43m \u001b[49m\u001b[38;5;124;43m\"\u001b[39;49m\u001b[38;5;124;43mX_milo_graph\u001b[39;49m\u001b[38;5;124;43m\"\u001b[39;49m\u001b[43m,\u001b[49m\n\u001b[1;32m     61\u001b[0m \u001b[43m                \u001b[49m\u001b[43mcolor\u001b[49m\u001b[38;5;241;43m=\u001b[39;49m\u001b[38;5;124;43m\"\u001b[39;49m\u001b[38;5;124;43mgraph_color\u001b[39;49m\u001b[38;5;124;43m\"\u001b[39;49m\u001b[43m,\u001b[49m\u001b[43m \u001b[49m\u001b[43mcmap\u001b[49m\u001b[38;5;241;43m=\u001b[39;49m\u001b[38;5;124;43m\"\u001b[39;49m\u001b[38;5;124;43mRdBu_r\u001b[39;49m\u001b[38;5;124;43m\"\u001b[39;49m\u001b[43m,\u001b[49m\n\u001b[1;32m     62\u001b[0m \u001b[43m                \u001b[49m\u001b[43msize\u001b[49m\u001b[38;5;241;43m=\u001b[39;49m\u001b[43madata\u001b[49m\u001b[38;5;241;43m.\u001b[39;49m\u001b[43muns\u001b[49m\u001b[43m[\u001b[49m\u001b[38;5;124;43m\"\u001b[39;49m\u001b[38;5;124;43mnhood_adata\u001b[39;49m\u001b[38;5;124;43m\"\u001b[39;49m\u001b[43m]\u001b[49m\u001b[38;5;241;43m.\u001b[39;49m\u001b[43mobs\u001b[49m\u001b[43m[\u001b[49m\u001b[38;5;124;43m\"\u001b[39;49m\u001b[38;5;124;43mNhood_size\u001b[39;49m\u001b[38;5;124;43m\"\u001b[39;49m\u001b[43m]\u001b[49m\u001b[38;5;241;43m*\u001b[39;49m\u001b[43mmin_size\u001b[49m\u001b[43m,\u001b[49m\n\u001b[1;32m     63\u001b[0m \u001b[43m                \u001b[49m\u001b[43medges\u001b[49m\u001b[38;5;241;43m=\u001b[39;49m\u001b[43mplot_edges\u001b[49m\u001b[43m,\u001b[49m\u001b[43m \u001b[49m\u001b[43mneighbors_key\u001b[49m\u001b[38;5;241;43m=\u001b[39;49m\u001b[38;5;124;43m\"\u001b[39;49m\u001b[38;5;124;43mnhood\u001b[39;49m\u001b[38;5;124;43m\"\u001b[39;49m\u001b[43m,\u001b[49m\n\u001b[1;32m     64\u001b[0m \u001b[43m                \u001b[49m\u001b[38;5;66;43;03m# edge_width =\u001b[39;49;00m\n\u001b[1;32m     65\u001b[0m \u001b[43m                \u001b[49m\u001b[43msort_order\u001b[49m\u001b[38;5;241;43m=\u001b[39;49m\u001b[38;5;28;43;01mFalse\u001b[39;49;00m\u001b[43m,\u001b[49m\n\u001b[1;32m     66\u001b[0m \u001b[43m                \u001b[49m\u001b[43mframeon\u001b[49m\u001b[38;5;241;43m=\u001b[39;49m\u001b[38;5;28;43;01mFalse\u001b[39;49;00m\u001b[43m,\u001b[49m\n\u001b[1;32m     67\u001b[0m \u001b[43m                \u001b[49m\u001b[43mvmax\u001b[49m\u001b[38;5;241;43m=\u001b[39;49m\u001b[43mvmax\u001b[49m\u001b[43m,\u001b[49m\u001b[43m \u001b[49m\u001b[43mvmin\u001b[49m\u001b[38;5;241;43m=\u001b[39;49m\u001b[43mvmin\u001b[49m\u001b[43m,\u001b[49m\n\u001b[1;32m     68\u001b[0m \u001b[43m                \u001b[49m\u001b[43mtitle\u001b[49m\u001b[38;5;241;43m=\u001b[39;49m\u001b[43mtitle\u001b[49m\u001b[43m,\u001b[49m\n\u001b[1;32m     69\u001b[0m \u001b[43m                \u001b[49m\u001b[38;5;241;43m*\u001b[39;49m\u001b[38;5;241;43m*\u001b[39;49m\u001b[43mkwargs\u001b[49m\n\u001b[1;32m     70\u001b[0m \u001b[43m                \u001b[49m\u001b[43m)\u001b[49m\n",
      "File \u001b[0;32m~/miniconda3/envs/milo_R/lib/python3.9/site-packages/scanpy/plotting/_tools/scatterplots.py:392\u001b[0m, in \u001b[0;36membedding\u001b[0;34m(adata, basis, color, gene_symbols, use_raw, sort_order, edges, edges_width, edges_color, neighbors_key, arrows, arrows_kwds, groups, components, dimensions, layer, projection, scale_factor, color_map, cmap, palette, na_color, na_in_legend, size, frameon, legend_fontsize, legend_fontweight, legend_loc, legend_fontoutline, colorbar_loc, vmax, vmin, vcenter, norm, add_outline, outline_width, outline_color, ncols, hspace, wspace, title, show, save, ax, return_fig, **kwargs)\u001b[0m\n\u001b[1;32m    389\u001b[0m         \u001b[38;5;66;03m# if user did not set alpha, set alpha to 0.7\u001b[39;00m\n\u001b[1;32m    390\u001b[0m         kwargs[\u001b[38;5;124m'\u001b[39m\u001b[38;5;124malpha\u001b[39m\u001b[38;5;124m'\u001b[39m] \u001b[38;5;241m=\u001b[39m \u001b[38;5;241m0.7\u001b[39m \u001b[38;5;28;01mif\u001b[39;00m alpha \u001b[38;5;129;01mis\u001b[39;00m \u001b[38;5;28;01mNone\u001b[39;00m \u001b[38;5;28;01melse\u001b[39;00m alpha\n\u001b[0;32m--> 392\u001b[0m     cax \u001b[38;5;241m=\u001b[39m \u001b[43mscatter\u001b[49m\u001b[43m(\u001b[49m\n\u001b[1;32m    393\u001b[0m \u001b[43m        \u001b[49m\u001b[43mcoords\u001b[49m\u001b[43m[\u001b[49m\u001b[43m:\u001b[49m\u001b[43m,\u001b[49m\u001b[43m \u001b[49m\u001b[38;5;241;43m0\u001b[39;49m\u001b[43m]\u001b[49m\u001b[43m,\u001b[49m\n\u001b[1;32m    394\u001b[0m \u001b[43m        \u001b[49m\u001b[43mcoords\u001b[49m\u001b[43m[\u001b[49m\u001b[43m:\u001b[49m\u001b[43m,\u001b[49m\u001b[43m \u001b[49m\u001b[38;5;241;43m1\u001b[39;49m\u001b[43m]\u001b[49m\u001b[43m,\u001b[49m\n\u001b[1;32m    395\u001b[0m \u001b[43m        \u001b[49m\u001b[43mmarker\u001b[49m\u001b[38;5;241;43m=\u001b[39;49m\u001b[38;5;124;43m\"\u001b[39;49m\u001b[38;5;124;43m.\u001b[39;49m\u001b[38;5;124;43m\"\u001b[39;49m\u001b[43m,\u001b[49m\n\u001b[1;32m    396\u001b[0m \u001b[43m        \u001b[49m\u001b[43mc\u001b[49m\u001b[38;5;241;43m=\u001b[39;49m\u001b[43mcolor_vector\u001b[49m\u001b[43m,\u001b[49m\n\u001b[1;32m    397\u001b[0m \u001b[43m        \u001b[49m\u001b[43mrasterized\u001b[49m\u001b[38;5;241;43m=\u001b[39;49m\u001b[43msettings\u001b[49m\u001b[38;5;241;43m.\u001b[39;49m\u001b[43m_vector_friendly\u001b[49m\u001b[43m,\u001b[49m\n\u001b[1;32m    398\u001b[0m \u001b[43m        \u001b[49m\u001b[43mnorm\u001b[49m\u001b[38;5;241;43m=\u001b[39;49m\u001b[43mnormalize\u001b[49m\u001b[43m,\u001b[49m\n\u001b[1;32m    399\u001b[0m \u001b[43m        \u001b[49m\u001b[38;5;241;43m*\u001b[39;49m\u001b[38;5;241;43m*\u001b[39;49m\u001b[43mkwargs\u001b[49m\u001b[43m,\u001b[49m\n\u001b[1;32m    400\u001b[0m \u001b[43m    \u001b[49m\u001b[43m)\u001b[49m\n\u001b[1;32m    402\u001b[0m \u001b[38;5;66;03m# remove y and x ticks\u001b[39;00m\n\u001b[1;32m    403\u001b[0m ax\u001b[38;5;241m.\u001b[39mset_yticks([])\n",
      "File \u001b[0;32m~/miniconda3/envs/milo_R/lib/python3.9/site-packages/matplotlib/__init__.py:1442\u001b[0m, in \u001b[0;36m_preprocess_data.<locals>.inner\u001b[0;34m(ax, data, *args, **kwargs)\u001b[0m\n\u001b[1;32m   1439\u001b[0m \u001b[38;5;129m@functools\u001b[39m\u001b[38;5;241m.\u001b[39mwraps(func)\n\u001b[1;32m   1440\u001b[0m \u001b[38;5;28;01mdef\u001b[39;00m \u001b[38;5;21minner\u001b[39m(ax, \u001b[38;5;241m*\u001b[39margs, data\u001b[38;5;241m=\u001b[39m\u001b[38;5;28;01mNone\u001b[39;00m, \u001b[38;5;241m*\u001b[39m\u001b[38;5;241m*\u001b[39mkwargs):\n\u001b[1;32m   1441\u001b[0m     \u001b[38;5;28;01mif\u001b[39;00m data \u001b[38;5;129;01mis\u001b[39;00m \u001b[38;5;28;01mNone\u001b[39;00m:\n\u001b[0;32m-> 1442\u001b[0m         \u001b[38;5;28;01mreturn\u001b[39;00m \u001b[43mfunc\u001b[49m\u001b[43m(\u001b[49m\u001b[43max\u001b[49m\u001b[43m,\u001b[49m\u001b[43m \u001b[49m\u001b[38;5;241;43m*\u001b[39;49m\u001b[38;5;28;43mmap\u001b[39;49m\u001b[43m(\u001b[49m\u001b[43msanitize_sequence\u001b[49m\u001b[43m,\u001b[49m\u001b[43m \u001b[49m\u001b[43margs\u001b[49m\u001b[43m)\u001b[49m\u001b[43m,\u001b[49m\u001b[43m \u001b[49m\u001b[38;5;241;43m*\u001b[39;49m\u001b[38;5;241;43m*\u001b[39;49m\u001b[43mkwargs\u001b[49m\u001b[43m)\u001b[49m\n\u001b[1;32m   1444\u001b[0m     bound \u001b[38;5;241m=\u001b[39m new_sig\u001b[38;5;241m.\u001b[39mbind(ax, \u001b[38;5;241m*\u001b[39margs, \u001b[38;5;241m*\u001b[39m\u001b[38;5;241m*\u001b[39mkwargs)\n\u001b[1;32m   1445\u001b[0m     auto_label \u001b[38;5;241m=\u001b[39m (bound\u001b[38;5;241m.\u001b[39marguments\u001b[38;5;241m.\u001b[39mget(label_namer)\n\u001b[1;32m   1446\u001b[0m                   \u001b[38;5;129;01mor\u001b[39;00m bound\u001b[38;5;241m.\u001b[39mkwargs\u001b[38;5;241m.\u001b[39mget(label_namer))\n",
      "File \u001b[0;32m~/miniconda3/envs/milo_R/lib/python3.9/site-packages/matplotlib/axes/_axes.py:4602\u001b[0m, in \u001b[0;36mAxes.scatter\u001b[0;34m(self, x, y, s, c, marker, cmap, norm, vmin, vmax, alpha, linewidths, edgecolors, plotnonfinite, **kwargs)\u001b[0m\n\u001b[1;32m   4599\u001b[0m \u001b[38;5;28;01mif\u001b[39;00m edgecolors \u001b[38;5;129;01mis\u001b[39;00m \u001b[38;5;28;01mNone\u001b[39;00m:\n\u001b[1;32m   4600\u001b[0m     orig_edgecolor \u001b[38;5;241m=\u001b[39m kwargs\u001b[38;5;241m.\u001b[39mget(\u001b[38;5;124m'\u001b[39m\u001b[38;5;124medgecolor\u001b[39m\u001b[38;5;124m'\u001b[39m, \u001b[38;5;28;01mNone\u001b[39;00m)\n\u001b[1;32m   4601\u001b[0m c, colors, edgecolors \u001b[38;5;241m=\u001b[39m \\\n\u001b[0;32m-> 4602\u001b[0m     \u001b[38;5;28;43mself\u001b[39;49m\u001b[38;5;241;43m.\u001b[39;49m\u001b[43m_parse_scatter_color_args\u001b[49m\u001b[43m(\u001b[49m\n\u001b[1;32m   4603\u001b[0m \u001b[43m        \u001b[49m\u001b[43mc\u001b[49m\u001b[43m,\u001b[49m\u001b[43m \u001b[49m\u001b[43medgecolors\u001b[49m\u001b[43m,\u001b[49m\u001b[43m \u001b[49m\u001b[43mkwargs\u001b[49m\u001b[43m,\u001b[49m\u001b[43m \u001b[49m\u001b[43mx\u001b[49m\u001b[38;5;241;43m.\u001b[39;49m\u001b[43msize\u001b[49m\u001b[43m,\u001b[49m\n\u001b[1;32m   4604\u001b[0m \u001b[43m        \u001b[49m\u001b[43mget_next_color_func\u001b[49m\u001b[38;5;241;43m=\u001b[39;49m\u001b[38;5;28;43mself\u001b[39;49m\u001b[38;5;241;43m.\u001b[39;49m\u001b[43m_get_patches_for_fill\u001b[49m\u001b[38;5;241;43m.\u001b[39;49m\u001b[43mget_next_color\u001b[49m\u001b[43m)\u001b[49m\n\u001b[1;32m   4606\u001b[0m \u001b[38;5;28;01mif\u001b[39;00m plotnonfinite \u001b[38;5;129;01mand\u001b[39;00m colors \u001b[38;5;129;01mis\u001b[39;00m \u001b[38;5;28;01mNone\u001b[39;00m:\n\u001b[1;32m   4607\u001b[0m     c \u001b[38;5;241m=\u001b[39m np\u001b[38;5;241m.\u001b[39mma\u001b[38;5;241m.\u001b[39mmasked_invalid(c)\n",
      "File \u001b[0;32m~/miniconda3/envs/milo_R/lib/python3.9/site-packages/matplotlib/axes/_axes.py:4400\u001b[0m, in \u001b[0;36mAxes._parse_scatter_color_args\u001b[0;34m(c, edgecolors, kwargs, xsize, get_next_color_func)\u001b[0m\n\u001b[1;32m   4393\u001b[0m \u001b[38;5;28;01mif\u001b[39;00m c \u001b[38;5;129;01mis\u001b[39;00m \u001b[38;5;28;01mNone\u001b[39;00m:\n\u001b[1;32m   4394\u001b[0m     c \u001b[38;5;241m=\u001b[39m (facecolors \u001b[38;5;28;01mif\u001b[39;00m facecolors \u001b[38;5;129;01mis\u001b[39;00m \u001b[38;5;129;01mnot\u001b[39;00m \u001b[38;5;28;01mNone\u001b[39;00m\n\u001b[1;32m   4395\u001b[0m          \u001b[38;5;28;01melse\u001b[39;00m \u001b[38;5;124m\"\u001b[39m\u001b[38;5;124mb\u001b[39m\u001b[38;5;124m\"\u001b[39m \u001b[38;5;28;01mif\u001b[39;00m mpl\u001b[38;5;241m.\u001b[39mrcParams[\u001b[38;5;124m'\u001b[39m\u001b[38;5;124m_internal.classic_mode\u001b[39m\u001b[38;5;124m'\u001b[39m]\n\u001b[1;32m   4396\u001b[0m          \u001b[38;5;28;01melse\u001b[39;00m get_next_color_func())\n\u001b[1;32m   4397\u001b[0m c_is_string_or_strings \u001b[38;5;241m=\u001b[39m (\n\u001b[1;32m   4398\u001b[0m     \u001b[38;5;28misinstance\u001b[39m(c, \u001b[38;5;28mstr\u001b[39m)\n\u001b[1;32m   4399\u001b[0m     \u001b[38;5;129;01mor\u001b[39;00m (np\u001b[38;5;241m.\u001b[39miterable(c) \u001b[38;5;129;01mand\u001b[39;00m \u001b[38;5;28mlen\u001b[39m(c) \u001b[38;5;241m>\u001b[39m \u001b[38;5;241m0\u001b[39m\n\u001b[0;32m-> 4400\u001b[0m         \u001b[38;5;129;01mand\u001b[39;00m \u001b[38;5;28misinstance\u001b[39m(\u001b[43mcbook\u001b[49m\u001b[38;5;241;43m.\u001b[39;49m\u001b[43m_safe_first_finite\u001b[49m\u001b[43m(\u001b[49m\u001b[43mc\u001b[49m\u001b[43m)\u001b[49m, \u001b[38;5;28mstr\u001b[39m)))\n\u001b[1;32m   4402\u001b[0m \u001b[38;5;28;01mdef\u001b[39;00m \u001b[38;5;21minvalid_shape_exception\u001b[39m(csize, xsize):\n\u001b[1;32m   4403\u001b[0m     \u001b[38;5;28;01mreturn\u001b[39;00m \u001b[38;5;167;01mValueError\u001b[39;00m(\n\u001b[1;32m   4404\u001b[0m         \u001b[38;5;124mf\u001b[39m\u001b[38;5;124m\"\u001b[39m\u001b[38;5;124m'\u001b[39m\u001b[38;5;124mc\u001b[39m\u001b[38;5;124m'\u001b[39m\u001b[38;5;124m argument has \u001b[39m\u001b[38;5;132;01m{\u001b[39;00mcsize\u001b[38;5;132;01m}\u001b[39;00m\u001b[38;5;124m elements, which is inconsistent \u001b[39m\u001b[38;5;124m\"\u001b[39m\n\u001b[1;32m   4405\u001b[0m         \u001b[38;5;124mf\u001b[39m\u001b[38;5;124m\"\u001b[39m\u001b[38;5;124mwith \u001b[39m\u001b[38;5;124m'\u001b[39m\u001b[38;5;124mx\u001b[39m\u001b[38;5;124m'\u001b[39m\u001b[38;5;124m and \u001b[39m\u001b[38;5;124m'\u001b[39m\u001b[38;5;124my\u001b[39m\u001b[38;5;124m'\u001b[39m\u001b[38;5;124m with size \u001b[39m\u001b[38;5;132;01m{\u001b[39;00mxsize\u001b[38;5;132;01m}\u001b[39;00m\u001b[38;5;124m.\u001b[39m\u001b[38;5;124m\"\u001b[39m)\n",
      "File \u001b[0;32m~/miniconda3/envs/milo_R/lib/python3.9/site-packages/matplotlib/cbook/__init__.py:1715\u001b[0m, in \u001b[0;36m_safe_first_finite\u001b[0;34m(obj, skip_nonfinite)\u001b[0m\n\u001b[1;32m   1712\u001b[0m     \u001b[38;5;28;01mraise\u001b[39;00m \u001b[38;5;167;01mRuntimeError\u001b[39;00m(\u001b[38;5;124m\"\u001b[39m\u001b[38;5;124mmatplotlib does not \u001b[39m\u001b[38;5;124m\"\u001b[39m\n\u001b[1;32m   1713\u001b[0m                        \u001b[38;5;124m\"\u001b[39m\u001b[38;5;124msupport generators as input\u001b[39m\u001b[38;5;124m\"\u001b[39m)\n\u001b[1;32m   1714\u001b[0m \u001b[38;5;28;01melse\u001b[39;00m:\n\u001b[0;32m-> 1715\u001b[0m     \u001b[38;5;28;01mreturn\u001b[39;00m \u001b[38;5;28;43mnext\u001b[39;49m\u001b[43m(\u001b[49m\u001b[43mval\u001b[49m\u001b[43m \u001b[49m\u001b[38;5;28;43;01mfor\u001b[39;49;00m\u001b[43m \u001b[49m\u001b[43mval\u001b[49m\u001b[43m \u001b[49m\u001b[38;5;129;43;01min\u001b[39;49;00m\u001b[43m \u001b[49m\u001b[43mobj\u001b[49m\u001b[43m \u001b[49m\u001b[38;5;28;43;01mif\u001b[39;49;00m\u001b[43m \u001b[49m\u001b[43msafe_isfinite\u001b[49m\u001b[43m(\u001b[49m\u001b[43mval\u001b[49m\u001b[43m)\u001b[49m\u001b[43m)\u001b[49m\n",
      "\u001b[0;31mStopIteration\u001b[0m: "
     ]
    },
    {
     "data": {
      "image/png": "[encoded data removed]",
      "text/plain": [
       "<Figure size 1000x1000 with 1 Axes>"
      ]
     },
     "metadata": {},
     "output_type": "display_data"
    }
   ],
   "source": [
    "#import milopy.utils \n",
    "plt.rcParams[\"figure.figsize\"] = [10,10]\n",
    "milopl.plot_nhood_graph(adata,\n",
    "    alpha=0.01, ## SpatialFDR level (1%)\n",
    "    min_size=2 ## Size of smallest dot \n",
    "                       )"
   ]
  },
  {
   "cell_type": "markdown",
   "id": "df46d6a0-3d03-406e-9ea4-f12596ceee3a",
   "metadata": {},
   "source": [
    "## Visualize result by celltype"
   ]
  },
  {
   "cell_type": "code",
   "execution_count": 20,
   "id": "bfc5ed14-fc1f-4ece-978e-436eca7f1e97",
   "metadata": {},
   "outputs": [
    {
     "ename": "ValueError",
     "evalue": "Must pass 2-d input. shape=()",
     "output_type": "error",
     "traceback": [
      "\u001b[0;31m---------------------------------------------------------------------------\u001b[0m",
      "\u001b[0;31mValueError\u001b[0m                                Traceback (most recent call last)",
      "Cell \u001b[0;32mIn[20], line 1\u001b[0m\n\u001b[0;32m----> 1\u001b[0m \u001b[43mmilopy\u001b[49m\u001b[38;5;241;43m.\u001b[39;49m\u001b[43mutils\u001b[49m\u001b[38;5;241;43m.\u001b[39;49m\u001b[43mannotate_nhoods\u001b[49m\u001b[43m(\u001b[49m\u001b[43madata\u001b[49m\u001b[43m,\u001b[49m\u001b[43m \u001b[49m\u001b[43manno_col\u001b[49m\u001b[38;5;241;43m=\u001b[39;49m\u001b[43mcell_type_identifier\u001b[49m\u001b[43m)\u001b[49m\n",
      "File \u001b[0;32m~/miniconda3/envs/milo_R/lib/python3.9/site-packages/milopy/utils.py:152\u001b[0m, in \u001b[0;36mannotate_nhoods\u001b[0;34m(adata, anno_col)\u001b[0m\n\u001b[1;32m    148\u001b[0m anno_count \u001b[38;5;241m=\u001b[39m adata\u001b[38;5;241m.\u001b[39mobsm[\u001b[38;5;124m\"\u001b[39m\u001b[38;5;124mnhoods\u001b[39m\u001b[38;5;124m\"\u001b[39m]\u001b[38;5;241m.\u001b[39mT\u001b[38;5;241m.\u001b[39mdot(\n\u001b[1;32m    149\u001b[0m     scipy\u001b[38;5;241m.\u001b[39msparse\u001b[38;5;241m.\u001b[39mcsr_matrix(anno_dummies\u001b[38;5;241m.\u001b[39mvalues))\n\u001b[1;32m    150\u001b[0m anno_frac \u001b[38;5;241m=\u001b[39m np\u001b[38;5;241m.\u001b[39marray(anno_count\u001b[38;5;241m/\u001b[39manno_count\u001b[38;5;241m.\u001b[39msum(\u001b[38;5;241m1\u001b[39m))\n\u001b[0;32m--> 152\u001b[0m anno_frac \u001b[38;5;241m=\u001b[39m \u001b[43mpd\u001b[49m\u001b[38;5;241;43m.\u001b[39;49m\u001b[43mDataFrame\u001b[49m\u001b[43m(\u001b[49m\u001b[43manno_frac\u001b[49m\u001b[43m,\u001b[49m\n\u001b[1;32m    153\u001b[0m \u001b[43m                         \u001b[49m\u001b[43mcolumns\u001b[49m\u001b[38;5;241;43m=\u001b[39;49m\u001b[43manno_dummies\u001b[49m\u001b[38;5;241;43m.\u001b[39;49m\u001b[43mcolumns\u001b[49m\u001b[43m,\u001b[49m\n\u001b[1;32m    154\u001b[0m \u001b[43m                         \u001b[49m\u001b[43mindex\u001b[49m\u001b[38;5;241;43m=\u001b[39;49m\u001b[43madata\u001b[49m\u001b[38;5;241;43m.\u001b[39;49m\u001b[43muns\u001b[49m\u001b[43m[\u001b[49m\u001b[38;5;124;43m\"\u001b[39;49m\u001b[38;5;124;43mnhood_adata\u001b[39;49m\u001b[38;5;124;43m\"\u001b[39;49m\u001b[43m]\u001b[49m\u001b[38;5;241;43m.\u001b[39;49m\u001b[43mobs_names\u001b[49m\n\u001b[1;32m    155\u001b[0m \u001b[43m                         \u001b[49m\u001b[43m)\u001b[49m\n\u001b[1;32m    156\u001b[0m adata\u001b[38;5;241m.\u001b[39muns[\u001b[38;5;124m\"\u001b[39m\u001b[38;5;124mnhood_adata\u001b[39m\u001b[38;5;124m\"\u001b[39m]\u001b[38;5;241m.\u001b[39mobsm[\u001b[38;5;124m\"\u001b[39m\u001b[38;5;124mfrac_annotation\u001b[39m\u001b[38;5;124m\"\u001b[39m] \u001b[38;5;241m=\u001b[39m anno_frac\u001b[38;5;241m.\u001b[39mvalues\n\u001b[1;32m    157\u001b[0m \u001b[38;5;66;03m# Turn this to list so that writing out h5ad works\u001b[39;00m\n",
      "File \u001b[0;32m~/miniconda3/envs/milo_R/lib/python3.9/site-packages/pandas/core/frame.py:758\u001b[0m, in \u001b[0;36mDataFrame.__init__\u001b[0;34m(self, data, index, columns, dtype, copy)\u001b[0m\n\u001b[1;32m    747\u001b[0m         mgr \u001b[38;5;241m=\u001b[39m dict_to_mgr(\n\u001b[1;32m    748\u001b[0m             \u001b[38;5;66;03m# error: Item \"ndarray\" of \"Union[ndarray, Series, Index]\" has no\u001b[39;00m\n\u001b[1;32m    749\u001b[0m             \u001b[38;5;66;03m# attribute \"name\"\u001b[39;00m\n\u001b[0;32m   (...)\u001b[0m\n\u001b[1;32m    755\u001b[0m             copy\u001b[38;5;241m=\u001b[39m_copy,\n\u001b[1;32m    756\u001b[0m         )\n\u001b[1;32m    757\u001b[0m     \u001b[38;5;28;01melse\u001b[39;00m:\n\u001b[0;32m--> 758\u001b[0m         mgr \u001b[38;5;241m=\u001b[39m \u001b[43mndarray_to_mgr\u001b[49m\u001b[43m(\u001b[49m\n\u001b[1;32m    759\u001b[0m \u001b[43m            \u001b[49m\u001b[43mdata\u001b[49m\u001b[43m,\u001b[49m\n\u001b[1;32m    760\u001b[0m \u001b[43m            \u001b[49m\u001b[43mindex\u001b[49m\u001b[43m,\u001b[49m\n\u001b[1;32m    761\u001b[0m \u001b[43m            \u001b[49m\u001b[43mcolumns\u001b[49m\u001b[43m,\u001b[49m\n\u001b[1;32m    762\u001b[0m \u001b[43m            \u001b[49m\u001b[43mdtype\u001b[49m\u001b[38;5;241;43m=\u001b[39;49m\u001b[43mdtype\u001b[49m\u001b[43m,\u001b[49m\n\u001b[1;32m    763\u001b[0m \u001b[43m            \u001b[49m\u001b[43mcopy\u001b[49m\u001b[38;5;241;43m=\u001b[39;49m\u001b[43mcopy\u001b[49m\u001b[43m,\u001b[49m\n\u001b[1;32m    764\u001b[0m \u001b[43m            \u001b[49m\u001b[43mtyp\u001b[49m\u001b[38;5;241;43m=\u001b[39;49m\u001b[43mmanager\u001b[49m\u001b[43m,\u001b[49m\n\u001b[1;32m    765\u001b[0m \u001b[43m        \u001b[49m\u001b[43m)\u001b[49m\n\u001b[1;32m    767\u001b[0m \u001b[38;5;66;03m# For data is list-like, or Iterable (will consume into list)\u001b[39;00m\n\u001b[1;32m    768\u001b[0m \u001b[38;5;28;01melif\u001b[39;00m is_list_like(data):\n",
      "File \u001b[0;32m~/miniconda3/envs/milo_R/lib/python3.9/site-packages/pandas/core/internals/construction.py:315\u001b[0m, in \u001b[0;36mndarray_to_mgr\u001b[0;34m(values, index, columns, dtype, copy, typ)\u001b[0m\n\u001b[1;32m    309\u001b[0m     _copy \u001b[38;5;241m=\u001b[39m (\n\u001b[1;32m    310\u001b[0m         copy_on_sanitize\n\u001b[1;32m    311\u001b[0m         \u001b[38;5;28;01mif\u001b[39;00m (dtype \u001b[38;5;129;01mis\u001b[39;00m \u001b[38;5;28;01mNone\u001b[39;00m \u001b[38;5;129;01mor\u001b[39;00m astype_is_view(values\u001b[38;5;241m.\u001b[39mdtype, dtype))\n\u001b[1;32m    312\u001b[0m         \u001b[38;5;28;01melse\u001b[39;00m \u001b[38;5;28;01mFalse\u001b[39;00m\n\u001b[1;32m    313\u001b[0m     )\n\u001b[1;32m    314\u001b[0m     values \u001b[38;5;241m=\u001b[39m np\u001b[38;5;241m.\u001b[39marray(values, copy\u001b[38;5;241m=\u001b[39m_copy)\n\u001b[0;32m--> 315\u001b[0m     values \u001b[38;5;241m=\u001b[39m \u001b[43m_ensure_2d\u001b[49m\u001b[43m(\u001b[49m\u001b[43mvalues\u001b[49m\u001b[43m)\u001b[49m\n\u001b[1;32m    317\u001b[0m \u001b[38;5;28;01melse\u001b[39;00m:\n\u001b[1;32m    318\u001b[0m     \u001b[38;5;66;03m# by definition an array here\u001b[39;00m\n\u001b[1;32m    319\u001b[0m     \u001b[38;5;66;03m# the dtypes will be coerced to a single dtype\u001b[39;00m\n\u001b[1;32m    320\u001b[0m     values \u001b[38;5;241m=\u001b[39m _prep_ndarraylike(values, copy\u001b[38;5;241m=\u001b[39mcopy_on_sanitize)\n",
      "File \u001b[0;32m~/miniconda3/envs/milo_R/lib/python3.9/site-packages/pandas/core/internals/construction.py:570\u001b[0m, in \u001b[0;36m_ensure_2d\u001b[0;34m(values)\u001b[0m\n\u001b[1;32m    568\u001b[0m     values \u001b[38;5;241m=\u001b[39m values\u001b[38;5;241m.\u001b[39mreshape((values\u001b[38;5;241m.\u001b[39mshape[\u001b[38;5;241m0\u001b[39m], \u001b[38;5;241m1\u001b[39m))\n\u001b[1;32m    569\u001b[0m \u001b[38;5;28;01melif\u001b[39;00m values\u001b[38;5;241m.\u001b[39mndim \u001b[38;5;241m!=\u001b[39m \u001b[38;5;241m2\u001b[39m:\n\u001b[0;32m--> 570\u001b[0m     \u001b[38;5;28;01mraise\u001b[39;00m \u001b[38;5;167;01mValueError\u001b[39;00m(\u001b[38;5;124mf\u001b[39m\u001b[38;5;124m\"\u001b[39m\u001b[38;5;124mMust pass 2-d input. shape=\u001b[39m\u001b[38;5;132;01m{\u001b[39;00mvalues\u001b[38;5;241m.\u001b[39mshape\u001b[38;5;132;01m}\u001b[39;00m\u001b[38;5;124m\"\u001b[39m)\n\u001b[1;32m    571\u001b[0m \u001b[38;5;28;01mreturn\u001b[39;00m values\n",
      "\u001b[0;31mValueError\u001b[0m: Must pass 2-d input. shape=()"
     ]
    }
   ],
   "source": [
    "milopy.utils.annotate_nhoods(adata, anno_col=cell_type_identifier)"
   ]
  },
  {
   "cell_type": "code",
   "execution_count": null,
   "id": "36e6dc1b-09bd-4ce4-882b-70b8ed8aed74",
   "metadata": {},
   "outputs": [],
   "source": [
    "plt.hist(adata.uns['nhood_adata'].obs[\"nhood_annotation_frac\"]);\n",
    "plt.xlabel(\"celltype fraction\")"
   ]
  },
  {
   "cell_type": "code",
   "execution_count": null,
   "id": "cb031946-3436-4bf1-8d18-ddaab4f648f3",
   "metadata": {},
   "outputs": [],
   "source": [
    "adata.uns['nhood_adata'].obs.loc[adata.uns['nhood_adata'].obs[\"nhood_annotation_frac\"] < 0.6, \"nhood_annotation\"] = \"Mixed\""
   ]
  },
  {
   "cell_type": "code",
   "execution_count": null,
   "id": "69d847ae-83a0-45ab-aef2-dbbdb9863dbb",
   "metadata": {},
   "outputs": [],
   "source": [
    "sc.pl.violin(adata.uns['nhood_adata'], \"logFC\", groupby=\"nhood_annotation\", rotation=90, show=False);\n",
    "plt.axhline(y=0, color='black', linestyle='--');\n",
    "plt.show()"
   ]
  },
  {
   "cell_type": "code",
   "execution_count": null,
   "id": "1e2f222b-e799-47a0-84af-ae85f5508345",
   "metadata": {},
   "outputs": [],
   "source": []
  }
 ],
 "metadata": {
  "kernelspec": {
   "display_name": "Python [conda env:milo_R]",
   "language": "python",
   "name": "conda-env-milo_R-py"
  },
  "language_info": {
   "codemirror_mode": {
    "name": "ipython",
    "version": 3
   },
   "file_extension": ".py",
   "mimetype": "text/x-python",
   "name": "python",
   "nbconvert_exporter": "python",
   "pygments_lexer": "ipython3",
   "version": "3.9.16"
  }
 },
 "nbformat": 4,
 "nbformat_minor": 5
}
