{
 "cells": [
  {
   "cell_type": "code",
   "execution_count": 1,
   "id": "5273707f-96e2-4e0f-ac2d-a01e8567533b",
   "metadata": {},
   "outputs": [],
   "source": [
    "import os\n",
    "#os.environ['R_HOME'] = '/home/h/hollenberg/miniconda3/envs/milopy-envv/lib/R' #path to your R installation\n",
    "#os.environ['R_USER'] = '//home/h/hollenberg/miniconda3/envs/milopy-envv/lib/python3.11/site-packages/rpy2'\n",
    "#home/h/hollenberg/miniconda3/envs/milopy-envv/bin/python\n",
    "import warnings\n",
    "\n",
    "warnings.filterwarnings(\"ignore\")\n",
    "\n",
    "import matplotlib.pyplot as plt\n",
    "import seaborn as sns\n",
    "import scanpy as sc\n",
    "import pandas as pd\n",
    "import numpy as np\n",
    "import random\n",
    "import sc_toolbox\n",
    "\n",
    "import rpy2.rinterface_lib.callbacks\n",
    "import anndata2ri\n",
    "import logging\n",
    "import milopy\n",
    "import milopy.core as milo\n",
    "import milopy.plot as milopl\n",
    "import milopy.utils\n",
    "\n",
    "from rpy2.robjects import pandas2ri\n",
    "from rpy2.robjects import r\n",
    "\n",
    "sc.settings.verbosity = 0\n",
    "rpy2.rinterface_lib.callbacks.logger.setLevel(logging.ERROR)\n",
    "\n",
    "pandas2ri.activate()\n",
    "anndata2ri.activate()\n",
    "\n",
    "%load_ext rpy2.ipython"
   ]
  },
  {
   "cell_type": "code",
   "execution_count": 2,
   "id": "8338f2fc-081b-40d8-8e14-fc9baa8f2a9e",
   "metadata": {},
   "outputs": [],
   "source": [
    "# path of partly preprocessed HLCA file used in this notebook:\n",
    "adata_path = \"/home/h/hollenberg/MaPra/datasets_seperate/xie.h5ad\"\n",
    "\n",
    "# add annotation when not in adata -> None if annotation already in adata\n",
    "#add_annotation = \"/home/h/hollenberg/MaPra/datasets_seperate/galapagos_radiation_obs_annotation.csv\"\n",
    "\n",
    "sample_identifier = \"batch\" \n",
    "cell_type_identifier = \"harmonized_anno\" \n",
    "covariate_obs = \"condition\"\n"
   ]
  },
  {
   "cell_type": "code",
   "execution_count": 3,
   "id": "8bab3eda-19b1-44ba-8ef8-ccb182b13a20",
   "metadata": {},
   "outputs": [],
   "source": [
    "adata = sc.read(adata_path)\n",
    "#if add_annotation is not None:\n",
    "#    adata.obs = pd.read_csv(add_annotation)"
   ]
  },
  {
   "cell_type": "code",
   "execution_count": 4,
   "id": "8109f527-5842-49a0-b50c-9fc3d384f043",
   "metadata": {},
   "outputs": [],
   "source": [
    "d = 30\n",
    "k = 50\n",
    "\n",
    "sc.pp.neighbors(adata, n_neighbors=k, n_pcs=d)"
   ]
  },
  {
   "cell_type": "code",
   "execution_count": 5,
   "id": "4a2d4311-2456-42b6-b668-dd7b964c9320",
   "metadata": {},
   "outputs": [
    {
     "name": "stderr",
     "output_type": "stream",
     "text": [
      "WARNING:root:Using X_pca as default embedding\n"
     ]
    },
    {
     "data": {
      "text/html": [
       "<div>\n",
       "<style scoped>\n",
       "    .dataframe tbody tr th:only-of-type {\n",
       "        vertical-align: middle;\n",
       "    }\n",
       "\n",
       "    .dataframe tbody tr th {\n",
       "        vertical-align: top;\n",
       "    }\n",
       "\n",
       "    .dataframe thead th {\n",
       "        text-align: right;\n",
       "    }\n",
       "</style>\n",
       "<table border=\"1\" class=\"dataframe\">\n",
       "  <thead>\n",
       "    <tr style=\"text-align: right;\">\n",
       "      <th></th>\n",
       "      <th>nhood_ixs_refined</th>\n",
       "      <th>nhood_kth_distance</th>\n",
       "    </tr>\n",
       "  </thead>\n",
       "  <tbody>\n",
       "    <tr>\n",
       "      <th>AACCGCGAGCTTTGGT-1_xie</th>\n",
       "      <td>1</td>\n",
       "      <td>2.204111</td>\n",
       "    </tr>\n",
       "    <tr>\n",
       "      <th>AAGGTTCGTCGACTAT-1_xie</th>\n",
       "      <td>1</td>\n",
       "      <td>2.651042</td>\n",
       "    </tr>\n",
       "    <tr>\n",
       "      <th>AATCGGTAGTACACCT-1_xie</th>\n",
       "      <td>1</td>\n",
       "      <td>2.769273</td>\n",
       "    </tr>\n",
       "    <tr>\n",
       "      <th>ACACCCTAGTGGGTTG-1_xie</th>\n",
       "      <td>1</td>\n",
       "      <td>2.211275</td>\n",
       "    </tr>\n",
       "    <tr>\n",
       "      <th>ACACCCTTCGTGTAGT-1_xie</th>\n",
       "      <td>1</td>\n",
       "      <td>2.556360</td>\n",
       "    </tr>\n",
       "    <tr>\n",
       "      <th>...</th>\n",
       "      <td>...</td>\n",
       "      <td>...</td>\n",
       "    </tr>\n",
       "    <tr>\n",
       "      <th>GGGCACTTCGCCTGTT-6_xie</th>\n",
       "      <td>1</td>\n",
       "      <td>1.386831</td>\n",
       "    </tr>\n",
       "    <tr>\n",
       "      <th>GTACTTTGTGTTCGAT-6_xie</th>\n",
       "      <td>1</td>\n",
       "      <td>1.490527</td>\n",
       "    </tr>\n",
       "    <tr>\n",
       "      <th>GTGGGTCAGCAGCGTA-6_xie</th>\n",
       "      <td>1</td>\n",
       "      <td>2.162918</td>\n",
       "    </tr>\n",
       "    <tr>\n",
       "      <th>TACTTACGTTTGACAC-6_xie</th>\n",
       "      <td>1</td>\n",
       "      <td>1.530808</td>\n",
       "    </tr>\n",
       "    <tr>\n",
       "      <th>TCGAGGCCACCTGGTG-6_xie</th>\n",
       "      <td>1</td>\n",
       "      <td>2.844506</td>\n",
       "    </tr>\n",
       "  </tbody>\n",
       "</table>\n",
       "<p>590 rows × 2 columns</p>\n",
       "</div>"
      ],
      "text/plain": [
       "                        nhood_ixs_refined  nhood_kth_distance\n",
       "AACCGCGAGCTTTGGT-1_xie                  1            2.204111\n",
       "AAGGTTCGTCGACTAT-1_xie                  1            2.651042\n",
       "AATCGGTAGTACACCT-1_xie                  1            2.769273\n",
       "ACACCCTAGTGGGTTG-1_xie                  1            2.211275\n",
       "ACACCCTTCGTGTAGT-1_xie                  1            2.556360\n",
       "...                                   ...                 ...\n",
       "GGGCACTTCGCCTGTT-6_xie                  1            1.386831\n",
       "GTACTTTGTGTTCGAT-6_xie                  1            1.490527\n",
       "GTGGGTCAGCAGCGTA-6_xie                  1            2.162918\n",
       "TACTTACGTTTGACAC-6_xie                  1            1.530808\n",
       "TCGAGGCCACCTGGTG-6_xie                  1            2.844506\n",
       "\n",
       "[590 rows x 2 columns]"
      ]
     },
     "execution_count": 5,
     "metadata": {},
     "output_type": "execute_result"
    }
   ],
   "source": [
    "milo.make_nhoods(adata, prop=0.1)\n",
    "adata.obsm[\"nhoods\"]\n",
    "adata[adata.obs['nhood_ixs_refined'] != 0].obs[['nhood_ixs_refined', 'nhood_kth_distance']]"
   ]
  },
  {
   "cell_type": "code",
   "execution_count": 6,
   "id": "e6797d1e-2641-4e5a-8e6b-d8f3be158696",
   "metadata": {},
   "outputs": [
    {
     "data": {
      "image/png": "[encoded data removed]",
      "text/plain": [
       "<Figure size 640x480 with 1 Axes>"
      ]
     },
     "metadata": {},
     "output_type": "display_data"
    }
   ],
   "source": [
    "nhood_size = np.array(adata.obsm[\"nhoods\"].sum(0)).ravel()\n",
    "plt.hist(nhood_size, bins=100);"
   ]
  },
  {
   "cell_type": "code",
   "execution_count": 7,
   "id": "742772c5-9226-4c45-86df-0ff4fc63a308",
   "metadata": {},
   "outputs": [
    {
     "data": {
      "text/plain": [
       "AnnData object with n_obs × n_vars = 590 × 6\n",
       "    obs: 'index_cell', 'kth_distance'\n",
       "    uns: 'sample_col'"
      ]
     },
     "execution_count": 7,
     "metadata": {},
     "output_type": "execute_result"
    }
   ],
   "source": [
    "milo.count_nhoods(adata, sample_col=sample_identifier)\n",
    "adata.uns[\"nhood_adata\"]"
   ]
  },
  {
   "cell_type": "code",
   "execution_count": 8,
   "id": "cc70a263-67bb-4ce4-9831-c18b2b053514",
   "metadata": {
    "scrolled": true
   },
   "outputs": [],
   "source": [
    "adata.obs[\"condition_continuous\"] = adata.obs[covariate_obs].astype('category').cat.codes\n",
    "milo.DA_nhoods(adata, design=\"~condition_continuous\")"
   ]
  },
  {
   "cell_type": "code",
   "execution_count": 9,
   "id": "76702c26-19b0-4b3e-b1fd-cfab663a5cdb",
   "metadata": {
    "scrolled": true
   },
   "outputs": [
    {
     "data": {
      "text/html": [
       "<div>\n",
       "<style scoped>\n",
       "    .dataframe tbody tr th:only-of-type {\n",
       "        vertical-align: middle;\n",
       "    }\n",
       "\n",
       "    .dataframe tbody tr th {\n",
       "        vertical-align: top;\n",
       "    }\n",
       "\n",
       "    .dataframe thead th {\n",
       "        text-align: right;\n",
       "    }\n",
       "</style>\n",
       "<table border=\"1\" class=\"dataframe\">\n",
       "  <thead>\n",
       "    <tr style=\"text-align: right;\">\n",
       "      <th></th>\n",
       "      <th>index_cell</th>\n",
       "      <th>kth_distance</th>\n",
       "      <th>logFC</th>\n",
       "      <th>logCPM</th>\n",
       "      <th>F</th>\n",
       "      <th>PValue</th>\n",
       "      <th>FDR</th>\n",
       "      <th>SpatialFDR</th>\n",
       "    </tr>\n",
       "  </thead>\n",
       "  <tbody>\n",
       "    <tr>\n",
       "      <th>0</th>\n",
       "      <td>AACCGCGAGCTTTGGT-1_xie</td>\n",
       "      <td>2.204111</td>\n",
       "      <td>-1.856249</td>\n",
       "      <td>10.951047</td>\n",
       "      <td>0.711145</td>\n",
       "      <td>0.412092</td>\n",
       "      <td>0.720516</td>\n",
       "      <td>0.721408</td>\n",
       "    </tr>\n",
       "    <tr>\n",
       "      <th>1</th>\n",
       "      <td>AAGGTTCGTCGACTAT-1_xie</td>\n",
       "      <td>2.651042</td>\n",
       "      <td>-1.413255</td>\n",
       "      <td>11.215397</td>\n",
       "      <td>0.431381</td>\n",
       "      <td>0.521098</td>\n",
       "      <td>0.788328</td>\n",
       "      <td>0.788395</td>\n",
       "    </tr>\n",
       "    <tr>\n",
       "      <th>2</th>\n",
       "      <td>AATCGGTAGTACACCT-1_xie</td>\n",
       "      <td>2.769273</td>\n",
       "      <td>-0.947303</td>\n",
       "      <td>11.053758</td>\n",
       "      <td>0.241043</td>\n",
       "      <td>0.630442</td>\n",
       "      <td>0.842002</td>\n",
       "      <td>0.843716</td>\n",
       "    </tr>\n",
       "    <tr>\n",
       "      <th>3</th>\n",
       "      <td>ACACCCTAGTGGGTTG-1_xie</td>\n",
       "      <td>2.211275</td>\n",
       "      <td>-1.411077</td>\n",
       "      <td>11.452128</td>\n",
       "      <td>0.271445</td>\n",
       "      <td>0.609844</td>\n",
       "      <td>0.832889</td>\n",
       "      <td>0.831460</td>\n",
       "    </tr>\n",
       "    <tr>\n",
       "      <th>4</th>\n",
       "      <td>ACACCCTTCGTGTAGT-1_xie</td>\n",
       "      <td>2.556360</td>\n",
       "      <td>1.647839</td>\n",
       "      <td>11.212514</td>\n",
       "      <td>0.708578</td>\n",
       "      <td>0.412766</td>\n",
       "      <td>0.720516</td>\n",
       "      <td>0.721408</td>\n",
       "    </tr>\n",
       "    <tr>\n",
       "      <th>...</th>\n",
       "      <td>...</td>\n",
       "      <td>...</td>\n",
       "      <td>...</td>\n",
       "      <td>...</td>\n",
       "      <td>...</td>\n",
       "      <td>...</td>\n",
       "      <td>...</td>\n",
       "      <td>...</td>\n",
       "    </tr>\n",
       "    <tr>\n",
       "      <th>585</th>\n",
       "      <td>GGGCACTTCGCCTGTT-6_xie</td>\n",
       "      <td>1.386831</td>\n",
       "      <td>-0.587669</td>\n",
       "      <td>11.547667</td>\n",
       "      <td>0.056755</td>\n",
       "      <td>0.814870</td>\n",
       "      <td>0.913814</td>\n",
       "      <td>0.913325</td>\n",
       "    </tr>\n",
       "    <tr>\n",
       "      <th>586</th>\n",
       "      <td>GTACTTTGTGTTCGAT-6_xie</td>\n",
       "      <td>1.490527</td>\n",
       "      <td>-0.874891</td>\n",
       "      <td>10.835194</td>\n",
       "      <td>0.181265</td>\n",
       "      <td>0.676234</td>\n",
       "      <td>0.854343</td>\n",
       "      <td>0.852500</td>\n",
       "    </tr>\n",
       "    <tr>\n",
       "      <th>587</th>\n",
       "      <td>GTGGGTCAGCAGCGTA-6_xie</td>\n",
       "      <td>2.162918</td>\n",
       "      <td>1.603940</td>\n",
       "      <td>11.240534</td>\n",
       "      <td>0.744263</td>\n",
       "      <td>0.401291</td>\n",
       "      <td>0.720516</td>\n",
       "      <td>0.718689</td>\n",
       "    </tr>\n",
       "    <tr>\n",
       "      <th>588</th>\n",
       "      <td>TACTTACGTTTGACAC-6_xie</td>\n",
       "      <td>1.530808</td>\n",
       "      <td>-0.639236</td>\n",
       "      <td>11.268629</td>\n",
       "      <td>0.071012</td>\n",
       "      <td>0.793438</td>\n",
       "      <td>0.913814</td>\n",
       "      <td>0.913325</td>\n",
       "    </tr>\n",
       "    <tr>\n",
       "      <th>589</th>\n",
       "      <td>TCGAGGCCACCTGGTG-6_xie</td>\n",
       "      <td>2.844506</td>\n",
       "      <td>1.175123</td>\n",
       "      <td>11.156324</td>\n",
       "      <td>0.320648</td>\n",
       "      <td>0.579455</td>\n",
       "      <td>0.812062</td>\n",
       "      <td>0.810300</td>\n",
       "    </tr>\n",
       "  </tbody>\n",
       "</table>\n",
       "<p>590 rows × 8 columns</p>\n",
       "</div>"
      ],
      "text/plain": [
       "                 index_cell  kth_distance     logFC     logCPM         F  \\\n",
       "0    AACCGCGAGCTTTGGT-1_xie      2.204111 -1.856249  10.951047  0.711145   \n",
       "1    AAGGTTCGTCGACTAT-1_xie      2.651042 -1.413255  11.215397  0.431381   \n",
       "2    AATCGGTAGTACACCT-1_xie      2.769273 -0.947303  11.053758  0.241043   \n",
       "3    ACACCCTAGTGGGTTG-1_xie      2.211275 -1.411077  11.452128  0.271445   \n",
       "4    ACACCCTTCGTGTAGT-1_xie      2.556360  1.647839  11.212514  0.708578   \n",
       "..                      ...           ...       ...        ...       ...   \n",
       "585  GGGCACTTCGCCTGTT-6_xie      1.386831 -0.587669  11.547667  0.056755   \n",
       "586  GTACTTTGTGTTCGAT-6_xie      1.490527 -0.874891  10.835194  0.181265   \n",
       "587  GTGGGTCAGCAGCGTA-6_xie      2.162918  1.603940  11.240534  0.744263   \n",
       "588  TACTTACGTTTGACAC-6_xie      1.530808 -0.639236  11.268629  0.071012   \n",
       "589  TCGAGGCCACCTGGTG-6_xie      2.844506  1.175123  11.156324  0.320648   \n",
       "\n",
       "       PValue       FDR  SpatialFDR  \n",
       "0    0.412092  0.720516    0.721408  \n",
       "1    0.521098  0.788328    0.788395  \n",
       "2    0.630442  0.842002    0.843716  \n",
       "3    0.609844  0.832889    0.831460  \n",
       "4    0.412766  0.720516    0.721408  \n",
       "..        ...       ...         ...  \n",
       "585  0.814870  0.913814    0.913325  \n",
       "586  0.676234  0.854343    0.852500  \n",
       "587  0.401291  0.720516    0.718689  \n",
       "588  0.793438  0.913814    0.913325  \n",
       "589  0.579455  0.812062    0.810300  \n",
       "\n",
       "[590 rows x 8 columns]"
      ]
     },
     "execution_count": 9,
     "metadata": {},
     "output_type": "execute_result"
    }
   ],
   "source": [
    "adata.uns[\"nhood_adata\"].obs"
   ]
  },
  {
   "cell_type": "code",
   "execution_count": 10,
   "id": "1d0ee438-fc70-4f89-a074-7170f757ef4c",
   "metadata": {},
   "outputs": [
    {
     "data": {
      "image/png": "[encoded data removed]",
      "text/plain": [
       "<Figure size 1000x500 with 2 Axes>"
      ]
     },
     "metadata": {},
     "output_type": "display_data"
    }
   ],
   "source": [
    "old_figsize = plt.rcParams[\"figure.figsize\"]\n",
    "plt.rcParams[\"figure.figsize\"] = [10,5]\n",
    "plt.subplot(1,2,1)\n",
    "plt.hist(adata.uns[\"nhood_adata\"].obs.PValue, bins=50);\n",
    "plt.xlabel(\"P-Vals\");\n",
    "plt.subplot(1,2,2)\n",
    "plt.plot(adata.uns[\"nhood_adata\"].obs.logFC, -np.log10(adata.uns[\"nhood_adata\"].obs.SpatialFDR), '.');\n",
    "plt.xlabel(\"log-Fold Change\");\n",
    "plt.ylabel(\"- log10(Spatial FDR)\");\n",
    "plt.tight_layout()\n",
    "plt.rcParams[\"figure.figsize\"] = old_figsize"
   ]
  },
  {
   "cell_type": "code",
   "execution_count": 11,
   "id": "586256f8-7fd5-4470-9c6f-150bb66fa3e1",
   "metadata": {
    "scrolled": true
   },
   "outputs": [],
   "source": [
    "milopy.utils.build_nhood_graph(adata)"
   ]
  },
  {
   "cell_type": "code",
   "execution_count": 12,
   "id": "c1c84684-767b-409e-a661-a1421d4641cb",
   "metadata": {},
   "outputs": [
    {
     "data": {
      "text/plain": [
       "AnnData object with n_obs × n_vars = 590 × 6\n",
       "    obs: 'index_cell', 'kth_distance', 'logFC', 'logCPM', 'F', 'PValue', 'FDR', 'SpatialFDR', 'Nhood_size'\n",
       "    var: 'condition_continuous', 'batch'\n",
       "    uns: 'sample_col', 'nhood'\n",
       "    obsm: 'X_milo_graph'\n",
       "    obsp: 'nhood_connectivities'"
      ]
     },
     "execution_count": 12,
     "metadata": {},
     "output_type": "execute_result"
    }
   ],
   "source": [
    "nhood_adata = adata.uns[\"nhood_adata\"].copy()\n",
    "nhood_adata"
   ]
  },
  {
   "cell_type": "code",
   "execution_count": 26,
   "id": "459a6b28-64ba-47bd-9c38-5471a4c495b6",
   "metadata": {},
   "outputs": [
    {
     "data": {
      "text/plain": [
       "<590x6 sparse matrix of type '<class 'numpy.float32'>'\n",
       "\twith 2895 stored elements in Compressed Sparse Column format>"
      ]
     },
     "execution_count": 26,
     "metadata": {},
     "output_type": "execute_result"
    }
   ],
   "source": [
    "#print(nhood_adata.obs)\n",
    "#print(nhood_adata.var)\n",
    "#print(nhood_adata.uns)\n",
    "#print(nhood_adata.obsm)\n",
    "#print(nhood_adata.obsp)\n",
    "nhood_adata.X\n"
   ]
  },
  {
   "cell_type": "code",
   "execution_count": 21,
   "id": "ca6af57b-6fc2-4917-9441-5822b35604a0",
   "metadata": {},
   "outputs": [
    {
     "data": {
      "text/plain": [
       "0       77.0\n",
       "1       95.0\n",
       "2       86.0\n",
       "3      112.0\n",
       "4       97.0\n",
       "       ...  \n",
       "585    114.0\n",
       "586     64.0\n",
       "587    106.0\n",
       "588     89.0\n",
       "589     84.0\n",
       "Name: Nhood_size, Length: 590, dtype: float32"
      ]
     },
     "execution_count": 21,
     "metadata": {},
     "output_type": "execute_result"
    }
   ],
   "source": [
    "adata.uns[\"nhood_adata\"].obs[\"Nhood_size\"]"
   ]
  },
  {
   "cell_type": "code",
   "execution_count": 24,
   "id": "b69ad868-63a4-4075-933d-2c82029b76f4",
   "metadata": {
    "scrolled": true
   },
   "outputs": [
    {
     "ename": "StopIteration",
     "evalue": "",
     "output_type": "error",
     "traceback": [
      "\u001b[0;31m---------------------------------------------------------------------------\u001b[0m",
      "\u001b[0;31mStopIteration\u001b[0m                             Traceback (most recent call last)",
      "Cell \u001b[0;32mIn[24], line 3\u001b[0m\n\u001b[1;32m      1\u001b[0m \u001b[38;5;66;03m#import milopy.utils \u001b[39;00m\n\u001b[1;32m      2\u001b[0m plt\u001b[38;5;241m.\u001b[39mrcParams[\u001b[38;5;124m\"\u001b[39m\u001b[38;5;124mfigure.figsize\u001b[39m\u001b[38;5;124m\"\u001b[39m] \u001b[38;5;241m=\u001b[39m [\u001b[38;5;241m10\u001b[39m,\u001b[38;5;241m10\u001b[39m]\n\u001b[0;32m----> 3\u001b[0m \u001b[43mmilopl\u001b[49m\u001b[38;5;241;43m.\u001b[39;49m\u001b[43mplot_nhood_graph\u001b[49m\u001b[43m(\u001b[49m\u001b[43madata\u001b[49m\u001b[43m,\u001b[49m\n\u001b[1;32m      4\u001b[0m \u001b[43m    \u001b[49m\u001b[43malpha\u001b[49m\u001b[38;5;241;43m=\u001b[39;49m\u001b[38;5;241;43m0.01\u001b[39;49m\u001b[43m,\u001b[49m\u001b[43m \u001b[49m\u001b[38;5;66;43;03m## SpatialFDR level (1%)\u001b[39;49;00m\n\u001b[1;32m      5\u001b[0m \u001b[43m    \u001b[49m\u001b[43mmin_size\u001b[49m\u001b[38;5;241;43m=\u001b[39;49m\u001b[38;5;241;43m2\u001b[39;49m\u001b[43m \u001b[49m\u001b[38;5;66;43;03m## Size of smallest dot \u001b[39;49;00m\n\u001b[1;32m      6\u001b[0m \u001b[43m                       \u001b[49m\u001b[43m)\u001b[49m\n",
      "File \u001b[0;32m~/miniconda3/envs/milo_R/lib/python3.9/site-packages/milopy/plot.py:60\u001b[0m, in \u001b[0;36mplot_nhood_graph\u001b[0;34m(adata, alpha, min_logFC, min_size, plot_edges, title, **kwargs)\u001b[0m\n\u001b[1;32m     56\u001b[0m vmax \u001b[38;5;241m=\u001b[39m np\u001b[38;5;241m.\u001b[39mmax([nhood_adata\u001b[38;5;241m.\u001b[39mobs[\u001b[38;5;124m\"\u001b[39m\u001b[38;5;124mgraph_color\u001b[39m\u001b[38;5;124m\"\u001b[39m]\u001b[38;5;241m.\u001b[39mmax(),\n\u001b[1;32m     57\u001b[0m               \u001b[38;5;28mabs\u001b[39m(nhood_adata\u001b[38;5;241m.\u001b[39mobs[\u001b[38;5;124m\"\u001b[39m\u001b[38;5;124mgraph_color\u001b[39m\u001b[38;5;124m\"\u001b[39m]\u001b[38;5;241m.\u001b[39mmin())])\n\u001b[1;32m     58\u001b[0m vmin \u001b[38;5;241m=\u001b[39m \u001b[38;5;241m-\u001b[39m vmax\n\u001b[0;32m---> 60\u001b[0m \u001b[43msc\u001b[49m\u001b[38;5;241;43m.\u001b[39;49m\u001b[43mpl\u001b[49m\u001b[38;5;241;43m.\u001b[39;49m\u001b[43membedding\u001b[49m\u001b[43m(\u001b[49m\u001b[43mnhood_adata\u001b[49m\u001b[43m,\u001b[49m\u001b[43m \u001b[49m\u001b[38;5;124;43m\"\u001b[39;49m\u001b[38;5;124;43mX_milo_graph\u001b[39;49m\u001b[38;5;124;43m\"\u001b[39;49m\u001b[43m,\u001b[49m\n\u001b[1;32m     61\u001b[0m \u001b[43m                \u001b[49m\u001b[43mcolor\u001b[49m\u001b[38;5;241;43m=\u001b[39;49m\u001b[38;5;124;43m\"\u001b[39;49m\u001b[38;5;124;43mgraph_color\u001b[39;49m\u001b[38;5;124;43m\"\u001b[39;49m\u001b[43m,\u001b[49m\u001b[43m \u001b[49m\u001b[43mcmap\u001b[49m\u001b[38;5;241;43m=\u001b[39;49m\u001b[38;5;124;43m\"\u001b[39;49m\u001b[38;5;124;43mRdBu_r\u001b[39;49m\u001b[38;5;124;43m\"\u001b[39;49m\u001b[43m,\u001b[49m\n\u001b[1;32m     62\u001b[0m \u001b[43m                \u001b[49m\u001b[43msize\u001b[49m\u001b[38;5;241;43m=\u001b[39;49m\u001b[43madata\u001b[49m\u001b[38;5;241;43m.\u001b[39;49m\u001b[43muns\u001b[49m\u001b[43m[\u001b[49m\u001b[38;5;124;43m\"\u001b[39;49m\u001b[38;5;124;43mnhood_adata\u001b[39;49m\u001b[38;5;124;43m\"\u001b[39;49m\u001b[43m]\u001b[49m\u001b[38;5;241;43m.\u001b[39;49m\u001b[43mobs\u001b[49m\u001b[43m[\u001b[49m\u001b[38;5;124;43m\"\u001b[39;49m\u001b[38;5;124;43mNhood_size\u001b[39;49m\u001b[38;5;124;43m\"\u001b[39;49m\u001b[43m]\u001b[49m\u001b[38;5;241;43m*\u001b[39;49m\u001b[43mmin_size\u001b[49m\u001b[43m,\u001b[49m\n\u001b[1;32m     63\u001b[0m \u001b[43m                \u001b[49m\u001b[43medges\u001b[49m\u001b[38;5;241;43m=\u001b[39;49m\u001b[43mplot_edges\u001b[49m\u001b[43m,\u001b[49m\u001b[43m \u001b[49m\u001b[43mneighbors_key\u001b[49m\u001b[38;5;241;43m=\u001b[39;49m\u001b[38;5;124;43m\"\u001b[39;49m\u001b[38;5;124;43mnhood\u001b[39;49m\u001b[38;5;124;43m\"\u001b[39;49m\u001b[43m,\u001b[49m\n\u001b[1;32m     64\u001b[0m \u001b[43m                \u001b[49m\u001b[38;5;66;43;03m# edge_width =\u001b[39;49;00m\n\u001b[1;32m     65\u001b[0m \u001b[43m                \u001b[49m\u001b[43msort_order\u001b[49m\u001b[38;5;241;43m=\u001b[39;49m\u001b[38;5;28;43;01mFalse\u001b[39;49;00m\u001b[43m,\u001b[49m\n\u001b[1;32m     66\u001b[0m \u001b[43m                \u001b[49m\u001b[43mframeon\u001b[49m\u001b[38;5;241;43m=\u001b[39;49m\u001b[38;5;28;43;01mFalse\u001b[39;49;00m\u001b[43m,\u001b[49m\n\u001b[1;32m     67\u001b[0m \u001b[43m                \u001b[49m\u001b[43mvmax\u001b[49m\u001b[38;5;241;43m=\u001b[39;49m\u001b[43mvmax\u001b[49m\u001b[43m,\u001b[49m\u001b[43m \u001b[49m\u001b[43mvmin\u001b[49m\u001b[38;5;241;43m=\u001b[39;49m\u001b[43mvmin\u001b[49m\u001b[43m,\u001b[49m\n\u001b[1;32m     68\u001b[0m \u001b[43m                \u001b[49m\u001b[43mtitle\u001b[49m\u001b[38;5;241;43m=\u001b[39;49m\u001b[43mtitle\u001b[49m\u001b[43m,\u001b[49m\n\u001b[1;32m     69\u001b[0m \u001b[43m                \u001b[49m\u001b[38;5;241;43m*\u001b[39;49m\u001b[38;5;241;43m*\u001b[39;49m\u001b[43mkwargs\u001b[49m\n\u001b[1;32m     70\u001b[0m \u001b[43m                \u001b[49m\u001b[43m)\u001b[49m\n",
      "File \u001b[0;32m~/miniconda3/envs/milo_R/lib/python3.9/site-packages/scanpy/plotting/_tools/scatterplots.py:392\u001b[0m, in \u001b[0;36membedding\u001b[0;34m(adata, basis, color, gene_symbols, use_raw, sort_order, edges, edges_width, edges_color, neighbors_key, arrows, arrows_kwds, groups, components, dimensions, layer, projection, scale_factor, color_map, cmap, palette, na_color, na_in_legend, size, frameon, legend_fontsize, legend_fontweight, legend_loc, legend_fontoutline, colorbar_loc, vmax, vmin, vcenter, norm, add_outline, outline_width, outline_color, ncols, hspace, wspace, title, show, save, ax, return_fig, **kwargs)\u001b[0m\n\u001b[1;32m    389\u001b[0m         \u001b[38;5;66;03m# if user did not set alpha, set alpha to 0.7\u001b[39;00m\n\u001b[1;32m    390\u001b[0m         kwargs[\u001b[38;5;124m'\u001b[39m\u001b[38;5;124malpha\u001b[39m\u001b[38;5;124m'\u001b[39m] \u001b[38;5;241m=\u001b[39m \u001b[38;5;241m0.7\u001b[39m \u001b[38;5;28;01mif\u001b[39;00m alpha \u001b[38;5;129;01mis\u001b[39;00m \u001b[38;5;28;01mNone\u001b[39;00m \u001b[38;5;28;01melse\u001b[39;00m alpha\n\u001b[0;32m--> 392\u001b[0m     cax \u001b[38;5;241m=\u001b[39m \u001b[43mscatter\u001b[49m\u001b[43m(\u001b[49m\n\u001b[1;32m    393\u001b[0m \u001b[43m        \u001b[49m\u001b[43mcoords\u001b[49m\u001b[43m[\u001b[49m\u001b[43m:\u001b[49m\u001b[43m,\u001b[49m\u001b[43m \u001b[49m\u001b[38;5;241;43m0\u001b[39;49m\u001b[43m]\u001b[49m\u001b[43m,\u001b[49m\n\u001b[1;32m    394\u001b[0m \u001b[43m        \u001b[49m\u001b[43mcoords\u001b[49m\u001b[43m[\u001b[49m\u001b[43m:\u001b[49m\u001b[43m,\u001b[49m\u001b[43m \u001b[49m\u001b[38;5;241;43m1\u001b[39;49m\u001b[43m]\u001b[49m\u001b[43m,\u001b[49m\n\u001b[1;32m    395\u001b[0m \u001b[43m        \u001b[49m\u001b[43mmarker\u001b[49m\u001b[38;5;241;43m=\u001b[39;49m\u001b[38;5;124;43m\"\u001b[39;49m\u001b[38;5;124;43m.\u001b[39;49m\u001b[38;5;124;43m\"\u001b[39;49m\u001b[43m,\u001b[49m\n\u001b[1;32m    396\u001b[0m \u001b[43m        \u001b[49m\u001b[43mc\u001b[49m\u001b[38;5;241;43m=\u001b[39;49m\u001b[43mcolor_vector\u001b[49m\u001b[43m,\u001b[49m\n\u001b[1;32m    397\u001b[0m \u001b[43m        \u001b[49m\u001b[43mrasterized\u001b[49m\u001b[38;5;241;43m=\u001b[39;49m\u001b[43msettings\u001b[49m\u001b[38;5;241;43m.\u001b[39;49m\u001b[43m_vector_friendly\u001b[49m\u001b[43m,\u001b[49m\n\u001b[1;32m    398\u001b[0m \u001b[43m        \u001b[49m\u001b[43mnorm\u001b[49m\u001b[38;5;241;43m=\u001b[39;49m\u001b[43mnormalize\u001b[49m\u001b[43m,\u001b[49m\n\u001b[1;32m    399\u001b[0m \u001b[43m        \u001b[49m\u001b[38;5;241;43m*\u001b[39;49m\u001b[38;5;241;43m*\u001b[39;49m\u001b[43mkwargs\u001b[49m\u001b[43m,\u001b[49m\n\u001b[1;32m    400\u001b[0m \u001b[43m    \u001b[49m\u001b[43m)\u001b[49m\n\u001b[1;32m    402\u001b[0m \u001b[38;5;66;03m# remove y and x ticks\u001b[39;00m\n\u001b[1;32m    403\u001b[0m ax\u001b[38;5;241m.\u001b[39mset_yticks([])\n",
      "File \u001b[0;32m~/miniconda3/envs/milo_R/lib/python3.9/site-packages/matplotlib/__init__.py:1442\u001b[0m, in \u001b[0;36m_preprocess_data.<locals>.inner\u001b[0;34m(ax, data, *args, **kwargs)\u001b[0m\n\u001b[1;32m   1439\u001b[0m \u001b[38;5;129m@functools\u001b[39m\u001b[38;5;241m.\u001b[39mwraps(func)\n\u001b[1;32m   1440\u001b[0m \u001b[38;5;28;01mdef\u001b[39;00m \u001b[38;5;21minner\u001b[39m(ax, \u001b[38;5;241m*\u001b[39margs, data\u001b[38;5;241m=\u001b[39m\u001b[38;5;28;01mNone\u001b[39;00m, \u001b[38;5;241m*\u001b[39m\u001b[38;5;241m*\u001b[39mkwargs):\n\u001b[1;32m   1441\u001b[0m     \u001b[38;5;28;01mif\u001b[39;00m data \u001b[38;5;129;01mis\u001b[39;00m \u001b[38;5;28;01mNone\u001b[39;00m:\n\u001b[0;32m-> 1442\u001b[0m         \u001b[38;5;28;01mreturn\u001b[39;00m \u001b[43mfunc\u001b[49m\u001b[43m(\u001b[49m\u001b[43max\u001b[49m\u001b[43m,\u001b[49m\u001b[43m \u001b[49m\u001b[38;5;241;43m*\u001b[39;49m\u001b[38;5;28;43mmap\u001b[39;49m\u001b[43m(\u001b[49m\u001b[43msanitize_sequence\u001b[49m\u001b[43m,\u001b[49m\u001b[43m \u001b[49m\u001b[43margs\u001b[49m\u001b[43m)\u001b[49m\u001b[43m,\u001b[49m\u001b[43m \u001b[49m\u001b[38;5;241;43m*\u001b[39;49m\u001b[38;5;241;43m*\u001b[39;49m\u001b[43mkwargs\u001b[49m\u001b[43m)\u001b[49m\n\u001b[1;32m   1444\u001b[0m     bound \u001b[38;5;241m=\u001b[39m new_sig\u001b[38;5;241m.\u001b[39mbind(ax, \u001b[38;5;241m*\u001b[39margs, \u001b[38;5;241m*\u001b[39m\u001b[38;5;241m*\u001b[39mkwargs)\n\u001b[1;32m   1445\u001b[0m     auto_label \u001b[38;5;241m=\u001b[39m (bound\u001b[38;5;241m.\u001b[39marguments\u001b[38;5;241m.\u001b[39mget(label_namer)\n\u001b[1;32m   1446\u001b[0m                   \u001b[38;5;129;01mor\u001b[39;00m bound\u001b[38;5;241m.\u001b[39mkwargs\u001b[38;5;241m.\u001b[39mget(label_namer))\n",
      "File \u001b[0;32m~/miniconda3/envs/milo_R/lib/python3.9/site-packages/matplotlib/axes/_axes.py:4602\u001b[0m, in \u001b[0;36mAxes.scatter\u001b[0;34m(self, x, y, s, c, marker, cmap, norm, vmin, vmax, alpha, linewidths, edgecolors, plotnonfinite, **kwargs)\u001b[0m\n\u001b[1;32m   4599\u001b[0m \u001b[38;5;28;01mif\u001b[39;00m edgecolors \u001b[38;5;129;01mis\u001b[39;00m \u001b[38;5;28;01mNone\u001b[39;00m:\n\u001b[1;32m   4600\u001b[0m     orig_edgecolor \u001b[38;5;241m=\u001b[39m kwargs\u001b[38;5;241m.\u001b[39mget(\u001b[38;5;124m'\u001b[39m\u001b[38;5;124medgecolor\u001b[39m\u001b[38;5;124m'\u001b[39m, \u001b[38;5;28;01mNone\u001b[39;00m)\n\u001b[1;32m   4601\u001b[0m c, colors, edgecolors \u001b[38;5;241m=\u001b[39m \\\n\u001b[0;32m-> 4602\u001b[0m     \u001b[38;5;28;43mself\u001b[39;49m\u001b[38;5;241;43m.\u001b[39;49m\u001b[43m_parse_scatter_color_args\u001b[49m\u001b[43m(\u001b[49m\n\u001b[1;32m   4603\u001b[0m \u001b[43m        \u001b[49m\u001b[43mc\u001b[49m\u001b[43m,\u001b[49m\u001b[43m \u001b[49m\u001b[43medgecolors\u001b[49m\u001b[43m,\u001b[49m\u001b[43m \u001b[49m\u001b[43mkwargs\u001b[49m\u001b[43m,\u001b[49m\u001b[43m \u001b[49m\u001b[43mx\u001b[49m\u001b[38;5;241;43m.\u001b[39;49m\u001b[43msize\u001b[49m\u001b[43m,\u001b[49m\n\u001b[1;32m   4604\u001b[0m \u001b[43m        \u001b[49m\u001b[43mget_next_color_func\u001b[49m\u001b[38;5;241;43m=\u001b[39;49m\u001b[38;5;28;43mself\u001b[39;49m\u001b[38;5;241;43m.\u001b[39;49m\u001b[43m_get_patches_for_fill\u001b[49m\u001b[38;5;241;43m.\u001b[39;49m\u001b[43mget_next_color\u001b[49m\u001b[43m)\u001b[49m\n\u001b[1;32m   4606\u001b[0m \u001b[38;5;28;01mif\u001b[39;00m plotnonfinite \u001b[38;5;129;01mand\u001b[39;00m colors \u001b[38;5;129;01mis\u001b[39;00m \u001b[38;5;28;01mNone\u001b[39;00m:\n\u001b[1;32m   4607\u001b[0m     c \u001b[38;5;241m=\u001b[39m np\u001b[38;5;241m.\u001b[39mma\u001b[38;5;241m.\u001b[39mmasked_invalid(c)\n",
      "File \u001b[0;32m~/miniconda3/envs/milo_R/lib/python3.9/site-packages/matplotlib/axes/_axes.py:4400\u001b[0m, in \u001b[0;36mAxes._parse_scatter_color_args\u001b[0;34m(c, edgecolors, kwargs, xsize, get_next_color_func)\u001b[0m\n\u001b[1;32m   4393\u001b[0m \u001b[38;5;28;01mif\u001b[39;00m c \u001b[38;5;129;01mis\u001b[39;00m \u001b[38;5;28;01mNone\u001b[39;00m:\n\u001b[1;32m   4394\u001b[0m     c \u001b[38;5;241m=\u001b[39m (facecolors \u001b[38;5;28;01mif\u001b[39;00m facecolors \u001b[38;5;129;01mis\u001b[39;00m \u001b[38;5;129;01mnot\u001b[39;00m \u001b[38;5;28;01mNone\u001b[39;00m\n\u001b[1;32m   4395\u001b[0m          \u001b[38;5;28;01melse\u001b[39;00m \u001b[38;5;124m\"\u001b[39m\u001b[38;5;124mb\u001b[39m\u001b[38;5;124m\"\u001b[39m \u001b[38;5;28;01mif\u001b[39;00m mpl\u001b[38;5;241m.\u001b[39mrcParams[\u001b[38;5;124m'\u001b[39m\u001b[38;5;124m_internal.classic_mode\u001b[39m\u001b[38;5;124m'\u001b[39m]\n\u001b[1;32m   4396\u001b[0m          \u001b[38;5;28;01melse\u001b[39;00m get_next_color_func())\n\u001b[1;32m   4397\u001b[0m c_is_string_or_strings \u001b[38;5;241m=\u001b[39m (\n\u001b[1;32m   4398\u001b[0m     \u001b[38;5;28misinstance\u001b[39m(c, \u001b[38;5;28mstr\u001b[39m)\n\u001b[1;32m   4399\u001b[0m     \u001b[38;5;129;01mor\u001b[39;00m (np\u001b[38;5;241m.\u001b[39miterable(c) \u001b[38;5;129;01mand\u001b[39;00m \u001b[38;5;28mlen\u001b[39m(c) \u001b[38;5;241m>\u001b[39m \u001b[38;5;241m0\u001b[39m\n\u001b[0;32m-> 4400\u001b[0m         \u001b[38;5;129;01mand\u001b[39;00m \u001b[38;5;28misinstance\u001b[39m(\u001b[43mcbook\u001b[49m\u001b[38;5;241;43m.\u001b[39;49m\u001b[43m_safe_first_finite\u001b[49m\u001b[43m(\u001b[49m\u001b[43mc\u001b[49m\u001b[43m)\u001b[49m, \u001b[38;5;28mstr\u001b[39m)))\n\u001b[1;32m   4402\u001b[0m \u001b[38;5;28;01mdef\u001b[39;00m \u001b[38;5;21minvalid_shape_exception\u001b[39m(csize, xsize):\n\u001b[1;32m   4403\u001b[0m     \u001b[38;5;28;01mreturn\u001b[39;00m \u001b[38;5;167;01mValueError\u001b[39;00m(\n\u001b[1;32m   4404\u001b[0m         \u001b[38;5;124mf\u001b[39m\u001b[38;5;124m\"\u001b[39m\u001b[38;5;124m'\u001b[39m\u001b[38;5;124mc\u001b[39m\u001b[38;5;124m'\u001b[39m\u001b[38;5;124m argument has \u001b[39m\u001b[38;5;132;01m{\u001b[39;00mcsize\u001b[38;5;132;01m}\u001b[39;00m\u001b[38;5;124m elements, which is inconsistent \u001b[39m\u001b[38;5;124m\"\u001b[39m\n\u001b[1;32m   4405\u001b[0m         \u001b[38;5;124mf\u001b[39m\u001b[38;5;124m\"\u001b[39m\u001b[38;5;124mwith \u001b[39m\u001b[38;5;124m'\u001b[39m\u001b[38;5;124mx\u001b[39m\u001b[38;5;124m'\u001b[39m\u001b[38;5;124m and \u001b[39m\u001b[38;5;124m'\u001b[39m\u001b[38;5;124my\u001b[39m\u001b[38;5;124m'\u001b[39m\u001b[38;5;124m with size \u001b[39m\u001b[38;5;132;01m{\u001b[39;00mxsize\u001b[38;5;132;01m}\u001b[39;00m\u001b[38;5;124m.\u001b[39m\u001b[38;5;124m\"\u001b[39m)\n",
      "File \u001b[0;32m~/miniconda3/envs/milo_R/lib/python3.9/site-packages/matplotlib/cbook/__init__.py:1715\u001b[0m, in \u001b[0;36m_safe_first_finite\u001b[0;34m(obj, skip_nonfinite)\u001b[0m\n\u001b[1;32m   1712\u001b[0m     \u001b[38;5;28;01mraise\u001b[39;00m \u001b[38;5;167;01mRuntimeError\u001b[39;00m(\u001b[38;5;124m\"\u001b[39m\u001b[38;5;124mmatplotlib does not \u001b[39m\u001b[38;5;124m\"\u001b[39m\n\u001b[1;32m   1713\u001b[0m                        \u001b[38;5;124m\"\u001b[39m\u001b[38;5;124msupport generators as input\u001b[39m\u001b[38;5;124m\"\u001b[39m)\n\u001b[1;32m   1714\u001b[0m \u001b[38;5;28;01melse\u001b[39;00m:\n\u001b[0;32m-> 1715\u001b[0m     \u001b[38;5;28;01mreturn\u001b[39;00m \u001b[38;5;28;43mnext\u001b[39;49m\u001b[43m(\u001b[49m\u001b[43mval\u001b[49m\u001b[43m \u001b[49m\u001b[38;5;28;43;01mfor\u001b[39;49;00m\u001b[43m \u001b[49m\u001b[43mval\u001b[49m\u001b[43m \u001b[49m\u001b[38;5;129;43;01min\u001b[39;49;00m\u001b[43m \u001b[49m\u001b[43mobj\u001b[49m\u001b[43m \u001b[49m\u001b[38;5;28;43;01mif\u001b[39;49;00m\u001b[43m \u001b[49m\u001b[43msafe_isfinite\u001b[49m\u001b[43m(\u001b[49m\u001b[43mval\u001b[49m\u001b[43m)\u001b[49m\u001b[43m)\u001b[49m\n",
      "\u001b[0;31mStopIteration\u001b[0m: "
     ]
    },
    {
     "data": {
      "image/png": "[encoded data removed]",
      "text/plain": [
       "<Figure size 1000x1000 with 1 Axes>"
      ]
     },
     "metadata": {},
     "output_type": "display_data"
    }
   ],
   "source": [
    "#import milopy.utils \n",
    "plt.rcParams[\"figure.figsize\"] = [10,10]\n",
    "milopl.plot_nhood_graph(adata,\n",
    "    alpha=0.01, ## SpatialFDR level (1%)\n",
    "    min_size=2 ## Size of smallest dot \n",
    "                       )\n"
   ]
  },
  {
   "cell_type": "markdown",
   "id": "df46d6a0-3d03-406e-9ea4-f12596ceee3a",
   "metadata": {},
   "source": [
    "## Visualize result by celltype"
   ]
  },
  {
   "cell_type": "code",
   "execution_count": 20,
   "id": "bfc5ed14-fc1f-4ece-978e-436eca7f1e97",
   "metadata": {},
   "outputs": [
    {
     "ename": "ValueError",
     "evalue": "Must pass 2-d input. shape=()",
     "output_type": "error",
     "traceback": [
      "\u001b[0;31m---------------------------------------------------------------------------\u001b[0m",
      "\u001b[0;31mValueError\u001b[0m                                Traceback (most recent call last)",
      "Cell \u001b[0;32mIn[20], line 1\u001b[0m\n\u001b[0;32m----> 1\u001b[0m \u001b[43mmilopy\u001b[49m\u001b[38;5;241;43m.\u001b[39;49m\u001b[43mutils\u001b[49m\u001b[38;5;241;43m.\u001b[39;49m\u001b[43mannotate_nhoods\u001b[49m\u001b[43m(\u001b[49m\u001b[43madata\u001b[49m\u001b[43m,\u001b[49m\u001b[43m \u001b[49m\u001b[43manno_col\u001b[49m\u001b[38;5;241;43m=\u001b[39;49m\u001b[43mcell_type_identifier\u001b[49m\u001b[43m)\u001b[49m\n",
      "File \u001b[0;32m~/miniconda3/envs/milo_R/lib/python3.9/site-packages/milopy/utils.py:152\u001b[0m, in \u001b[0;36mannotate_nhoods\u001b[0;34m(adata, anno_col)\u001b[0m\n\u001b[1;32m    148\u001b[0m anno_count \u001b[38;5;241m=\u001b[39m adata\u001b[38;5;241m.\u001b[39mobsm[\u001b[38;5;124m\"\u001b[39m\u001b[38;5;124mnhoods\u001b[39m\u001b[38;5;124m\"\u001b[39m]\u001b[38;5;241m.\u001b[39mT\u001b[38;5;241m.\u001b[39mdot(\n\u001b[1;32m    149\u001b[0m     scipy\u001b[38;5;241m.\u001b[39msparse\u001b[38;5;241m.\u001b[39mcsr_matrix(anno_dummies\u001b[38;5;241m.\u001b[39mvalues))\n\u001b[1;32m    150\u001b[0m anno_frac \u001b[38;5;241m=\u001b[39m np\u001b[38;5;241m.\u001b[39marray(anno_count\u001b[38;5;241m/\u001b[39manno_count\u001b[38;5;241m.\u001b[39msum(\u001b[38;5;241m1\u001b[39m))\n\u001b[0;32m--> 152\u001b[0m anno_frac \u001b[38;5;241m=\u001b[39m \u001b[43mpd\u001b[49m\u001b[38;5;241;43m.\u001b[39;49m\u001b[43mDataFrame\u001b[49m\u001b[43m(\u001b[49m\u001b[43manno_frac\u001b[49m\u001b[43m,\u001b[49m\n\u001b[1;32m    153\u001b[0m \u001b[43m                         \u001b[49m\u001b[43mcolumns\u001b[49m\u001b[38;5;241;43m=\u001b[39;49m\u001b[43manno_dummies\u001b[49m\u001b[38;5;241;43m.\u001b[39;49m\u001b[43mcolumns\u001b[49m\u001b[43m,\u001b[49m\n\u001b[1;32m    154\u001b[0m \u001b[43m                         \u001b[49m\u001b[43mindex\u001b[49m\u001b[38;5;241;43m=\u001b[39;49m\u001b[43madata\u001b[49m\u001b[38;5;241;43m.\u001b[39;49m\u001b[43muns\u001b[49m\u001b[43m[\u001b[49m\u001b[38;5;124;43m\"\u001b[39;49m\u001b[38;5;124;43mnhood_adata\u001b[39;49m\u001b[38;5;124;43m\"\u001b[39;49m\u001b[43m]\u001b[49m\u001b[38;5;241;43m.\u001b[39;49m\u001b[43mobs_names\u001b[49m\n\u001b[1;32m    155\u001b[0m \u001b[43m                         \u001b[49m\u001b[43m)\u001b[49m\n\u001b[1;32m    156\u001b[0m adata\u001b[38;5;241m.\u001b[39muns[\u001b[38;5;124m\"\u001b[39m\u001b[38;5;124mnhood_adata\u001b[39m\u001b[38;5;124m\"\u001b[39m]\u001b[38;5;241m.\u001b[39mobsm[\u001b[38;5;124m\"\u001b[39m\u001b[38;5;124mfrac_annotation\u001b[39m\u001b[38;5;124m\"\u001b[39m] \u001b[38;5;241m=\u001b[39m anno_frac\u001b[38;5;241m.\u001b[39mvalues\n\u001b[1;32m    157\u001b[0m \u001b[38;5;66;03m# Turn this to list so that writing out h5ad works\u001b[39;00m\n",
      "File \u001b[0;32m~/miniconda3/envs/milo_R/lib/python3.9/site-packages/pandas/core/frame.py:758\u001b[0m, in \u001b[0;36mDataFrame.__init__\u001b[0;34m(self, data, index, columns, dtype, copy)\u001b[0m\n\u001b[1;32m    747\u001b[0m         mgr \u001b[38;5;241m=\u001b[39m dict_to_mgr(\n\u001b[1;32m    748\u001b[0m             \u001b[38;5;66;03m# error: Item \"ndarray\" of \"Union[ndarray, Series, Index]\" has no\u001b[39;00m\n\u001b[1;32m    749\u001b[0m             \u001b[38;5;66;03m# attribute \"name\"\u001b[39;00m\n\u001b[0;32m   (...)\u001b[0m\n\u001b[1;32m    755\u001b[0m             copy\u001b[38;5;241m=\u001b[39m_copy,\n\u001b[1;32m    756\u001b[0m         )\n\u001b[1;32m    757\u001b[0m     \u001b[38;5;28;01melse\u001b[39;00m:\n\u001b[0;32m--> 758\u001b[0m         mgr \u001b[38;5;241m=\u001b[39m \u001b[43mndarray_to_mgr\u001b[49m\u001b[43m(\u001b[49m\n\u001b[1;32m    759\u001b[0m \u001b[43m            \u001b[49m\u001b[43mdata\u001b[49m\u001b[43m,\u001b[49m\n\u001b[1;32m    760\u001b[0m \u001b[43m            \u001b[49m\u001b[43mindex\u001b[49m\u001b[43m,\u001b[49m\n\u001b[1;32m    761\u001b[0m \u001b[43m            \u001b[49m\u001b[43mcolumns\u001b[49m\u001b[43m,\u001b[49m\n\u001b[1;32m    762\u001b[0m \u001b[43m            \u001b[49m\u001b[43mdtype\u001b[49m\u001b[38;5;241;43m=\u001b[39;49m\u001b[43mdtype\u001b[49m\u001b[43m,\u001b[49m\n\u001b[1;32m    763\u001b[0m \u001b[43m            \u001b[49m\u001b[43mcopy\u001b[49m\u001b[38;5;241;43m=\u001b[39;49m\u001b[43mcopy\u001b[49m\u001b[43m,\u001b[49m\n\u001b[1;32m    764\u001b[0m \u001b[43m            \u001b[49m\u001b[43mtyp\u001b[49m\u001b[38;5;241;43m=\u001b[39;49m\u001b[43mmanager\u001b[49m\u001b[43m,\u001b[49m\n\u001b[1;32m    765\u001b[0m \u001b[43m        \u001b[49m\u001b[43m)\u001b[49m\n\u001b[1;32m    767\u001b[0m \u001b[38;5;66;03m# For data is list-like, or Iterable (will consume into list)\u001b[39;00m\n\u001b[1;32m    768\u001b[0m \u001b[38;5;28;01melif\u001b[39;00m is_list_like(data):\n",
      "File \u001b[0;32m~/miniconda3/envs/milo_R/lib/python3.9/site-packages/pandas/core/internals/construction.py:315\u001b[0m, in \u001b[0;36mndarray_to_mgr\u001b[0;34m(values, index, columns, dtype, copy, typ)\u001b[0m\n\u001b[1;32m    309\u001b[0m     _copy \u001b[38;5;241m=\u001b[39m (\n\u001b[1;32m    310\u001b[0m         copy_on_sanitize\n\u001b[1;32m    311\u001b[0m         \u001b[38;5;28;01mif\u001b[39;00m (dtype \u001b[38;5;129;01mis\u001b[39;00m \u001b[38;5;28;01mNone\u001b[39;00m \u001b[38;5;129;01mor\u001b[39;00m astype_is_view(values\u001b[38;5;241m.\u001b[39mdtype, dtype))\n\u001b[1;32m    312\u001b[0m         \u001b[38;5;28;01melse\u001b[39;00m \u001b[38;5;28;01mFalse\u001b[39;00m\n\u001b[1;32m    313\u001b[0m     )\n\u001b[1;32m    314\u001b[0m     values \u001b[38;5;241m=\u001b[39m np\u001b[38;5;241m.\u001b[39marray(values, copy\u001b[38;5;241m=\u001b[39m_copy)\n\u001b[0;32m--> 315\u001b[0m     values \u001b[38;5;241m=\u001b[39m \u001b[43m_ensure_2d\u001b[49m\u001b[43m(\u001b[49m\u001b[43mvalues\u001b[49m\u001b[43m)\u001b[49m\n\u001b[1;32m    317\u001b[0m \u001b[38;5;28;01melse\u001b[39;00m:\n\u001b[1;32m    318\u001b[0m     \u001b[38;5;66;03m# by definition an array here\u001b[39;00m\n\u001b[1;32m    319\u001b[0m     \u001b[38;5;66;03m# the dtypes will be coerced to a single dtype\u001b[39;00m\n\u001b[1;32m    320\u001b[0m     values \u001b[38;5;241m=\u001b[39m _prep_ndarraylike(values, copy\u001b[38;5;241m=\u001b[39mcopy_on_sanitize)\n",
      "File \u001b[0;32m~/miniconda3/envs/milo_R/lib/python3.9/site-packages/pandas/core/internals/construction.py:570\u001b[0m, in \u001b[0;36m_ensure_2d\u001b[0;34m(values)\u001b[0m\n\u001b[1;32m    568\u001b[0m     values \u001b[38;5;241m=\u001b[39m values\u001b[38;5;241m.\u001b[39mreshape((values\u001b[38;5;241m.\u001b[39mshape[\u001b[38;5;241m0\u001b[39m], \u001b[38;5;241m1\u001b[39m))\n\u001b[1;32m    569\u001b[0m \u001b[38;5;28;01melif\u001b[39;00m values\u001b[38;5;241m.\u001b[39mndim \u001b[38;5;241m!=\u001b[39m \u001b[38;5;241m2\u001b[39m:\n\u001b[0;32m--> 570\u001b[0m     \u001b[38;5;28;01mraise\u001b[39;00m \u001b[38;5;167;01mValueError\u001b[39;00m(\u001b[38;5;124mf\u001b[39m\u001b[38;5;124m\"\u001b[39m\u001b[38;5;124mMust pass 2-d input. shape=\u001b[39m\u001b[38;5;132;01m{\u001b[39;00mvalues\u001b[38;5;241m.\u001b[39mshape\u001b[38;5;132;01m}\u001b[39;00m\u001b[38;5;124m\"\u001b[39m)\n\u001b[1;32m    571\u001b[0m \u001b[38;5;28;01mreturn\u001b[39;00m values\n",
      "\u001b[0;31mValueError\u001b[0m: Must pass 2-d input. shape=()"
     ]
    }
   ],
   "source": [
    "milopy.utils.annotate_nhoods(adata, anno_col=cell_type_identifier)"
   ]
  },
  {
   "cell_type": "code",
   "execution_count": null,
   "id": "36e6dc1b-09bd-4ce4-882b-70b8ed8aed74",
   "metadata": {},
   "outputs": [],
   "source": [
    "plt.hist(adata.uns['nhood_adata'].obs[\"nhood_annotation_frac\"]);\n",
    "plt.xlabel(\"celltype fraction\")"
   ]
  },
  {
   "cell_type": "code",
   "execution_count": null,
   "id": "cb031946-3436-4bf1-8d18-ddaab4f648f3",
   "metadata": {},
   "outputs": [],
   "source": [
    "adata.uns['nhood_adata'].obs.loc[adata.uns['nhood_adata'].obs[\"nhood_annotation_frac\"] < 0.6, \"nhood_annotation\"] = \"Mixed\""
   ]
  },
  {
   "cell_type": "code",
   "execution_count": null,
   "id": "69d847ae-83a0-45ab-aef2-dbbdb9863dbb",
   "metadata": {},
   "outputs": [],
   "source": [
    "sc.pl.violin(adata.uns['nhood_adata'], \"logFC\", groupby=\"nhood_annotation\", rotation=90, show=False);\n",
    "plt.axhline(y=0, color='black', linestyle='--');\n",
    "plt.show()"
   ]
  },
  {
   "cell_type": "code",
   "execution_count": null,
   "id": "1e2f222b-e799-47a0-84af-ae85f5508345",
   "metadata": {},
   "outputs": [],
   "source": []
  }
 ],
 "metadata": {
  "kernelspec": {
   "display_name": "Python [conda env:milo_R]",
   "language": "python",
   "name": "conda-env-milo_R-py"
  },
  "language_info": {
   "codemirror_mode": {
    "name": "ipython",
    "version": 3
   },
   "file_extension": ".py",
   "mimetype": "text/x-python",
   "name": "python",
   "nbconvert_exporter": "python",
   "pygments_lexer": "ipython3",
   "version": "3.9.16"
  }
 },
 "nbformat": 4,
 "nbformat_minor": 5
}
