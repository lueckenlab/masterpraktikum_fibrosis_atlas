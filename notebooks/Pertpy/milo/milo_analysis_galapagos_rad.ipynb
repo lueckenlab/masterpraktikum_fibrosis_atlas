{
 "cells": [
  {
   "cell_type": "code",
   "execution_count": 1,
   "id": "5273707f-96e2-4e0f-ac2d-a01e8567533b",
   "metadata": {},
   "outputs": [],
   "source": [
    "import os\n",
    "#os.environ['R_HOME'] = '/home/h/hollenberg/miniconda3/envs/milopy-envv/lib/R' #path to your R installation\n",
    "#os.environ['R_USER'] = '//home/h/hollenberg/miniconda3/envs/milopy-envv/lib/python3.11/site-packages/rpy2'\n",
    "#home/h/hollenberg/miniconda3/envs/milopy-envv/bin/python\n",
    "import warnings\n",
    "\n",
    "warnings.filterwarnings(\"ignore\")\n",
    "\n",
    "import matplotlib.pyplot as plt\n",
    "import seaborn as sns\n",
    "import scanpy as sc\n",
    "import pandas as pd\n",
    "import numpy as np\n",
    "import random\n",
    "import sc_toolbox\n",
    "\n",
    "import rpy2.rinterface_lib.callbacks\n",
    "import anndata2ri\n",
    "import logging\n",
    "import milopy\n",
    "import milopy.core as milo\n",
    "import milopy.plot as milopl\n",
    "import milopy.utils\n",
    "\n",
    "from rpy2.robjects import pandas2ri\n",
    "from rpy2.robjects import r\n",
    "\n",
    "sc.settings.verbosity = 0\n",
    "rpy2.rinterface_lib.callbacks.logger.setLevel(logging.ERROR)\n",
    "\n",
    "pandas2ri.activate()\n",
    "anndata2ri.activate()\n",
    "\n",
    "%load_ext rpy2.ipython"
   ]
  },
  {
   "cell_type": "code",
   "execution_count": 2,
   "id": "8338f2fc-081b-40d8-8e14-fc9baa8f2a9e",
   "metadata": {},
   "outputs": [],
   "source": [
    "# path of partly preprocessed HLCA file used in this notebook:\n",
    "adata_path = \"/home/h/hollenberg/MaPra/datasets_seperate/galapagos_radiation.h5ad\"\n",
    "\n",
    "# add annotation when not in adata -> None if annotation already in adata\n",
    "add_annotation = \"/home/h/hollenberg/MaPra/datasets_seperate/galapagos_radiation_obs_annotation.csv\"\n",
    "\n",
    "sample_identifier = \"SAMP_ID\" \n",
    "cell_type_identifier = \"annotation\" \n",
    "covariate_obs = \"SAMP_condition\"\n"
   ]
  },
  {
   "cell_type": "code",
   "execution_count": 3,
   "id": "8bab3eda-19b1-44ba-8ef8-ccb182b13a20",
   "metadata": {},
   "outputs": [],
   "source": [
    "adata = sc.read(adata_path)\n",
    "if add_annotation is not None:\n",
    "    adata.obs = pd.read_csv(add_annotation)"
   ]
  },
  {
   "cell_type": "code",
   "execution_count": null,
   "id": "8109f527-5842-49a0-b50c-9fc3d384f043",
   "metadata": {},
   "outputs": [],
   "source": [
    "d = 30\n",
    "k = 50\n",
    "\n",
    "sc.pp.neighbors(adata, n_neighbors=k, n_pcs=d)"
   ]
  },
  {
   "cell_type": "code",
   "execution_count": null,
   "id": "4a2d4311-2456-42b6-b668-dd7b964c9320",
   "metadata": {},
   "outputs": [],
   "source": [
    "milo.make_nhoods(adata, prop=0.1)\n",
    "adata.obsm[\"nhoods\"]\n",
    "adata[adata.obs['nhood_ixs_refined'] != 0].obs[['nhood_ixs_refined', 'nhood_kth_distance']]"
   ]
  },
  {
   "cell_type": "code",
   "execution_count": null,
   "id": "e6797d1e-2641-4e5a-8e6b-d8f3be158696",
   "metadata": {},
   "outputs": [],
   "source": [
    "nhood_size = np.array(adata.obsm[\"nhoods\"].sum(0)).ravel()\n",
    "plt.hist(nhood_size, bins=100);"
   ]
  },
  {
   "cell_type": "code",
   "execution_count": null,
   "id": "742772c5-9226-4c45-86df-0ff4fc63a308",
   "metadata": {},
   "outputs": [],
   "source": [
    "milo.count_nhoods(adata, sample_col=sample_identifier)\n",
    "adata.uns[\"nhood_adata\"]"
   ]
  },
  {
   "cell_type": "code",
   "execution_count": null,
   "id": "cc70a263-67bb-4ce4-9831-c18b2b053514",
   "metadata": {
    "scrolled": true
   },
   "outputs": [],
   "source": [
    "adata.obs[\"condition_continuous\"] = adata.obs[covariate_obs].astype('category').cat.codes\n",
    "milo.DA_nhoods(adata, design=\"~condition_continuous\")"
   ]
  },
  {
   "cell_type": "code",
   "execution_count": null,
   "id": "76702c26-19b0-4b3e-b1fd-cfab663a5cdb",
   "metadata": {
    "scrolled": true
   },
   "outputs": [],
   "source": [
    "adata.uns[\"nhood_adata\"].obs"
   ]
  },
  {
   "cell_type": "code",
   "execution_count": null,
   "id": "1d0ee438-fc70-4f89-a074-7170f757ef4c",
   "metadata": {},
   "outputs": [],
   "source": [
    "old_figsize = plt.rcParams[\"figure.figsize\"]\n",
    "plt.rcParams[\"figure.figsize\"] = [10,5]\n",
    "plt.subplot(1,2,1)\n",
    "plt.hist(adata.uns[\"nhood_adata\"].obs.PValue, bins=50);\n",
    "plt.xlabel(\"P-Vals\");\n",
    "plt.subplot(1,2,2)\n",
    "plt.plot(adata.uns[\"nhood_adata\"].obs.logFC, -np.log10(adata.uns[\"nhood_adata\"].obs.SpatialFDR), '.');\n",
    "plt.xlabel(\"log-Fold Change\");\n",
    "plt.ylabel(\"- log10(Spatial FDR)\");\n",
    "plt.tight_layout()\n",
    "plt.rcParams[\"figure.figsize\"] = old_figsize"
   ]
  },
  {
   "cell_type": "code",
   "execution_count": null,
   "id": "586256f8-7fd5-4470-9c6f-150bb66fa3e1",
   "metadata": {
    "scrolled": true
   },
   "outputs": [],
   "source": [
    "milopy.utils.build_nhood_graph(adata)"
   ]
  },
  {
   "cell_type": "code",
   "execution_count": null,
   "id": "c1c84684-767b-409e-a661-a1421d4641cb",
   "metadata": {},
   "outputs": [],
   "source": [
    "nhood_adata = adata.uns[\"nhood_adata\"].copy()\n",
    "nhood_adata"
   ]
  },
  {
   "cell_type": "code",
   "execution_count": null,
   "id": "b69ad868-63a4-4075-933d-2c82029b76f4",
   "metadata": {},
   "outputs": [],
   "source": [
    "#import milopy.utils \n",
    "plt.rcParams[\"figure.figsize\"] = [10,10]\n",
    "milopl.plot_nhood_graph(adata,\n",
    "    alpha=0.01, ## SpatialFDR level (1%)\n",
    "    min_size=2 ## Size of smallest dot \n",
    "                       )"
   ]
  },
  {
   "cell_type": "markdown",
   "id": "df46d6a0-3d03-406e-9ea4-f12596ceee3a",
   "metadata": {},
   "source": [
    "## Visualize result by celltype"
   ]
  },
  {
   "cell_type": "code",
   "execution_count": 20,
   "id": "bfc5ed14-fc1f-4ece-978e-436eca7f1e97",
   "metadata": {
    "scrolled": true
   },
   "outputs": [
    {
     "ename": "ValueError",
     "evalue": "Must pass 2-d input. shape=()",
     "output_type": "error",
     "traceback": [
      "\u001b[0;31m---------------------------------------------------------------------------\u001b[0m",
      "\u001b[0;31mValueError\u001b[0m                                Traceback (most recent call last)",
      "Cell \u001b[0;32mIn[20], line 1\u001b[0m\n\u001b[0;32m----> 1\u001b[0m \u001b[43mmilopy\u001b[49m\u001b[38;5;241;43m.\u001b[39;49m\u001b[43mutils\u001b[49m\u001b[38;5;241;43m.\u001b[39;49m\u001b[43mannotate_nhoods\u001b[49m\u001b[43m(\u001b[49m\u001b[43madata\u001b[49m\u001b[43m,\u001b[49m\u001b[43m \u001b[49m\u001b[43manno_col\u001b[49m\u001b[38;5;241;43m=\u001b[39;49m\u001b[43mcell_type_identifier\u001b[49m\u001b[43m)\u001b[49m\n",
      "File \u001b[0;32m~/miniconda3/envs/milo_R/lib/python3.9/site-packages/milopy/utils.py:152\u001b[0m, in \u001b[0;36mannotate_nhoods\u001b[0;34m(adata, anno_col)\u001b[0m\n\u001b[1;32m    148\u001b[0m anno_count \u001b[38;5;241m=\u001b[39m adata\u001b[38;5;241m.\u001b[39mobsm[\u001b[38;5;124m\"\u001b[39m\u001b[38;5;124mnhoods\u001b[39m\u001b[38;5;124m\"\u001b[39m]\u001b[38;5;241m.\u001b[39mT\u001b[38;5;241m.\u001b[39mdot(\n\u001b[1;32m    149\u001b[0m     scipy\u001b[38;5;241m.\u001b[39msparse\u001b[38;5;241m.\u001b[39mcsr_matrix(anno_dummies\u001b[38;5;241m.\u001b[39mvalues))\n\u001b[1;32m    150\u001b[0m anno_frac \u001b[38;5;241m=\u001b[39m np\u001b[38;5;241m.\u001b[39marray(anno_count\u001b[38;5;241m/\u001b[39manno_count\u001b[38;5;241m.\u001b[39msum(\u001b[38;5;241m1\u001b[39m))\n\u001b[0;32m--> 152\u001b[0m anno_frac \u001b[38;5;241m=\u001b[39m \u001b[43mpd\u001b[49m\u001b[38;5;241;43m.\u001b[39;49m\u001b[43mDataFrame\u001b[49m\u001b[43m(\u001b[49m\u001b[43manno_frac\u001b[49m\u001b[43m,\u001b[49m\n\u001b[1;32m    153\u001b[0m \u001b[43m                         \u001b[49m\u001b[43mcolumns\u001b[49m\u001b[38;5;241;43m=\u001b[39;49m\u001b[43manno_dummies\u001b[49m\u001b[38;5;241;43m.\u001b[39;49m\u001b[43mcolumns\u001b[49m\u001b[43m,\u001b[49m\n\u001b[1;32m    154\u001b[0m \u001b[43m                         \u001b[49m\u001b[43mindex\u001b[49m\u001b[38;5;241;43m=\u001b[39;49m\u001b[43madata\u001b[49m\u001b[38;5;241;43m.\u001b[39;49m\u001b[43muns\u001b[49m\u001b[43m[\u001b[49m\u001b[38;5;124;43m\"\u001b[39;49m\u001b[38;5;124;43mnhood_adata\u001b[39;49m\u001b[38;5;124;43m\"\u001b[39;49m\u001b[43m]\u001b[49m\u001b[38;5;241;43m.\u001b[39;49m\u001b[43mobs_names\u001b[49m\n\u001b[1;32m    155\u001b[0m \u001b[43m                         \u001b[49m\u001b[43m)\u001b[49m\n\u001b[1;32m    156\u001b[0m adata\u001b[38;5;241m.\u001b[39muns[\u001b[38;5;124m\"\u001b[39m\u001b[38;5;124mnhood_adata\u001b[39m\u001b[38;5;124m\"\u001b[39m]\u001b[38;5;241m.\u001b[39mobsm[\u001b[38;5;124m\"\u001b[39m\u001b[38;5;124mfrac_annotation\u001b[39m\u001b[38;5;124m\"\u001b[39m] \u001b[38;5;241m=\u001b[39m anno_frac\u001b[38;5;241m.\u001b[39mvalues\n\u001b[1;32m    157\u001b[0m \u001b[38;5;66;03m# Turn this to list so that writing out h5ad works\u001b[39;00m\n",
      "File \u001b[0;32m~/miniconda3/envs/milo_R/lib/python3.9/site-packages/pandas/core/frame.py:758\u001b[0m, in \u001b[0;36mDataFrame.__init__\u001b[0;34m(self, data, index, columns, dtype, copy)\u001b[0m\n\u001b[1;32m    747\u001b[0m         mgr \u001b[38;5;241m=\u001b[39m dict_to_mgr(\n\u001b[1;32m    748\u001b[0m             \u001b[38;5;66;03m# error: Item \"ndarray\" of \"Union[ndarray, Series, Index]\" has no\u001b[39;00m\n\u001b[1;32m    749\u001b[0m             \u001b[38;5;66;03m# attribute \"name\"\u001b[39;00m\n\u001b[0;32m   (...)\u001b[0m\n\u001b[1;32m    755\u001b[0m             copy\u001b[38;5;241m=\u001b[39m_copy,\n\u001b[1;32m    756\u001b[0m         )\n\u001b[1;32m    757\u001b[0m     \u001b[38;5;28;01melse\u001b[39;00m:\n\u001b[0;32m--> 758\u001b[0m         mgr \u001b[38;5;241m=\u001b[39m \u001b[43mndarray_to_mgr\u001b[49m\u001b[43m(\u001b[49m\n\u001b[1;32m    759\u001b[0m \u001b[43m            \u001b[49m\u001b[43mdata\u001b[49m\u001b[43m,\u001b[49m\n\u001b[1;32m    760\u001b[0m \u001b[43m            \u001b[49m\u001b[43mindex\u001b[49m\u001b[43m,\u001b[49m\n\u001b[1;32m    761\u001b[0m \u001b[43m            \u001b[49m\u001b[43mcolumns\u001b[49m\u001b[43m,\u001b[49m\n\u001b[1;32m    762\u001b[0m \u001b[43m            \u001b[49m\u001b[43mdtype\u001b[49m\u001b[38;5;241;43m=\u001b[39;49m\u001b[43mdtype\u001b[49m\u001b[43m,\u001b[49m\n\u001b[1;32m    763\u001b[0m \u001b[43m            \u001b[49m\u001b[43mcopy\u001b[49m\u001b[38;5;241;43m=\u001b[39;49m\u001b[43mcopy\u001b[49m\u001b[43m,\u001b[49m\n\u001b[1;32m    764\u001b[0m \u001b[43m            \u001b[49m\u001b[43mtyp\u001b[49m\u001b[38;5;241;43m=\u001b[39;49m\u001b[43mmanager\u001b[49m\u001b[43m,\u001b[49m\n\u001b[1;32m    765\u001b[0m \u001b[43m        \u001b[49m\u001b[43m)\u001b[49m\n\u001b[1;32m    767\u001b[0m \u001b[38;5;66;03m# For data is list-like, or Iterable (will consume into list)\u001b[39;00m\n\u001b[1;32m    768\u001b[0m \u001b[38;5;28;01melif\u001b[39;00m is_list_like(data):\n",
      "File \u001b[0;32m~/miniconda3/envs/milo_R/lib/python3.9/site-packages/pandas/core/internals/construction.py:315\u001b[0m, in \u001b[0;36mndarray_to_mgr\u001b[0;34m(values, index, columns, dtype, copy, typ)\u001b[0m\n\u001b[1;32m    309\u001b[0m     _copy \u001b[38;5;241m=\u001b[39m (\n\u001b[1;32m    310\u001b[0m         copy_on_sanitize\n\u001b[1;32m    311\u001b[0m         \u001b[38;5;28;01mif\u001b[39;00m (dtype \u001b[38;5;129;01mis\u001b[39;00m \u001b[38;5;28;01mNone\u001b[39;00m \u001b[38;5;129;01mor\u001b[39;00m astype_is_view(values\u001b[38;5;241m.\u001b[39mdtype, dtype))\n\u001b[1;32m    312\u001b[0m         \u001b[38;5;28;01melse\u001b[39;00m \u001b[38;5;28;01mFalse\u001b[39;00m\n\u001b[1;32m    313\u001b[0m     )\n\u001b[1;32m    314\u001b[0m     values \u001b[38;5;241m=\u001b[39m np\u001b[38;5;241m.\u001b[39marray(values, copy\u001b[38;5;241m=\u001b[39m_copy)\n\u001b[0;32m--> 315\u001b[0m     values \u001b[38;5;241m=\u001b[39m \u001b[43m_ensure_2d\u001b[49m\u001b[43m(\u001b[49m\u001b[43mvalues\u001b[49m\u001b[43m)\u001b[49m\n\u001b[1;32m    317\u001b[0m \u001b[38;5;28;01melse\u001b[39;00m:\n\u001b[1;32m    318\u001b[0m     \u001b[38;5;66;03m# by definition an array here\u001b[39;00m\n\u001b[1;32m    319\u001b[0m     \u001b[38;5;66;03m# the dtypes will be coerced to a single dtype\u001b[39;00m\n\u001b[1;32m    320\u001b[0m     values \u001b[38;5;241m=\u001b[39m _prep_ndarraylike(values, copy\u001b[38;5;241m=\u001b[39mcopy_on_sanitize)\n",
      "File \u001b[0;32m~/miniconda3/envs/milo_R/lib/python3.9/site-packages/pandas/core/internals/construction.py:570\u001b[0m, in \u001b[0;36m_ensure_2d\u001b[0;34m(values)\u001b[0m\n\u001b[1;32m    568\u001b[0m     values \u001b[38;5;241m=\u001b[39m values\u001b[38;5;241m.\u001b[39mreshape((values\u001b[38;5;241m.\u001b[39mshape[\u001b[38;5;241m0\u001b[39m], \u001b[38;5;241m1\u001b[39m))\n\u001b[1;32m    569\u001b[0m \u001b[38;5;28;01melif\u001b[39;00m values\u001b[38;5;241m.\u001b[39mndim \u001b[38;5;241m!=\u001b[39m \u001b[38;5;241m2\u001b[39m:\n\u001b[0;32m--> 570\u001b[0m     \u001b[38;5;28;01mraise\u001b[39;00m \u001b[38;5;167;01mValueError\u001b[39;00m(\u001b[38;5;124mf\u001b[39m\u001b[38;5;124m\"\u001b[39m\u001b[38;5;124mMust pass 2-d input. shape=\u001b[39m\u001b[38;5;132;01m{\u001b[39;00mvalues\u001b[38;5;241m.\u001b[39mshape\u001b[38;5;132;01m}\u001b[39;00m\u001b[38;5;124m\"\u001b[39m)\n\u001b[1;32m    571\u001b[0m \u001b[38;5;28;01mreturn\u001b[39;00m values\n",
      "\u001b[0;31mValueError\u001b[0m: Must pass 2-d input. shape=()"
     ]
    }
   ],
   "source": [
    "milopy.utils.annotate_nhoods(adata, anno_col=cell_type_identifier)"
   ]
  },
  {
   "cell_type": "code",
   "execution_count": null,
   "id": "36e6dc1b-09bd-4ce4-882b-70b8ed8aed74",
   "metadata": {},
   "outputs": [],
   "source": [
    "plt.hist(adata.uns['nhood_adata'].obs[\"nhood_annotation_frac\"]);\n",
    "plt.xlabel(\"celltype fraction\")"
   ]
  },
  {
   "cell_type": "code",
   "execution_count": null,
   "id": "cb031946-3436-4bf1-8d18-ddaab4f648f3",
   "metadata": {},
   "outputs": [],
   "source": [
    "adata.uns['nhood_adata'].obs.loc[adata.uns['nhood_adata'].obs[\"nhood_annotation_frac\"] < 0.6, \"nhood_annotation\"] = \"Mixed\""
   ]
  },
  {
   "cell_type": "code",
   "execution_count": null,
   "id": "69d847ae-83a0-45ab-aef2-dbbdb9863dbb",
   "metadata": {},
   "outputs": [],
   "source": [
    "sc.pl.violin(adata.uns['nhood_adata'], \"logFC\", groupby=\"nhood_annotation\", rotation=90, show=False);\n",
    "plt.axhline(y=0, color='black', linestyle='--');\n",
    "plt.show()"
   ]
  },
  {
   "cell_type": "code",
   "execution_count": null,
   "id": "1e2f222b-e799-47a0-84af-ae85f5508345",
   "metadata": {},
   "outputs": [],
   "source": []
  }
 ],
 "metadata": {
  "kernelspec": {
   "display_name": "Python [conda env:milo_R]",
   "language": "python",
   "name": "conda-env-milo_R-py"
  },
  "language_info": {
   "codemirror_mode": {
    "name": "ipython",
    "version": 3
   },
   "file_extension": ".py",
   "mimetype": "text/x-python",
   "name": "python",
   "nbconvert_exporter": "python",
   "pygments_lexer": "ipython3",
   "version": "3.9.16"
  }
 },
 "nbformat": 4,
 "nbformat_minor": 5
}
