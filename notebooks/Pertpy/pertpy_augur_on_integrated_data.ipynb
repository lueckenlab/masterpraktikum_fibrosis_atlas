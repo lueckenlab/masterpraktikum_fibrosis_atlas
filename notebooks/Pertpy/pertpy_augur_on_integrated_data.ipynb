{
 "cells": [
  {
   "cell_type": "code",
   "execution_count": 1,
   "id": "877e5be1-a3c2-44a5-84cb-57ed93878fea",
   "metadata": {},
   "outputs": [
    {
     "data": {
      "text/html": [
       "<pre style=\"white-space:pre;overflow-x:auto;line-height:normal;font-family:Menlo,'DejaVu Sans Mono',consolas,'Courier New',monospace\"><span style=\"color: #800000; text-decoration-color: #800000; font-weight: bold\">Installed version </span><span style=\"color: #800000; text-decoration-color: #800000; font-weight: bold\">0.4</span><span style=\"color: #800000; text-decoration-color: #800000; font-weight: bold\">.</span><span style=\"color: #800000; text-decoration-color: #800000; font-weight: bold\">0</span><span style=\"color: #800000; text-decoration-color: #800000; font-weight: bold\"> of pertpy is outdated. Newest version is </span><span style=\"color: #800000; text-decoration-color: #800000; font-weight: bold\">0.5</span><span style=\"color: #800000; text-decoration-color: #800000; font-weight: bold\">.</span><span style=\"color: #800000; text-decoration-color: #800000; font-weight: bold\">0</span><span style=\"color: #800000; text-decoration-color: #800000; font-weight: bold\">!</span>\n",
       "</pre>\n"
      ],
      "text/plain": [
       "\u001b[1;31mInstalled version \u001b[0m\u001b[1;31m0.4\u001b[0m\u001b[1;31m.\u001b[0m\u001b[1;31m0\u001b[0m\u001b[1;31m of pertpy is outdated. Newest version is \u001b[0m\u001b[1;31m0.5\u001b[0m\u001b[1;31m.\u001b[0m\u001b[1;31m0\u001b[0m\u001b[1;31m!\u001b[0m\n"
      ]
     },
     "metadata": {},
     "output_type": "display_data"
    },
    {
     "name": "stderr",
     "output_type": "stream",
     "text": [
      "Global seed set to 0\n",
      "/home/icb/leonie.pohl/mambaforge/envs/scanpy/lib/python3.9/site-packages/pytorch_lightning/utilities/warnings.py:53: LightningDeprecationWarning: pytorch_lightning.utilities.warnings.rank_zero_deprecation has been deprecated in v1.6 and will be removed in v1.8. Use the equivalent function from the pytorch_lightning.utilities.rank_zero module instead.\n",
      "/home/icb/leonie.pohl/mambaforge/envs/scanpy/lib/python3.9/site-packages/pytorch_lightning/utilities/warnings.py:58: LightningDeprecationWarning: The `pytorch_lightning.loggers.base.rank_zero_experiment` is deprecated in v1.7 and will be removed in v1.9. Please use `pytorch_lightning.loggers.logger.rank_zero_experiment` instead.\n"
     ]
    },
    {
     "data": {
      "text/html": [
       "<pre style=\"white-space:pre;overflow-x:auto;line-height:normal;font-family:Menlo,'DejaVu Sans Mono',consolas,'Courier New',monospace\"><span style=\"color: #808000; text-decoration-color: #808000; font-weight: bold\">ryp2 is not installed. Install with </span><span style=\"color: #008000; text-decoration-color: #008000; font-weight: bold\">pip install rpy2 </span><span style=\"color: #808000; text-decoration-color: #808000; font-weight: bold\">to run tools with R support.</span>\n",
       "</pre>\n"
      ],
      "text/plain": [
       "\u001b[1;33mryp2 is not installed. Install with \u001b[0m\u001b[1;32mpip install rpy2 \u001b[0m\u001b[1;33mto run tools with R support.\u001b[0m\n"
      ]
     },
     "metadata": {},
     "output_type": "display_data"
    },
    {
     "data": {
      "text/html": [
       "<pre style=\"white-space:pre;overflow-x:auto;line-height:normal;font-family:Menlo,'DejaVu Sans Mono',consolas,'Courier New',monospace\"><span style=\"color: #808000; text-decoration-color: #808000; font-weight: bold\">To use sccoda or tasccoda please install ete3 with </span><span style=\"color: #008000; text-decoration-color: #008000; font-weight: bold\">pip install ete3</span>\n",
       "</pre>\n"
      ],
      "text/plain": [
       "\u001b[1;33mTo use sccoda or tasccoda please install ete3 with \u001b[0m\u001b[1;32mpip install ete3\u001b[0m\n"
      ]
     },
     "metadata": {},
     "output_type": "display_data"
    }
   ],
   "source": [
    "import warnings\n",
    "warnings.filterwarnings(\"ignore\")\n",
    "\n",
    "import pertpy as pt\n",
    "import scanpy as sc\n",
    "import json\n",
    "import pickle\n",
    "import anndata as ad"
   ]
  },
  {
   "cell_type": "code",
   "execution_count": 2,
   "id": "986354d5-75db-4596-9371-f9d37f38d5b4",
   "metadata": {},
   "outputs": [],
   "source": [
    "adata = sc.read(\"/lustre/groups/ml01/workspace/daniel.michaela.masterpraktikum23/all_datasets_merged/final_anno_integrated.h5ad\")"
   ]
  },
  {
   "cell_type": "code",
   "execution_count": 3,
   "id": "9482efff-9124-426d-99bb-983985f629b6",
   "metadata": {},
   "outputs": [
    {
     "data": {
      "text/plain": [
       "AnnData object with n_obs × n_vars = 535908 × 2007\n",
       "    obs: 'author_annotation', 'manual_celltype_annotation', 'batch', 'condition', 'timepoint', 'dataset', 'fibrotic/control', 'coarse_harmonized_anno', 'Phase', 'SAMP_stage', 'SC_prep', 'n_genes_by_counts', 'log1p_n_genes_by_counts', 'total_counts', 'log1p_total_counts', 'pct_counts_in_top_20_genes', 'total_counts_mt', 'log1p_total_counts_mt', 'pct_counts_mt', 'celltypist_group', 'harmonized_anno', '_scvi_batch', '_scvi_labels', 'leiden_res1', 'majority_anno', 'final_annotation', 'doublet_score', 'predicted_doublet', 'augur_score_dataset-specific'\n",
       "    var: 'mt', 'n_cells_by_counts', 'mean_counts', 'log1p_mean_counts', 'pct_dropout_by_counts', 'total_counts', 'log1p_total_counts', 'highly_variable', 'means', 'dispersions', 'dispersions_norm', 'highly_variable_nbatches', 'highly_variable_intersection'\n",
       "    uns: '_scvi_manager_uuid', '_scvi_uuid', 'dataset', 'dataset_colors', 'dea_leiden_res1', 'dea_leiden_res1_filtered', 'final_annotation_colors', 'harmonized_anno_colors', 'hvg', 'integration', 'leiden', 'leiden_res1_colors', 'majority_anno_colors', 'manual_celltype_annotation_colors', 'methods', 'neighbors', 'pca', 'predicted_doublet_colors', 'umap'\n",
       "    obsm: 'X_emb', 'X_pca', 'X_umap'\n",
       "    varm: 'PCs'\n",
       "    layers: 'counts', 'log1p_norm'\n",
       "    obsp: 'connectivities', 'distances'"
      ]
     },
     "execution_count": 3,
     "metadata": {},
     "output_type": "execute_result"
    }
   ],
   "source": [
    "adata"
   ]
  },
  {
   "cell_type": "code",
   "execution_count": null,
   "id": "306fb232-e123-48e0-912e-826efe2d7fd5",
   "metadata": {},
   "outputs": [],
   "source": [
    "# one run with labels: fibrotic, control, one run with label = model (condition)\n"
   ]
  },
  {
   "cell_type": "code",
   "execution_count": 6,
   "id": "3f5cbed8-bec7-4495-9200-d31fbaf9c5ec",
   "metadata": {},
   "outputs": [
    {
     "data": {
      "text/plain": [
       "final_annotation\n",
       "B-cells                      105862\n",
       "Alveolar macrophages          51382\n",
       "Endothelial                   50638\n",
       "Interstitial macrophages      47556\n",
       "Cd4 T-cells                   39632\n",
       "Dendritic cells               37411\n",
       "Cd8 T-cells                   30044\n",
       "Fibroblasts                   23462\n",
       "Classical Monocytes           21928\n",
       "Neutrophils                   21481\n",
       "NK cells                      19748\n",
       "Non-classical monocytes       14160\n",
       "AT2                           12689\n",
       "Cd4-/Cd8- T-cells             12501\n",
       "Aerocytes                     10996\n",
       "Transitioning epithelial       5307\n",
       "T-cells                        4901\n",
       "Adventitial fibroblasts        4557\n",
       "SMCs                           4425\n",
       "Cd4+/Cd8+ T-cells              3774\n",
       "Peribronchial fibroblasts      2651\n",
       "Erythroid cells                2015\n",
       "Pericytes                      1870\n",
       "Myofibroblasts                 1246\n",
       "Platelets                      1190\n",
       "Name: count, dtype: int64"
      ]
     },
     "execution_count": 6,
     "metadata": {},
     "output_type": "execute_result"
    }
   ],
   "source": [
    "adata.obs[\"final_annotation\"].value_counts()"
   ]
  },
  {
   "cell_type": "markdown",
   "id": "35df211c-ab6e-424e-90f1-77517451b720",
   "metadata": {},
   "source": [
    "# Augur with labels = condition "
   ]
  },
  {
   "cell_type": "code",
   "execution_count": 4,
   "id": "e6e19ab3-dca9-48e1-a1d8-7955e16a8f96",
   "metadata": {},
   "outputs": [
    {
     "data": {
      "text/html": [
       "<pre style=\"white-space:pre;overflow-x:auto;line-height:normal;font-family:Menlo,'DejaVu Sans Mono',consolas,'Courier New',monospace\"><span style=\"color: #808000; text-decoration-color: #808000; font-weight: bold\">Set smaller span value in the case of a `segmentation fault` error.</span>\n",
       "</pre>\n"
      ],
      "text/plain": [
       "\u001b[1;33mSet smaller span value in the case of a `segmentation fault` error.\u001b[0m\n"
      ]
     },
     "metadata": {},
     "output_type": "display_data"
    },
    {
     "data": {
      "text/html": [
       "<pre style=\"white-space:pre;overflow-x:auto;line-height:normal;font-family:Menlo,'DejaVu Sans Mono',consolas,'Courier New',monospace\"><span style=\"color: #808000; text-decoration-color: #808000; font-weight: bold\">Set larger span in case of svddc or other near singularities error.</span>\n",
       "</pre>\n"
      ],
      "text/plain": [
       "\u001b[1;33mSet larger span in case of svddc or other near singularities error.\u001b[0m\n"
      ]
     },
     "metadata": {},
     "output_type": "display_data"
    },
    {
     "data": {
      "application/vnd.jupyter.widget-view+json": {
       "model_id": "a9ed227121b34d61af0a4044adef65ac",
       "version_major": 2,
       "version_minor": 0
      },
      "text/plain": [
       "Output()"
      ]
     },
     "metadata": {},
     "output_type": "display_data"
    },
    {
     "name": "stdout",
     "output_type": "stream",
     "text": [
      "\u001b[1;31mInstalled version \u001b[0m\u001b[1;31m0.4\u001b[0m\u001b[1;31m.\u001b[0m\u001b[1;31m0\u001b[0m\u001b[1;31m of pertpy is outdated. Newest version is \u001b[0m\u001b[1;31m0.5\u001b[0m\u001b[1;31m.\u001b[0m\u001b[1;31m0\u001b[0m\u001b[1;31m!\u001b[0m\n",
      "\u001b[1;31mInstalled version \u001b[0m\u001b[1;31m0.4\u001b[0m\u001b[1;31m.\u001b[0m\u001b[1;31m0\u001b[0m\u001b[1;31m of pertpy is outdated. Newest version is \u001b[0m\u001b[1;31m0.5\u001b[0m\u001b[1;31m.\u001b[0m\u001b[1;31m0\u001b[0m\u001b[1;31m!\u001b[0m\n",
      "\u001b[1;31mInstalled version \u001b[0m\u001b[1;31m0.4\u001b[0m\u001b[1;31m.\u001b[0m\u001b[1;31m0\u001b[0m\u001b[1;31m of pertpy is outdated. Newest version is \u001b[0m\u001b[1;31m0.5\u001b[0m\u001b[1;31m.\u001b[0m\u001b[1;31m0\u001b[0m\u001b[1;31m!\u001b[0m\n",
      "\u001b[1;31mInstalled version \u001b[0m\u001b[1;31m0.4\u001b[0m\u001b[1;31m.\u001b[0m\u001b[1;31m0\u001b[0m\u001b[1;31m of pertpy is outdated. Newest version is \u001b[0m\u001b[1;31m0.5\u001b[0m\u001b[1;31m.\u001b[0m\u001b[1;31m0\u001b[0m\u001b[1;31m!\u001b[0m\n"
     ]
    },
    {
     "name": "stderr",
     "output_type": "stream",
     "text": [
      "Global seed set to 0\n",
      "Global seed set to 0\n",
      "Global seed set to 0\n",
      "Global seed set to 0\n",
      "/home/icb/leonie.pohl/mambaforge/envs/scanpy/lib/python3.9/site-packages/pytorch_lightning/utilities/warnings.py:53: LightningDeprecationWarning: pytorch_lightning.utilities.warnings.rank_zero_deprecation has been deprecated in v1.6 and will be removed in v1.8. Use the equivalent function from the pytorch_lightning.utilities.rank_zero module instead.\n",
      "/home/icb/leonie.pohl/mambaforge/envs/scanpy/lib/python3.9/site-packages/pytorch_lightning/utilities/warnings.py:58: LightningDeprecationWarning: The `pytorch_lightning.loggers.base.rank_zero_experiment` is deprecated in v1.7 and will be removed in v1.9. Please use `pytorch_lightning.loggers.logger.rank_zero_experiment` instead.\n",
      "/home/icb/leonie.pohl/mambaforge/envs/scanpy/lib/python3.9/site-packages/pytorch_lightning/utilities/warnings.py:53: LightningDeprecationWarning: pytorch_lightning.utilities.warnings.rank_zero_deprecation has been deprecated in v1.6 and will be removed in v1.8. Use the equivalent function from the pytorch_lightning.utilities.rank_zero module instead.\n",
      "/home/icb/leonie.pohl/mambaforge/envs/scanpy/lib/python3.9/site-packages/pytorch_lightning/utilities/warnings.py:58: LightningDeprecationWarning: The `pytorch_lightning.loggers.base.rank_zero_experiment` is deprecated in v1.7 and will be removed in v1.9. Please use `pytorch_lightning.loggers.logger.rank_zero_experiment` instead.\n",
      "/home/icb/leonie.pohl/mambaforge/envs/scanpy/lib/python3.9/site-packages/pytorch_lightning/utilities/warnings.py:53: LightningDeprecationWarning: pytorch_lightning.utilities.warnings.rank_zero_deprecation has been deprecated in v1.6 and will be removed in v1.8. Use the equivalent function from the pytorch_lightning.utilities.rank_zero module instead.\n",
      "/home/icb/leonie.pohl/mambaforge/envs/scanpy/lib/python3.9/site-packages/pytorch_lightning/utilities/warnings.py:58: LightningDeprecationWarning: The `pytorch_lightning.loggers.base.rank_zero_experiment` is deprecated in v1.7 and will be removed in v1.9. Please use `pytorch_lightning.loggers.logger.rank_zero_experiment` instead.\n",
      "/home/icb/leonie.pohl/mambaforge/envs/scanpy/lib/python3.9/site-packages/pytorch_lightning/utilities/warnings.py:53: LightningDeprecationWarning: pytorch_lightning.utilities.warnings.rank_zero_deprecation has been deprecated in v1.6 and will be removed in v1.8. Use the equivalent function from the pytorch_lightning.utilities.rank_zero module instead.\n",
      "/home/icb/leonie.pohl/mambaforge/envs/scanpy/lib/python3.9/site-packages/pytorch_lightning/utilities/warnings.py:58: LightningDeprecationWarning: The `pytorch_lightning.loggers.base.rank_zero_experiment` is deprecated in v1.7 and will be removed in v1.9. Please use `pytorch_lightning.loggers.logger.rank_zero_experiment` instead.\n"
     ]
    },
    {
     "name": "stdout",
     "output_type": "stream",
     "text": [
      "\u001b[1;33mryp2 is not installed. Install with \u001b[0m\u001b[1;32mpip install rpy2 \u001b[0m\u001b[1;33mto run tools with R \u001b[0m\n",
      "\u001b[1;33msupport.\u001b[0m\n",
      "\u001b[1;33mryp2 is not installed. Install with \u001b[0m\u001b[1;32mpip install rpy2 \u001b[0m\u001b[1;33mto run tools with R \u001b[0m\n",
      "\u001b[1;33msupport.\u001b[0m\n",
      "\u001b[1;33mryp2 is not installed. Install with \u001b[0m\u001b[1;32mpip install rpy2 \u001b[0m\u001b[1;33mto run tools with R \u001b[0m\n",
      "\u001b[1;33msupport.\u001b[0m\n",
      "\u001b[1;33mryp2 is not installed. Install with \u001b[0m\u001b[1;32mpip install rpy2 \u001b[0m\u001b[1;33mto run tools with R \u001b[0m\n",
      "\u001b[1;33msupport.\u001b[0m\n",
      "\u001b[1;33mTo use sccoda or tasccoda please install ete3 with \u001b[0m\u001b[1;32mpip install ete3\u001b[0m\n",
      "\u001b[1;33mTo use sccoda or tasccoda please install ete3 with \u001b[0m\u001b[1;32mpip install ete3\u001b[0m\n",
      "\u001b[1;33mTo use sccoda or tasccoda please install ete3 with \u001b[0m\u001b[1;32mpip install ete3\u001b[0m\n",
      "\u001b[1;33mTo use sccoda or tasccoda please install ete3 with \u001b[0m\u001b[1;32mpip install ete3\u001b[0m\n"
     ]
    },
    {
     "data": {
      "text/html": [
       "<pre style=\"white-space:pre;overflow-x:auto;line-height:normal;font-family:Menlo,'DejaVu Sans Mono',consolas,'Courier New',monospace\"></pre>\n"
      ],
      "text/plain": []
     },
     "metadata": {},
     "output_type": "display_data"
    },
    {
     "data": {
      "text/html": [
       "<pre style=\"white-space:pre;overflow-x:auto;line-height:normal;font-family:Menlo,'DejaVu Sans Mono',consolas,'Courier New',monospace\">\n",
       "</pre>\n"
      ],
      "text/plain": [
       "\n"
      ]
     },
     "metadata": {},
     "output_type": "display_data"
    },
    {
     "ename": "ValueError",
     "evalue": "Cannot mask with non-boolean array containing NA / NaN values",
     "output_type": "error",
     "traceback": [
      "\u001b[0;31m---------------------------------------------------------------------------\u001b[0m",
      "\u001b[0;31mValueError\u001b[0m                                Traceback (most recent call last)",
      "Cell \u001b[0;32mIn[4], line 7\u001b[0m\n\u001b[1;32m      4\u001b[0m ag_rfc \u001b[38;5;241m=\u001b[39m pt\u001b[38;5;241m.\u001b[39mtl\u001b[38;5;241m.\u001b[39mAugur(\u001b[38;5;124m\"\u001b[39m\u001b[38;5;124mrandom_forest_classifier\u001b[39m\u001b[38;5;124m\"\u001b[39m)\n\u001b[1;32m      5\u001b[0m loaded_data \u001b[38;5;241m=\u001b[39m ag_rfc\u001b[38;5;241m.\u001b[39mload(adata)\n\u001b[0;32m----> 7\u001b[0m h_adata, h_results \u001b[38;5;241m=\u001b[39m \u001b[43mag_rfc\u001b[49m\u001b[38;5;241;43m.\u001b[39;49m\u001b[43mpredict\u001b[49m\u001b[43m(\u001b[49m\u001b[43mloaded_data\u001b[49m\u001b[43m,\u001b[49m\u001b[43m \u001b[49m\u001b[43msubsample_size\u001b[49m\u001b[38;5;241;43m=\u001b[39;49m\u001b[38;5;241;43m20\u001b[39;49m\u001b[43m,\u001b[49m\u001b[43m \u001b[49m\u001b[43mn_threads\u001b[49m\u001b[38;5;241;43m=\u001b[39;49m\u001b[38;5;241;43m4\u001b[39;49m\u001b[43m)\u001b[49m\n",
      "File \u001b[0;32m~/mambaforge/envs/scanpy/lib/python3.9/site-packages/pertpy/tools/_augur.py:730\u001b[0m, in \u001b[0;36mAugur.predict\u001b[0;34m(self, adata, n_subsamples, subsample_size, folds, min_cells, feature_perc, var_quantile, span, filter_negative_residuals, n_threads, augur_mode, select_variance_features, key_added, random_state, zero_division)\u001b[0m\n\u001b[1;32m    728\u001b[0m \u001b[38;5;66;03m# add scores as observation to anndata\u001b[39;00m\n\u001b[1;32m    729\u001b[0m mask \u001b[38;5;241m=\u001b[39m adata\u001b[38;5;241m.\u001b[39mobs[\u001b[38;5;124m\"\u001b[39m\u001b[38;5;124mcell_type\u001b[39m\u001b[38;5;124m\"\u001b[39m]\u001b[38;5;241m.\u001b[39mstr\u001b[38;5;241m.\u001b[39mstartswith(cell_type)\n\u001b[0;32m--> 730\u001b[0m \u001b[43madata\u001b[49m\u001b[38;5;241;43m.\u001b[39;49m\u001b[43mobs\u001b[49m\u001b[38;5;241;43m.\u001b[39;49m\u001b[43mloc\u001b[49m\u001b[43m[\u001b[49m\u001b[43mmask\u001b[49m\u001b[43m,\u001b[49m\u001b[43m \u001b[49m\u001b[38;5;124;43m\"\u001b[39;49m\u001b[38;5;124;43maugur_score\u001b[39;49m\u001b[38;5;124;43m\"\u001b[39;49m\u001b[43m]\u001b[49m \u001b[38;5;241m=\u001b[39m results[\u001b[38;5;124m\"\u001b[39m\u001b[38;5;124msummary_metrics\u001b[39m\u001b[38;5;124m\"\u001b[39m][cell_type][\u001b[38;5;124m\"\u001b[39m\u001b[38;5;124mmean_augur_score\u001b[39m\u001b[38;5;124m\"\u001b[39m]\n\u001b[1;32m    732\u001b[0m \u001b[38;5;66;03m# concatenate feature importances for each subsample cv\u001b[39;00m\n\u001b[1;32m    733\u001b[0m subsample_feature_importances_dicts \u001b[38;5;241m=\u001b[39m [cv[\u001b[38;5;124m\"\u001b[39m\u001b[38;5;124mfeature_importances\u001b[39m\u001b[38;5;124m\"\u001b[39m] \u001b[38;5;28;01mfor\u001b[39;00m cv \u001b[38;5;129;01min\u001b[39;00m results[cell_type]]\n",
      "File \u001b[0;32m~/mambaforge/envs/scanpy/lib/python3.9/site-packages/pandas/core/indexing.py:845\u001b[0m, in \u001b[0;36m_LocationIndexer.__setitem__\u001b[0;34m(self, key, value)\u001b[0m\n\u001b[1;32m    843\u001b[0m \u001b[38;5;28;01melse\u001b[39;00m:\n\u001b[1;32m    844\u001b[0m     key \u001b[38;5;241m=\u001b[39m com\u001b[38;5;241m.\u001b[39mapply_if_callable(key, \u001b[38;5;28mself\u001b[39m\u001b[38;5;241m.\u001b[39mobj)\n\u001b[0;32m--> 845\u001b[0m indexer \u001b[38;5;241m=\u001b[39m \u001b[38;5;28;43mself\u001b[39;49m\u001b[38;5;241;43m.\u001b[39;49m\u001b[43m_get_setitem_indexer\u001b[49m\u001b[43m(\u001b[49m\u001b[43mkey\u001b[49m\u001b[43m)\u001b[49m\n\u001b[1;32m    846\u001b[0m \u001b[38;5;28mself\u001b[39m\u001b[38;5;241m.\u001b[39m_has_valid_setitem_indexer(key)\n\u001b[1;32m    848\u001b[0m iloc \u001b[38;5;241m=\u001b[39m \u001b[38;5;28mself\u001b[39m \u001b[38;5;28;01mif\u001b[39;00m \u001b[38;5;28mself\u001b[39m\u001b[38;5;241m.\u001b[39mname \u001b[38;5;241m==\u001b[39m \u001b[38;5;124m\"\u001b[39m\u001b[38;5;124miloc\u001b[39m\u001b[38;5;124m\"\u001b[39m \u001b[38;5;28;01melse\u001b[39;00m \u001b[38;5;28mself\u001b[39m\u001b[38;5;241m.\u001b[39mobj\u001b[38;5;241m.\u001b[39miloc\n",
      "File \u001b[0;32m~/mambaforge/envs/scanpy/lib/python3.9/site-packages/pandas/core/indexing.py:710\u001b[0m, in \u001b[0;36m_LocationIndexer._get_setitem_indexer\u001b[0;34m(self, key)\u001b[0m\n\u001b[1;32m    707\u001b[0m \u001b[38;5;28;01mif\u001b[39;00m \u001b[38;5;28misinstance\u001b[39m(key, \u001b[38;5;28mtuple\u001b[39m):\n\u001b[1;32m    708\u001b[0m     \u001b[38;5;28;01mwith\u001b[39;00m suppress(IndexingError):\n\u001b[1;32m    709\u001b[0m         \u001b[38;5;66;03m# suppress \"Too many indexers\"\u001b[39;00m\n\u001b[0;32m--> 710\u001b[0m         \u001b[38;5;28;01mreturn\u001b[39;00m \u001b[38;5;28;43mself\u001b[39;49m\u001b[38;5;241;43m.\u001b[39;49m\u001b[43m_convert_tuple\u001b[49m\u001b[43m(\u001b[49m\u001b[43mkey\u001b[49m\u001b[43m)\u001b[49m\n\u001b[1;32m    712\u001b[0m \u001b[38;5;28;01mif\u001b[39;00m \u001b[38;5;28misinstance\u001b[39m(key, \u001b[38;5;28mrange\u001b[39m):\n\u001b[1;32m    713\u001b[0m     \u001b[38;5;66;03m# GH#45479 test_loc_setitem_range_key\u001b[39;00m\n\u001b[1;32m    714\u001b[0m     key \u001b[38;5;241m=\u001b[39m \u001b[38;5;28mlist\u001b[39m(key)\n",
      "File \u001b[0;32m~/mambaforge/envs/scanpy/lib/python3.9/site-packages/pandas/core/indexing.py:927\u001b[0m, in \u001b[0;36m_LocationIndexer._convert_tuple\u001b[0;34m(self, key)\u001b[0m\n\u001b[1;32m    923\u001b[0m \u001b[38;5;129m@final\u001b[39m\n\u001b[1;32m    924\u001b[0m \u001b[38;5;28;01mdef\u001b[39;00m \u001b[38;5;21m_convert_tuple\u001b[39m(\u001b[38;5;28mself\u001b[39m, key: \u001b[38;5;28mtuple\u001b[39m) \u001b[38;5;241m-\u001b[39m\u001b[38;5;241m>\u001b[39m \u001b[38;5;28mtuple\u001b[39m:\n\u001b[1;32m    925\u001b[0m     \u001b[38;5;66;03m# Note: we assume _tupleize_axis_indexer has been called, if necessary.\u001b[39;00m\n\u001b[1;32m    926\u001b[0m     \u001b[38;5;28mself\u001b[39m\u001b[38;5;241m.\u001b[39m_validate_key_length(key)\n\u001b[0;32m--> 927\u001b[0m     keyidx \u001b[38;5;241m=\u001b[39m [\u001b[38;5;28mself\u001b[39m\u001b[38;5;241m.\u001b[39m_convert_to_indexer(k, axis\u001b[38;5;241m=\u001b[39mi) \u001b[38;5;28;01mfor\u001b[39;00m i, k \u001b[38;5;129;01min\u001b[39;00m \u001b[38;5;28menumerate\u001b[39m(key)]\n\u001b[1;32m    928\u001b[0m     \u001b[38;5;28;01mreturn\u001b[39;00m \u001b[38;5;28mtuple\u001b[39m(keyidx)\n",
      "File \u001b[0;32m~/mambaforge/envs/scanpy/lib/python3.9/site-packages/pandas/core/indexing.py:927\u001b[0m, in \u001b[0;36m<listcomp>\u001b[0;34m(.0)\u001b[0m\n\u001b[1;32m    923\u001b[0m \u001b[38;5;129m@final\u001b[39m\n\u001b[1;32m    924\u001b[0m \u001b[38;5;28;01mdef\u001b[39;00m \u001b[38;5;21m_convert_tuple\u001b[39m(\u001b[38;5;28mself\u001b[39m, key: \u001b[38;5;28mtuple\u001b[39m) \u001b[38;5;241m-\u001b[39m\u001b[38;5;241m>\u001b[39m \u001b[38;5;28mtuple\u001b[39m:\n\u001b[1;32m    925\u001b[0m     \u001b[38;5;66;03m# Note: we assume _tupleize_axis_indexer has been called, if necessary.\u001b[39;00m\n\u001b[1;32m    926\u001b[0m     \u001b[38;5;28mself\u001b[39m\u001b[38;5;241m.\u001b[39m_validate_key_length(key)\n\u001b[0;32m--> 927\u001b[0m     keyidx \u001b[38;5;241m=\u001b[39m [\u001b[38;5;28;43mself\u001b[39;49m\u001b[38;5;241;43m.\u001b[39;49m\u001b[43m_convert_to_indexer\u001b[49m\u001b[43m(\u001b[49m\u001b[43mk\u001b[49m\u001b[43m,\u001b[49m\u001b[43m \u001b[49m\u001b[43maxis\u001b[49m\u001b[38;5;241;43m=\u001b[39;49m\u001b[43mi\u001b[49m\u001b[43m)\u001b[49m \u001b[38;5;28;01mfor\u001b[39;00m i, k \u001b[38;5;129;01min\u001b[39;00m \u001b[38;5;28menumerate\u001b[39m(key)]\n\u001b[1;32m    928\u001b[0m     \u001b[38;5;28;01mreturn\u001b[39;00m \u001b[38;5;28mtuple\u001b[39m(keyidx)\n",
      "File \u001b[0;32m~/mambaforge/envs/scanpy/lib/python3.9/site-packages/pandas/core/indexing.py:1422\u001b[0m, in \u001b[0;36m_LocIndexer._convert_to_indexer\u001b[0;34m(self, key, axis)\u001b[0m\n\u001b[1;32m   1419\u001b[0m \u001b[38;5;28;01mif\u001b[39;00m is_iterator(key):\n\u001b[1;32m   1420\u001b[0m     key \u001b[38;5;241m=\u001b[39m \u001b[38;5;28mlist\u001b[39m(key)\n\u001b[0;32m-> 1422\u001b[0m \u001b[38;5;28;01mif\u001b[39;00m \u001b[43mcom\u001b[49m\u001b[38;5;241;43m.\u001b[39;49m\u001b[43mis_bool_indexer\u001b[49m\u001b[43m(\u001b[49m\u001b[43mkey\u001b[49m\u001b[43m)\u001b[49m:\n\u001b[1;32m   1423\u001b[0m     key \u001b[38;5;241m=\u001b[39m check_bool_indexer(labels, key)\n\u001b[1;32m   1424\u001b[0m     \u001b[38;5;28;01mreturn\u001b[39;00m key\n",
      "File \u001b[0;32m~/mambaforge/envs/scanpy/lib/python3.9/site-packages/pandas/core/common.py:134\u001b[0m, in \u001b[0;36mis_bool_indexer\u001b[0;34m(key)\u001b[0m\n\u001b[1;32m    130\u001b[0m     na_msg \u001b[38;5;241m=\u001b[39m \u001b[38;5;124m\"\u001b[39m\u001b[38;5;124mCannot mask with non-boolean array containing NA / NaN values\u001b[39m\u001b[38;5;124m\"\u001b[39m\n\u001b[1;32m    131\u001b[0m     \u001b[38;5;28;01mif\u001b[39;00m lib\u001b[38;5;241m.\u001b[39minfer_dtype(key_array) \u001b[38;5;241m==\u001b[39m \u001b[38;5;124m\"\u001b[39m\u001b[38;5;124mboolean\u001b[39m\u001b[38;5;124m\"\u001b[39m \u001b[38;5;129;01mand\u001b[39;00m isna(key_array)\u001b[38;5;241m.\u001b[39many():\n\u001b[1;32m    132\u001b[0m         \u001b[38;5;66;03m# Don't raise on e.g. [\"A\", \"B\", np.nan], see\u001b[39;00m\n\u001b[1;32m    133\u001b[0m         \u001b[38;5;66;03m#  test_loc_getitem_list_of_labels_categoricalindex_with_na\u001b[39;00m\n\u001b[0;32m--> 134\u001b[0m         \u001b[38;5;28;01mraise\u001b[39;00m \u001b[38;5;167;01mValueError\u001b[39;00m(na_msg)\n\u001b[1;32m    135\u001b[0m     \u001b[38;5;28;01mreturn\u001b[39;00m \u001b[38;5;28;01mFalse\u001b[39;00m\n\u001b[1;32m    136\u001b[0m \u001b[38;5;28;01mreturn\u001b[39;00m \u001b[38;5;28;01mTrue\u001b[39;00m\n",
      "\u001b[0;31mValueError\u001b[0m: Cannot mask with non-boolean array containing NA / NaN values"
     ]
    }
   ],
   "source": [
    "adata.obs[\"cell_type\"] = adata.obs[\"final_annotation\"] \n",
    "adata.obs[\"label\"] = adata.obs[\"condition\"]\n",
    "\n",
    "ag_rfc = pt.tl.Augur(\"random_forest_classifier\")\n",
    "loaded_data = ag_rfc.load(adata)\n",
    "\n",
    "h_adata, h_results = ag_rfc.predict(loaded_data, subsample_size=20, n_threads=4)\n"
   ]
  },
  {
   "cell_type": "markdown",
   "id": "5a958d59-f8b3-4313-97f6-f46ffbd1f72d",
   "metadata": {},
   "source": [
    "# Augur with labels = fibrotic/control "
   ]
  },
  {
   "cell_type": "code",
   "execution_count": null,
   "id": "ee30a42a-af05-47df-ada9-e1ee127921c2",
   "metadata": {},
   "outputs": [],
   "source": [
    "adata.obs[\"cell_type\"] = subset.obs[\"final_annotation\"] \n",
    "adata.obs[\"label\"] = subset.obs[\"fibrotic/control\"]\n",
    "\n",
    "ag_rfc = pt.tl.Augur(\"random_forest_classifier\")\n",
    "loaded_data = ag_rfc.load(adata)\n",
    "\n",
    "h_adata, h_results = ag_rfc.predict(loaded_data, subsample_size=20, n_threads=4)"
   ]
  }
 ],
 "metadata": {
  "kernelspec": {
   "display_name": "Python [conda env:scanpy] *",
   "language": "python",
   "name": "conda-env-scanpy-py"
  },
  "language_info": {
   "codemirror_mode": {
    "name": "ipython",
    "version": 3
   },
   "file_extension": ".py",
   "mimetype": "text/x-python",
   "name": "python",
   "nbconvert_exporter": "python",
   "pygments_lexer": "ipython3",
   "version": "3.9.16"
  }
 },
 "nbformat": 4,
 "nbformat_minor": 5
}
