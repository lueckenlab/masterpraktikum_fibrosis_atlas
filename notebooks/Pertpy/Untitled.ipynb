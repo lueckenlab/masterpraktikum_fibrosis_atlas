{
 "cells": [
  {
   "cell_type": "markdown",
   "id": "7e418b58-c8eb-44f4-a042-10988dc452fe",
   "metadata": {},
   "source": [
    "## Milo Analysis"
   ]
  },
  {
   "cell_type": "code",
   "execution_count": 1,
   "id": "786631e9-d6da-43db-9238-9657992573f9",
   "metadata": {},
   "outputs": [],
   "source": [
    "import numpy as np\n",
    "import pandas as pd\n",
    "import scanpy as sc\n",
    "import scvelo  ## For mouse gastrulation data \n",
    "import anndata\n",
    "import matplotlib.pyplot as plt\n",
    "import scipy\n",
    "plt.rcParams['figure.figsize']=(8,8) #rescale figures\n",
    "sc.settings.verbosity = 3"
   ]
  },
  {
   "cell_type": "code",
   "execution_count": null,
   "id": "e0c33e2d-719d-46bb-8f76-85c859e44373",
   "metadata": {},
   "outputs": [],
   "source": [
    "#git clone https://github.com/emdann/milopy.git\n",
    "#cd milopy\n",
    "#pip install ."
   ]
  },
  {
   "cell_type": "code",
   "execution_count": null,
   "id": "b44e33ad-b567-47bb-80cb-4bab9020babd",
   "metadata": {},
   "outputs": [],
   "source": [
    "import milopy"
   ]
  },
  {
   "cell_type": "code",
   "execution_count": 1,
   "id": "7bb89c6e-9900-4c56-a185-faf3fd40ea44",
   "metadata": {},
   "outputs": [],
   "source": [
    "#import os\n",
    "#os.environ['R_HOME'] = '/home/h/hollenberg/miniconda3/envs/milo/lib/R'\n",
    "#/home/h/hollenberg/miniconda3/envs/milo"
   ]
  },
  {
   "cell_type": "code",
   "execution_count": 1,
   "id": "63240c59-99a0-4454-98e9-79864aad19b0",
   "metadata": {},
   "outputs": [
    {
     "name": "stdout",
     "output_type": "stream",
     "text": [
      "Requirement already satisfied: rpy2 in /home/h/hollenberg/miniconda3/envs/milo/lib/python3.9/site-packages (3.5.13)\n",
      "Requirement already satisfied: cffi>=1.10.0 in /home/h/hollenberg/miniconda3/envs/milo/lib/python3.9/site-packages (from rpy2) (1.15.1)\n",
      "Requirement already satisfied: jinja2 in /home/h/hollenberg/miniconda3/envs/milo/lib/python3.9/site-packages (from rpy2) (3.1.2)\n",
      "Requirement already satisfied: tzlocal in /home/h/hollenberg/miniconda3/envs/milo/lib/python3.9/site-packages (from rpy2) (5.0.1)\n",
      "Requirement already satisfied: pycparser in /home/h/hollenberg/miniconda3/envs/milo/lib/python3.9/site-packages (from cffi>=1.10.0->rpy2) (2.21)\n",
      "Requirement already satisfied: MarkupSafe>=2.0 in /home/h/hollenberg/miniconda3/envs/milo/lib/python3.9/site-packages (from jinja2->rpy2) (2.1.3)\n"
     ]
    }
   ],
   "source": [
    "#!pip install rpy2\n",
    "#scanpy\n",
    "#pandas\n",
    "#anndata\n",
    "#numpy\n",
    "#rpy2 >= 3.3.5\n",
    "#scipy"
   ]
  },
  {
   "cell_type": "code",
   "execution_count": null,
   "id": "b9905192-218a-4b62-8904-f4c3bd67bdb8",
   "metadata": {
    "scrolled": true
   },
   "outputs": [],
   "source": [
    "import milopy"
   ]
  },
  {
   "cell_type": "code",
   "execution_count": null,
   "id": "d0bb4389-fd23-4b80-9791-7b49d5f6c4af",
   "metadata": {},
   "outputs": [],
   "source": [
    "import milopy.core as milo\n",
    "import milopy.plot as milopl"
   ]
  },
  {
   "cell_type": "code",
   "execution_count": null,
   "id": "03527a5f-c6a3-43e0-af98-e6fc765cf797",
   "metadata": {},
   "outputs": [],
   "source": []
  },
  {
   "cell_type": "code",
   "execution_count": 2,
   "id": "2cd0da67-f67d-4c04-ab7b-e5a6b0f641cd",
   "metadata": {},
   "outputs": [
    {
     "name": "stderr",
     "output_type": "stream",
     "text": [
      "UsageError: Cell magic `%%R` not found.\n"
     ]
    }
   ],
   "source": [
    "%%R\n",
    "if (!requireNamespace(\"BiocManager\", quietly = TRUE))\n",
    "    install.packages(\"BiocManager\")\n",
    "BiocManager::install(\"edgeR\")\n",
    "install.packages('statmod')"
   ]
  },
  {
   "cell_type": "code",
   "execution_count": null,
   "id": "e4abaa0c-a5e8-4a3f-91d1-2430842abce8",
   "metadata": {},
   "outputs": [],
   "source": []
  }
 ],
 "metadata": {
  "kernelspec": {
   "display_name": "Python [conda env:milo]",
   "language": "python",
   "name": "conda-env-milo-py"
  },
  "language_info": {
   "codemirror_mode": {
    "name": "ipython",
    "version": 3
   },
   "file_extension": ".py",
   "mimetype": "text/x-python",
   "name": "python",
   "nbconvert_exporter": "python",
   "pygments_lexer": "ipython3",
   "version": "3.9.16"
  }
 },
 "nbformat": 4,
 "nbformat_minor": 5
}
