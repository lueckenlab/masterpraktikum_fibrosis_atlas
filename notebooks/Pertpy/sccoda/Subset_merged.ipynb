{
 "cells": [
  {
   "cell_type": "markdown",
   "id": "b73fc5bc-7c8d-4254-930a-5debcb0c364b",
   "metadata": {},
   "source": [
    "# Subset datasets for analysis "
   ]
  },
  {
   "cell_type": "code",
   "execution_count": 1,
   "id": "d7d4ff06-5270-494f-a962-9259127c69c3",
   "metadata": {},
   "outputs": [
    {
     "name": "stderr",
     "output_type": "stream",
     "text": [
      "/tmp/user/20166/ipykernel_1438937/364988672.py:7: TqdmExperimentalWarning: Using `tqdm.autonotebook.tqdm` in notebook mode. Use `tqdm.tqdm` instead to force console mode (e.g. in jupyter console)\n",
      "  from tqdm.autonotebook import tqdm as tqdm\n"
     ]
    }
   ],
   "source": [
    "import scanpy as sc\n",
    "import pandas as pd\n",
    "import numpy as np\n",
    "import sys\n",
    "import matplotlib.pyplot as plt\n",
    "from sklearn.linear_model import LinearRegression\n",
    "from tqdm.autonotebook import tqdm as tqdm"
   ]
  },
  {
   "cell_type": "code",
   "execution_count": 2,
   "id": "ccc4e418-96b4-4152-970e-70fdd0003644",
   "metadata": {},
   "outputs": [],
   "source": [
    "adata_path = \"/home/h/hollenberg/MaPra/merged_data.h5ad\"\n",
    "adata = sc.read(adata_path)"
   ]
  },
  {
   "cell_type": "code",
   "execution_count": 3,
   "id": "8d79dc75-089a-4b06-aeb3-af062319076e",
   "metadata": {},
   "outputs": [],
   "source": [
    "keywords = ['misharin', 'tsukui', 'schiller', 'peyser', 'xie']\n",
    "\n",
    "# get project information\n",
    "for idx, row in adata.obs.iterrows():\n",
    "    string_value = row['batch']\n",
    "    for keyword in keywords:\n",
    "        if keyword in string_value:\n",
    "            adata.obs.at[idx, 'project'] = keyword\n",
    "            break"
   ]
  },
  {
   "cell_type": "code",
   "execution_count": 9,
   "id": "a0db365a-311c-4216-92ae-8e5b8d22504a",
   "metadata": {
    "scrolled": true
   },
   "outputs": [
    {
     "name": "stdout",
     "output_type": "stream",
     "text": [
      "misharin\n"
     ]
    },
    {
     "name": "stderr",
     "output_type": "stream",
     "text": [
      "/home/h/hollenberg/miniconda3/envs/scanpy/lib/python3.9/site-packages/anndata/_core/anndata.py:1222: ImplicitModificationWarning: Trying to modify attribute `.obs` of view, initializing view as actual.\n",
      "  df[key] = c\n"
     ]
    },
    {
     "name": "stdout",
     "output_type": "stream",
     "text": [
      "SC14_AAACCTGAGCGTTCCG_misharin    untreated\n",
      "SC14_AAACCTGAGGACATTA_misharin    untreated\n",
      "SC14_AAACCTGAGTCGTTTG_misharin    untreated\n",
      "SC14_AAACCTGCACATCCGG_misharin    untreated\n",
      "SC14_AAACCTGCACTAGTAC_misharin    untreated\n",
      "                                    ...    \n",
      "SC15_TTTGTCAGTGATGTGG_misharin     asbestos\n",
      "SC15_TTTGTCAGTTCGCTAA_misharin     asbestos\n",
      "SC15_TTTGTCATCAGTCAGT_misharin     asbestos\n",
      "SC15_TTTGTCATCGCGTAGC_misharin     asbestos\n",
      "SC15_TTTGTCATCGCTGATA_misharin     asbestos\n",
      "Name: condition, Length: 15365, dtype: category\n",
      "Categories (2, object): ['untreated', 'asbestos']\n",
      "tsukui\n"
     ]
    },
    {
     "name": "stderr",
     "output_type": "stream",
     "text": [
      "/home/h/hollenberg/miniconda3/envs/scanpy/lib/python3.9/site-packages/anndata/_core/anndata.py:1222: ImplicitModificationWarning: Trying to modify attribute `.obs` of view, initializing view as actual.\n",
      "  df[key] = c\n"
     ]
    },
    {
     "name": "stdout",
     "output_type": "stream",
     "text": [
      "AAACCTGCAAGTCTGT-1-0_tsukui    untreated\n",
      "AAACCTGCAGCTGCTG-1-0_tsukui    untreated\n",
      "AAACCTGCATCCGTGG-1-0_tsukui    untreated\n",
      "AAACCTGCATGCTAGT-1-0_tsukui    untreated\n",
      "AAACCTGGTAGTGAAT-1-0_tsukui    untreated\n",
      "                                 ...    \n",
      "TTTGTCAGTGTGAATA-1-7_tsukui    untreated\n",
      "TTTGTCATCAACGGCC-1-7_tsukui    untreated\n",
      "TTTGTCATCAATACCG-1-7_tsukui    untreated\n",
      "TTTGTCATCCGCATCT-1-7_tsukui    untreated\n",
      "TTTGTCATCTTACCTA-1-7_tsukui    untreated\n",
      "Name: condition, Length: 24881, dtype: category\n",
      "Categories (2, object): ['untreated', 'bleomycin']\n",
      "schiller\n"
     ]
    },
    {
     "name": "stderr",
     "output_type": "stream",
     "text": [
      "/home/h/hollenberg/miniconda3/envs/scanpy/lib/python3.9/site-packages/anndata/_core/anndata.py:1222: ImplicitModificationWarning: Trying to modify attribute `.obs` of view, initializing view as actual.\n",
      "  df[key] = c\n"
     ]
    },
    {
     "name": "stdout",
     "output_type": "stream",
     "text": [
      "0_schiller        untreated\n",
      "1_schiller        untreated\n",
      "2_schiller        untreated\n",
      "3_schiller        untreated\n",
      "4_schiller        untreated\n",
      "                    ...    \n",
      "29291_schiller    untreated\n",
      "29292_schiller    untreated\n",
      "29293_schiller    untreated\n",
      "29294_schiller    untreated\n",
      "29295_schiller    untreated\n",
      "Name: condition, Length: 24071, dtype: category\n",
      "Categories (2, object): ['untreated', 'bleomycin']\n",
      "peyser\n"
     ]
    },
    {
     "name": "stderr",
     "output_type": "stream",
     "text": [
      "/home/h/hollenberg/miniconda3/envs/scanpy/lib/python3.9/site-packages/anndata/_core/anndata.py:1222: ImplicitModificationWarning: Trying to modify attribute `.obs` of view, initializing view as actual.\n",
      "  df[key] = c\n"
     ]
    },
    {
     "name": "stdout",
     "output_type": "stream",
     "text": [
      "AAACCTGAGGAATTAC-1_peyser    saline\n",
      "AAACCTGCATAACCTG-1_peyser    saline\n",
      "AAACCTGCATTGGGCC-1_peyser    saline\n",
      "AAACCTGGTCTCAACA-1_peyser    saline\n",
      "AAACCTGGTTGACGTT-1_peyser    saline\n",
      "                              ...  \n",
      "TTTGGTTAGAATTCCC-1_peyser    saline\n",
      "TTTGGTTAGTGGAGAA-1_peyser    saline\n",
      "TTTGTCAGTAGGGTAC-1_peyser    saline\n",
      "TTTGTCAGTGACGGTA-1_peyser    saline\n",
      "TTTGTCAGTTCTGAAC-1_peyser    saline\n",
      "Name: condition, Length: 13454, dtype: category\n",
      "Categories (2, object): ['bleomycin', 'saline']\n",
      "xie\n"
     ]
    },
    {
     "name": "stderr",
     "output_type": "stream",
     "text": [
      "/home/h/hollenberg/miniconda3/envs/scanpy/lib/python3.9/site-packages/anndata/_core/anndata.py:1222: ImplicitModificationWarning: Trying to modify attribute `.obs` of view, initializing view as actual.\n",
      "  df[key] = c\n"
     ]
    },
    {
     "name": "stdout",
     "output_type": "stream",
     "text": [
      "AAACCTGAGGACATTA-1_xie    untreated\n",
      "AAACCTGCAGTCGTGC-1_xie    untreated\n",
      "AAACCTGCATGAAGTA-1_xie    untreated\n",
      "AAACCTGTCTCGCATC-1_xie    untreated\n",
      "AAACGGGTCCTAGAAC-1_xie    untreated\n",
      "                            ...    \n",
      "TTTACTGTCTGGCGAC-6_xie    bleomycin\n",
      "TTTGCGCCAATGAAAC-6_xie    bleomycin\n",
      "TTTGGTTCAGTAGAGC-6_xie    bleomycin\n",
      "TTTGTCAAGCTACCGC-6_xie    bleomycin\n",
      "TTTGTCACATCGGGTC-6_xie    bleomycin\n",
      "Name: condition, Length: 10100, dtype: category\n",
      "Categories (2, object): ['untreated', 'bleomycin']\n"
     ]
    }
   ],
   "source": [
    "for keyword in keywords:\n",
    "    print(keyword)\n",
    "    adata_sub = adata[adata.obs.project == keyword]\n",
    "    adata_sub.write(\"/home/h/hollenberg/MaPra/datasets_seperate/\"+keyword+\".h5ad\")\n",
    "    print(adata_sub.obs.condition)"
   ]
  },
  {
   "cell_type": "code",
   "execution_count": 2,
   "id": "97a35f9d-2bab-42db-9b93-102a9dee1d74",
   "metadata": {},
   "outputs": [],
   "source": [
    "adata_path = \"/home/h/hollenberg/MaPra/datasets_seperate/galapagos_bleo.h5ad\"\n",
    "adata = sc.read(adata_path)"
   ]
  },
  {
   "cell_type": "code",
   "execution_count": 4,
   "id": "21e485e5-a8c4-467e-b687-82a5f1375fda",
   "metadata": {},
   "outputs": [
    {
     "data": {
      "text/plain": [
       "1_Sal_veh_d21_AAACCCAAGACATATG-1    SHAM\n",
       "1_Sal_veh_d21_AAACCCAGTATTCTCT-1    SHAM\n",
       "1_Sal_veh_d21_AAACCCATCCGCTGTT-1    SHAM\n",
       "1_Sal_veh_d21_AAACGCTAGCGGGTTA-1    SHAM\n",
       "1_Sal_veh_d21_AAAGGATGTCCGGTCA-1    SHAM\n",
       "                                    ... \n",
       "9_Sal_veh_d21_TTTGGTTTCGTTACCC-1    SHAM\n",
       "9_Sal_veh_d21_TTTGTTGAGTCAGAGC-1    SHAM\n",
       "9_Sal_veh_d21_TTTGTTGGTCATACCA-1    SHAM\n",
       "9_Sal_veh_d21_TTTGTTGTCTCCTACG-1    SHAM\n",
       "9_Sal_veh_d21_TTTGTTGTCTGGAGAG-1    SHAM\n",
       "Name: SAMP_condition, Length: 104966, dtype: category\n",
       "Categories (2, object): ['BLM', 'SHAM']"
      ]
     },
     "execution_count": 4,
     "metadata": {},
     "output_type": "execute_result"
    }
   ],
   "source": [
    "adata.obs.SAMP_condition"
   ]
  },
  {
   "cell_type": "code",
   "execution_count": null,
   "id": "396c6741-c52b-467b-a055-126091ac3353",
   "metadata": {},
   "outputs": [],
   "source": []
  }
 ],
 "metadata": {
  "kernelspec": {
   "display_name": "Python [conda env:scanpy]",
   "language": "python",
   "name": "conda-env-scanpy-py"
  },
  "language_info": {
   "codemirror_mode": {
    "name": "ipython",
    "version": 3
   },
   "file_extension": ".py",
   "mimetype": "text/x-python",
   "name": "python",
   "nbconvert_exporter": "python",
   "pygments_lexer": "ipython3",
   "version": "3.9.16"
  }
 },
 "nbformat": 4,
 "nbformat_minor": 5
}
