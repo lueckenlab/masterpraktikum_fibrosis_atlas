{
 "cells": [
  {
   "cell_type": "code",
   "execution_count": 1,
   "id": "fc030d57-50eb-4ff1-a16c-b2553cf4596c",
   "metadata": {},
   "outputs": [
    {
     "name": "stderr",
     "output_type": "stream",
     "text": [
      "Loading required package: limma\n",
      "\n",
      "Loading required package: ggplot2\n",
      "\n",
      "Loading required package: ggrepel\n",
      "\n"
     ]
    }
   ],
   "source": [
    "library(anndata)\n",
    "library(edgeR)\n",
    "library(stringr)\n",
    "library(EnhancedVolcano)"
   ]
  },
  {
   "cell_type": "code",
   "execution_count": 2,
   "id": "30aa1cb2-8a01-4219-8d18-b17875e9983f",
   "metadata": {},
   "outputs": [],
   "source": [
    "fit_model <- function(adata_){\n",
    "  # create an edgeR object with counts and grouping factor\n",
    "  y <- DGEList(assay(adata_, \"X\"), group = colData(adata_)$condition)\n",
    "  # filter out genes with low counts\n",
    "  print(\"Dimensions before subsetting:\")\n",
    "  print(dim(y))\n",
    "  print(\"\")\n",
    "  keep <- filterByExpr(y)   # keeps genes that have at least min.count (default: 10) reads in a worthwhile number samples\n",
    "  y <- y[keep, , keep.lib.sizes=FALSE]\n",
    "  print(\"Dimensions after subsetting:\")\n",
    "  print(dim(y))\n",
    "  print(\"\")\n",
    "  # normalize\n",
    "  y <- calcNormFactors(y)\n",
    "  # create factors for the design matrix\n",
    "  condition <- colData(adata_)$condition   # saline, asbestos, ...\n",
    "  project <- colData(adata_)$dataset       # schiller, misharin, peyser, ...\n",
    "  design <- model.matrix(~ 0 + condition + project)\n",
    "  print(colnames(design))   # printing columns from the design matrix\n",
    "  # estimate dispersion\n",
    "  y <- estimateDisp(y, design = design)\n",
    "  # fit the model\n",
    "  fit <- glmQLFit(y, design)\n",
    "  return(list(\"fit\"=fit, \"design\"=design, \"y\"=y))\n",
    "}"
   ]
  },
  {
   "cell_type": "code",
   "execution_count": 3,
   "id": "ccc10c9c-cc84-49f8-8203-6faf939c63af",
   "metadata": {},
   "outputs": [],
   "source": [
    "get_tt <- function(y, fit){\n",
    "  # create contrast matrix\n",
    "  contrasts <- list()\n",
    "  for (colname in colnames(y$design)){\n",
    "    if (startsWith(colname, \"condition\")){\n",
    "      contrasts <- append(contrasts, colname)\n",
    "    }\n",
    "  }\n",
    "  contrast_tmp <- paste(contrasts,collapse = '-')\n",
    "  myContrast <- makeContrasts(contrast_tmp, levels = y$design)\n",
    "  qlf <- glmQLFTest(fit, contrast=myContrast)\n",
    "  # get all of the DE genes and calculate Benjamini-Hochberg adjusted FDR\n",
    "  tt <- topTags(qlf, n = Inf)\n",
    "  tt <- tt$table\n",
    "  # 'normalize' logFc\n",
    "  mean_FC <- mean(tt$logFC)\n",
    "  tt$logFC_shifted <- (tt$logFC - mean_FC)\n",
    "  # TODO: save tt as dataframe ?\n",
    "  return(tt)\n",
    "}"
   ]
  },
  {
   "cell_type": "code",
   "execution_count": 4,
   "id": "40fa5ac1-c505-4316-abb0-ac0097157e04",
   "metadata": {},
   "outputs": [],
   "source": [
    "# define paths\n",
    "path_adata <- \"/home/sch/schonner/MaPra/merged_data_for_diffEx_edgeR.h5ad\"\n",
    "path_out <- \"/home/sch/schonner/MaPra/test\""
   ]
  },
  {
   "cell_type": "code",
   "execution_count": 7,
   "id": "d04b1b85-ff12-45c2-9552-d9d0882df852",
   "metadata": {},
   "outputs": [
    {
     "name": "stdout",
     "output_type": "stream",
     "text": [
      "[1] \"Dimensions of the annData object: 508 23767\"\n"
     ]
    }
   ],
   "source": [
    "# read in the pseudobulk object\n",
    "adata_pb <- read_h5ad(path_adata)\n",
    "print(paste0(\"Dimensions of the annData object: \", dim(adata_pb)[1], \" \", dim(adata_pb)[2]))"
   ]
  },
  {
   "cell_type": "code",
   "execution_count": 12,
   "id": "2152801d-4419-4ed9-851b-30ccf1b454ce",
   "metadata": {},
   "outputs": [
    {
     "data": {
      "text/plain": [
       "AnnData object with n_obs × n_vars = 508 × 23767\n",
       "    obs: 'dataset', 'batch', 'sample', 'condition', 'fibrotic/control', 'coarse_harmonized_anno', 'harmonized_anno', 'author_annotation_coarse', 'author_annotation', 'lib_size', 'log_lib_size'\n",
       "    uns: 'author_annotation_coarse_colors', 'author_annotation_colors', 'batch_colors', 'coarse_harmonized_anno_colors', 'condition_colors', 'dataset_colors', 'fibrotic', 'harmonized_anno_colors', 'log1p', 'pca', 'sample_colors'\n",
       "    obsm: 'X_pca'\n",
       "    varm: 'PCs'\n",
       "    layers: 'counts'"
      ]
     },
     "metadata": {},
     "output_type": "display_data"
    }
   ],
   "source": [
    "adata_pb"
   ]
  },
  {
   "cell_type": "code",
   "execution_count": 21,
   "id": "9236538f-06ed-4444-acbe-bf5e5f3ec4ad",
   "metadata": {},
   "outputs": [
    {
     "name": "stderr",
     "output_type": "stream",
     "text": [
      "Warning message in py_to_r.pandas.core.frame.DataFrame(x):\n",
      "“index contains duplicated values: row names not set”\n"
     ]
    },
    {
     "name": "stdout",
     "output_type": "stream",
     "text": [
      "[1] \"Aerocytes\"\n"
     ]
    },
    {
     "name": "stderr",
     "output_type": "stream",
     "text": [
      "Warning message in py_to_r.pandas.core.frame.DataFrame(x):\n",
      "“index contains duplicated values: row names not set”\n"
     ]
    },
    {
     "ename": "ERROR",
     "evalue": "Error in assay(adata_, \"X\"): could not find function \"assay\"\n",
     "output_type": "error",
     "traceback": [
      "Error in assay(adata_, \"X\"): could not find function \"assay\"\nTraceback:\n",
      "1. fit_model(adata_ = adata_ct)",
      "2. DGEList(assay(adata_, \"X\"), group = colData(adata_)$condition)   # at line 3 of file <text>",
      "3. is.data.frame(counts)"
     ]
    }
   ],
   "source": [
    "cell_types <- unique(adata_pb$obs$coarse_harmonized_anno)\n",
    "for (ct in cell_types){\n",
    "    print(ct)\n",
    "  ct_print <- str_replace(ct, \"_\", \" \")   # will be used for plot titles\n",
    "  # 1. subset adata_pb to one cell type\n",
    "  #adata_ct <- subset(adata_pb, coarse_harmonized_anno==ct)\n",
    "  adata_ct <- adata_pb[adata_pb$obs[\"coarse_harmonized_anno\"] == ct]\n",
    "  # 2. fit the model\n",
    "  outs <- fit_model(adata_=adata_ct)\n",
    "  fit <- outs$fit\n",
    "  y <- outs$y\n",
    "  # 3. plot overviews\n",
    "  plot_overview(cell_type=ct_print, y=y, path_out=path_out)\n",
    "  # 4. create table with differentially expressed genes\n",
    "  tt <- get_tt(y=y, git=fit)\n",
    "  # 5. Vulcano plot - of original and 'normalized' logFC\n",
    "\n",
    "  # 6. heatmap\n",
    "}\n",
    "  \n"
   ]
  },
  {
   "cell_type": "code",
   "execution_count": null,
   "id": "dca0fc4e-e0f3-46f9-a34a-93d185c43b12",
   "metadata": {},
   "outputs": [],
   "source": []
  },
  {
   "cell_type": "code",
   "execution_count": null,
   "id": "05664a8a-b857-4414-8b70-90f0c8094e10",
   "metadata": {},
   "outputs": [],
   "source": []
  },
  {
   "cell_type": "code",
   "execution_count": null,
   "id": "dc9bf069-24b9-4d31-b30f-918bccc08057",
   "metadata": {},
   "outputs": [],
   "source": []
  }
 ],
 "metadata": {
  "kernelspec": {
   "display_name": "R",
   "language": "R",
   "name": "ir"
  },
  "language_info": {
   "codemirror_mode": "r",
   "file_extension": ".r",
   "mimetype": "text/x-r-source",
   "name": "R",
   "pygments_lexer": "r",
   "version": "4.2.3"
  }
 },
 "nbformat": 4,
 "nbformat_minor": 5
}
