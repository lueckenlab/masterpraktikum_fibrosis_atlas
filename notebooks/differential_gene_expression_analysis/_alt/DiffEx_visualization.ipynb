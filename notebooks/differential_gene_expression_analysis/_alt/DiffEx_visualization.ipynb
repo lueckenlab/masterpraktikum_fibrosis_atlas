{
 "cells": [
  {
   "cell_type": "code",
   "execution_count": null,
   "id": "dbaf150f-9f17-44b6-a70e-1ab7121e537a",
   "metadata": {},
   "outputs": [],
   "source": [
    "import warnings\n",
    "\n",
    "warnings.filterwarnings(\"ignore\")\n",
    "\n",
    "import matplotlib.pyplot as plt\n",
    "import seaborn as sns\n",
    "import scanpy as sc\n",
    "import pandas as pd\n",
    "import numpy as np\n",
    "import random\n",
    "import sc_toolbox\n",
    "import anndata\n",
    "\n",
    "sc.settings.verbosity = 0"
   ]
  },
  {
   "cell_type": "code",
   "execution_count": 60,
   "id": "7f236259-c78b-4d26-a8c8-9afa0e7b6823",
   "metadata": {},
   "outputs": [],
   "source": [
    "adata.X = adata.layers[\"counts\"].copy()\n",
    "sc.pp.normalize_total(adata, target_sum=1e6)\n",
    "sc.pp.log1p(adata)"
   ]
  },
  {
   "cell_type": "markdown",
   "id": "a09f063a-60a0-4bce-8ebf-65ae1086bdbb",
   "metadata": {},
   "source": [
    "### Define a helper definition for heat maps:"
   ]
  },
  {
   "cell_type": "code",
   "execution_count": 61,
   "id": "f28f9bdf-6af4-487f-90cb-1024ad9b125e",
   "metadata": {},
   "outputs": [],
   "source": [
    "FDR = 0.01\n",
    "LOG_FOLD_CHANGE = 1.5\n",
    "\n",
    "\n",
    "def plot_heatmap(adata, group_key, group_name=\"cell_type\", groupby=\"label\"):\n",
    "    cell_type = \"_\".join(group_key.split(\"_\")[1:])\n",
    "    res = sc.get.rank_genes_groups_df(adata, group=cell_type, key=group_key)\n",
    "    res.index = res[\"names\"].values\n",
    "    res = res[\n",
    "        (res[\"pvals_adj\"] < FDR) & (abs(res[\"logfoldchanges\"]) > LOG_FOLD_CHANGE)\n",
    "    ].sort_values(by=[\"logfoldchanges\"])\n",
    "    print(f\"Plotting {len(res)} genes...\")\n",
    "    markers = list(res.index)\n",
    "    sc.pl.heatmap(\n",
    "        adata[adata.obs[group_name] == cell_type].copy(),\n",
    "        markers,\n",
    "        groupby=groupby,\n",
    "        swap_axes=True,\n",
    "    )"
   ]
  },
  {
   "cell_type": "code",
   "execution_count": 62,
   "id": "2b4daddd-3fc9-40a5-b832-1fb7ee203466",
   "metadata": {},
   "outputs": [
    {
     "ename": "KeyError",
     "evalue": "'edgeR_AT1'",
     "output_type": "error",
     "traceback": [
      "\u001b[0;31m---------------------------------------------------------------------------\u001b[0m",
      "\u001b[0;31mKeyError\u001b[0m                                  Traceback (most recent call last)",
      "Cell \u001b[0;32mIn[62], line 1\u001b[0m\n\u001b[0;32m----> 1\u001b[0m \u001b[43mplot_heatmap\u001b[49m\u001b[43m(\u001b[49m\u001b[43madata\u001b[49m\u001b[43m,\u001b[49m\u001b[43m \u001b[49m\u001b[38;5;124;43m\"\u001b[39;49m\u001b[38;5;124;43medgeR_AT1\u001b[39;49m\u001b[38;5;124;43m\"\u001b[39;49m\u001b[43m)\u001b[49m\n",
      "Cell \u001b[0;32mIn[61], line 7\u001b[0m, in \u001b[0;36mplot_heatmap\u001b[0;34m(adata, group_key, group_name, groupby)\u001b[0m\n\u001b[1;32m      5\u001b[0m \u001b[38;5;28;01mdef\u001b[39;00m \u001b[38;5;21mplot_heatmap\u001b[39m(adata, group_key, group_name\u001b[38;5;241m=\u001b[39m\u001b[38;5;124m\"\u001b[39m\u001b[38;5;124mcell_type\u001b[39m\u001b[38;5;124m\"\u001b[39m, groupby\u001b[38;5;241m=\u001b[39m\u001b[38;5;124m\"\u001b[39m\u001b[38;5;124mlabel\u001b[39m\u001b[38;5;124m\"\u001b[39m):\n\u001b[1;32m      6\u001b[0m     cell_type \u001b[38;5;241m=\u001b[39m \u001b[38;5;124m\"\u001b[39m\u001b[38;5;124m_\u001b[39m\u001b[38;5;124m\"\u001b[39m\u001b[38;5;241m.\u001b[39mjoin(group_key\u001b[38;5;241m.\u001b[39msplit(\u001b[38;5;124m\"\u001b[39m\u001b[38;5;124m_\u001b[39m\u001b[38;5;124m\"\u001b[39m)[\u001b[38;5;241m1\u001b[39m:])\n\u001b[0;32m----> 7\u001b[0m     res \u001b[38;5;241m=\u001b[39m \u001b[43msc\u001b[49m\u001b[38;5;241;43m.\u001b[39;49m\u001b[43mget\u001b[49m\u001b[38;5;241;43m.\u001b[39;49m\u001b[43mrank_genes_groups_df\u001b[49m\u001b[43m(\u001b[49m\u001b[43madata\u001b[49m\u001b[43m,\u001b[49m\u001b[43m \u001b[49m\u001b[43mgroup\u001b[49m\u001b[38;5;241;43m=\u001b[39;49m\u001b[43mcell_type\u001b[49m\u001b[43m,\u001b[49m\u001b[43m \u001b[49m\u001b[43mkey\u001b[49m\u001b[38;5;241;43m=\u001b[39;49m\u001b[43mgroup_key\u001b[49m\u001b[43m)\u001b[49m\n\u001b[1;32m      8\u001b[0m     res\u001b[38;5;241m.\u001b[39mindex \u001b[38;5;241m=\u001b[39m res[\u001b[38;5;124m\"\u001b[39m\u001b[38;5;124mnames\u001b[39m\u001b[38;5;124m\"\u001b[39m]\u001b[38;5;241m.\u001b[39mvalues\n\u001b[1;32m      9\u001b[0m     res \u001b[38;5;241m=\u001b[39m res[\n\u001b[1;32m     10\u001b[0m         (res[\u001b[38;5;124m\"\u001b[39m\u001b[38;5;124mpvals_adj\u001b[39m\u001b[38;5;124m\"\u001b[39m] \u001b[38;5;241m<\u001b[39m FDR) \u001b[38;5;241m&\u001b[39m (\u001b[38;5;28mabs\u001b[39m(res[\u001b[38;5;124m\"\u001b[39m\u001b[38;5;124mlogfoldchanges\u001b[39m\u001b[38;5;124m\"\u001b[39m]) \u001b[38;5;241m>\u001b[39m LOG_FOLD_CHANGE)\n\u001b[1;32m     11\u001b[0m     ]\u001b[38;5;241m.\u001b[39msort_values(by\u001b[38;5;241m=\u001b[39m[\u001b[38;5;124m\"\u001b[39m\u001b[38;5;124mlogfoldchanges\u001b[39m\u001b[38;5;124m\"\u001b[39m])\n",
      "File \u001b[0;32m~/mambaforge/envs/scanpy_diffEx/lib/python3.9/site-packages/scanpy/get/get.py:64\u001b[0m, in \u001b[0;36mrank_genes_groups_df\u001b[0;34m(adata, group, key, pval_cutoff, log2fc_min, log2fc_max, gene_symbols)\u001b[0m\n\u001b[1;32m     61\u001b[0m     group \u001b[38;5;241m=\u001b[39m \u001b[38;5;28mlist\u001b[39m(adata\u001b[38;5;241m.\u001b[39muns[key][\u001b[38;5;124m'\u001b[39m\u001b[38;5;124mnames\u001b[39m\u001b[38;5;124m'\u001b[39m]\u001b[38;5;241m.\u001b[39mdtype\u001b[38;5;241m.\u001b[39mnames)\n\u001b[1;32m     62\u001b[0m colnames \u001b[38;5;241m=\u001b[39m [\u001b[38;5;124m'\u001b[39m\u001b[38;5;124mnames\u001b[39m\u001b[38;5;124m'\u001b[39m, \u001b[38;5;124m'\u001b[39m\u001b[38;5;124mscores\u001b[39m\u001b[38;5;124m'\u001b[39m, \u001b[38;5;124m'\u001b[39m\u001b[38;5;124mlogfoldchanges\u001b[39m\u001b[38;5;124m'\u001b[39m, \u001b[38;5;124m'\u001b[39m\u001b[38;5;124mpvals\u001b[39m\u001b[38;5;124m'\u001b[39m, \u001b[38;5;124m'\u001b[39m\u001b[38;5;124mpvals_adj\u001b[39m\u001b[38;5;124m'\u001b[39m]\n\u001b[0;32m---> 64\u001b[0m d \u001b[38;5;241m=\u001b[39m [pd\u001b[38;5;241m.\u001b[39mDataFrame(adata\u001b[38;5;241m.\u001b[39muns[key][c])[group] \u001b[38;5;28;01mfor\u001b[39;00m c \u001b[38;5;129;01min\u001b[39;00m colnames]\n\u001b[1;32m     65\u001b[0m d \u001b[38;5;241m=\u001b[39m pd\u001b[38;5;241m.\u001b[39mconcat(d, axis\u001b[38;5;241m=\u001b[39m\u001b[38;5;241m1\u001b[39m, names\u001b[38;5;241m=\u001b[39m[\u001b[38;5;28;01mNone\u001b[39;00m, \u001b[38;5;124m'\u001b[39m\u001b[38;5;124mgroup\u001b[39m\u001b[38;5;124m'\u001b[39m], keys\u001b[38;5;241m=\u001b[39mcolnames)\n\u001b[1;32m     66\u001b[0m d \u001b[38;5;241m=\u001b[39m d\u001b[38;5;241m.\u001b[39mstack(level\u001b[38;5;241m=\u001b[39m\u001b[38;5;241m1\u001b[39m)\u001b[38;5;241m.\u001b[39mreset_index()\n",
      "File \u001b[0;32m~/mambaforge/envs/scanpy_diffEx/lib/python3.9/site-packages/scanpy/get/get.py:64\u001b[0m, in \u001b[0;36m<listcomp>\u001b[0;34m(.0)\u001b[0m\n\u001b[1;32m     61\u001b[0m     group \u001b[38;5;241m=\u001b[39m \u001b[38;5;28mlist\u001b[39m(adata\u001b[38;5;241m.\u001b[39muns[key][\u001b[38;5;124m'\u001b[39m\u001b[38;5;124mnames\u001b[39m\u001b[38;5;124m'\u001b[39m]\u001b[38;5;241m.\u001b[39mdtype\u001b[38;5;241m.\u001b[39mnames)\n\u001b[1;32m     62\u001b[0m colnames \u001b[38;5;241m=\u001b[39m [\u001b[38;5;124m'\u001b[39m\u001b[38;5;124mnames\u001b[39m\u001b[38;5;124m'\u001b[39m, \u001b[38;5;124m'\u001b[39m\u001b[38;5;124mscores\u001b[39m\u001b[38;5;124m'\u001b[39m, \u001b[38;5;124m'\u001b[39m\u001b[38;5;124mlogfoldchanges\u001b[39m\u001b[38;5;124m'\u001b[39m, \u001b[38;5;124m'\u001b[39m\u001b[38;5;124mpvals\u001b[39m\u001b[38;5;124m'\u001b[39m, \u001b[38;5;124m'\u001b[39m\u001b[38;5;124mpvals_adj\u001b[39m\u001b[38;5;124m'\u001b[39m]\n\u001b[0;32m---> 64\u001b[0m d \u001b[38;5;241m=\u001b[39m [pd\u001b[38;5;241m.\u001b[39mDataFrame(\u001b[43madata\u001b[49m\u001b[38;5;241;43m.\u001b[39;49m\u001b[43muns\u001b[49m\u001b[43m[\u001b[49m\u001b[43mkey\u001b[49m\u001b[43m]\u001b[49m[c])[group] \u001b[38;5;28;01mfor\u001b[39;00m c \u001b[38;5;129;01min\u001b[39;00m colnames]\n\u001b[1;32m     65\u001b[0m d \u001b[38;5;241m=\u001b[39m pd\u001b[38;5;241m.\u001b[39mconcat(d, axis\u001b[38;5;241m=\u001b[39m\u001b[38;5;241m1\u001b[39m, names\u001b[38;5;241m=\u001b[39m[\u001b[38;5;28;01mNone\u001b[39;00m, \u001b[38;5;124m'\u001b[39m\u001b[38;5;124mgroup\u001b[39m\u001b[38;5;124m'\u001b[39m], keys\u001b[38;5;241m=\u001b[39mcolnames)\n\u001b[1;32m     66\u001b[0m d \u001b[38;5;241m=\u001b[39m d\u001b[38;5;241m.\u001b[39mstack(level\u001b[38;5;241m=\u001b[39m\u001b[38;5;241m1\u001b[39m)\u001b[38;5;241m.\u001b[39mreset_index()\n",
      "\u001b[0;31mKeyError\u001b[0m: 'edgeR_AT1'"
     ]
    }
   ],
   "source": [
    "plot_heatmap(adata, \"edgeR_AT1\")"
   ]
  },
  {
   "cell_type": "markdown",
   "id": "4015a07b-ce31-4506-bcde-bd55b55c5cb0",
   "metadata": {},
   "source": [
    "### Define a helper definition for vulcano plots:"
   ]
  },
  {
   "cell_type": "code",
   "execution_count": null,
   "id": "cd4e8ca1-889a-4a64-acaf-c84cf4082f19",
   "metadata": {},
   "outputs": [],
   "source": [
    "FDR = 0.01\n",
    "LOG_FOLD_CHANGE = 1.5\n",
    "\n",
    "\n",
    "def volcano_plot(adata, group_key, group_name=\"cell_type\", groupby=\"label\", title=None):\n",
    "    cell_type = \"_\".join(group_key.split(\"_\")[1:])\n",
    "    result = sc.get.rank_genes_groups_df(adata, group=cell_type, key=group_key).copy()\n",
    "    result[\"-logQ\"] = -np.log(result[\"pvals\"].astype(\"float\"))\n",
    "    lowqval_de = result.loc[abs(result[\"logfoldchanges\"]) > LOG_FOLD_CHANGE]\n",
    "    other_de = result.loc[abs(result[\"logfoldchanges\"]) <= LOG_FOLD_CHANGE]\n",
    "\n",
    "    fig, ax = plt.subplots()\n",
    "    sns.regplot(\n",
    "        x=other_de[\"logfoldchanges\"],\n",
    "        y=other_de[\"-logQ\"],\n",
    "        fit_reg=False,\n",
    "        scatter_kws={\"s\": 6},\n",
    "    )\n",
    "    sns.regplot(\n",
    "        x=lowqval_de[\"logfoldchanges\"],\n",
    "        y=lowqval_de[\"-logQ\"],\n",
    "        fit_reg=False,\n",
    "        scatter_kws={\"s\": 6},\n",
    "    )\n",
    "    ax.set_xlabel(\"log2 FC\")\n",
    "    ax.set_ylabel(\"-log Q-value\")\n",
    "\n",
    "    if title is None:\n",
    "        title = group_key.replace(\"_\", \" \")\n",
    "    plt.title(title)\n",
    "    plt.show()"
   ]
  },
  {
   "cell_type": "code",
   "execution_count": null,
   "id": "ebb4b74e-fd0a-4c4e-b851-3ab357ed94e4",
   "metadata": {},
   "outputs": [],
   "source": [
    "volcano_plot(adata, \"edgeR_AT1\")"
   ]
  }
 ],
 "metadata": {
  "kernelspec": {
   "display_name": "Python 3 (ipykernel)",
   "language": "python",
   "name": "python3"
  },
  "language_info": {
   "codemirror_mode": {
    "name": "ipython",
    "version": 3
   },
   "file_extension": ".py",
   "mimetype": "text/x-python",
   "name": "python",
   "nbconvert_exporter": "python",
   "pygments_lexer": "ipython3",
   "version": "3.9.16"
  }
 },
 "nbformat": 4,
 "nbformat_minor": 5
}
