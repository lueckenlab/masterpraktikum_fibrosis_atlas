{
 "cells": [
  {
   "cell_type": "markdown",
   "id": "de777fdd-a791-4516-ad6a-9e0f229f65fd",
   "metadata": {},
   "source": [
    "# Differential gene expression analysis - code example for edgeR (pseudobulk)\n",
    "Using the data set Misharin."
   ]
  },
  {
   "cell_type": "code",
   "execution_count": 1,
   "id": "8ab993e0-ddfd-46c6-93c4-d54c40aa278d",
   "metadata": {},
   "outputs": [
    {
     "name": "stderr",
     "output_type": "stream",
     "text": [
      "Loading required package: limma\n",
      "\n",
      "Registered S3 method overwritten by 'zellkonverter':\n",
      "  method                from      \n",
      "  py_to_r.numpy.ndarray reticulate\n",
      "\n",
      "Loading required package: SummarizedExperiment\n",
      "\n",
      "Loading required package: MatrixGenerics\n",
      "\n",
      "Loading required package: matrixStats\n",
      "\n",
      "\n",
      "Attaching package: ‘MatrixGenerics’\n",
      "\n",
      "\n",
      "The following objects are masked from ‘package:matrixStats’:\n",
      "\n",
      "    colAlls, colAnyNAs, colAnys, colAvgsPerRowSet, colCollapse,\n",
      "    colCounts, colCummaxs, colCummins, colCumprods, colCumsums,\n",
      "    colDiffs, colIQRDiffs, colIQRs, colLogSumExps, colMadDiffs,\n",
      "    colMads, colMaxs, colMeans2, colMedians, colMins, colOrderStats,\n",
      "    colProds, colQuantiles, colRanges, colRanks, colSdDiffs, colSds,\n",
      "    colSums2, colTabulates, colVarDiffs, colVars, colWeightedMads,\n",
      "    colWeightedMeans, colWeightedMedians, colWeightedSds,\n",
      "    colWeightedVars, rowAlls, rowAnyNAs, rowAnys, rowAvgsPerColSet,\n",
      "    rowCollapse, rowCounts, rowCummaxs, rowCummins, rowCumprods,\n",
      "    rowCumsums, rowDiffs, rowIQRDiffs, rowIQRs, rowLogSumExps,\n",
      "    rowMadDiffs, rowMads, rowMaxs, rowMeans2, rowMedians, rowMins,\n",
      "    rowOrderStats, rowProds, rowQuantiles, rowRanges, rowRanks,\n",
      "    rowSdDiffs, rowSds, rowSums2, rowTabulates, rowVarDiffs, rowVars,\n",
      "    rowWeightedMads, rowWeightedMeans, rowWeightedMedians,\n",
      "    rowWeightedSds, rowWeightedVars\n",
      "\n",
      "\n",
      "Loading required package: GenomicRanges\n",
      "\n",
      "Loading required package: stats4\n",
      "\n",
      "Loading required package: BiocGenerics\n",
      "\n",
      "\n",
      "Attaching package: ‘BiocGenerics’\n",
      "\n",
      "\n",
      "The following object is masked from ‘package:limma’:\n",
      "\n",
      "    plotMA\n",
      "\n",
      "\n",
      "The following objects are masked from ‘package:stats’:\n",
      "\n",
      "    IQR, mad, sd, var, xtabs\n",
      "\n",
      "\n",
      "The following objects are masked from ‘package:base’:\n",
      "\n",
      "    anyDuplicated, aperm, append, as.data.frame, basename, cbind,\n",
      "    colnames, dirname, do.call, duplicated, eval, evalq, Filter, Find,\n",
      "    get, grep, grepl, intersect, is.unsorted, lapply, Map, mapply,\n",
      "    match, mget, order, paste, pmax, pmax.int, pmin, pmin.int,\n",
      "    Position, rank, rbind, Reduce, rownames, sapply, setdiff, sort,\n",
      "    table, tapply, union, unique, unsplit, which.max, which.min\n",
      "\n",
      "\n",
      "Loading required package: S4Vectors\n",
      "\n",
      "\n",
      "Attaching package: ‘S4Vectors’\n",
      "\n",
      "\n",
      "The following objects are masked from ‘package:base’:\n",
      "\n",
      "    expand.grid, I, unname\n",
      "\n",
      "\n",
      "Loading required package: IRanges\n",
      "\n",
      "Loading required package: GenomeInfoDb\n",
      "\n",
      "Loading required package: Biobase\n",
      "\n",
      "Welcome to Bioconductor\n",
      "\n",
      "    Vignettes contain introductory material; view with\n",
      "    'browseVignettes()'. To cite Bioconductor, see\n",
      "    'citation(\"Biobase\")', and for packages 'citation(\"pkgname\")'.\n",
      "\n",
      "\n",
      "\n",
      "Attaching package: ‘Biobase’\n",
      "\n",
      "\n",
      "The following object is masked from ‘package:MatrixGenerics’:\n",
      "\n",
      "    rowMedians\n",
      "\n",
      "\n",
      "The following objects are masked from ‘package:matrixStats’:\n",
      "\n",
      "    anyMissing, rowMedians\n",
      "\n",
      "\n",
      "\n",
      "Attaching package: ‘SingleCellExperiment’\n",
      "\n",
      "\n",
      "The following object is masked from ‘package:edgeR’:\n",
      "\n",
      "    cpm\n",
      "\n",
      "\n"
     ]
    }
   ],
   "source": [
    "library(edgeR)\n",
    "library(anndata)\n",
    "library(zellkonverter)\n",
    "library(SingleCellExperiment)"
   ]
  },
  {
   "cell_type": "code",
   "execution_count": 4,
   "id": "5652ac0d-7bd8-40c7-a9e8-078c6124074f",
   "metadata": {},
   "outputs": [
    {
     "data": {
      "text/plain": [
       "AnnData object with n_obs × n_vars = 644 × 32317\n",
       "    obs: 'condition', 'manual_celltype_annotation', 'batch', 'sample', 'author_annotation', 'lib_size', 'log_lib_size'\n",
       "    uns: 'author_annotation_colors', 'batch_colors', 'condition_colors', 'log1p', 'manual_celltype_annotation_colors', 'pca', 'sample_colors'\n",
       "    obsm: 'X_pca'\n",
       "    varm: 'PCs'\n",
       "    layers: 'counts'"
      ]
     },
     "metadata": {},
     "output_type": "display_data"
    }
   ],
   "source": [
    "file_name <- '/home/sch/schonner/MaPra/merged_data_old_for_diffEx_edgeR.h5ad'\n",
    "adata_pb <- read_h5ad(file_name)\n",
    "adata_pb"
   ]
  },
  {
   "cell_type": "code",
   "execution_count": 5,
   "id": "44e10095-134a-4b8b-b789-811f87ed67bf",
   "metadata": {},
   "outputs": [
    {
     "name": "stderr",
     "output_type": "stream",
     "text": [
      "Warning message in py_to_r.pandas.core.frame.DataFrame(x):\n",
      "“index contains duplicated values: row names not set”\n"
     ]
    },
    {
     "data": {
      "text/html": [
       "<table class=\"dataframe\">\n",
       "<caption>A data.frame: 5 × 7</caption>\n",
       "<thead>\n",
       "\t<tr><th></th><th scope=col>condition</th><th scope=col>manual_celltype_annotation</th><th scope=col>batch</th><th scope=col>sample</th><th scope=col>author_annotation</th><th scope=col>lib_size</th><th scope=col>log_lib_size</th></tr>\n",
       "\t<tr><th></th><th scope=col>&lt;fct&gt;</th><th scope=col>&lt;fct&gt;</th><th scope=col>&lt;fct&gt;</th><th scope=col>&lt;fct&gt;</th><th scope=col>&lt;fct&gt;</th><th scope=col>&lt;dbl&gt;</th><th scope=col>&lt;dbl&gt;</th></tr>\n",
       "</thead>\n",
       "<tbody>\n",
       "\t<tr><th scope=row>1</th><td>untreated</td><td>AT1</td><td>0_misharin</td><td>0_misharin_untreated</td><td>AT1 cells   </td><td>64648.696</td><td>11.07672</td></tr>\n",
       "\t<tr><th scope=row>2</th><td>asbestos </td><td>AT1</td><td>1_misharin</td><td>1_misharin_asbestos </td><td>AT1 cells   </td><td>63999.997</td><td>11.06664</td></tr>\n",
       "\t<tr><th scope=row>3</th><td>untreated</td><td>AT1</td><td>1_xie     </td><td>1_xie_untreated     </td><td>Methothelial</td><td>28761.913</td><td>10.26681</td></tr>\n",
       "\t<tr><th scope=row>4</th><td>untreated</td><td>AT1</td><td>2_xie     </td><td>2_xie_untreated     </td><td>Endothelial </td><td>30400.624</td><td>10.32222</td></tr>\n",
       "\t<tr><th scope=row>5</th><td>untreated</td><td>AT1</td><td>3_xie     </td><td>3_xie_untreated     </td><td>Methothelial</td><td> 6664.563</td><td> 8.80456</td></tr>\n",
       "</tbody>\n",
       "</table>\n"
      ],
      "text/latex": [
       "A data.frame: 5 × 7\n",
       "\\begin{tabular}{r|lllllll}\n",
       "  & condition & manual\\_celltype\\_annotation & batch & sample & author\\_annotation & lib\\_size & log\\_lib\\_size\\\\\n",
       "  & <fct> & <fct> & <fct> & <fct> & <fct> & <dbl> & <dbl>\\\\\n",
       "\\hline\n",
       "\t1 & untreated & AT1 & 0\\_misharin & 0\\_misharin\\_untreated & AT1 cells    & 64648.696 & 11.07672\\\\\n",
       "\t2 & asbestos  & AT1 & 1\\_misharin & 1\\_misharin\\_asbestos  & AT1 cells    & 63999.997 & 11.06664\\\\\n",
       "\t3 & untreated & AT1 & 1\\_xie      & 1\\_xie\\_untreated      & Methothelial & 28761.913 & 10.26681\\\\\n",
       "\t4 & untreated & AT1 & 2\\_xie      & 2\\_xie\\_untreated      & Endothelial  & 30400.624 & 10.32222\\\\\n",
       "\t5 & untreated & AT1 & 3\\_xie      & 3\\_xie\\_untreated      & Methothelial &  6664.563 &  8.80456\\\\\n",
       "\\end{tabular}\n"
      ],
      "text/markdown": [
       "\n",
       "A data.frame: 5 × 7\n",
       "\n",
       "| <!--/--> | condition &lt;fct&gt; | manual_celltype_annotation &lt;fct&gt; | batch &lt;fct&gt; | sample &lt;fct&gt; | author_annotation &lt;fct&gt; | lib_size &lt;dbl&gt; | log_lib_size &lt;dbl&gt; |\n",
       "|---|---|---|---|---|---|---|---|\n",
       "| 1 | untreated | AT1 | 0_misharin | 0_misharin_untreated | AT1 cells    | 64648.696 | 11.07672 |\n",
       "| 2 | asbestos  | AT1 | 1_misharin | 1_misharin_asbestos  | AT1 cells    | 63999.997 | 11.06664 |\n",
       "| 3 | untreated | AT1 | 1_xie      | 1_xie_untreated      | Methothelial | 28761.913 | 10.26681 |\n",
       "| 4 | untreated | AT1 | 2_xie      | 2_xie_untreated      | Endothelial  | 30400.624 | 10.32222 |\n",
       "| 5 | untreated | AT1 | 3_xie      | 3_xie_untreated      | Methothelial |  6664.563 |  8.80456 |\n",
       "\n"
      ],
      "text/plain": [
       "  condition manual_celltype_annotation batch      sample              \n",
       "1 untreated AT1                        0_misharin 0_misharin_untreated\n",
       "2 asbestos  AT1                        1_misharin 1_misharin_asbestos \n",
       "3 untreated AT1                        1_xie      1_xie_untreated     \n",
       "4 untreated AT1                        2_xie      2_xie_untreated     \n",
       "5 untreated AT1                        3_xie      3_xie_untreated     \n",
       "  author_annotation lib_size  log_lib_size\n",
       "1 AT1 cells         64648.696 11.07672    \n",
       "2 AT1 cells         63999.997 11.06664    \n",
       "3 Methothelial      28761.913 10.26681    \n",
       "4 Endothelial       30400.624 10.32222    \n",
       "5 Methothelial       6664.563  8.80456    "
      ]
     },
     "metadata": {},
     "output_type": "display_data"
    }
   ],
   "source": [
    "adata_pb$obs[1:5, ]"
   ]
  },
  {
   "cell_type": "code",
   "execution_count": 9,
   "id": "a6ce786b-fdcc-49c4-949f-a496fad45070",
   "metadata": {},
   "outputs": [
    {
     "data": {
      "text/html": [
       "<table class=\"dataframe\">\n",
       "<caption>A matrix: 5 × 32317 of type dbl</caption>\n",
       "<thead>\n",
       "\t<tr><th></th><th scope=col>0610005C13Rik</th><th scope=col>0610007N19Rik</th><th scope=col>0610007P14Rik</th><th scope=col>0610008F07Rik</th><th scope=col>0610009B14Rik</th><th scope=col>0610009B22Rik</th><th scope=col>0610009D07Rik</th><th scope=col>0610009E02Rik</th><th scope=col>0610009L18Rik</th><th scope=col>0610009O20Rik</th><th scope=col>⋯</th><th scope=col>n-R5s74</th><th scope=col>n-R5s8</th><th scope=col>n-R5s80</th><th scope=col>n-R5s85</th><th scope=col>n-R5s87</th><th scope=col>n-R5s88</th><th scope=col>n-R5s89</th><th scope=col>n-R5s92</th><th scope=col>n-R5s96</th><th scope=col>n-R5s98</th></tr>\n",
       "</thead>\n",
       "<tbody>\n",
       "\t<tr><th scope=row>donor_0_misharin_untreated_0</th><td>0</td><td>0</td><td>10.7381343</td><td>0</td><td>0</td><td>5.9506426</td><td>0</td><td>0</td><td>0.6931472</td><td>3.465736</td><td>⋯</td><td>0</td><td>0</td><td>0</td><td>0</td><td>0</td><td>0</td><td>0</td><td>0</td><td>0</td><td>0</td></tr>\n",
       "\t<tr><th scope=row>donor_1_misharin_asbestos_0</th><td>0</td><td>0</td><td> 7.7424020</td><td>0</td><td>0</td><td>6.9314718</td><td>0</td><td>0</td><td>2.0794415</td><td>2.484907</td><td>⋯</td><td>0</td><td>0</td><td>0</td><td>0</td><td>0</td><td>0</td><td>0</td><td>0</td><td>0</td><td>0</td></tr>\n",
       "\t<tr><th scope=row>donor_1_xie_untreated_0</th><td>0</td><td>0</td><td> 1.7917595</td><td>0</td><td>0</td><td>0.6931472</td><td>0</td><td>0</td><td>0.0000000</td><td>1.386294</td><td>⋯</td><td>0</td><td>0</td><td>0</td><td>0</td><td>0</td><td>0</td><td>0</td><td>0</td><td>0</td><td>0</td></tr>\n",
       "\t<tr><th scope=row>donor_2_xie_untreated_0</th><td>0</td><td>0</td><td> 0.6931472</td><td>0</td><td>0</td><td>0.6931472</td><td>0</td><td>0</td><td>0.6931472</td><td>3.178054</td><td>⋯</td><td>0</td><td>0</td><td>0</td><td>0</td><td>0</td><td>0</td><td>0</td><td>0</td><td>0</td><td>0</td></tr>\n",
       "\t<tr><th scope=row>donor_3_xie_untreated_0</th><td>0</td><td>0</td><td> 1.0986123</td><td>0</td><td>0</td><td>0.6931472</td><td>0</td><td>0</td><td>1.3862944</td><td>0.000000</td><td>⋯</td><td>0</td><td>0</td><td>0</td><td>0</td><td>0</td><td>0</td><td>0</td><td>0</td><td>0</td><td>0</td></tr>\n",
       "</tbody>\n",
       "</table>\n"
      ],
      "text/latex": [
       "A matrix: 5 × 32317 of type dbl\n",
       "\\begin{tabular}{r|lllllllllllllllllllll}\n",
       "  & 0610005C13Rik & 0610007N19Rik & 0610007P14Rik & 0610008F07Rik & 0610009B14Rik & 0610009B22Rik & 0610009D07Rik & 0610009E02Rik & 0610009L18Rik & 0610009O20Rik & ⋯ & n-R5s74 & n-R5s8 & n-R5s80 & n-R5s85 & n-R5s87 & n-R5s88 & n-R5s89 & n-R5s92 & n-R5s96 & n-R5s98\\\\\n",
       "\\hline\n",
       "\tdonor\\_0\\_misharin\\_untreated\\_0 & 0 & 0 & 10.7381343 & 0 & 0 & 5.9506426 & 0 & 0 & 0.6931472 & 3.465736 & ⋯ & 0 & 0 & 0 & 0 & 0 & 0 & 0 & 0 & 0 & 0\\\\\n",
       "\tdonor\\_1\\_misharin\\_asbestos\\_0 & 0 & 0 &  7.7424020 & 0 & 0 & 6.9314718 & 0 & 0 & 2.0794415 & 2.484907 & ⋯ & 0 & 0 & 0 & 0 & 0 & 0 & 0 & 0 & 0 & 0\\\\\n",
       "\tdonor\\_1\\_xie\\_untreated\\_0 & 0 & 0 &  1.7917595 & 0 & 0 & 0.6931472 & 0 & 0 & 0.0000000 & 1.386294 & ⋯ & 0 & 0 & 0 & 0 & 0 & 0 & 0 & 0 & 0 & 0\\\\\n",
       "\tdonor\\_2\\_xie\\_untreated\\_0 & 0 & 0 &  0.6931472 & 0 & 0 & 0.6931472 & 0 & 0 & 0.6931472 & 3.178054 & ⋯ & 0 & 0 & 0 & 0 & 0 & 0 & 0 & 0 & 0 & 0\\\\\n",
       "\tdonor\\_3\\_xie\\_untreated\\_0 & 0 & 0 &  1.0986123 & 0 & 0 & 0.6931472 & 0 & 0 & 1.3862944 & 0.000000 & ⋯ & 0 & 0 & 0 & 0 & 0 & 0 & 0 & 0 & 0 & 0\\\\\n",
       "\\end{tabular}\n"
      ],
      "text/markdown": [
       "\n",
       "A matrix: 5 × 32317 of type dbl\n",
       "\n",
       "| <!--/--> | 0610005C13Rik | 0610007N19Rik | 0610007P14Rik | 0610008F07Rik | 0610009B14Rik | 0610009B22Rik | 0610009D07Rik | 0610009E02Rik | 0610009L18Rik | 0610009O20Rik | ⋯ | n-R5s74 | n-R5s8 | n-R5s80 | n-R5s85 | n-R5s87 | n-R5s88 | n-R5s89 | n-R5s92 | n-R5s96 | n-R5s98 |\n",
       "|---|---|---|---|---|---|---|---|---|---|---|---|---|---|---|---|---|---|---|---|---|---|\n",
       "| donor_0_misharin_untreated_0 | 0 | 0 | 10.7381343 | 0 | 0 | 5.9506426 | 0 | 0 | 0.6931472 | 3.465736 | ⋯ | 0 | 0 | 0 | 0 | 0 | 0 | 0 | 0 | 0 | 0 |\n",
       "| donor_1_misharin_asbestos_0 | 0 | 0 |  7.7424020 | 0 | 0 | 6.9314718 | 0 | 0 | 2.0794415 | 2.484907 | ⋯ | 0 | 0 | 0 | 0 | 0 | 0 | 0 | 0 | 0 | 0 |\n",
       "| donor_1_xie_untreated_0 | 0 | 0 |  1.7917595 | 0 | 0 | 0.6931472 | 0 | 0 | 0.0000000 | 1.386294 | ⋯ | 0 | 0 | 0 | 0 | 0 | 0 | 0 | 0 | 0 | 0 |\n",
       "| donor_2_xie_untreated_0 | 0 | 0 |  0.6931472 | 0 | 0 | 0.6931472 | 0 | 0 | 0.6931472 | 3.178054 | ⋯ | 0 | 0 | 0 | 0 | 0 | 0 | 0 | 0 | 0 | 0 |\n",
       "| donor_3_xie_untreated_0 | 0 | 0 |  1.0986123 | 0 | 0 | 0.6931472 | 0 | 0 | 1.3862944 | 0.000000 | ⋯ | 0 | 0 | 0 | 0 | 0 | 0 | 0 | 0 | 0 | 0 |\n",
       "\n"
      ],
      "text/plain": [
       "                             0610005C13Rik 0610007N19Rik 0610007P14Rik\n",
       "donor_0_misharin_untreated_0 0             0             10.7381343   \n",
       "donor_1_misharin_asbestos_0  0             0              7.7424020   \n",
       "donor_1_xie_untreated_0      0             0              1.7917595   \n",
       "donor_2_xie_untreated_0      0             0              0.6931472   \n",
       "donor_3_xie_untreated_0      0             0              1.0986123   \n",
       "                             0610008F07Rik 0610009B14Rik 0610009B22Rik\n",
       "donor_0_misharin_untreated_0 0             0             5.9506426    \n",
       "donor_1_misharin_asbestos_0  0             0             6.9314718    \n",
       "donor_1_xie_untreated_0      0             0             0.6931472    \n",
       "donor_2_xie_untreated_0      0             0             0.6931472    \n",
       "donor_3_xie_untreated_0      0             0             0.6931472    \n",
       "                             0610009D07Rik 0610009E02Rik 0610009L18Rik\n",
       "donor_0_misharin_untreated_0 0             0             0.6931472    \n",
       "donor_1_misharin_asbestos_0  0             0             2.0794415    \n",
       "donor_1_xie_untreated_0      0             0             0.0000000    \n",
       "donor_2_xie_untreated_0      0             0             0.6931472    \n",
       "donor_3_xie_untreated_0      0             0             1.3862944    \n",
       "                             0610009O20Rik ⋯ n-R5s74 n-R5s8 n-R5s80 n-R5s85\n",
       "donor_0_misharin_untreated_0 3.465736      ⋯ 0       0      0       0      \n",
       "donor_1_misharin_asbestos_0  2.484907      ⋯ 0       0      0       0      \n",
       "donor_1_xie_untreated_0      1.386294      ⋯ 0       0      0       0      \n",
       "donor_2_xie_untreated_0      3.178054      ⋯ 0       0      0       0      \n",
       "donor_3_xie_untreated_0      0.000000      ⋯ 0       0      0       0      \n",
       "                             n-R5s87 n-R5s88 n-R5s89 n-R5s92 n-R5s96 n-R5s98\n",
       "donor_0_misharin_untreated_0 0       0       0       0       0       0      \n",
       "donor_1_misharin_asbestos_0  0       0       0       0       0       0      \n",
       "donor_1_xie_untreated_0      0       0       0       0       0       0      \n",
       "donor_2_xie_untreated_0      0       0       0       0       0       0      \n",
       "donor_3_xie_untreated_0      0       0       0       0       0       0      "
      ]
     },
     "metadata": {},
     "output_type": "display_data"
    }
   ],
   "source": [
    "adata_pb$X[1:5, ]"
   ]
  },
  {
   "cell_type": "code",
   "execution_count": 16,
   "id": "9a36d4d4-8eec-4211-a7bb-f179fa4dcaf5",
   "metadata": {},
   "outputs": [
    {
     "ename": "ERROR",
     "evalue": "Error in assay(adata_AT1): could not find function \"assay\"\n",
     "output_type": "error",
     "traceback": [
      "Error in assay(adata_AT1): could not find function \"assay\"\nTraceback:\n",
      "1. typeof(assay(adata_AT1))"
     ]
    }
   ],
   "source": [
    "typeof(assay(adata_AT1))"
   ]
  },
  {
   "cell_type": "code",
   "execution_count": null,
   "id": "36ef2473-b5a1-410d-abe8-58cbaa1bec2b",
   "metadata": {},
   "outputs": [],
   "source": []
  },
  {
   "cell_type": "markdown",
   "id": "6d8178da-94a9-4422-be5f-85abfef26ef3",
   "metadata": {},
   "source": [
    "## 1. Preparing some functions"
   ]
  },
  {
   "cell_type": "markdown",
   "id": "0a7a49a6-a5a4-482c-956b-4d89b62ff4c1",
   "metadata": {},
   "source": [
    "### Separate function to fit an edgeR GLM:"
   ]
  },
  {
   "cell_type": "code",
   "execution_count": 7,
   "id": "f065aeb8-e7ba-4b09-a48f-1d68b6b1cd13",
   "metadata": {},
   "outputs": [],
   "source": [
    "fit_model <- function(adata_){\n",
    "    # create an edgeR object with counts and grouping factor\n",
    "    y <- DGEList(assay(adata_, \"X\"), group = colData(adata_)$condition)\n",
    "    # filter out genes with low counts\n",
    "    print(\"Dimensions before subsetting:\")\n",
    "    print(dim(y))\n",
    "    print(\"\")\n",
    "    keep <- filterByExpr(y)\n",
    "    y <- y[keep, , keep.lib.sizes=FALSE]\n",
    "    print(\"Dimensions after subsetting:\")\n",
    "    print(dim(y))\n",
    "    print(\"\")\n",
    "    # normalize\n",
    "    y <- calcNormFactors(y)\n",
    "    # create a vector that is concatentation of condition and cell type that we will later use with contrasts\n",
    "    group <- paste0(colData(adata_)$condition, \".\", colData(adata_)$manual_celltype_annotation)\n",
    "    batch <- colData(adata_)$batch\n",
    "    # create a design matrix: here we have multiple donors so also consider that in the design matrix\n",
    "    design <- model.matrix(~ 0 + group + batch)\n",
    "    # estimate dispersion\n",
    "    y <- estimateDisp(y, design = design)\n",
    "    # fit the model\n",
    "    fit <- glmQLFit(y, design)\n",
    "    return(list(\"fit\"=fit, \"design\"=design, \"y\"=y))\n",
    "}"
   ]
  },
  {
   "cell_type": "markdown",
   "id": "c3ab3b0b-b296-40ca-b490-7bddfe0d8152",
   "metadata": {},
   "source": [
    "## 2. Pseudobulk"
   ]
  },
  {
   "cell_type": "markdown",
   "id": "ee0b45f2-e5fb-46f7-acc0-e449cfd0b66b",
   "metadata": {},
   "source": [
    "### 2.1 One group"
   ]
  },
  {
   "cell_type": "code",
   "execution_count": 11,
   "id": "05a91a95-dd2a-40a4-92aa-b5de561ed159",
   "metadata": {},
   "outputs": [
    {
     "name": "stderr",
     "output_type": "stream",
     "text": [
      "Warning message in py_to_r.pandas.core.frame.DataFrame(x):\n",
      "“index contains duplicated values: row names not set”\n"
     ]
    },
    {
     "data": {
      "text/plain": [
       "View of AnnData object with n_obs × n_vars = 36 × 32317\n",
       "    obs: 'condition', 'manual_celltype_annotation', 'batch', 'sample', 'author_annotation', 'lib_size', 'log_lib_size'\n",
       "    uns: 'author_annotation_colors', 'batch_colors', 'condition_colors', 'log1p', 'manual_celltype_annotation_colors', 'pca', 'sample_colors'\n",
       "    obsm: 'X_pca'\n",
       "    varm: 'PCs'\n",
       "    layers: 'counts'"
      ]
     },
     "metadata": {},
     "output_type": "display_data"
    }
   ],
   "source": [
    "adata_AT1 <- adata_pb[adata_pb$obs[\"manual_celltype_annotation\"] == \"AT1\"]\n",
    "adata_AT1"
   ]
  },
  {
   "cell_type": "code",
   "execution_count": 12,
   "id": "df2050d8-25c3-404e-9a46-93301dce23b8",
   "metadata": {},
   "outputs": [
    {
     "name": "stderr",
     "output_type": "stream",
     "text": [
      "Warning message:\n",
      "“\u001b[1m\u001b[22mThe passed object is a 'AnnDataR6' object, conversion is likely to be less reliable”\n",
      "Warning message:\n",
      "“\u001b[1m\u001b[22mUnable to access items in \u001b[32mvarm\u001b[39m, attempting to convert the whole list. Access error message: \u001b[34m\"'match'\u001b[39m\n",
      "\u001b[34mrequires vector arguments\"\u001b[39m”\n",
      "Warning message:\n",
      "“\u001b[1m\u001b[22mUnable to access items in \u001b[32mobsm\u001b[39m, attempting to convert the whole list. Access error message: \u001b[34m\"'match'\u001b[39m\n",
      "\u001b[34mrequires vector arguments\"\u001b[39m”\n"
     ]
    }
   ],
   "source": [
    "sce_AT1 <- AnnData2SCE(\n",
    "  adata_AT1,\n",
    "  X_name = NULL, layers = TRUE, uns = TRUE, var = TRUE, obs = TRUE, varm = TRUE, obsm = TRUE, varp = TRUE, obsp = TRUE,\n",
    "  raw = FALSE, skip_assays = FALSE, hdf5_backed = TRUE, verbose = NULL\n",
    ")"
   ]
  },
  {
   "cell_type": "code",
   "execution_count": null,
   "id": "1b2a300b-8a97-4e2e-b88a-782cc108da91",
   "metadata": {},
   "outputs": [],
   "source": []
  },
  {
   "cell_type": "code",
   "execution_count": 14,
   "id": "109e4012-3e63-4227-8d06-b106ee12cdc0",
   "metadata": {},
   "outputs": [
    {
     "name": "stderr",
     "output_type": "stream",
     "text": [
      "Warning message in gzfile(file, \"rb\"):\n",
      "“cannot open compressed file '/home/sch/schonner/MaPra/merged_data_old_pseudobulk_sce.rds', probable reason 'No such file or directory'”\n"
     ]
    },
    {
     "ename": "ERROR",
     "evalue": "Error in gzfile(file, \"rb\"): cannot open the connection\n",
     "output_type": "error",
     "traceback": [
      "Error in gzfile(file, \"rb\"): cannot open the connection\nTraceback:\n",
      "1. readRDS(\"/home/sch/schonner/MaPra/merged_data_old_pseudobulk_sce.rds\", \n .     refhook = NULL)",
      "2. gzfile(file, \"rb\")"
     ]
    }
   ],
   "source": [
    "rds_pb <- readRDS(\"/home/sch/schonner/MaPra/merged_data_old_pseudobulk_sce.rds\", refhook = NULL)"
   ]
  },
  {
   "cell_type": "code",
   "execution_count": 25,
   "id": "03160133-39a0-46ba-8a6f-7948d084ac5a",
   "metadata": {},
   "outputs": [
    {
     "data": {
      "text/plain": [
       "NULL"
      ]
     },
     "metadata": {},
     "output_type": "display_data"
    }
   ],
   "source": [
    "rds_pb$obs"
   ]
  },
  {
   "cell_type": "code",
   "execution_count": 45,
   "id": "46682cbf-25bc-4ab9-9383-d8f845944e1a",
   "metadata": {},
   "outputs": [
    {
     "name": "stderr",
     "output_type": "stream",
     "text": [
      "Repeated column names found in count matrix\n",
      "\n"
     ]
    },
    {
     "name": "stdout",
     "output_type": "stream",
     "text": [
      "[1] \"Dimensions before subsetting:\"\n",
      "[1] 18031   134\n",
      "[1] \"\"\n",
      "[1] \"Dimensions after subsetting:\"\n",
      "[1] 1321  134\n",
      "[1] \"\"\n"
     ]
    },
    {
     "ename": "ERROR",
     "evalue": "Error in glmFit.default(sely, design, offset = seloffset, dispersion = 0.05, : Design matrix not of full rank.  The following coefficients not estimable:\n batchmuc4656\n",
     "output_type": "error",
     "traceback": [
      "Error in glmFit.default(sely, design, offset = seloffset, dispersion = 0.05, : Design matrix not of full rank.  The following coefficients not estimable:\n batchmuc4656\nTraceback:\n",
      "1. fit_model(rds_pb)",
      "2. estimateDisp(y, design = design)   # at line 21 of file <text>",
      "3. estimateDisp.DGEList(y, design = design)",
      "4. estimateDisp(y = y$counts, design = design, group = group, lib.size = lib.size, \n .     offset = getOffset(y), prior.df = prior.df, trend.method = trend.method, \n .     tagwise = tagwise, span = span, min.row.sum = min.row.sum, \n .     grid.length = grid.length, grid.range = grid.range, robust = robust, \n .     winsor.tail.p = winsor.tail.p, tol = tol, weights = y$weights, \n .     ...)",
      "5. estimateDisp.default(y = y$counts, design = design, group = group, \n .     lib.size = lib.size, offset = getOffset(y), prior.df = prior.df, \n .     trend.method = trend.method, tagwise = tagwise, span = span, \n .     min.row.sum = min.row.sum, grid.length = grid.length, grid.range = grid.range, \n .     robust = robust, winsor.tail.p = winsor.tail.p, tol = tol, \n .     weights = y$weights, ...)",
      "6. glmFit(sely, design, offset = seloffset, dispersion = 0.05, prior.count = 0)",
      "7. glmFit.default(sely, design, offset = seloffset, dispersion = 0.05, \n .     prior.count = 0)",
      "8. stop(paste(\"Design matrix not of full rank.  The following coefficients not estimable:\\n\", \n .     paste(ne, collapse = \" \")))"
     ]
    }
   ],
   "source": [
    "outs <- fit_model(rds_pb)"
   ]
  },
  {
   "cell_type": "code",
   "execution_count": 10,
   "id": "03170bdf-b98b-41fe-b731-9c9621060834",
   "metadata": {},
   "outputs": [
    {
     "ename": "ERROR",
     "evalue": "Error in (function (classes, fdef, mtable) : unable to find an inherited method for function ‘assay’ for signature ‘\"AnnDataR6\", \"character\"’\n",
     "output_type": "error",
     "traceback": [
      "Error in (function (classes, fdef, mtable) : unable to find an inherited method for function ‘assay’ for signature ‘\"AnnDataR6\", \"character\"’\nTraceback:\n",
      "1. fit_model(adata_pb)",
      "2. DGEList(assay(adata_, \"X\"), group = colData(adata_)$condition)   # at line 3 of file <text>",
      "3. is.data.frame(counts)",
      "4. assay(adata_, \"X\")   # at line 3 of file <text>",
      "5. (function (classes, fdef, mtable) \n . {\n .     methods <- .findInheritedMethods(classes, fdef, mtable)\n .     if (length(methods) == 1L) \n .         return(methods[[1L]])\n .     else if (length(methods) == 0L) {\n .         cnames <- paste0(\"\\\"\", vapply(classes, as.character, \n .             \"\"), \"\\\"\", collapse = \", \")\n .         stop(gettextf(\"unable to find an inherited method for function %s for signature %s\", \n .             sQuote(fdef@generic), sQuote(cnames)), domain = NA)\n .     }\n .     else stop(\"Internal error in finding inherited methods; didn't return a unique method\", \n .         domain = NA)\n . })(list(\"AnnDataR6\", \"character\"), new(\"standardGeneric\", .Data = function (x, \n .     i, withDimnames = TRUE, ...) \n . standardGeneric(\"assay\"), generic = structure(\"assay\", package = \"SummarizedExperiment\"), \n .     package = \"SummarizedExperiment\", group = list(), valueClass = character(0), \n .     signature = c(\"x\", \"i\"), default = NULL, skeleton = (function (x, \n .         i, withDimnames = TRUE, ...) \n .     stop(gettextf(\"invalid call in method dispatch to '%s' (no default method)\", \n .         \"assay\"), domain = NA))(x, i, withDimnames, ...)), <environment>)",
      "6. stop(gettextf(\"unable to find an inherited method for function %s for signature %s\", \n .     sQuote(fdef@generic), sQuote(cnames)), domain = NA)"
     ]
    }
   ],
   "source": [
    "outs <- fit_model(adata_pb)"
   ]
  },
  {
   "cell_type": "code",
   "execution_count": null,
   "id": "de6eb4e2-6c44-4701-b847-ef5e9823dc8c",
   "metadata": {},
   "outputs": [],
   "source": []
  },
  {
   "cell_type": "code",
   "execution_count": null,
   "id": "63a43998-2866-47f9-b06f-7b7750a1e85b",
   "metadata": {},
   "outputs": [],
   "source": []
  },
  {
   "cell_type": "code",
   "execution_count": null,
   "id": "86ea23b2-7178-455e-ad7b-18cbd46db7ba",
   "metadata": {},
   "outputs": [],
   "source": [
    "fit <- outs$fit\n",
    "y <- outs$y"
   ]
  },
  {
   "cell_type": "code",
   "execution_count": null,
   "id": "84c8ba28-0a48-4a0a-84ab-6155f6680c35",
   "metadata": {},
   "outputs": [],
   "source": [
    "plotMDS(y, col=ifelse(y$samples$group == \"stim\", \"red\", \"blue\"))"
   ]
  },
  {
   "cell_type": "code",
   "execution_count": null,
   "id": "6963260d-daf3-4b76-8e64-84777f3524c0",
   "metadata": {},
   "outputs": [],
   "source": [
    "plotBCV(y)"
   ]
  },
  {
   "cell_type": "code",
   "execution_count": null,
   "id": "92d3dc6a-7b02-44aa-851d-8a4b5f5c443c",
   "metadata": {},
   "outputs": [],
   "source": [
    "myContrast <- makeContrasts('groupstim.AT1-groupctrl.AT1', levels = y$design)\n",
    "qlf <- glmQLFTest(fit, contrast=myContrast)\n",
    "# get all of the DE genes and calculate Benjamini-Hochberg adjusted FDR\n",
    "tt <- topTags(qlf, n = Inf)\n",
    "tt <- tt$table"
   ]
  },
  {
   "cell_type": "code",
   "execution_count": null,
   "id": "b7530908-0284-45a6-964f-2f96380701a8",
   "metadata": {},
   "outputs": [],
   "source": [
    "tr <- glmTreat(fit, contrast=myContrast, lfc=1.5)\n",
    "print(head(topTags(tr)))"
   ]
  },
  {
   "cell_type": "code",
   "execution_count": null,
   "id": "75a7af2a-df0b-47e5-a74e-5e7bbbee64ea",
   "metadata": {},
   "outputs": [],
   "source": [
    "plotSmear(qlf, de.tags = rownames(tt)[which(tt$FDR<0.01)])"
   ]
  },
  {
   "cell_type": "markdown",
   "id": "409ed3c7-e8db-4f79-a29a-c291a3efe198",
   "metadata": {},
   "source": [
    "### 2.2 Multiple groups"
   ]
  },
  {
   "cell_type": "code",
   "execution_count": 11,
   "id": "6b5a88cf-2987-48af-9edb-555499926a2c",
   "metadata": {},
   "outputs": [
    {
     "ename": "ERROR",
     "evalue": "Error in assay(adata_, \"X\"): could not find function \"assay\"\n",
     "output_type": "error",
     "traceback": [
      "Error in assay(adata_, \"X\"): could not find function \"assay\"\nTraceback:\n",
      "1. fit_model(adata_pb)",
      "2. DGEList(assay(adata_, \"X\"), group = colData(adata_)$condition)   # at line 3 of file <text>",
      "3. is.data.frame(counts)"
     ]
    }
   ],
   "source": [
    "outs <-fit_model(adata_pb)"
   ]
  },
  {
   "cell_type": "code",
   "execution_count": null,
   "id": "a83b89a0-2a05-4ebb-9c6f-3f52a45a9e3c",
   "metadata": {},
   "outputs": [],
   "source": []
  }
 ],
 "metadata": {
  "kernelspec": {
   "display_name": "R",
   "language": "R",
   "name": "ir"
  },
  "language_info": {
   "codemirror_mode": "r",
   "file_extension": ".r",
   "mimetype": "text/x-r-source",
   "name": "R",
   "pygments_lexer": "r",
   "version": "4.2.3"
  }
 },
 "nbformat": 4,
 "nbformat_minor": 5
}
