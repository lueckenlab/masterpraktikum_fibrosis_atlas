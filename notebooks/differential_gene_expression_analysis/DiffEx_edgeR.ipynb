{
 "cells": [
  {
   "cell_type": "markdown",
   "id": "de777fdd-a791-4516-ad6a-9e0f229f65fd",
   "metadata": {},
   "source": [
    "# Differential gene expression analysis - code example for edgeR (pseudobulk)\n",
    "Using the data set Misharin."
   ]
  },
  {
   "cell_type": "code",
   "execution_count": 1,
   "id": "8ab993e0-ddfd-46c6-93c4-d54c40aa278d",
   "metadata": {},
   "outputs": [
    {
     "name": "stderr",
     "output_type": "stream",
     "text": [
      "Loading required package: limma\n",
      "\n"
     ]
    }
   ],
   "source": [
    "library(edgeR)\n",
    "library(anndata)"
   ]
  },
  {
   "cell_type": "code",
   "execution_count": 2,
   "id": "5652ac0d-7bd8-40c7-a9e8-078c6124074f",
   "metadata": {},
   "outputs": [
    {
     "data": {
      "text/plain": [
       "AnnData object with n_obs × n_vars = 31 × 17824\n",
       "    obs: 'condition', 'manual_celltype_annotation', 'batch', 'sample', 'author_annotation', 'lib_size', 'log_lib_size'\n",
       "    uns: 'author_annotation_colors', 'batch_colors', 'condition_colors', 'log1p', 'manual_celltype_annotation_colors', 'pca', 'sample_colors'\n",
       "    obsm: 'X_pca'\n",
       "    varm: 'PCs'\n",
       "    layers: 'counts'"
      ]
     },
     "metadata": {},
     "output_type": "display_data"
    }
   ],
   "source": [
    "file_name <- '/home/sch/schonner/MaPra/misharin_for_diffEx_edgeR_test.h5ad'\n",
    "adata_pb <- read_h5ad(file_name)\n",
    "adata_pb"
   ]
  },
  {
   "cell_type": "code",
   "execution_count": 3,
   "id": "44e10095-134a-4b8b-b789-811f87ed67bf",
   "metadata": {},
   "outputs": [
    {
     "name": "stderr",
     "output_type": "stream",
     "text": [
      "Warning message in py_to_r.pandas.core.frame.DataFrame(x):\n",
      "“index contains duplicated values: row names not set”\n"
     ]
    },
    {
     "data": {
      "text/html": [
       "<table class=\"dataframe\">\n",
       "<caption>A data.frame: 5 × 7</caption>\n",
       "<thead>\n",
       "\t<tr><th></th><th scope=col>condition</th><th scope=col>manual_celltype_annotation</th><th scope=col>batch</th><th scope=col>sample</th><th scope=col>author_annotation</th><th scope=col>lib_size</th><th scope=col>log_lib_size</th></tr>\n",
       "\t<tr><th></th><th scope=col>&lt;fct&gt;</th><th scope=col>&lt;fct&gt;</th><th scope=col>&lt;fct&gt;</th><th scope=col>&lt;fct&gt;</th><th scope=col>&lt;fct&gt;</th><th scope=col>&lt;dbl&gt;</th><th scope=col>&lt;dbl&gt;</th></tr>\n",
       "</thead>\n",
       "<tbody>\n",
       "\t<tr><th scope=row>1</th><td>control </td><td>AT1                 </td><td>0</td><td>0_control </td><td>AT1 cells</td><td>  174455</td><td>12.06942</td></tr>\n",
       "\t<tr><th scope=row>2</th><td>asbestos</td><td>AT1                 </td><td>1</td><td>1_asbestos</td><td>AT1 cells</td><td>  162594</td><td>11.99901</td></tr>\n",
       "\t<tr><th scope=row>3</th><td>control </td><td>AT2                 </td><td>0</td><td>0_control </td><td>AT2      </td><td> 7514408</td><td>15.83233</td></tr>\n",
       "\t<tr><th scope=row>4</th><td>asbestos</td><td>AT2                 </td><td>1</td><td>1_asbestos</td><td>AT2      </td><td>12162263</td><td>16.31385</td></tr>\n",
       "\t<tr><th scope=row>5</th><td>control </td><td>Alveolar_macrophages</td><td>0</td><td>0_control </td><td>AM       </td><td> 3936244</td><td>15.18574</td></tr>\n",
       "</tbody>\n",
       "</table>\n"
      ],
      "text/latex": [
       "A data.frame: 5 × 7\n",
       "\\begin{tabular}{r|lllllll}\n",
       "  & condition & manual\\_celltype\\_annotation & batch & sample & author\\_annotation & lib\\_size & log\\_lib\\_size\\\\\n",
       "  & <fct> & <fct> & <fct> & <fct> & <fct> & <dbl> & <dbl>\\\\\n",
       "\\hline\n",
       "\t1 & control  & AT1                  & 0 & 0\\_control  & AT1 cells &   174455 & 12.06942\\\\\n",
       "\t2 & asbestos & AT1                  & 1 & 1\\_asbestos & AT1 cells &   162594 & 11.99901\\\\\n",
       "\t3 & control  & AT2                  & 0 & 0\\_control  & AT2       &  7514408 & 15.83233\\\\\n",
       "\t4 & asbestos & AT2                  & 1 & 1\\_asbestos & AT2       & 12162263 & 16.31385\\\\\n",
       "\t5 & control  & Alveolar\\_macrophages & 0 & 0\\_control  & AM        &  3936244 & 15.18574\\\\\n",
       "\\end{tabular}\n"
      ],
      "text/markdown": [
       "\n",
       "A data.frame: 5 × 7\n",
       "\n",
       "| <!--/--> | condition &lt;fct&gt; | manual_celltype_annotation &lt;fct&gt; | batch &lt;fct&gt; | sample &lt;fct&gt; | author_annotation &lt;fct&gt; | lib_size &lt;dbl&gt; | log_lib_size &lt;dbl&gt; |\n",
       "|---|---|---|---|---|---|---|---|\n",
       "| 1 | control  | AT1                  | 0 | 0_control  | AT1 cells |   174455 | 12.06942 |\n",
       "| 2 | asbestos | AT1                  | 1 | 1_asbestos | AT1 cells |   162594 | 11.99901 |\n",
       "| 3 | control  | AT2                  | 0 | 0_control  | AT2       |  7514408 | 15.83233 |\n",
       "| 4 | asbestos | AT2                  | 1 | 1_asbestos | AT2       | 12162263 | 16.31385 |\n",
       "| 5 | control  | Alveolar_macrophages | 0 | 0_control  | AM        |  3936244 | 15.18574 |\n",
       "\n"
      ],
      "text/plain": [
       "  condition manual_celltype_annotation batch sample     author_annotation\n",
       "1 control   AT1                        0     0_control  AT1 cells        \n",
       "2 asbestos  AT1                        1     1_asbestos AT1 cells        \n",
       "3 control   AT2                        0     0_control  AT2              \n",
       "4 asbestos  AT2                        1     1_asbestos AT2              \n",
       "5 control   Alveolar_macrophages       0     0_control  AM               \n",
       "  lib_size log_lib_size\n",
       "1   174455 12.06942    \n",
       "2   162594 11.99901    \n",
       "3  7514408 15.83233    \n",
       "4 12162263 16.31385    \n",
       "5  3936244 15.18574    "
      ]
     },
     "metadata": {},
     "output_type": "display_data"
    }
   ],
   "source": [
    "adata_pb$obs[1:5, ]"
   ]
  },
  {
   "cell_type": "markdown",
   "id": "6d8178da-94a9-4422-be5f-85abfef26ef3",
   "metadata": {},
   "source": [
    "## 1. Preparing some functions"
   ]
  },
  {
   "cell_type": "markdown",
   "id": "0a7a49a6-a5a4-482c-956b-4d89b62ff4c1",
   "metadata": {},
   "source": [
    "### Separate function to fit an edgeR GLM:"
   ]
  },
  {
   "cell_type": "code",
   "execution_count": 4,
   "id": "f065aeb8-e7ba-4b09-a48f-1d68b6b1cd13",
   "metadata": {},
   "outputs": [],
   "source": [
    "fit_model <- function(adata_){\n",
    "    # create an edgeR object with counts and grouping factor\n",
    "    y <- DGEList(assay(adata_, \"X\"), group = colData(adata_)$condition)\n",
    "    # filter out genes with low counts\n",
    "    print(\"Dimensions before subsetting:\")\n",
    "    print(dim(y))\n",
    "    print(\"\")\n",
    "    keep <- filterByExpr(y)\n",
    "    y <- y[keep, , keep.lib.sizes=FALSE]\n",
    "    print(\"Dimensions after subsetting:\")\n",
    "    print(dim(y))\n",
    "    print(\"\")\n",
    "    # normalize\n",
    "    y <- calcNormFactors(y)\n",
    "    # create a vector that is concatentation of condition and cell type that we will later use with contrasts\n",
    "    group <- paste0(colData(adata_)$condition, \".\", colData(adata_)$manual_celltype_annotation)\n",
    "    replicate <- colData(adata_)$batch\n",
    "    # create a design matrix: here we have multiple donors so also consider that in the design matrix\n",
    "    design <- model.matrix(~ 0 + group + batch)\n",
    "    # estimate dispersion\n",
    "    y <- estimateDisp(y, design = design)\n",
    "    # fit the model\n",
    "    fit <- glmQLFit(y, design)\n",
    "    return(list(\"fit\"=fit, \"design\"=design, \"y\"=y))\n",
    "}"
   ]
  },
  {
   "cell_type": "markdown",
   "id": "c3ab3b0b-b296-40ca-b490-7bddfe0d8152",
   "metadata": {},
   "source": [
    "## 2. Pseudobulk"
   ]
  },
  {
   "cell_type": "markdown",
   "id": "ee0b45f2-e5fb-46f7-acc0-e449cfd0b66b",
   "metadata": {},
   "source": [
    "### 2.1 One group"
   ]
  },
  {
   "cell_type": "code",
   "execution_count": 5,
   "id": "05a91a95-dd2a-40a4-92aa-b5de561ed159",
   "metadata": {},
   "outputs": [
    {
     "name": "stderr",
     "output_type": "stream",
     "text": [
      "Warning message in py_to_r.pandas.core.frame.DataFrame(x):\n",
      "“index contains duplicated values: row names not set”\n"
     ]
    },
    {
     "data": {
      "text/plain": [
       "View of AnnData object with n_obs × n_vars = 2 × 17824\n",
       "    obs: 'condition', 'manual_celltype_annotation', 'batch', 'sample', 'author_annotation', 'lib_size', 'log_lib_size'\n",
       "    uns: 'author_annotation_colors', 'batch_colors', 'condition_colors', 'log1p', 'manual_celltype_annotation_colors', 'pca', 'sample_colors'\n",
       "    obsm: 'X_pca'\n",
       "    varm: 'PCs'\n",
       "    layers: 'counts'"
      ]
     },
     "metadata": {},
     "output_type": "display_data"
    }
   ],
   "source": [
    "adata_AT1 <- adata_pb[adata_pb$obs[\"manual_celltype_annotation\"] == \"AT1\"]\n",
    "adata_AT1"
   ]
  },
  {
   "cell_type": "code",
   "execution_count": 6,
   "id": "46682cbf-25bc-4ab9-9383-d8f845944e1a",
   "metadata": {},
   "outputs": [
    {
     "ename": "ERROR",
     "evalue": "Error in assay(adata_, \"X\"): could not find function \"assay\"\n",
     "output_type": "error",
     "traceback": [
      "Error in assay(adata_, \"X\"): could not find function \"assay\"\nTraceback:\n",
      "1. fit_model(adata_AT1)",
      "2. DGEList(assay(adata_, \"X\"), group = colData(adata_)$condition)   # at line 3 of file <text>",
      "3. is.data.frame(counts)"
     ]
    }
   ],
   "source": [
    "outs <- fit_model(adata_AT1)"
   ]
  },
  {
   "cell_type": "code",
   "execution_count": null,
   "id": "86ea23b2-7178-455e-ad7b-18cbd46db7ba",
   "metadata": {},
   "outputs": [],
   "source": [
    "fit <- outs$fit\n",
    "y <- outs$y"
   ]
  },
  {
   "cell_type": "code",
   "execution_count": null,
   "id": "84c8ba28-0a48-4a0a-84ab-6155f6680c35",
   "metadata": {},
   "outputs": [],
   "source": [
    "plotMDS(y, col=ifelse(y$samples$group == \"stim\", \"red\", \"blue\"))"
   ]
  },
  {
   "cell_type": "code",
   "execution_count": null,
   "id": "6963260d-daf3-4b76-8e64-84777f3524c0",
   "metadata": {},
   "outputs": [],
   "source": [
    "plotBCV(y)"
   ]
  },
  {
   "cell_type": "code",
   "execution_count": null,
   "id": "92d3dc6a-7b02-44aa-851d-8a4b5f5c443c",
   "metadata": {},
   "outputs": [],
   "source": [
    "myContrast <- makeContrasts('groupstim.AT1-groupctrl.AT1', levels = y$design)\n",
    "qlf <- glmQLFTest(fit, contrast=myContrast)\n",
    "# get all of the DE genes and calculate Benjamini-Hochberg adjusted FDR\n",
    "tt <- topTags(qlf, n = Inf)\n",
    "tt <- tt$table"
   ]
  },
  {
   "cell_type": "code",
   "execution_count": null,
   "id": "b7530908-0284-45a6-964f-2f96380701a8",
   "metadata": {},
   "outputs": [],
   "source": [
    "tr <- glmTreat(fit, contrast=myContrast, lfc=1.5)\n",
    "print(head(topTags(tr)))"
   ]
  },
  {
   "cell_type": "code",
   "execution_count": null,
   "id": "75a7af2a-df0b-47e5-a74e-5e7bbbee64ea",
   "metadata": {},
   "outputs": [],
   "source": [
    "plotSmear(qlf, de.tags = rownames(tt)[which(tt$FDR<0.01)])"
   ]
  },
  {
   "cell_type": "markdown",
   "id": "409ed3c7-e8db-4f79-a29a-c291a3efe198",
   "metadata": {},
   "source": [
    "### 2.2 Multiple groups"
   ]
  },
  {
   "cell_type": "code",
   "execution_count": 44,
   "id": "6b5a88cf-2987-48af-9edb-555499926a2c",
   "metadata": {},
   "outputs": [
    {
     "ename": "ERROR",
     "evalue": "Error in (function (classes, fdef, mtable) : unable to find an inherited method for function ‘assay’ for signature ‘\"AnnDataR6\", \"character\"’\n",
     "output_type": "error",
     "traceback": [
      "Error in (function (classes, fdef, mtable) : unable to find an inherited method for function ‘assay’ for signature ‘\"AnnDataR6\", \"character\"’\nTraceback:\n",
      "1. fit_model(adata_pb)",
      "2. DGEList(assay(adata_, \"X\"), group = colData(adata_)$condition)   # at line 3 of file <text>",
      "3. is.data.frame(counts)",
      "4. assay(adata_, \"X\")   # at line 3 of file <text>",
      "5. (function (classes, fdef, mtable) \n . {\n .     methods <- .findInheritedMethods(classes, fdef, mtable)\n .     if (length(methods) == 1L) \n .         return(methods[[1L]])\n .     else if (length(methods) == 0L) {\n .         cnames <- paste0(\"\\\"\", vapply(classes, as.character, \n .             \"\"), \"\\\"\", collapse = \", \")\n .         stop(gettextf(\"unable to find an inherited method for function %s for signature %s\", \n .             sQuote(fdef@generic), sQuote(cnames)), domain = NA)\n .     }\n .     else stop(\"Internal error in finding inherited methods; didn't return a unique method\", \n .         domain = NA)\n . })(list(\"AnnDataR6\", \"character\"), new(\"standardGeneric\", .Data = function (x, \n .     i, withDimnames = TRUE, ...) \n . standardGeneric(\"assay\"), generic = structure(\"assay\", package = \"SummarizedExperiment\"), \n .     package = \"SummarizedExperiment\", group = list(), valueClass = character(0), \n .     signature = c(\"x\", \"i\"), default = NULL, skeleton = (function (x, \n .         i, withDimnames = TRUE, ...) \n .     stop(gettextf(\"invalid call in method dispatch to '%s' (no default method)\", \n .         \"assay\"), domain = NA))(x, i, withDimnames, ...)), <environment>)",
      "6. stop(gettextf(\"unable to find an inherited method for function %s for signature %s\", \n .     sQuote(fdef@generic), sQuote(cnames)), domain = NA)"
     ]
    }
   ],
   "source": [
    "outs <-fit_model(adata_pb)"
   ]
  },
  {
   "cell_type": "code",
   "execution_count": null,
   "id": "a83b89a0-2a05-4ebb-9c6f-3f52a45a9e3c",
   "metadata": {},
   "outputs": [],
   "source": []
  }
 ],
 "metadata": {
  "kernelspec": {
   "display_name": "R",
   "language": "R",
   "name": "ir"
  },
  "language_info": {
   "codemirror_mode": "r",
   "file_extension": ".r",
   "mimetype": "text/x-r-source",
   "name": "R",
   "pygments_lexer": "r",
   "version": "4.2.3"
  }
 },
 "nbformat": 4,
 "nbformat_minor": 5
}
