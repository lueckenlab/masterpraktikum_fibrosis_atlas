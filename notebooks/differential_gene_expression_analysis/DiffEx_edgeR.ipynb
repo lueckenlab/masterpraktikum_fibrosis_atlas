{
 "cells": [
  {
   "cell_type": "markdown",
   "id": "de777fdd-a791-4516-ad6a-9e0f229f65fd",
   "metadata": {},
   "source": [
    "# Differential gene expression analysis - code example for edgeR (pseudobulk)\n",
    "Using the data set Misharin."
   ]
  },
  {
   "cell_type": "code",
   "execution_count": 22,
   "id": "8ab993e0-ddfd-46c6-93c4-d54c40aa278d",
   "metadata": {},
   "outputs": [
    {
     "name": "stderr",
     "output_type": "stream",
     "text": [
      "Loading required package: SummarizedExperiment\n",
      "\n",
      "Loading required package: MatrixGenerics\n",
      "\n",
      "Loading required package: matrixStats\n",
      "\n",
      "\n",
      "Attaching package: ‘MatrixGenerics’\n",
      "\n",
      "\n",
      "The following objects are masked from ‘package:matrixStats’:\n",
      "\n",
      "    colAlls, colAnyNAs, colAnys, colAvgsPerRowSet, colCollapse,\n",
      "    colCounts, colCummaxs, colCummins, colCumprods, colCumsums,\n",
      "    colDiffs, colIQRDiffs, colIQRs, colLogSumExps, colMadDiffs,\n",
      "    colMads, colMaxs, colMeans2, colMedians, colMins, colOrderStats,\n",
      "    colProds, colQuantiles, colRanges, colRanks, colSdDiffs, colSds,\n",
      "    colSums2, colTabulates, colVarDiffs, colVars, colWeightedMads,\n",
      "    colWeightedMeans, colWeightedMedians, colWeightedSds,\n",
      "    colWeightedVars, rowAlls, rowAnyNAs, rowAnys, rowAvgsPerColSet,\n",
      "    rowCollapse, rowCounts, rowCummaxs, rowCummins, rowCumprods,\n",
      "    rowCumsums, rowDiffs, rowIQRDiffs, rowIQRs, rowLogSumExps,\n",
      "    rowMadDiffs, rowMads, rowMaxs, rowMeans2, rowMedians, rowMins,\n",
      "    rowOrderStats, rowProds, rowQuantiles, rowRanges, rowRanks,\n",
      "    rowSdDiffs, rowSds, rowSums2, rowTabulates, rowVarDiffs, rowVars,\n",
      "    rowWeightedMads, rowWeightedMeans, rowWeightedMedians,\n",
      "    rowWeightedSds, rowWeightedVars\n",
      "\n",
      "\n",
      "Loading required package: GenomicRanges\n",
      "\n",
      "Loading required package: stats4\n",
      "\n",
      "Loading required package: BiocGenerics\n",
      "\n",
      "\n",
      "Attaching package: ‘BiocGenerics’\n",
      "\n",
      "\n",
      "The following object is masked from ‘package:limma’:\n",
      "\n",
      "    plotMA\n",
      "\n",
      "\n",
      "The following objects are masked from ‘package:stats’:\n",
      "\n",
      "    IQR, mad, sd, var, xtabs\n",
      "\n",
      "\n",
      "The following objects are masked from ‘package:base’:\n",
      "\n",
      "    anyDuplicated, aperm, append, as.data.frame, basename, cbind,\n",
      "    colnames, dirname, do.call, duplicated, eval, evalq, Filter, Find,\n",
      "    get, grep, grepl, intersect, is.unsorted, lapply, Map, mapply,\n",
      "    match, mget, order, paste, pmax, pmax.int, pmin, pmin.int,\n",
      "    Position, rank, rbind, Reduce, rownames, sapply, setdiff, sort,\n",
      "    table, tapply, union, unique, unsplit, which.max, which.min\n",
      "\n",
      "\n",
      "Loading required package: S4Vectors\n",
      "\n",
      "\n",
      "Attaching package: ‘S4Vectors’\n",
      "\n",
      "\n",
      "The following objects are masked from ‘package:base’:\n",
      "\n",
      "    expand.grid, I, unname\n",
      "\n",
      "\n",
      "Loading required package: IRanges\n",
      "\n",
      "Loading required package: GenomeInfoDb\n",
      "\n",
      "Loading required package: Biobase\n",
      "\n",
      "Welcome to Bioconductor\n",
      "\n",
      "    Vignettes contain introductory material; view with\n",
      "    'browseVignettes()'. To cite Bioconductor, see\n",
      "    'citation(\"Biobase\")', and for packages 'citation(\"pkgname\")'.\n",
      "\n",
      "\n",
      "\n",
      "Attaching package: ‘Biobase’\n",
      "\n",
      "\n",
      "The following object is masked from ‘package:MatrixGenerics’:\n",
      "\n",
      "    rowMedians\n",
      "\n",
      "\n",
      "The following objects are masked from ‘package:matrixStats’:\n",
      "\n",
      "    anyMissing, rowMedians\n",
      "\n",
      "\n",
      "\n",
      "Attaching package: ‘SingleCellExperiment’\n",
      "\n",
      "\n",
      "The following object is masked from ‘package:edgeR’:\n",
      "\n",
      "    cpm\n",
      "\n",
      "\n"
     ]
    }
   ],
   "source": [
    "library(edgeR)\n",
    "library(anndata)\n",
    "library(zellkonverter)\n",
    "library(SingleCellExperiment)"
   ]
  },
  {
   "cell_type": "code",
   "execution_count": 7,
   "id": "5652ac0d-7bd8-40c7-a9e8-078c6124074f",
   "metadata": {},
   "outputs": [
    {
     "data": {
      "text/plain": [
       "AnnData object with n_obs × n_vars = 31 × 17824\n",
       "    obs: 'condition', 'manual_celltype_annotation', 'batch', 'sample', 'author_annotation', 'lib_size', 'log_lib_size'"
      ]
     },
     "metadata": {},
     "output_type": "display_data"
    }
   ],
   "source": [
    "file_name <- '/home/sch/schonner/MaPra/misharin_for_diffEx_edgeR_test2.h5ad'\n",
    "adata_pb <- read_h5ad(file_name)\n",
    "adata_pb"
   ]
  },
  {
   "cell_type": "code",
   "execution_count": 8,
   "id": "44e10095-134a-4b8b-b789-811f87ed67bf",
   "metadata": {},
   "outputs": [
    {
     "name": "stderr",
     "output_type": "stream",
     "text": [
      "Warning message in py_to_r.pandas.core.frame.DataFrame(x):\n",
      "“index contains duplicated values: row names not set”\n"
     ]
    },
    {
     "data": {
      "text/html": [
       "<table class=\"dataframe\">\n",
       "<caption>A data.frame: 5 × 7</caption>\n",
       "<thead>\n",
       "\t<tr><th></th><th scope=col>condition</th><th scope=col>manual_celltype_annotation</th><th scope=col>batch</th><th scope=col>sample</th><th scope=col>author_annotation</th><th scope=col>lib_size</th><th scope=col>log_lib_size</th></tr>\n",
       "\t<tr><th></th><th scope=col>&lt;fct&gt;</th><th scope=col>&lt;fct&gt;</th><th scope=col>&lt;fct&gt;</th><th scope=col>&lt;fct&gt;</th><th scope=col>&lt;fct&gt;</th><th scope=col>&lt;dbl&gt;</th><th scope=col>&lt;dbl&gt;</th></tr>\n",
       "</thead>\n",
       "<tbody>\n",
       "\t<tr><th scope=row>1</th><td>control </td><td>AT1                 </td><td>0</td><td>0_control </td><td>AT1 cells</td><td>  174455</td><td>12.06942</td></tr>\n",
       "\t<tr><th scope=row>2</th><td>asbestos</td><td>AT1                 </td><td>1</td><td>1_asbestos</td><td>AT1 cells</td><td>  162594</td><td>11.99901</td></tr>\n",
       "\t<tr><th scope=row>3</th><td>control </td><td>AT2                 </td><td>0</td><td>0_control </td><td>AT2      </td><td> 7514408</td><td>15.83233</td></tr>\n",
       "\t<tr><th scope=row>4</th><td>asbestos</td><td>AT2                 </td><td>1</td><td>1_asbestos</td><td>AT2      </td><td>12162263</td><td>16.31385</td></tr>\n",
       "\t<tr><th scope=row>5</th><td>control </td><td>Alveolar_macrophages</td><td>0</td><td>0_control </td><td>AM       </td><td> 3936244</td><td>15.18574</td></tr>\n",
       "</tbody>\n",
       "</table>\n"
      ],
      "text/latex": [
       "A data.frame: 5 × 7\n",
       "\\begin{tabular}{r|lllllll}\n",
       "  & condition & manual\\_celltype\\_annotation & batch & sample & author\\_annotation & lib\\_size & log\\_lib\\_size\\\\\n",
       "  & <fct> & <fct> & <fct> & <fct> & <fct> & <dbl> & <dbl>\\\\\n",
       "\\hline\n",
       "\t1 & control  & AT1                  & 0 & 0\\_control  & AT1 cells &   174455 & 12.06942\\\\\n",
       "\t2 & asbestos & AT1                  & 1 & 1\\_asbestos & AT1 cells &   162594 & 11.99901\\\\\n",
       "\t3 & control  & AT2                  & 0 & 0\\_control  & AT2       &  7514408 & 15.83233\\\\\n",
       "\t4 & asbestos & AT2                  & 1 & 1\\_asbestos & AT2       & 12162263 & 16.31385\\\\\n",
       "\t5 & control  & Alveolar\\_macrophages & 0 & 0\\_control  & AM        &  3936244 & 15.18574\\\\\n",
       "\\end{tabular}\n"
      ],
      "text/markdown": [
       "\n",
       "A data.frame: 5 × 7\n",
       "\n",
       "| <!--/--> | condition &lt;fct&gt; | manual_celltype_annotation &lt;fct&gt; | batch &lt;fct&gt; | sample &lt;fct&gt; | author_annotation &lt;fct&gt; | lib_size &lt;dbl&gt; | log_lib_size &lt;dbl&gt; |\n",
       "|---|---|---|---|---|---|---|---|\n",
       "| 1 | control  | AT1                  | 0 | 0_control  | AT1 cells |   174455 | 12.06942 |\n",
       "| 2 | asbestos | AT1                  | 1 | 1_asbestos | AT1 cells |   162594 | 11.99901 |\n",
       "| 3 | control  | AT2                  | 0 | 0_control  | AT2       |  7514408 | 15.83233 |\n",
       "| 4 | asbestos | AT2                  | 1 | 1_asbestos | AT2       | 12162263 | 16.31385 |\n",
       "| 5 | control  | Alveolar_macrophages | 0 | 0_control  | AM        |  3936244 | 15.18574 |\n",
       "\n"
      ],
      "text/plain": [
       "  condition manual_celltype_annotation batch sample     author_annotation\n",
       "1 control   AT1                        0     0_control  AT1 cells        \n",
       "2 asbestos  AT1                        1     1_asbestos AT1 cells        \n",
       "3 control   AT2                        0     0_control  AT2              \n",
       "4 asbestos  AT2                        1     1_asbestos AT2              \n",
       "5 control   Alveolar_macrophages       0     0_control  AM               \n",
       "  lib_size log_lib_size\n",
       "1   174455 12.06942    \n",
       "2   162594 11.99901    \n",
       "3  7514408 15.83233    \n",
       "4 12162263 16.31385    \n",
       "5  3936244 15.18574    "
      ]
     },
     "metadata": {},
     "output_type": "display_data"
    }
   ],
   "source": [
    "adata_pb$obs[1:5, ]"
   ]
  },
  {
   "cell_type": "code",
   "execution_count": 12,
   "id": "a6ce786b-fdcc-49c4-949f-a496fad45070",
   "metadata": {},
   "outputs": [
    {
     "data": {
      "text/html": [
       "<table class=\"dataframe\">\n",
       "<caption>A matrix: 31 × 17824 of type dbl</caption>\n",
       "<thead>\n",
       "\t<tr><th></th><th scope=col>Gm37381</th><th scope=col>Rp1</th><th scope=col>Sox17</th><th scope=col>Mrpl15</th><th scope=col>Lypla1</th><th scope=col>Gm37988</th><th scope=col>Tcea1</th><th scope=col>Rgs20</th><th scope=col>Atp6v1h</th><th scope=col>Rb1cc1</th><th scope=col>⋯</th><th scope=col>CR974586.5</th><th scope=col>Csprs</th><th scope=col>AC132444.6</th><th scope=col>AC125149.3</th><th scope=col>AC125149.2</th><th scope=col>AC168977.2</th><th scope=col>AC168977.1</th><th scope=col>PISD</th><th scope=col>DHRSX</th><th scope=col>CAAA01147332.1</th></tr>\n",
       "</thead>\n",
       "<tbody>\n",
       "\t<tr><th scope=row>donor_0_control_0</th><td> 0</td><td> 0</td><td> 0</td><td> 12</td><td> 19</td><td>0</td><td> 14</td><td>0</td><td> 10</td><td> 30</td><td>⋯</td><td>0</td><td> 0</td><td>0</td><td> 1</td><td>0</td><td>0</td><td>0</td><td>  14</td><td>  9</td><td> 0</td></tr>\n",
       "\t<tr><th scope=row>donor_1_asbestos_0</th><td> 0</td><td> 0</td><td> 0</td><td> 14</td><td> 10</td><td>0</td><td> 10</td><td>0</td><td>  7</td><td> 19</td><td>⋯</td><td>0</td><td> 0</td><td>0</td><td> 0</td><td>0</td><td>0</td><td>0</td><td>  10</td><td>  9</td><td> 0</td></tr>\n",
       "\t<tr><th scope=row>donor_0_control_0</th><td> 0</td><td> 0</td><td> 4</td><td>173</td><td>259</td><td>1</td><td>377</td><td>0</td><td>264</td><td>380</td><td>⋯</td><td>0</td><td> 1</td><td>0</td><td> 0</td><td>0</td><td>1</td><td>1</td><td> 972</td><td>185</td><td>10</td></tr>\n",
       "\t<tr><th scope=row>donor_1_asbestos_0</th><td> 0</td><td> 1</td><td>10</td><td>307</td><td>446</td><td>0</td><td>636</td><td>0</td><td>492</td><td>696</td><td>⋯</td><td>0</td><td> 0</td><td>1</td><td> 2</td><td>0</td><td>0</td><td>4</td><td>1519</td><td>378</td><td> 8</td></tr>\n",
       "\t<tr><th scope=row>donor_0_control_0</th><td> 0</td><td> 0</td><td> 5</td><td>262</td><td>202</td><td>0</td><td>399</td><td>0</td><td>225</td><td>238</td><td>⋯</td><td>0</td><td> 1</td><td>0</td><td> 1</td><td>0</td><td>0</td><td>0</td><td> 367</td><td>130</td><td> 5</td></tr>\n",
       "\t<tr><th scope=row>donor_1_asbestos_0</th><td> 1</td><td> 1</td><td>11</td><td>342</td><td>326</td><td>1</td><td>665</td><td>0</td><td>525</td><td>319</td><td>⋯</td><td>0</td><td> 0</td><td>0</td><td> 2</td><td>0</td><td>0</td><td>3</td><td> 607</td><td>288</td><td> 4</td></tr>\n",
       "\t<tr><th scope=row>donor_0_control_0</th><td> 0</td><td> 0</td><td> 0</td><td>121</td><td> 57</td><td>0</td><td>190</td><td>0</td><td> 67</td><td>120</td><td>⋯</td><td>0</td><td>16</td><td>1</td><td>19</td><td>0</td><td>0</td><td>4</td><td> 406</td><td> 57</td><td> 1</td></tr>\n",
       "\t<tr><th scope=row>donor_1_asbestos_0</th><td> 0</td><td> 0</td><td> 0</td><td> 54</td><td> 39</td><td>0</td><td> 90</td><td>0</td><td> 36</td><td> 51</td><td>⋯</td><td>0</td><td>10</td><td>2</td><td> 5</td><td>1</td><td>0</td><td>0</td><td> 182</td><td> 35</td><td> 1</td></tr>\n",
       "\t<tr><th scope=row>donor_0_control_0</th><td> 0</td><td> 0</td><td> 5</td><td>485</td><td>451</td><td>1</td><td>612</td><td>0</td><td>252</td><td>455</td><td>⋯</td><td>0</td><td> 1</td><td>0</td><td> 8</td><td>1</td><td>0</td><td>5</td><td> 493</td><td>305</td><td> 3</td></tr>\n",
       "\t<tr><th scope=row>donor_1_asbestos_0</th><td> 0</td><td> 0</td><td> 2</td><td> 86</td><td> 94</td><td>0</td><td>115</td><td>0</td><td> 64</td><td> 97</td><td>⋯</td><td>0</td><td> 0</td><td>0</td><td> 2</td><td>0</td><td>0</td><td>1</td><td>  91</td><td> 81</td><td> 1</td></tr>\n",
       "\t<tr><th scope=row>donor_0_control_0</th><td> 0</td><td> 0</td><td> 1</td><td>154</td><td>136</td><td>0</td><td>214</td><td>0</td><td> 78</td><td>112</td><td>⋯</td><td>0</td><td>13</td><td>0</td><td>12</td><td>0</td><td>1</td><td>1</td><td> 248</td><td> 94</td><td> 5</td></tr>\n",
       "\t<tr><th scope=row>donor_1_asbestos_0</th><td> 0</td><td> 0</td><td> 0</td><td>162</td><td>125</td><td>0</td><td>283</td><td>0</td><td> 82</td><td>118</td><td>⋯</td><td>0</td><td> 9</td><td>0</td><td> 2</td><td>0</td><td>1</td><td>0</td><td> 191</td><td>115</td><td> 9</td></tr>\n",
       "\t<tr><th scope=row>donor_1_asbestos_0</th><td> 0</td><td> 0</td><td> 0</td><td> 21</td><td> 14</td><td>0</td><td> 39</td><td>0</td><td> 14</td><td> 22</td><td>⋯</td><td>0</td><td> 0</td><td>0</td><td> 0</td><td>0</td><td>0</td><td>0</td><td>  78</td><td> 11</td><td> 2</td></tr>\n",
       "\t<tr><th scope=row>donor_0_control_0</th><td> 0</td><td> 0</td><td>81</td><td> 76</td><td> 68</td><td>0</td><td>106</td><td>0</td><td> 47</td><td>103</td><td>⋯</td><td>0</td><td> 0</td><td>0</td><td> 0</td><td>0</td><td>0</td><td>0</td><td> 133</td><td> 42</td><td> 3</td></tr>\n",
       "\t<tr><th scope=row>donor_1_asbestos_0</th><td> 0</td><td> 0</td><td>86</td><td> 54</td><td> 60</td><td>0</td><td>104</td><td>0</td><td> 51</td><td> 73</td><td>⋯</td><td>1</td><td> 0</td><td>0</td><td> 2</td><td>0</td><td>0</td><td>0</td><td>  96</td><td> 39</td><td> 7</td></tr>\n",
       "\t<tr><th scope=row>donor_0_control_0</th><td> 0</td><td> 0</td><td> 0</td><td> 59</td><td> 44</td><td>0</td><td> 73</td><td>0</td><td> 29</td><td> 54</td><td>⋯</td><td>0</td><td> 3</td><td>0</td><td> 0</td><td>0</td><td>0</td><td>0</td><td> 122</td><td> 39</td><td> 1</td></tr>\n",
       "\t<tr><th scope=row>donor_1_asbestos_0</th><td> 0</td><td> 1</td><td> 1</td><td>107</td><td> 87</td><td>0</td><td>192</td><td>0</td><td> 70</td><td>112</td><td>⋯</td><td>0</td><td> 3</td><td>0</td><td> 0</td><td>1</td><td>0</td><td>1</td><td> 268</td><td> 95</td><td> 5</td></tr>\n",
       "\t<tr><th scope=row>donor_0_control_0</th><td> 0</td><td> 0</td><td> 0</td><td> 17</td><td>  5</td><td>0</td><td> 26</td><td>0</td><td>  5</td><td> 19</td><td>⋯</td><td>0</td><td> 0</td><td>0</td><td> 0</td><td>0</td><td>0</td><td>0</td><td>  11</td><td> 10</td><td> 0</td></tr>\n",
       "\t<tr><th scope=row>donor_1_asbestos_0</th><td> 0</td><td> 0</td><td> 0</td><td> 11</td><td> 13</td><td>0</td><td> 29</td><td>0</td><td> 13</td><td> 25</td><td>⋯</td><td>0</td><td> 0</td><td>0</td><td> 0</td><td>0</td><td>0</td><td>1</td><td>   7</td><td> 10</td><td> 1</td></tr>\n",
       "\t<tr><th scope=row>donor_0_control_0</th><td> 0</td><td> 0</td><td> 0</td><td> 12</td><td>  6</td><td>0</td><td> 21</td><td>0</td><td>  7</td><td> 21</td><td>⋯</td><td>0</td><td> 0</td><td>0</td><td> 0</td><td>0</td><td>0</td><td>0</td><td>  22</td><td>  5</td><td> 2</td></tr>\n",
       "\t<tr><th scope=row>donor_1_asbestos_0</th><td> 0</td><td> 0</td><td> 0</td><td> 15</td><td> 11</td><td>0</td><td> 30</td><td>0</td><td> 12</td><td> 31</td><td>⋯</td><td>4</td><td> 0</td><td>0</td><td> 0</td><td>0</td><td>0</td><td>0</td><td>  32</td><td>  7</td><td> 0</td></tr>\n",
       "\t<tr><th scope=row>donor_0_control_0</th><td> 0</td><td> 0</td><td> 3</td><td> 85</td><td> 51</td><td>0</td><td> 87</td><td>0</td><td> 26</td><td> 50</td><td>⋯</td><td>0</td><td> 0</td><td>0</td><td> 0</td><td>0</td><td>0</td><td>0</td><td> 189</td><td> 35</td><td> 1</td></tr>\n",
       "\t<tr><th scope=row>donor_1_asbestos_0</th><td> 0</td><td> 0</td><td> 4</td><td> 48</td><td> 29</td><td>0</td><td> 57</td><td>0</td><td> 16</td><td> 26</td><td>⋯</td><td>0</td><td> 1</td><td>0</td><td> 1</td><td>0</td><td>0</td><td>0</td><td>  65</td><td> 19</td><td> 3</td></tr>\n",
       "\t<tr><th scope=row>donor_0_control_0</th><td> 0</td><td> 0</td><td> 2</td><td> 20</td><td> 30</td><td>0</td><td> 48</td><td>0</td><td> 13</td><td>105</td><td>⋯</td><td>0</td><td> 3</td><td>0</td><td> 1</td><td>0</td><td>0</td><td>0</td><td>  77</td><td> 16</td><td> 0</td></tr>\n",
       "\t<tr><th scope=row>donor_1_asbestos_0</th><td> 0</td><td> 0</td><td> 0</td><td>  4</td><td>  8</td><td>0</td><td>  9</td><td>0</td><td>  7</td><td> 26</td><td>⋯</td><td>0</td><td> 1</td><td>0</td><td> 1</td><td>0</td><td>0</td><td>0</td><td>  19</td><td>  6</td><td> 1</td></tr>\n",
       "\t<tr><th scope=row>donor_0_control_0</th><td> 0</td><td> 0</td><td> 1</td><td> 47</td><td> 64</td><td>0</td><td>123</td><td>1</td><td> 37</td><td> 99</td><td>⋯</td><td>0</td><td> 1</td><td>1</td><td> 0</td><td>0</td><td>0</td><td>0</td><td> 102</td><td> 46</td><td> 0</td></tr>\n",
       "\t<tr><th scope=row>donor_1_asbestos_0</th><td> 0</td><td> 0</td><td> 0</td><td> 30</td><td> 31</td><td>0</td><td> 53</td><td>0</td><td> 21</td><td> 42</td><td>⋯</td><td>0</td><td> 0</td><td>0</td><td> 1</td><td>0</td><td>0</td><td>2</td><td>  43</td><td> 23</td><td> 0</td></tr>\n",
       "\t<tr><th scope=row>donor_0_control_0</th><td> 0</td><td> 0</td><td> 1</td><td>155</td><td> 44</td><td>0</td><td>134</td><td>0</td><td> 69</td><td> 98</td><td>⋯</td><td>0</td><td> 0</td><td>0</td><td> 0</td><td>0</td><td>0</td><td>1</td><td> 223</td><td> 30</td><td> 1</td></tr>\n",
       "\t<tr><th scope=row>donor_1_asbestos_0</th><td> 0</td><td> 0</td><td> 2</td><td>130</td><td> 66</td><td>0</td><td>141</td><td>0</td><td> 63</td><td>114</td><td>⋯</td><td>0</td><td> 0</td><td>0</td><td> 1</td><td>0</td><td>0</td><td>0</td><td> 216</td><td> 61</td><td> 1</td></tr>\n",
       "\t<tr><th scope=row>donor_0_control_0</th><td> 6</td><td>46</td><td> 0</td><td> 49</td><td> 55</td><td>0</td><td>104</td><td>2</td><td> 62</td><td>121</td><td>⋯</td><td>0</td><td> 0</td><td>0</td><td> 0</td><td>0</td><td>0</td><td>3</td><td> 865</td><td> 50</td><td> 2</td></tr>\n",
       "\t<tr><th scope=row>donor_1_asbestos_0</th><td>15</td><td>66</td><td> 2</td><td> 65</td><td> 72</td><td>0</td><td>137</td><td>0</td><td> 91</td><td>141</td><td>⋯</td><td>0</td><td> 0</td><td>0</td><td> 1</td><td>0</td><td>0</td><td>1</td><td> 918</td><td> 89</td><td> 3</td></tr>\n",
       "</tbody>\n",
       "</table>\n"
      ],
      "text/latex": [
       "A matrix: 31 × 17824 of type dbl\n",
       "\\begin{tabular}{r|lllllllllllllllllllll}\n",
       "  & Gm37381 & Rp1 & Sox17 & Mrpl15 & Lypla1 & Gm37988 & Tcea1 & Rgs20 & Atp6v1h & Rb1cc1 & ⋯ & CR974586.5 & Csprs & AC132444.6 & AC125149.3 & AC125149.2 & AC168977.2 & AC168977.1 & PISD & DHRSX & CAAA01147332.1\\\\\n",
       "\\hline\n",
       "\tdonor\\_0\\_control\\_0 &  0 &  0 &  0 &  12 &  19 & 0 &  14 & 0 &  10 &  30 & ⋯ & 0 &  0 & 0 &  1 & 0 & 0 & 0 &   14 &   9 &  0\\\\\n",
       "\tdonor\\_1\\_asbestos\\_0 &  0 &  0 &  0 &  14 &  10 & 0 &  10 & 0 &   7 &  19 & ⋯ & 0 &  0 & 0 &  0 & 0 & 0 & 0 &   10 &   9 &  0\\\\\n",
       "\tdonor\\_0\\_control\\_0 &  0 &  0 &  4 & 173 & 259 & 1 & 377 & 0 & 264 & 380 & ⋯ & 0 &  1 & 0 &  0 & 0 & 1 & 1 &  972 & 185 & 10\\\\\n",
       "\tdonor\\_1\\_asbestos\\_0 &  0 &  1 & 10 & 307 & 446 & 0 & 636 & 0 & 492 & 696 & ⋯ & 0 &  0 & 1 &  2 & 0 & 0 & 4 & 1519 & 378 &  8\\\\\n",
       "\tdonor\\_0\\_control\\_0 &  0 &  0 &  5 & 262 & 202 & 0 & 399 & 0 & 225 & 238 & ⋯ & 0 &  1 & 0 &  1 & 0 & 0 & 0 &  367 & 130 &  5\\\\\n",
       "\tdonor\\_1\\_asbestos\\_0 &  1 &  1 & 11 & 342 & 326 & 1 & 665 & 0 & 525 & 319 & ⋯ & 0 &  0 & 0 &  2 & 0 & 0 & 3 &  607 & 288 &  4\\\\\n",
       "\tdonor\\_0\\_control\\_0 &  0 &  0 &  0 & 121 &  57 & 0 & 190 & 0 &  67 & 120 & ⋯ & 0 & 16 & 1 & 19 & 0 & 0 & 4 &  406 &  57 &  1\\\\\n",
       "\tdonor\\_1\\_asbestos\\_0 &  0 &  0 &  0 &  54 &  39 & 0 &  90 & 0 &  36 &  51 & ⋯ & 0 & 10 & 2 &  5 & 1 & 0 & 0 &  182 &  35 &  1\\\\\n",
       "\tdonor\\_0\\_control\\_0 &  0 &  0 &  5 & 485 & 451 & 1 & 612 & 0 & 252 & 455 & ⋯ & 0 &  1 & 0 &  8 & 1 & 0 & 5 &  493 & 305 &  3\\\\\n",
       "\tdonor\\_1\\_asbestos\\_0 &  0 &  0 &  2 &  86 &  94 & 0 & 115 & 0 &  64 &  97 & ⋯ & 0 &  0 & 0 &  2 & 0 & 0 & 1 &   91 &  81 &  1\\\\\n",
       "\tdonor\\_0\\_control\\_0 &  0 &  0 &  1 & 154 & 136 & 0 & 214 & 0 &  78 & 112 & ⋯ & 0 & 13 & 0 & 12 & 0 & 1 & 1 &  248 &  94 &  5\\\\\n",
       "\tdonor\\_1\\_asbestos\\_0 &  0 &  0 &  0 & 162 & 125 & 0 & 283 & 0 &  82 & 118 & ⋯ & 0 &  9 & 0 &  2 & 0 & 1 & 0 &  191 & 115 &  9\\\\\n",
       "\tdonor\\_1\\_asbestos\\_0 &  0 &  0 &  0 &  21 &  14 & 0 &  39 & 0 &  14 &  22 & ⋯ & 0 &  0 & 0 &  0 & 0 & 0 & 0 &   78 &  11 &  2\\\\\n",
       "\tdonor\\_0\\_control\\_0 &  0 &  0 & 81 &  76 &  68 & 0 & 106 & 0 &  47 & 103 & ⋯ & 0 &  0 & 0 &  0 & 0 & 0 & 0 &  133 &  42 &  3\\\\\n",
       "\tdonor\\_1\\_asbestos\\_0 &  0 &  0 & 86 &  54 &  60 & 0 & 104 & 0 &  51 &  73 & ⋯ & 1 &  0 & 0 &  2 & 0 & 0 & 0 &   96 &  39 &  7\\\\\n",
       "\tdonor\\_0\\_control\\_0 &  0 &  0 &  0 &  59 &  44 & 0 &  73 & 0 &  29 &  54 & ⋯ & 0 &  3 & 0 &  0 & 0 & 0 & 0 &  122 &  39 &  1\\\\\n",
       "\tdonor\\_1\\_asbestos\\_0 &  0 &  1 &  1 & 107 &  87 & 0 & 192 & 0 &  70 & 112 & ⋯ & 0 &  3 & 0 &  0 & 1 & 0 & 1 &  268 &  95 &  5\\\\\n",
       "\tdonor\\_0\\_control\\_0 &  0 &  0 &  0 &  17 &   5 & 0 &  26 & 0 &   5 &  19 & ⋯ & 0 &  0 & 0 &  0 & 0 & 0 & 0 &   11 &  10 &  0\\\\\n",
       "\tdonor\\_1\\_asbestos\\_0 &  0 &  0 &  0 &  11 &  13 & 0 &  29 & 0 &  13 &  25 & ⋯ & 0 &  0 & 0 &  0 & 0 & 0 & 1 &    7 &  10 &  1\\\\\n",
       "\tdonor\\_0\\_control\\_0 &  0 &  0 &  0 &  12 &   6 & 0 &  21 & 0 &   7 &  21 & ⋯ & 0 &  0 & 0 &  0 & 0 & 0 & 0 &   22 &   5 &  2\\\\\n",
       "\tdonor\\_1\\_asbestos\\_0 &  0 &  0 &  0 &  15 &  11 & 0 &  30 & 0 &  12 &  31 & ⋯ & 4 &  0 & 0 &  0 & 0 & 0 & 0 &   32 &   7 &  0\\\\\n",
       "\tdonor\\_0\\_control\\_0 &  0 &  0 &  3 &  85 &  51 & 0 &  87 & 0 &  26 &  50 & ⋯ & 0 &  0 & 0 &  0 & 0 & 0 & 0 &  189 &  35 &  1\\\\\n",
       "\tdonor\\_1\\_asbestos\\_0 &  0 &  0 &  4 &  48 &  29 & 0 &  57 & 0 &  16 &  26 & ⋯ & 0 &  1 & 0 &  1 & 0 & 0 & 0 &   65 &  19 &  3\\\\\n",
       "\tdonor\\_0\\_control\\_0 &  0 &  0 &  2 &  20 &  30 & 0 &  48 & 0 &  13 & 105 & ⋯ & 0 &  3 & 0 &  1 & 0 & 0 & 0 &   77 &  16 &  0\\\\\n",
       "\tdonor\\_1\\_asbestos\\_0 &  0 &  0 &  0 &   4 &   8 & 0 &   9 & 0 &   7 &  26 & ⋯ & 0 &  1 & 0 &  1 & 0 & 0 & 0 &   19 &   6 &  1\\\\\n",
       "\tdonor\\_0\\_control\\_0 &  0 &  0 &  1 &  47 &  64 & 0 & 123 & 1 &  37 &  99 & ⋯ & 0 &  1 & 1 &  0 & 0 & 0 & 0 &  102 &  46 &  0\\\\\n",
       "\tdonor\\_1\\_asbestos\\_0 &  0 &  0 &  0 &  30 &  31 & 0 &  53 & 0 &  21 &  42 & ⋯ & 0 &  0 & 0 &  1 & 0 & 0 & 2 &   43 &  23 &  0\\\\\n",
       "\tdonor\\_0\\_control\\_0 &  0 &  0 &  1 & 155 &  44 & 0 & 134 & 0 &  69 &  98 & ⋯ & 0 &  0 & 0 &  0 & 0 & 0 & 1 &  223 &  30 &  1\\\\\n",
       "\tdonor\\_1\\_asbestos\\_0 &  0 &  0 &  2 & 130 &  66 & 0 & 141 & 0 &  63 & 114 & ⋯ & 0 &  0 & 0 &  1 & 0 & 0 & 0 &  216 &  61 &  1\\\\\n",
       "\tdonor\\_0\\_control\\_0 &  6 & 46 &  0 &  49 &  55 & 0 & 104 & 2 &  62 & 121 & ⋯ & 0 &  0 & 0 &  0 & 0 & 0 & 3 &  865 &  50 &  2\\\\\n",
       "\tdonor\\_1\\_asbestos\\_0 & 15 & 66 &  2 &  65 &  72 & 0 & 137 & 0 &  91 & 141 & ⋯ & 0 &  0 & 0 &  1 & 0 & 0 & 1 &  918 &  89 &  3\\\\\n",
       "\\end{tabular}\n"
      ],
      "text/markdown": [
       "\n",
       "A matrix: 31 × 17824 of type dbl\n",
       "\n",
       "| <!--/--> | Gm37381 | Rp1 | Sox17 | Mrpl15 | Lypla1 | Gm37988 | Tcea1 | Rgs20 | Atp6v1h | Rb1cc1 | ⋯ | CR974586.5 | Csprs | AC132444.6 | AC125149.3 | AC125149.2 | AC168977.2 | AC168977.1 | PISD | DHRSX | CAAA01147332.1 |\n",
       "|---|---|---|---|---|---|---|---|---|---|---|---|---|---|---|---|---|---|---|---|---|---|\n",
       "| donor_0_control_0 |  0 |  0 |  0 |  12 |  19 | 0 |  14 | 0 |  10 |  30 | ⋯ | 0 |  0 | 0 |  1 | 0 | 0 | 0 |   14 |   9 |  0 |\n",
       "| donor_1_asbestos_0 |  0 |  0 |  0 |  14 |  10 | 0 |  10 | 0 |   7 |  19 | ⋯ | 0 |  0 | 0 |  0 | 0 | 0 | 0 |   10 |   9 |  0 |\n",
       "| donor_0_control_0 |  0 |  0 |  4 | 173 | 259 | 1 | 377 | 0 | 264 | 380 | ⋯ | 0 |  1 | 0 |  0 | 0 | 1 | 1 |  972 | 185 | 10 |\n",
       "| donor_1_asbestos_0 |  0 |  1 | 10 | 307 | 446 | 0 | 636 | 0 | 492 | 696 | ⋯ | 0 |  0 | 1 |  2 | 0 | 0 | 4 | 1519 | 378 |  8 |\n",
       "| donor_0_control_0 |  0 |  0 |  5 | 262 | 202 | 0 | 399 | 0 | 225 | 238 | ⋯ | 0 |  1 | 0 |  1 | 0 | 0 | 0 |  367 | 130 |  5 |\n",
       "| donor_1_asbestos_0 |  1 |  1 | 11 | 342 | 326 | 1 | 665 | 0 | 525 | 319 | ⋯ | 0 |  0 | 0 |  2 | 0 | 0 | 3 |  607 | 288 |  4 |\n",
       "| donor_0_control_0 |  0 |  0 |  0 | 121 |  57 | 0 | 190 | 0 |  67 | 120 | ⋯ | 0 | 16 | 1 | 19 | 0 | 0 | 4 |  406 |  57 |  1 |\n",
       "| donor_1_asbestos_0 |  0 |  0 |  0 |  54 |  39 | 0 |  90 | 0 |  36 |  51 | ⋯ | 0 | 10 | 2 |  5 | 1 | 0 | 0 |  182 |  35 |  1 |\n",
       "| donor_0_control_0 |  0 |  0 |  5 | 485 | 451 | 1 | 612 | 0 | 252 | 455 | ⋯ | 0 |  1 | 0 |  8 | 1 | 0 | 5 |  493 | 305 |  3 |\n",
       "| donor_1_asbestos_0 |  0 |  0 |  2 |  86 |  94 | 0 | 115 | 0 |  64 |  97 | ⋯ | 0 |  0 | 0 |  2 | 0 | 0 | 1 |   91 |  81 |  1 |\n",
       "| donor_0_control_0 |  0 |  0 |  1 | 154 | 136 | 0 | 214 | 0 |  78 | 112 | ⋯ | 0 | 13 | 0 | 12 | 0 | 1 | 1 |  248 |  94 |  5 |\n",
       "| donor_1_asbestos_0 |  0 |  0 |  0 | 162 | 125 | 0 | 283 | 0 |  82 | 118 | ⋯ | 0 |  9 | 0 |  2 | 0 | 1 | 0 |  191 | 115 |  9 |\n",
       "| donor_1_asbestos_0 |  0 |  0 |  0 |  21 |  14 | 0 |  39 | 0 |  14 |  22 | ⋯ | 0 |  0 | 0 |  0 | 0 | 0 | 0 |   78 |  11 |  2 |\n",
       "| donor_0_control_0 |  0 |  0 | 81 |  76 |  68 | 0 | 106 | 0 |  47 | 103 | ⋯ | 0 |  0 | 0 |  0 | 0 | 0 | 0 |  133 |  42 |  3 |\n",
       "| donor_1_asbestos_0 |  0 |  0 | 86 |  54 |  60 | 0 | 104 | 0 |  51 |  73 | ⋯ | 1 |  0 | 0 |  2 | 0 | 0 | 0 |   96 |  39 |  7 |\n",
       "| donor_0_control_0 |  0 |  0 |  0 |  59 |  44 | 0 |  73 | 0 |  29 |  54 | ⋯ | 0 |  3 | 0 |  0 | 0 | 0 | 0 |  122 |  39 |  1 |\n",
       "| donor_1_asbestos_0 |  0 |  1 |  1 | 107 |  87 | 0 | 192 | 0 |  70 | 112 | ⋯ | 0 |  3 | 0 |  0 | 1 | 0 | 1 |  268 |  95 |  5 |\n",
       "| donor_0_control_0 |  0 |  0 |  0 |  17 |   5 | 0 |  26 | 0 |   5 |  19 | ⋯ | 0 |  0 | 0 |  0 | 0 | 0 | 0 |   11 |  10 |  0 |\n",
       "| donor_1_asbestos_0 |  0 |  0 |  0 |  11 |  13 | 0 |  29 | 0 |  13 |  25 | ⋯ | 0 |  0 | 0 |  0 | 0 | 0 | 1 |    7 |  10 |  1 |\n",
       "| donor_0_control_0 |  0 |  0 |  0 |  12 |   6 | 0 |  21 | 0 |   7 |  21 | ⋯ | 0 |  0 | 0 |  0 | 0 | 0 | 0 |   22 |   5 |  2 |\n",
       "| donor_1_asbestos_0 |  0 |  0 |  0 |  15 |  11 | 0 |  30 | 0 |  12 |  31 | ⋯ | 4 |  0 | 0 |  0 | 0 | 0 | 0 |   32 |   7 |  0 |\n",
       "| donor_0_control_0 |  0 |  0 |  3 |  85 |  51 | 0 |  87 | 0 |  26 |  50 | ⋯ | 0 |  0 | 0 |  0 | 0 | 0 | 0 |  189 |  35 |  1 |\n",
       "| donor_1_asbestos_0 |  0 |  0 |  4 |  48 |  29 | 0 |  57 | 0 |  16 |  26 | ⋯ | 0 |  1 | 0 |  1 | 0 | 0 | 0 |   65 |  19 |  3 |\n",
       "| donor_0_control_0 |  0 |  0 |  2 |  20 |  30 | 0 |  48 | 0 |  13 | 105 | ⋯ | 0 |  3 | 0 |  1 | 0 | 0 | 0 |   77 |  16 |  0 |\n",
       "| donor_1_asbestos_0 |  0 |  0 |  0 |   4 |   8 | 0 |   9 | 0 |   7 |  26 | ⋯ | 0 |  1 | 0 |  1 | 0 | 0 | 0 |   19 |   6 |  1 |\n",
       "| donor_0_control_0 |  0 |  0 |  1 |  47 |  64 | 0 | 123 | 1 |  37 |  99 | ⋯ | 0 |  1 | 1 |  0 | 0 | 0 | 0 |  102 |  46 |  0 |\n",
       "| donor_1_asbestos_0 |  0 |  0 |  0 |  30 |  31 | 0 |  53 | 0 |  21 |  42 | ⋯ | 0 |  0 | 0 |  1 | 0 | 0 | 2 |   43 |  23 |  0 |\n",
       "| donor_0_control_0 |  0 |  0 |  1 | 155 |  44 | 0 | 134 | 0 |  69 |  98 | ⋯ | 0 |  0 | 0 |  0 | 0 | 0 | 1 |  223 |  30 |  1 |\n",
       "| donor_1_asbestos_0 |  0 |  0 |  2 | 130 |  66 | 0 | 141 | 0 |  63 | 114 | ⋯ | 0 |  0 | 0 |  1 | 0 | 0 | 0 |  216 |  61 |  1 |\n",
       "| donor_0_control_0 |  6 | 46 |  0 |  49 |  55 | 0 | 104 | 2 |  62 | 121 | ⋯ | 0 |  0 | 0 |  0 | 0 | 0 | 3 |  865 |  50 |  2 |\n",
       "| donor_1_asbestos_0 | 15 | 66 |  2 |  65 |  72 | 0 | 137 | 0 |  91 | 141 | ⋯ | 0 |  0 | 0 |  1 | 0 | 0 | 1 |  918 |  89 |  3 |\n",
       "\n"
      ],
      "text/plain": [
       "                   Gm37381 Rp1 Sox17 Mrpl15 Lypla1 Gm37988 Tcea1 Rgs20 Atp6v1h\n",
       "donor_0_control_0   0       0   0     12     19    0        14   0      10    \n",
       "donor_1_asbestos_0  0       0   0     14     10    0        10   0       7    \n",
       "donor_0_control_0   0       0   4    173    259    1       377   0     264    \n",
       "donor_1_asbestos_0  0       1  10    307    446    0       636   0     492    \n",
       "donor_0_control_0   0       0   5    262    202    0       399   0     225    \n",
       "donor_1_asbestos_0  1       1  11    342    326    1       665   0     525    \n",
       "donor_0_control_0   0       0   0    121     57    0       190   0      67    \n",
       "donor_1_asbestos_0  0       0   0     54     39    0        90   0      36    \n",
       "donor_0_control_0   0       0   5    485    451    1       612   0     252    \n",
       "donor_1_asbestos_0  0       0   2     86     94    0       115   0      64    \n",
       "donor_0_control_0   0       0   1    154    136    0       214   0      78    \n",
       "donor_1_asbestos_0  0       0   0    162    125    0       283   0      82    \n",
       "donor_1_asbestos_0  0       0   0     21     14    0        39   0      14    \n",
       "donor_0_control_0   0       0  81     76     68    0       106   0      47    \n",
       "donor_1_asbestos_0  0       0  86     54     60    0       104   0      51    \n",
       "donor_0_control_0   0       0   0     59     44    0        73   0      29    \n",
       "donor_1_asbestos_0  0       1   1    107     87    0       192   0      70    \n",
       "donor_0_control_0   0       0   0     17      5    0        26   0       5    \n",
       "donor_1_asbestos_0  0       0   0     11     13    0        29   0      13    \n",
       "donor_0_control_0   0       0   0     12      6    0        21   0       7    \n",
       "donor_1_asbestos_0  0       0   0     15     11    0        30   0      12    \n",
       "donor_0_control_0   0       0   3     85     51    0        87   0      26    \n",
       "donor_1_asbestos_0  0       0   4     48     29    0        57   0      16    \n",
       "donor_0_control_0   0       0   2     20     30    0        48   0      13    \n",
       "donor_1_asbestos_0  0       0   0      4      8    0         9   0       7    \n",
       "donor_0_control_0   0       0   1     47     64    0       123   1      37    \n",
       "donor_1_asbestos_0  0       0   0     30     31    0        53   0      21    \n",
       "donor_0_control_0   0       0   1    155     44    0       134   0      69    \n",
       "donor_1_asbestos_0  0       0   2    130     66    0       141   0      63    \n",
       "donor_0_control_0   6      46   0     49     55    0       104   2      62    \n",
       "donor_1_asbestos_0 15      66   2     65     72    0       137   0      91    \n",
       "                   Rb1cc1 ⋯ CR974586.5 Csprs AC132444.6 AC125149.3 AC125149.2\n",
       "donor_0_control_0   30    ⋯ 0           0    0           1         0         \n",
       "donor_1_asbestos_0  19    ⋯ 0           0    0           0         0         \n",
       "donor_0_control_0  380    ⋯ 0           1    0           0         0         \n",
       "donor_1_asbestos_0 696    ⋯ 0           0    1           2         0         \n",
       "donor_0_control_0  238    ⋯ 0           1    0           1         0         \n",
       "donor_1_asbestos_0 319    ⋯ 0           0    0           2         0         \n",
       "donor_0_control_0  120    ⋯ 0          16    1          19         0         \n",
       "donor_1_asbestos_0  51    ⋯ 0          10    2           5         1         \n",
       "donor_0_control_0  455    ⋯ 0           1    0           8         1         \n",
       "donor_1_asbestos_0  97    ⋯ 0           0    0           2         0         \n",
       "donor_0_control_0  112    ⋯ 0          13    0          12         0         \n",
       "donor_1_asbestos_0 118    ⋯ 0           9    0           2         0         \n",
       "donor_1_asbestos_0  22    ⋯ 0           0    0           0         0         \n",
       "donor_0_control_0  103    ⋯ 0           0    0           0         0         \n",
       "donor_1_asbestos_0  73    ⋯ 1           0    0           2         0         \n",
       "donor_0_control_0   54    ⋯ 0           3    0           0         0         \n",
       "donor_1_asbestos_0 112    ⋯ 0           3    0           0         1         \n",
       "donor_0_control_0   19    ⋯ 0           0    0           0         0         \n",
       "donor_1_asbestos_0  25    ⋯ 0           0    0           0         0         \n",
       "donor_0_control_0   21    ⋯ 0           0    0           0         0         \n",
       "donor_1_asbestos_0  31    ⋯ 4           0    0           0         0         \n",
       "donor_0_control_0   50    ⋯ 0           0    0           0         0         \n",
       "donor_1_asbestos_0  26    ⋯ 0           1    0           1         0         \n",
       "donor_0_control_0  105    ⋯ 0           3    0           1         0         \n",
       "donor_1_asbestos_0  26    ⋯ 0           1    0           1         0         \n",
       "donor_0_control_0   99    ⋯ 0           1    1           0         0         \n",
       "donor_1_asbestos_0  42    ⋯ 0           0    0           1         0         \n",
       "donor_0_control_0   98    ⋯ 0           0    0           0         0         \n",
       "donor_1_asbestos_0 114    ⋯ 0           0    0           1         0         \n",
       "donor_0_control_0  121    ⋯ 0           0    0           0         0         \n",
       "donor_1_asbestos_0 141    ⋯ 0           0    0           1         0         \n",
       "                   AC168977.2 AC168977.1 PISD DHRSX CAAA01147332.1\n",
       "donor_0_control_0  0          0            14   9    0            \n",
       "donor_1_asbestos_0 0          0            10   9    0            \n",
       "donor_0_control_0  1          1           972 185   10            \n",
       "donor_1_asbestos_0 0          4          1519 378    8            \n",
       "donor_0_control_0  0          0           367 130    5            \n",
       "donor_1_asbestos_0 0          3           607 288    4            \n",
       "donor_0_control_0  0          4           406  57    1            \n",
       "donor_1_asbestos_0 0          0           182  35    1            \n",
       "donor_0_control_0  0          5           493 305    3            \n",
       "donor_1_asbestos_0 0          1            91  81    1            \n",
       "donor_0_control_0  1          1           248  94    5            \n",
       "donor_1_asbestos_0 1          0           191 115    9            \n",
       "donor_1_asbestos_0 0          0            78  11    2            \n",
       "donor_0_control_0  0          0           133  42    3            \n",
       "donor_1_asbestos_0 0          0            96  39    7            \n",
       "donor_0_control_0  0          0           122  39    1            \n",
       "donor_1_asbestos_0 0          1           268  95    5            \n",
       "donor_0_control_0  0          0            11  10    0            \n",
       "donor_1_asbestos_0 0          1             7  10    1            \n",
       "donor_0_control_0  0          0            22   5    2            \n",
       "donor_1_asbestos_0 0          0            32   7    0            \n",
       "donor_0_control_0  0          0           189  35    1            \n",
       "donor_1_asbestos_0 0          0            65  19    3            \n",
       "donor_0_control_0  0          0            77  16    0            \n",
       "donor_1_asbestos_0 0          0            19   6    1            \n",
       "donor_0_control_0  0          0           102  46    0            \n",
       "donor_1_asbestos_0 0          2            43  23    0            \n",
       "donor_0_control_0  0          1           223  30    1            \n",
       "donor_1_asbestos_0 0          0           216  61    1            \n",
       "donor_0_control_0  0          3           865  50    2            \n",
       "donor_1_asbestos_0 0          1           918  89    3            "
      ]
     },
     "metadata": {},
     "output_type": "display_data"
    }
   ],
   "source": [
    "adata_pb$X"
   ]
  },
  {
   "cell_type": "code",
   "execution_count": 16,
   "id": "9a36d4d4-8eec-4211-a7bb-f179fa4dcaf5",
   "metadata": {},
   "outputs": [
    {
     "ename": "ERROR",
     "evalue": "Error in assay(adata_AT1): could not find function \"assay\"\n",
     "output_type": "error",
     "traceback": [
      "Error in assay(adata_AT1): could not find function \"assay\"\nTraceback:\n",
      "1. typeof(assay(adata_AT1))"
     ]
    }
   ],
   "source": [
    "typeof(assay(adata_AT1))"
   ]
  },
  {
   "cell_type": "code",
   "execution_count": null,
   "id": "36ef2473-b5a1-410d-abe8-58cbaa1bec2b",
   "metadata": {},
   "outputs": [],
   "source": []
  },
  {
   "cell_type": "markdown",
   "id": "6d8178da-94a9-4422-be5f-85abfef26ef3",
   "metadata": {},
   "source": [
    "## 1. Preparing some functions"
   ]
  },
  {
   "cell_type": "markdown",
   "id": "0a7a49a6-a5a4-482c-956b-4d89b62ff4c1",
   "metadata": {},
   "source": [
    "### Separate function to fit an edgeR GLM:"
   ]
  },
  {
   "cell_type": "code",
   "execution_count": 44,
   "id": "f065aeb8-e7ba-4b09-a48f-1d68b6b1cd13",
   "metadata": {},
   "outputs": [],
   "source": [
    "fit_model <- function(adata_){\n",
    "    # create an edgeR object with counts and grouping factor\n",
    "    y <- DGEList(assay(adata_, \"X\"), group = colData(adata_)$condition)\n",
    "    # filter out genes with low counts\n",
    "    print(\"Dimensions before subsetting:\")\n",
    "    print(dim(y))\n",
    "    print(\"\")\n",
    "    keep <- filterByExpr(y)\n",
    "    y <- y[keep, , keep.lib.sizes=FALSE]\n",
    "    print(\"Dimensions after subsetting:\")\n",
    "    print(dim(y))\n",
    "    print(\"\")\n",
    "    # normalize\n",
    "    y <- calcNormFactors(y)\n",
    "    # create a vector that is concatentation of condition and cell type that we will later use with contrasts\n",
    "    group <- paste0(colData(adata_)$condition, \".\", colData(adata_)$manual_celltype_annotation)\n",
    "    batch <- colData(adata_)$batch\n",
    "    # create a design matrix: here we have multiple donors so also consider that in the design matrix\n",
    "    design <- model.matrix(~ 0 + group + batch)\n",
    "    # estimate dispersion\n",
    "    y <- estimateDisp(y, design = design)\n",
    "    # fit the model\n",
    "    fit <- glmQLFit(y, design)\n",
    "    return(list(\"fit\"=fit, \"design\"=design, \"y\"=y))\n",
    "}"
   ]
  },
  {
   "cell_type": "markdown",
   "id": "c3ab3b0b-b296-40ca-b490-7bddfe0d8152",
   "metadata": {},
   "source": [
    "## 2. Pseudobulk"
   ]
  },
  {
   "cell_type": "markdown",
   "id": "ee0b45f2-e5fb-46f7-acc0-e449cfd0b66b",
   "metadata": {},
   "source": [
    "### 2.1 One group"
   ]
  },
  {
   "cell_type": "code",
   "execution_count": 38,
   "id": "05a91a95-dd2a-40a4-92aa-b5de561ed159",
   "metadata": {},
   "outputs": [
    {
     "name": "stderr",
     "output_type": "stream",
     "text": [
      "Warning message in py_to_r.pandas.core.frame.DataFrame(x):\n",
      "“index contains duplicated values: row names not set”\n"
     ]
    },
    {
     "data": {
      "text/plain": [
       "View of AnnData object with n_obs × n_vars = 2 × 17824\n",
       "    obs: 'condition', 'manual_celltype_annotation', 'batch', 'sample', 'author_annotation', 'lib_size', 'log_lib_size'"
      ]
     },
     "metadata": {},
     "output_type": "display_data"
    }
   ],
   "source": [
    "adata_AT1 <- adata_pb[adata_pb$obs[\"manual_celltype_annotation\"] == \"AT1\"]\n",
    "adata_AT1"
   ]
  },
  {
   "cell_type": "code",
   "execution_count": 39,
   "id": "df2050d8-25c3-404e-9a46-93301dce23b8",
   "metadata": {},
   "outputs": [
    {
     "name": "stderr",
     "output_type": "stream",
     "text": [
      "Warning message:\n",
      "“\u001b[1m\u001b[22mThe passed object is a 'AnnDataR6' object, conversion is likely to be less reliable”\n"
     ]
    }
   ],
   "source": [
    "sce_AT1 <- AnnData2SCE(\n",
    "  adata_AT1,\n",
    "  X_name = NULL, layers = TRUE, uns = TRUE, var = TRUE, obs = TRUE, varm = TRUE, obsm = TRUE, varp = TRUE, obsp = TRUE,\n",
    "  raw = FALSE, skip_assays = FALSE, hdf5_backed = TRUE, verbose = NULL\n",
    ")"
   ]
  },
  {
   "cell_type": "code",
   "execution_count": null,
   "id": "1b2a300b-8a97-4e2e-b88a-782cc108da91",
   "metadata": {},
   "outputs": [],
   "source": []
  },
  {
   "cell_type": "code",
   "execution_count": 36,
   "id": "109e4012-3e63-4227-8d06-b106ee12cdc0",
   "metadata": {},
   "outputs": [],
   "source": [
    "rds_pb <- readRDS(\"/home/sch/schonner/MaPra/schiller_pseudobulk_sce.rds\", refhook = NULL)"
   ]
  },
  {
   "cell_type": "code",
   "execution_count": 25,
   "id": "03160133-39a0-46ba-8a6f-7948d084ac5a",
   "metadata": {},
   "outputs": [
    {
     "data": {
      "text/plain": [
       "NULL"
      ]
     },
     "metadata": {},
     "output_type": "display_data"
    }
   ],
   "source": [
    "rds_pb$obs"
   ]
  },
  {
   "cell_type": "code",
   "execution_count": 45,
   "id": "46682cbf-25bc-4ab9-9383-d8f845944e1a",
   "metadata": {},
   "outputs": [
    {
     "name": "stderr",
     "output_type": "stream",
     "text": [
      "Repeated column names found in count matrix\n",
      "\n"
     ]
    },
    {
     "name": "stdout",
     "output_type": "stream",
     "text": [
      "[1] \"Dimensions before subsetting:\"\n",
      "[1] 18031   134\n",
      "[1] \"\"\n",
      "[1] \"Dimensions after subsetting:\"\n",
      "[1] 1321  134\n",
      "[1] \"\"\n"
     ]
    },
    {
     "ename": "ERROR",
     "evalue": "Error in glmFit.default(sely, design, offset = seloffset, dispersion = 0.05, : Design matrix not of full rank.  The following coefficients not estimable:\n batchmuc4656\n",
     "output_type": "error",
     "traceback": [
      "Error in glmFit.default(sely, design, offset = seloffset, dispersion = 0.05, : Design matrix not of full rank.  The following coefficients not estimable:\n batchmuc4656\nTraceback:\n",
      "1. fit_model(rds_pb)",
      "2. estimateDisp(y, design = design)   # at line 21 of file <text>",
      "3. estimateDisp.DGEList(y, design = design)",
      "4. estimateDisp(y = y$counts, design = design, group = group, lib.size = lib.size, \n .     offset = getOffset(y), prior.df = prior.df, trend.method = trend.method, \n .     tagwise = tagwise, span = span, min.row.sum = min.row.sum, \n .     grid.length = grid.length, grid.range = grid.range, robust = robust, \n .     winsor.tail.p = winsor.tail.p, tol = tol, weights = y$weights, \n .     ...)",
      "5. estimateDisp.default(y = y$counts, design = design, group = group, \n .     lib.size = lib.size, offset = getOffset(y), prior.df = prior.df, \n .     trend.method = trend.method, tagwise = tagwise, span = span, \n .     min.row.sum = min.row.sum, grid.length = grid.length, grid.range = grid.range, \n .     robust = robust, winsor.tail.p = winsor.tail.p, tol = tol, \n .     weights = y$weights, ...)",
      "6. glmFit(sely, design, offset = seloffset, dispersion = 0.05, prior.count = 0)",
      "7. glmFit.default(sely, design, offset = seloffset, dispersion = 0.05, \n .     prior.count = 0)",
      "8. stop(paste(\"Design matrix not of full rank.  The following coefficients not estimable:\\n\", \n .     paste(ne, collapse = \" \")))"
     ]
    }
   ],
   "source": [
    "outs <- fit_model(rds_pb)"
   ]
  },
  {
   "cell_type": "code",
   "execution_count": null,
   "id": "03170bdf-b98b-41fe-b731-9c9621060834",
   "metadata": {},
   "outputs": [],
   "source": []
  },
  {
   "cell_type": "code",
   "execution_count": null,
   "id": "de6eb4e2-6c44-4701-b847-ef5e9823dc8c",
   "metadata": {},
   "outputs": [],
   "source": []
  },
  {
   "cell_type": "code",
   "execution_count": null,
   "id": "63a43998-2866-47f9-b06f-7b7750a1e85b",
   "metadata": {},
   "outputs": [],
   "source": []
  },
  {
   "cell_type": "code",
   "execution_count": null,
   "id": "86ea23b2-7178-455e-ad7b-18cbd46db7ba",
   "metadata": {},
   "outputs": [],
   "source": [
    "fit <- outs$fit\n",
    "y <- outs$y"
   ]
  },
  {
   "cell_type": "code",
   "execution_count": null,
   "id": "84c8ba28-0a48-4a0a-84ab-6155f6680c35",
   "metadata": {},
   "outputs": [],
   "source": [
    "plotMDS(y, col=ifelse(y$samples$group == \"stim\", \"red\", \"blue\"))"
   ]
  },
  {
   "cell_type": "code",
   "execution_count": null,
   "id": "6963260d-daf3-4b76-8e64-84777f3524c0",
   "metadata": {},
   "outputs": [],
   "source": [
    "plotBCV(y)"
   ]
  },
  {
   "cell_type": "code",
   "execution_count": null,
   "id": "92d3dc6a-7b02-44aa-851d-8a4b5f5c443c",
   "metadata": {},
   "outputs": [],
   "source": [
    "myContrast <- makeContrasts('groupstim.AT1-groupctrl.AT1', levels = y$design)\n",
    "qlf <- glmQLFTest(fit, contrast=myContrast)\n",
    "# get all of the DE genes and calculate Benjamini-Hochberg adjusted FDR\n",
    "tt <- topTags(qlf, n = Inf)\n",
    "tt <- tt$table"
   ]
  },
  {
   "cell_type": "code",
   "execution_count": null,
   "id": "b7530908-0284-45a6-964f-2f96380701a8",
   "metadata": {},
   "outputs": [],
   "source": [
    "tr <- glmTreat(fit, contrast=myContrast, lfc=1.5)\n",
    "print(head(topTags(tr)))"
   ]
  },
  {
   "cell_type": "code",
   "execution_count": null,
   "id": "75a7af2a-df0b-47e5-a74e-5e7bbbee64ea",
   "metadata": {},
   "outputs": [],
   "source": [
    "plotSmear(qlf, de.tags = rownames(tt)[which(tt$FDR<0.01)])"
   ]
  },
  {
   "cell_type": "markdown",
   "id": "409ed3c7-e8db-4f79-a29a-c291a3efe198",
   "metadata": {},
   "source": [
    "### 2.2 Multiple groups"
   ]
  },
  {
   "cell_type": "code",
   "execution_count": 11,
   "id": "6b5a88cf-2987-48af-9edb-555499926a2c",
   "metadata": {},
   "outputs": [
    {
     "ename": "ERROR",
     "evalue": "Error in assay(adata_, \"X\"): could not find function \"assay\"\n",
     "output_type": "error",
     "traceback": [
      "Error in assay(adata_, \"X\"): could not find function \"assay\"\nTraceback:\n",
      "1. fit_model(adata_pb)",
      "2. DGEList(assay(adata_, \"X\"), group = colData(adata_)$condition)   # at line 3 of file <text>",
      "3. is.data.frame(counts)"
     ]
    }
   ],
   "source": [
    "outs <-fit_model(adata_pb)"
   ]
  },
  {
   "cell_type": "code",
   "execution_count": null,
   "id": "a83b89a0-2a05-4ebb-9c6f-3f52a45a9e3c",
   "metadata": {},
   "outputs": [],
   "source": []
  }
 ],
 "metadata": {
  "kernelspec": {
   "display_name": "R",
   "language": "R",
   "name": "ir"
  },
  "language_info": {
   "codemirror_mode": "r",
   "file_extension": ".r",
   "mimetype": "text/x-r-source",
   "name": "R",
   "pygments_lexer": "r",
   "version": "4.2.3"
  }
 },
 "nbformat": 4,
 "nbformat_minor": 5
}
