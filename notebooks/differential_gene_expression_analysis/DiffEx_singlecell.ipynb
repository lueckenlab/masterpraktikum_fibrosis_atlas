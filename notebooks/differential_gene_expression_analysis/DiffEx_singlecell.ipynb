{
 "cells": [
  {
   "cell_type": "markdown",
   "id": "98ecac07-276e-4c45-999e-d4beb2522a63",
   "metadata": {},
   "source": [
    "# Differential gene expression analysis - code example for single-cell specific\n",
    "\n",
    "Using the data set Misharin."
   ]
  },
  {
   "cell_type": "markdown",
   "id": "d7a099ac-8ae9-4c10-b073-81c268044c5c",
   "metadata": {},
   "source": [
    "## 1. Environment setup"
   ]
  },
  {
   "cell_type": "code",
   "execution_count": 1,
   "id": "2bab5b4e-578f-4606-9143-34ad1a140be9",
   "metadata": {},
   "outputs": [],
   "source": [
    "import warnings\n",
    "\n",
    "warnings.filterwarnings(\"ignore\")\n",
    "\n",
    "import matplotlib.pyplot as plt\n",
    "import seaborn as sns\n",
    "import scanpy as sc\n",
    "import pandas as pd\n",
    "import numpy as np\n",
    "import random\n",
    "import sc_toolbox\n",
    "\n",
    "import rpy2.rinterface_lib.callbacks\n",
    "import anndata2ri\n",
    "import logging\n",
    "\n",
    "from rpy2.robjects import pandas2ri\n",
    "from rpy2.robjects import r\n",
    "\n",
    "sc.settings.verbosity = 0\n",
    "rpy2.rinterface_lib.callbacks.logger.setLevel(logging.ERROR)\n",
    "\n",
    "pandas2ri.activate()\n",
    "anndata2ri.activate()\n",
    "\n",
    "%load_ext rpy2.ipython"
   ]
  },
  {
   "cell_type": "code",
   "execution_count": 2,
   "id": "8e06d861-a566-4f17-9588-1ad3952dd182",
   "metadata": {},
   "outputs": [],
   "source": [
    "%%R\n",
    "library(MAST)"
   ]
  },
  {
   "cell_type": "markdown",
   "id": "752926e3-7b1c-451f-836e-8c7d45ae6a48",
   "metadata": {},
   "source": [
    "## 2. Preparing the data set"
   ]
  },
  {
   "cell_type": "code",
   "execution_count": 3,
   "id": "af91a9de-8826-4128-b352-3b6cc1eaa0a0",
   "metadata": {},
   "outputs": [
    {
     "data": {
      "text/plain": [
       "AnnData object with n_obs × n_vars = 15365 × 27998\n",
       "    obs: 'batch', 'author_annotation', 'manual_celltype_annotation', 'condition'"
      ]
     },
     "execution_count": 3,
     "metadata": {},
     "output_type": "execute_result"
    }
   ],
   "source": [
    "adata = sc.read(\"/home/sch/schonner/MaPra/misharin_Emma_for_merging.h5ad\")\n",
    "adata"
   ]
  },
  {
   "cell_type": "markdown",
   "id": "c01eb57a-c5fe-4fb8-a187-43e28372480a",
   "metadata": {},
   "source": [
    "### We will need label (which contains the condition label), replicate and cell_type columns of the .obs\n",
    "\n",
    "---> condition, batch and manual_celltype_annotation in this data set\n",
    "\n",
    "---> relabel the columns for easier understanding"
   ]
  },
  {
   "cell_type": "code",
   "execution_count": 4,
   "id": "6c5ab3cf-1d8f-4cff-b865-77b5e9335cd4",
   "metadata": {},
   "outputs": [
    {
     "data": {
      "text/html": [
       "<div>\n",
       "<style scoped>\n",
       "    .dataframe tbody tr th:only-of-type {\n",
       "        vertical-align: middle;\n",
       "    }\n",
       "\n",
       "    .dataframe tbody tr th {\n",
       "        vertical-align: top;\n",
       "    }\n",
       "\n",
       "    .dataframe thead th {\n",
       "        text-align: right;\n",
       "    }\n",
       "</style>\n",
       "<table border=\"1\" class=\"dataframe\">\n",
       "  <thead>\n",
       "    <tr style=\"text-align: right;\">\n",
       "      <th></th>\n",
       "      <th>replicate</th>\n",
       "      <th>author_annotation</th>\n",
       "      <th>cell_type</th>\n",
       "      <th>label</th>\n",
       "    </tr>\n",
       "  </thead>\n",
       "  <tbody>\n",
       "    <tr>\n",
       "      <th>SC14_AAACCTGAGCGTTCCG</th>\n",
       "      <td>0</td>\n",
       "      <td>B cells</td>\n",
       "      <td>B-cells</td>\n",
       "      <td>control</td>\n",
       "    </tr>\n",
       "    <tr>\n",
       "      <th>SC14_AAACCTGAGGACATTA</th>\n",
       "      <td>0</td>\n",
       "      <td>B cells</td>\n",
       "      <td>B-cells</td>\n",
       "      <td>control</td>\n",
       "    </tr>\n",
       "    <tr>\n",
       "      <th>SC14_AAACCTGAGTCGTTTG</th>\n",
       "      <td>0</td>\n",
       "      <td>Alveolar macrophages</td>\n",
       "      <td>Alveolar macrophages</td>\n",
       "      <td>control</td>\n",
       "    </tr>\n",
       "    <tr>\n",
       "      <th>SC14_AAACCTGCACATCCGG</th>\n",
       "      <td>0</td>\n",
       "      <td>Classical monocytes</td>\n",
       "      <td>Classical monocytes</td>\n",
       "      <td>control</td>\n",
       "    </tr>\n",
       "    <tr>\n",
       "      <th>SC14_AAACCTGCACTAGTAC</th>\n",
       "      <td>0</td>\n",
       "      <td>T cells</td>\n",
       "      <td>T-cells</td>\n",
       "      <td>control</td>\n",
       "    </tr>\n",
       "  </tbody>\n",
       "</table>\n",
       "</div>"
      ],
      "text/plain": [
       "                       replicate     author_annotation             cell_type  \\\n",
       "SC14_AAACCTGAGCGTTCCG          0               B cells               B-cells   \n",
       "SC14_AAACCTGAGGACATTA          0               B cells               B-cells   \n",
       "SC14_AAACCTGAGTCGTTTG          0  Alveolar macrophages  Alveolar macrophages   \n",
       "SC14_AAACCTGCACATCCGG          0   Classical monocytes   Classical monocytes   \n",
       "SC14_AAACCTGCACTAGTAC          0               T cells               T-cells   \n",
       "\n",
       "                         label  \n",
       "SC14_AAACCTGAGCGTTCCG  control  \n",
       "SC14_AAACCTGAGGACATTA  control  \n",
       "SC14_AAACCTGAGTCGTTTG  control  \n",
       "SC14_AAACCTGCACATCCGG  control  \n",
       "SC14_AAACCTGCACTAGTAC  control  "
      ]
     },
     "execution_count": 4,
     "metadata": {},
     "output_type": "execute_result"
    }
   ],
   "source": [
    "adata.obs = adata.obs.rename(columns={\"condition\": \"label\", \"batch\": \"replicate\", \"manual_celltype_annotation\": \"cell_type\"})\n",
    "adata.obs[:5]"
   ]
  },
  {
   "cell_type": "markdown",
   "id": "889aa432-a70a-4fb2-86be-03ed56aa2e5c",
   "metadata": {},
   "source": [
    "### We will need to work with raw counts so we check that .X indeed contains raw counts and put them into the counts layer of our AnnData object."
   ]
  },
  {
   "cell_type": "code",
   "execution_count": 5,
   "id": "cb55de5c-2366-4f1f-9bea-4c3b84ff6f90",
   "metadata": {},
   "outputs": [
    {
     "data": {
      "text/plain": [
       "19899.0"
      ]
     },
     "execution_count": 5,
     "metadata": {},
     "output_type": "execute_result"
    }
   ],
   "source": [
    "np.max(adata.X)"
   ]
  },
  {
   "cell_type": "code",
   "execution_count": 6,
   "id": "6c60ec83-d025-4a6a-9e70-69ff7cfb4fdd",
   "metadata": {},
   "outputs": [],
   "source": [
    "adata.layers[\"counts\"] = adata.X.copy()"
   ]
  },
  {
   "cell_type": "markdown",
   "id": "a401faaf-aee5-487c-9604-b6321f71309a",
   "metadata": {},
   "source": [
    "### Rudimentary quality control (taken from the book chapter):"
   ]
  },
  {
   "cell_type": "code",
   "execution_count": 7,
   "id": "5b44a8bd-89fb-4f38-bdcc-3bc88d61b16f",
   "metadata": {},
   "outputs": [
    {
     "data": {
      "text/plain": [
       "AnnData object with n_obs × n_vars = 15365 × 17832\n",
       "    obs: 'replicate', 'author_annotation', 'cell_type', 'label', 'n_genes'\n",
       "    var: 'n_cells'\n",
       "    layers: 'counts'"
      ]
     },
     "execution_count": 7,
     "metadata": {},
     "output_type": "execute_result"
    }
   ],
   "source": [
    "sc.pp.filter_cells(adata, min_genes=200)   # filter cells which have less than 200 genes\n",
    "sc.pp.filter_genes(adata, min_cells=3)     # filter genes which were found in less than 3 cells\n",
    "adata"
   ]
  },
  {
   "cell_type": "markdown",
   "id": "f508c573-49da-4c67-a189-b51fab709b77",
   "metadata": {},
   "source": [
    "# 3. Single-cell specific"
   ]
  },
  {
   "cell_type": "code",
   "execution_count": 8,
   "id": "125df19c-d584-42dc-b059-d672535a5660",
   "metadata": {},
   "outputs": [],
   "source": [
    "adata.X = adata.layers[\"counts\"].copy()"
   ]
  },
  {
   "cell_type": "code",
   "execution_count": 9,
   "id": "9602e2aa-bcf2-4a20-87fe-010d10610be5",
   "metadata": {},
   "outputs": [],
   "source": [
    "sc.pp.normalize_total(adata, target_sum=1e6)\n",
    "sc.pp.log1p(adata)"
   ]
  },
  {
   "cell_type": "markdown",
   "id": "3a2d13e6-0e3c-462e-adf3-bef5532f9619",
   "metadata": {},
   "source": [
    "#### Defining a helper function:"
   ]
  },
  {
   "cell_type": "code",
   "execution_count": 10,
   "id": "ca2f43ee-cb99-4598-99f2-641e7f790811",
   "metadata": {},
   "outputs": [],
   "source": [
    "def prep_anndata(adata_):\n",
    "    def fix_dtypes(adata_):\n",
    "        df = pd.DataFrame(adata_.X.A, index=adata_.obs_names, columns=adata_.var_names)\n",
    "        df = df.join(adata_.obs)\n",
    "        return sc.AnnData(df[adata_.var_names], obs=df.drop(columns=adata_.var_names))\n",
    "\n",
    "    adata_ = fix_dtypes(adata_)\n",
    "    sc.pp.filter_genes(adata_, min_cells=3)\n",
    "    return adata_"
   ]
  },
  {
   "cell_type": "markdown",
   "id": "6043610b-25ea-4ce4-9e03-d5f724e0831a",
   "metadata": {},
   "source": [
    "### 3.1. One group"
   ]
  },
  {
   "cell_type": "code",
   "execution_count": 11,
   "id": "06e98c67-e3b4-494b-90d8-59be82f362b8",
   "metadata": {},
   "outputs": [
    {
     "data": {
      "text/plain": [
       "AnnData object with n_obs × n_vars = 66 × 17832\n",
       "    obs: 'replicate', 'author_annotation', 'cell_type', 'label', 'n_genes'\n",
       "    var: 'n_cells'\n",
       "    uns: 'log1p'\n",
       "    layers: 'counts'"
      ]
     },
     "execution_count": 11,
     "metadata": {},
     "output_type": "execute_result"
    }
   ],
   "source": [
    "adata_AT1 = adata[adata.obs[\"cell_type\"] == \"AT1\"].copy()\n",
    "adata_AT1"
   ]
  },
  {
   "cell_type": "code",
   "execution_count": 12,
   "id": "fcafe4cb-85f0-4c7a-b6c8-a9acb8b5c430",
   "metadata": {},
   "outputs": [
    {
     "data": {
      "text/plain": [
       "AnnData object with n_obs × n_vars = 66 × 8467\n",
       "    obs: 'replicate', 'author_annotation', 'cell_type', 'label', 'n_genes'\n",
       "    var: 'n_cells'\n",
       "    uns: 'log1p'\n",
       "    layers: 'counts'"
      ]
     },
     "execution_count": 12,
     "metadata": {},
     "output_type": "execute_result"
    }
   ],
   "source": [
    "sc.pp.filter_genes(adata_AT1, min_cells=3)\n",
    "adata_AT1"
   ]
  },
  {
   "cell_type": "code",
   "execution_count": 13,
   "id": "4e8fc345-459c-4cdc-9320-48317a7d4788",
   "metadata": {},
   "outputs": [
    {
     "data": {
      "text/plain": [
       "AnnData object with n_obs × n_vars = 66 × 8467\n",
       "    obs: 'replicate', 'author_annotation', 'cell_type', 'label', 'n_genes'\n",
       "    var: 'n_cells'"
      ]
     },
     "execution_count": 13,
     "metadata": {},
     "output_type": "execute_result"
    }
   ],
   "source": [
    "adata_AT1 = prep_anndata(adata_AT1)   # filter both objects\n",
    "adata_AT1"
   ]
  },
  {
   "cell_type": "markdown",
   "id": "e48d23bc-bf53-4077-8a2b-14ef772ba0d8",
   "metadata": {},
   "source": [
    "#### Define a separate function that we use for the analysis:"
   ]
  },
  {
   "cell_type": "code",
   "execution_count": 14,
   "id": "18d065cb-cabd-45f0-bac6-15add0e334cb",
   "metadata": {},
   "outputs": [],
   "source": [
    "adata_AT1.obs[\"cell_type\"] = [\n",
    "    ct.replace(\" \", \"_\") for ct in adata_AT1.obs[\"cell_type\"]\n",
    "]\n",
    "adata_AT1.obs[\"cell_type\"] = [\n",
    "    ct.replace(\"+\", \"\") for ct in adata_AT1.obs[\"cell_type\"]\n",
    "]"
   ]
  },
  {
   "cell_type": "code",
   "execution_count": 15,
   "id": "ad47223a-e61b-45a3-8b53-690396338d02",
   "metadata": {},
   "outputs": [],
   "source": [
    "%%R\n",
    "find_de_MAST_RE <- function(adata_){\n",
    "    # create a MAST object\n",
    "    sca <- SceToSingleCellAssay(adata_, class = \"SingleCellAssay\")\n",
    "    print(\"Dimensions before subsetting:\")\n",
    "    print(dim(sca))\n",
    "    print(\"\")\n",
    "    # keep genes that are expressed in more than 10% of all cells\n",
    "    sca <- sca[freq(sca)>0.1,]\n",
    "    print(\"Dimensions after subsetting:\")\n",
    "    print(dim(sca))\n",
    "    print(\"\")\n",
    "    # add a column to the data which contains scaled number of genes that are expressed in each cell\n",
    "    cdr2 <- colSums(assay(sca)>0)\n",
    "    colData(sca)$ngeneson <- scale(cdr2)\n",
    "    # store the columns that we are interested in as factors\n",
    "    label <- factor(colData(sca)$label)\n",
    "    # set the reference level\n",
    "    label <- relevel(label,\"control\")   # ---> needs to be consistent with the data set\n",
    "    colData(sca)$label <- label\n",
    "    celltype <- factor(colData(sca)$cell_type)\n",
    "    colData(sca)$celltype <- celltype\n",
    "    # same for donors (which we need to model random effects)\n",
    "    replicate <- factor(colData(sca)$replicate)\n",
    "    colData(sca)$replicate <- replicate\n",
    "    # create a group per condition-celltype combination\n",
    "    colData(sca)$group <- paste0(colData(adata_)$label, \".\", colData(adata_)$cell_type)\n",
    "    colData(sca)$group <- factor(colData(sca)$group)\n",
    "    # define and fit the model\n",
    "    zlmCond <- zlm(formula = ~ngeneson + group + (1 | replicate), \n",
    "                   sca=sca, \n",
    "                   method='glmer', \n",
    "                   ebayes=F, \n",
    "                   strictConvergence=F,\n",
    "                   fitArgsD=list(nAGQ = 0)) # to speed up calculations\n",
    "    \n",
    "    # perform likelihood-ratio test for the condition that we are interested in    \n",
    "    summaryCond <- summary(zlmCond, doLRT='groupstim.AT1')\n",
    "    # get the table with log-fold changes and p-values\n",
    "    summaryDt <- summaryCond$datatable\n",
    "    result <- merge(summaryDt[contrast=='groupstim.AT1' & component=='H',.(primerid, `Pr(>Chisq)`)], # p-values\n",
    "                     summaryDt[contrast=='groupstim.AT1' & component=='logFC', .(primerid, coef)],\n",
    "                     by='primerid') # logFC coefficients\n",
    "    # MAST uses natural logarithm so we convert the coefficients to log2 base to be comparable to edgeR\n",
    "    result[,coef:=result[,coef]/log(2)]\n",
    "    # do multiple testing correction\n",
    "    result[,FDR:=p.adjust(`Pr(>Chisq)`, 'fdr')]\n",
    "    result = result[result$FDR<0.01,, drop=F]\n",
    "\n",
    "    result <- stats::na.omit(as.data.frame(result))\n",
    "    return(result)\n",
    "}"
   ]
  },
  {
   "cell_type": "markdown",
   "id": "4bb316ef-fdde-4447-97f5-5b96580ccf22",
   "metadata": {},
   "source": [
    "#### Run the pipeline for AT1:"
   ]
  },
  {
   "cell_type": "code",
   "execution_count": 16,
   "id": "91f8f0c2-4961-4b5f-a9a1-f56701299e55",
   "metadata": {},
   "outputs": [
    {
     "name": "stdout",
     "output_type": "stream",
     "text": [
      "[1] \"Dimensions before subsetting:\"\n",
      "[1] 8467   66\n",
      "[1] \"\"\n",
      "[1] \"Dimensions after subsetting:\"\n",
      "[1] 5678   66\n",
      "[1] \"\"\n",
      "\n",
      "Error in generateHypothesis(hypothesis, colnames(object@coefD)) : \n",
      "  Term(s) 'groupstim.AT1 ,' not found.\n",
      "Terms available: (Intercept) , ngeneson , groupcontrol.AT1 ,\n"
     ]
    },
    {
     "ename": "RInterpreterError",
     "evalue": "Failed to parse and evaluate line 'res <-find_de_MAST_RE(adata_AT1)\\n'.\nR error message: \"Error in generateHypothesis(hypothesis, colnames(object@coefD)) : \\n  Term(s) 'groupstim.AT1 ,' not found.\\nTerms available: (Intercept) , ngeneson , groupcontrol.AT1 ,\"",
     "output_type": "error",
     "traceback": [
      "\u001b[0;31m---------------------------------------------------------------------------\u001b[0m",
      "\u001b[0;31mRRuntimeError\u001b[0m                             Traceback (most recent call last)",
      "File \u001b[0;32m~/mambaforge/envs/scanpy_diffEx/lib/python3.9/site-packages/rpy2/ipython/rmagic.py:385\u001b[0m, in \u001b[0;36mRMagics.eval\u001b[0;34m(self, code)\u001b[0m\n\u001b[1;32m    383\u001b[0m \u001b[38;5;28;01mtry\u001b[39;00m:\n\u001b[1;32m    384\u001b[0m     \u001b[38;5;66;03m# Need the newline in case the last line in code is a comment.\u001b[39;00m\n\u001b[0;32m--> 385\u001b[0m     value, visible \u001b[38;5;241m=\u001b[39m \u001b[43mro\u001b[49m\u001b[38;5;241;43m.\u001b[39;49m\u001b[43mr\u001b[49m\u001b[43m(\u001b[49m\u001b[38;5;124;43m\"\u001b[39;49m\u001b[38;5;124;43mwithVisible(\u001b[39;49m\u001b[38;5;124;43m{\u001b[39;49m\u001b[38;5;132;43;01m%s\u001b[39;49;00m\u001b[38;5;130;43;01m\\n\u001b[39;49;00m\u001b[38;5;124;43m})\u001b[39;49m\u001b[38;5;124;43m\"\u001b[39;49m\u001b[43m \u001b[49m\u001b[38;5;241;43m%\u001b[39;49m\u001b[43m \u001b[49m\u001b[43mcode\u001b[49m\u001b[43m)\u001b[49m\n\u001b[1;32m    386\u001b[0m \u001b[38;5;28;01mexcept\u001b[39;00m (ri\u001b[38;5;241m.\u001b[39membedded\u001b[38;5;241m.\u001b[39mRRuntimeError, \u001b[38;5;167;01mValueError\u001b[39;00m) \u001b[38;5;28;01mas\u001b[39;00m exception:\n\u001b[1;32m    387\u001b[0m     \u001b[38;5;66;03m# Otherwise next return seems to have copy of error.\u001b[39;00m\n",
      "File \u001b[0;32m~/mambaforge/envs/scanpy_diffEx/lib/python3.9/site-packages/rpy2/robjects/__init__.py:459\u001b[0m, in \u001b[0;36mR.__call__\u001b[0;34m(self, string)\u001b[0m\n\u001b[1;32m    458\u001b[0m p \u001b[38;5;241m=\u001b[39m rinterface\u001b[38;5;241m.\u001b[39mparse(string)\n\u001b[0;32m--> 459\u001b[0m res \u001b[38;5;241m=\u001b[39m \u001b[38;5;28;43mself\u001b[39;49m\u001b[38;5;241;43m.\u001b[39;49m\u001b[43meval\u001b[49m\u001b[43m(\u001b[49m\u001b[43mp\u001b[49m\u001b[43m)\u001b[49m\n\u001b[1;32m    460\u001b[0m \u001b[38;5;28;01mreturn\u001b[39;00m conversion\u001b[38;5;241m.\u001b[39mget_conversion()\u001b[38;5;241m.\u001b[39mrpy2py(res)\n",
      "File \u001b[0;32m~/mambaforge/envs/scanpy_diffEx/lib/python3.9/site-packages/rpy2/robjects/functions.py:208\u001b[0m, in \u001b[0;36mSignatureTranslatedFunction.__call__\u001b[0;34m(self, *args, **kwargs)\u001b[0m\n\u001b[1;32m    207\u001b[0m         kwargs[r_k] \u001b[38;5;241m=\u001b[39m v\n\u001b[0;32m--> 208\u001b[0m \u001b[38;5;28;01mreturn\u001b[39;00m (\u001b[38;5;28;43msuper\u001b[39;49m\u001b[43m(\u001b[49m\u001b[43mSignatureTranslatedFunction\u001b[49m\u001b[43m,\u001b[49m\u001b[43m \u001b[49m\u001b[38;5;28;43mself\u001b[39;49m\u001b[43m)\u001b[49m\n\u001b[1;32m    209\u001b[0m \u001b[43m        \u001b[49m\u001b[38;5;241;43m.\u001b[39;49m\u001b[38;5;21;43m__call__\u001b[39;49m\u001b[43m(\u001b[49m\u001b[38;5;241;43m*\u001b[39;49m\u001b[43margs\u001b[49m\u001b[43m,\u001b[49m\u001b[43m \u001b[49m\u001b[38;5;241;43m*\u001b[39;49m\u001b[38;5;241;43m*\u001b[39;49m\u001b[43mkwargs\u001b[49m\u001b[43m)\u001b[49m)\n",
      "File \u001b[0;32m~/mambaforge/envs/scanpy_diffEx/lib/python3.9/site-packages/rpy2/robjects/functions.py:131\u001b[0m, in \u001b[0;36mFunction.__call__\u001b[0;34m(self, *args, **kwargs)\u001b[0m\n\u001b[1;32m    130\u001b[0m         new_kwargs[k] \u001b[38;5;241m=\u001b[39m cv\u001b[38;5;241m.\u001b[39mpy2rpy(v)\n\u001b[0;32m--> 131\u001b[0m res \u001b[38;5;241m=\u001b[39m \u001b[38;5;28;43msuper\u001b[39;49m\u001b[43m(\u001b[49m\u001b[43mFunction\u001b[49m\u001b[43m,\u001b[49m\u001b[43m \u001b[49m\u001b[38;5;28;43mself\u001b[39;49m\u001b[43m)\u001b[49m\u001b[38;5;241;43m.\u001b[39;49m\u001b[38;5;21;43m__call__\u001b[39;49m\u001b[43m(\u001b[49m\u001b[38;5;241;43m*\u001b[39;49m\u001b[43mnew_args\u001b[49m\u001b[43m,\u001b[49m\u001b[43m \u001b[49m\u001b[38;5;241;43m*\u001b[39;49m\u001b[38;5;241;43m*\u001b[39;49m\u001b[43mnew_kwargs\u001b[49m\u001b[43m)\u001b[49m\n\u001b[1;32m    132\u001b[0m res \u001b[38;5;241m=\u001b[39m cv\u001b[38;5;241m.\u001b[39mrpy2py(res)\n",
      "File \u001b[0;32m~/mambaforge/envs/scanpy_diffEx/lib/python3.9/site-packages/rpy2/rinterface_lib/conversion.py:45\u001b[0m, in \u001b[0;36m_cdata_res_to_rinterface.<locals>._\u001b[0;34m(*args, **kwargs)\u001b[0m\n\u001b[1;32m     44\u001b[0m \u001b[38;5;28;01mdef\u001b[39;00m \u001b[38;5;21m_\u001b[39m(\u001b[38;5;241m*\u001b[39margs, \u001b[38;5;241m*\u001b[39m\u001b[38;5;241m*\u001b[39mkwargs):\n\u001b[0;32m---> 45\u001b[0m     cdata \u001b[38;5;241m=\u001b[39m \u001b[43mfunction\u001b[49m\u001b[43m(\u001b[49m\u001b[38;5;241;43m*\u001b[39;49m\u001b[43margs\u001b[49m\u001b[43m,\u001b[49m\u001b[43m \u001b[49m\u001b[38;5;241;43m*\u001b[39;49m\u001b[38;5;241;43m*\u001b[39;49m\u001b[43mkwargs\u001b[49m\u001b[43m)\u001b[49m\n\u001b[1;32m     46\u001b[0m     \u001b[38;5;66;03m# TODO: test cdata is of the expected CType\u001b[39;00m\n",
      "File \u001b[0;32m~/mambaforge/envs/scanpy_diffEx/lib/python3.9/site-packages/rpy2/rinterface.py:817\u001b[0m, in \u001b[0;36mSexpClosure.__call__\u001b[0;34m(self, *args, **kwargs)\u001b[0m\n\u001b[1;32m    816\u001b[0m     \u001b[38;5;28;01mif\u001b[39;00m error_occured[\u001b[38;5;241m0\u001b[39m]:\n\u001b[0;32m--> 817\u001b[0m         \u001b[38;5;28;01mraise\u001b[39;00m embedded\u001b[38;5;241m.\u001b[39mRRuntimeError(_rinterface\u001b[38;5;241m.\u001b[39m_geterrmessage())\n\u001b[1;32m    818\u001b[0m \u001b[38;5;28;01mreturn\u001b[39;00m res\n",
      "\u001b[0;31mRRuntimeError\u001b[0m: Error in generateHypothesis(hypothesis, colnames(object@coefD)) : \n  Term(s) 'groupstim.AT1 ,' not found.\nTerms available: (Intercept) , ngeneson , groupcontrol.AT1 , \n",
      "\nDuring handling of the above exception, another exception occurred:\n",
      "\u001b[0;31mRInterpreterError\u001b[0m                         Traceback (most recent call last)",
      "File \u001b[0;32m<timed eval>:1\u001b[0m\n",
      "File \u001b[0;32m~/mambaforge/envs/scanpy_diffEx/lib/python3.9/site-packages/IPython/core/interactiveshell.py:2478\u001b[0m, in \u001b[0;36mInteractiveShell.run_cell_magic\u001b[0;34m(self, magic_name, line, cell)\u001b[0m\n\u001b[1;32m   2476\u001b[0m \u001b[38;5;28;01mwith\u001b[39;00m \u001b[38;5;28mself\u001b[39m\u001b[38;5;241m.\u001b[39mbuiltin_trap:\n\u001b[1;32m   2477\u001b[0m     args \u001b[38;5;241m=\u001b[39m (magic_arg_s, cell)\n\u001b[0;32m-> 2478\u001b[0m     result \u001b[38;5;241m=\u001b[39m \u001b[43mfn\u001b[49m\u001b[43m(\u001b[49m\u001b[38;5;241;43m*\u001b[39;49m\u001b[43margs\u001b[49m\u001b[43m,\u001b[49m\u001b[43m \u001b[49m\u001b[38;5;241;43m*\u001b[39;49m\u001b[38;5;241;43m*\u001b[39;49m\u001b[43mkwargs\u001b[49m\u001b[43m)\u001b[49m\n\u001b[1;32m   2480\u001b[0m \u001b[38;5;66;03m# The code below prevents the output from being displayed\u001b[39;00m\n\u001b[1;32m   2481\u001b[0m \u001b[38;5;66;03m# when using magics with decodator @output_can_be_silenced\u001b[39;00m\n\u001b[1;32m   2482\u001b[0m \u001b[38;5;66;03m# when the last Python token in the expression is a ';'.\u001b[39;00m\n\u001b[1;32m   2483\u001b[0m \u001b[38;5;28;01mif\u001b[39;00m \u001b[38;5;28mgetattr\u001b[39m(fn, magic\u001b[38;5;241m.\u001b[39mMAGIC_OUTPUT_CAN_BE_SILENCED, \u001b[38;5;28;01mFalse\u001b[39;00m):\n",
      "File \u001b[0;32m~/mambaforge/envs/scanpy_diffEx/lib/python3.9/site-packages/rpy2/ipython/rmagic.py:943\u001b[0m, in \u001b[0;36mRMagics.R\u001b[0;34m(self, line, cell, local_ns)\u001b[0m\n\u001b[1;32m    941\u001b[0m     \u001b[38;5;28;01mif\u001b[39;00m \u001b[38;5;129;01mnot\u001b[39;00m e\u001b[38;5;241m.\u001b[39mstdout\u001b[38;5;241m.\u001b[39mendswith(e\u001b[38;5;241m.\u001b[39merr):\n\u001b[1;32m    942\u001b[0m         \u001b[38;5;28mprint\u001b[39m(e\u001b[38;5;241m.\u001b[39merr)\n\u001b[0;32m--> 943\u001b[0m     \u001b[38;5;28;01mraise\u001b[39;00m e\n\u001b[1;32m    944\u001b[0m \u001b[38;5;28;01mfinally\u001b[39;00m:\n\u001b[1;32m    945\u001b[0m     \u001b[38;5;28;01mif\u001b[39;00m \u001b[38;5;28mself\u001b[39m\u001b[38;5;241m.\u001b[39mdevice \u001b[38;5;129;01min\u001b[39;00m DEVICES_STATIC:\n",
      "File \u001b[0;32m~/mambaforge/envs/scanpy_diffEx/lib/python3.9/site-packages/rpy2/ipython/rmagic.py:923\u001b[0m, in \u001b[0;36mRMagics.R\u001b[0;34m(self, line, cell, local_ns)\u001b[0m\n\u001b[1;32m    921\u001b[0m         return_output \u001b[38;5;241m=\u001b[39m \u001b[38;5;28;01mFalse\u001b[39;00m\n\u001b[1;32m    922\u001b[0m \u001b[38;5;28;01melse\u001b[39;00m:\n\u001b[0;32m--> 923\u001b[0m     text_result, result, visible \u001b[38;5;241m=\u001b[39m \u001b[38;5;28;43mself\u001b[39;49m\u001b[38;5;241;43m.\u001b[39;49m\u001b[43meval\u001b[49m\u001b[43m(\u001b[49m\u001b[43mcode\u001b[49m\u001b[43m)\u001b[49m\n\u001b[1;32m    924\u001b[0m     text_output \u001b[38;5;241m+\u001b[39m\u001b[38;5;241m=\u001b[39m text_result\n\u001b[1;32m    925\u001b[0m     \u001b[38;5;28;01mif\u001b[39;00m visible:\n",
      "File \u001b[0;32m~/mambaforge/envs/scanpy_diffEx/lib/python3.9/site-packages/rpy2/ipython/rmagic.py:389\u001b[0m, in \u001b[0;36mRMagics.eval\u001b[0;34m(self, code)\u001b[0m\n\u001b[1;32m    386\u001b[0m \u001b[38;5;28;01mexcept\u001b[39;00m (ri\u001b[38;5;241m.\u001b[39membedded\u001b[38;5;241m.\u001b[39mRRuntimeError, \u001b[38;5;167;01mValueError\u001b[39;00m) \u001b[38;5;28;01mas\u001b[39;00m exception:\n\u001b[1;32m    387\u001b[0m     \u001b[38;5;66;03m# Otherwise next return seems to have copy of error.\u001b[39;00m\n\u001b[1;32m    388\u001b[0m     warning_or_other_msg \u001b[38;5;241m=\u001b[39m \u001b[38;5;28mself\u001b[39m\u001b[38;5;241m.\u001b[39mflush()\n\u001b[0;32m--> 389\u001b[0m     \u001b[38;5;28;01mraise\u001b[39;00m RInterpreterError(code, \u001b[38;5;28mstr\u001b[39m(exception),\n\u001b[1;32m    390\u001b[0m                             warning_or_other_msg)\n\u001b[1;32m    391\u001b[0m text_output \u001b[38;5;241m=\u001b[39m \u001b[38;5;28mself\u001b[39m\u001b[38;5;241m.\u001b[39mflush()\n\u001b[1;32m    392\u001b[0m \u001b[38;5;28;01mreturn\u001b[39;00m text_output, value, visible[\u001b[38;5;241m0\u001b[39m]\n",
      "\u001b[0;31mRInterpreterError\u001b[0m: Failed to parse and evaluate line 'res <-find_de_MAST_RE(adata_AT1)\\n'.\nR error message: \"Error in generateHypothesis(hypothesis, colnames(object@coefD)) : \\n  Term(s) 'groupstim.AT1 ,' not found.\\nTerms available: (Intercept) , ngeneson , groupcontrol.AT1 ,\""
     ]
    }
   ],
   "source": [
    "%%time\n",
    "%%R -i adata_AT1 -o res\n",
    "res <-find_de_MAST_RE(adata_AT1)"
   ]
  },
  {
   "cell_type": "code",
   "execution_count": null,
   "id": "88cbd5d6-5d75-4896-b245-daa252bf53f8",
   "metadata": {},
   "outputs": [],
   "source": [
    "res[:5]res[\"gene_symbol\"] = res[\"primerid\"]\n",
    "res[\"cell_type\"] = \"AT1\"\n",
    "sc_toolbox.tools.de_res_to_anndata(\n",
    "    adata,\n",
    "    res,\n",
    "    groupby=\"cell_type\",\n",
    "    score_col=\"coef\",\n",
    "    pval_col=\"Pr(>Chisq)\",\n",
    "    pval_adj_col=\"FDR\",\n",
    "    lfc_col=\"coef\",\n",
    "    key_added=\"MAST_AT1\",\n",
    ")"
   ]
  },
  {
   "cell_type": "code",
   "execution_count": null,
   "id": "5e2f0e04-3a57-4f3f-8d7b-3986a934601e",
   "metadata": {},
   "outputs": [],
   "source": [
    "adata_copy = adata.copy()"
   ]
  },
  {
   "cell_type": "markdown",
   "id": "2874fcb4-97bd-47b9-83f5-234029726183",
   "metadata": {},
   "source": [
    "## 4. Visualization"
   ]
  },
  {
   "cell_type": "code",
   "execution_count": null,
   "id": "63afc4f6-a723-4e77-a83d-8c55663a92b5",
   "metadata": {},
   "outputs": [],
   "source": [
    "adata.X = adata.layers[\"counts\"].copy()\n",
    "sc.pp.normalize_total(adata, target_sum=1e6)\n",
    "sc.pp.log1p(adata)"
   ]
  },
  {
   "cell_type": "markdown",
   "id": "4044ca37-f9bf-4675-8962-c80be02c59bb",
   "metadata": {},
   "source": [
    "### Define helper function for heatmaps:"
   ]
  },
  {
   "cell_type": "code",
   "execution_count": null,
   "id": "2a3537b9-2c2a-4c00-b67c-4f82507860b6",
   "metadata": {},
   "outputs": [],
   "source": [
    "FDR = 0.01\n",
    "LOG_FOLD_CHANGE = 1.5\n",
    "\n",
    "\n",
    "def plot_heatmap(adata, group_key, group_name=\"cell_type\", groupby=\"label\"):\n",
    "    cell_type = \"_\".join(group_key.split(\"_\")[1:])\n",
    "    res = sc.get.rank_genes_groups_df(adata, group=cell_type, key=group_key)\n",
    "    res.index = res[\"names\"].values\n",
    "    res = res[\n",
    "        (res[\"pvals_adj\"] < FDR) & (abs(res[\"logfoldchanges\"]) > LOG_FOLD_CHANGE)\n",
    "    ].sort_values(by=[\"logfoldchanges\"])\n",
    "    print(f\"Plotting {len(res)} genes...\")\n",
    "    markers = list(res.index)\n",
    "    sc.pl.heatmap(\n",
    "        adata[adata.obs[group_name] == cell_type].copy(),\n",
    "        markers,\n",
    "        groupby=groupby,\n",
    "        swap_axes=True,\n",
    "    )"
   ]
  },
  {
   "cell_type": "markdown",
   "id": "705a3927-e816-4614-9742-8dceb578c726",
   "metadata": {},
   "source": [
    "### Plot heatmap for AT1:"
   ]
  },
  {
   "cell_type": "code",
   "execution_count": null,
   "id": "dbfecfa8-b009-4487-9808-0f99efe4ce1d",
   "metadata": {},
   "outputs": [],
   "source": [
    "plot_heatmap(adata, \"MAST_AT1\")"
   ]
  }
 ],
 "metadata": {
  "kernelspec": {
   "display_name": "Python 3 (ipykernel)",
   "language": "python",
   "name": "python3"
  },
  "language_info": {
   "codemirror_mode": {
    "name": "ipython",
    "version": 3
   },
   "file_extension": ".py",
   "mimetype": "text/x-python",
   "name": "python",
   "nbconvert_exporter": "python",
   "pygments_lexer": "ipython3",
   "version": "3.9.16"
  }
 },
 "nbformat": 4,
 "nbformat_minor": 5
}
