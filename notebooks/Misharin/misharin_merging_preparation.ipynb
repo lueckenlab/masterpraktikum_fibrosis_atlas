{
 "cells": [
  {
   "cell_type": "markdown",
   "source": [
    "# Misharin (GSE127803) - Preparation the preprocessed and annotated data for merging\n",
    "Mice aged 8-10 weeks were instilled intratracheally with control particles or crocidolite asbestos fibers to induce lung fibrosis. Lungs were then harvested at different time points (depending on the analysis method).\n",
    "Single-cell RNA sequencing was done on a HiSeq 4000 instrument (Illumina) using Chromium Single Cell v2 Reagent Kit and Controller for the library preparation."
   ],
   "metadata": {
    "collapsed": false,
    "pycharm": {
     "name": "#%% md\n"
    }
   }
  },
  {
   "cell_type": "code",
   "execution_count": 1,
   "outputs": [],
   "source": [
    "import scanpy"
   ],
   "metadata": {
    "collapsed": false,
    "pycharm": {
     "name": "#%%\n"
    }
   }
  },
  {
   "cell_type": "code",
   "execution_count": 2,
   "outputs": [],
   "source": [
    "base = \"GSE127803_RAW/\"\n",
    "output = \"data/\""
   ],
   "metadata": {
    "collapsed": false,
    "pycharm": {
     "name": "#%%\n"
    }
   }
  },
  {
   "cell_type": "code",
   "execution_count": 29,
   "outputs": [],
   "source": [
    "misharin_merging = scanpy.read(output + 'misharin_Emma_processed_annotated_leiden.h5ad')"
   ],
   "metadata": {
    "collapsed": false,
    "pycharm": {
     "name": "#%%\n"
    }
   }
  },
  {
   "cell_type": "code",
   "execution_count": 33,
   "outputs": [
    {
     "data": {
      "text/plain": "AnnData object with n_obs × n_vars = 15365 × 27998\n    obs: 'batch', 'cond', 'n_genes_by_counts', 'log1p_n_genes_by_counts', 'total_counts', 'log1p_total_counts', 'pct_counts_in_top_20_genes', 'total_counts_mt', 'log1p_total_counts_mt', 'pct_counts_mt', 'total_counts_ribo', 'log1p_total_counts_ribo', 'pct_counts_ribo', 'total_counts_hb', 'log1p_total_counts_hb', 'pct_counts_hb', 'outlier', 'n_counts', 'n_genes', 'louvain', 'leiden', 'leiden_res0_1', 'leiden_res0_25', 'leiden_res0_5', 'leiden_res1', 'mish_clusters', 'manual_celltype_annotation_coarse', 'manual_celltype_annotation_fine'\n    var: 'mt', 'ribo', 'hb', 'n_cells_by_counts', 'mean_counts', 'log1p_mean_counts', 'pct_dropout_by_counts', 'total_counts', 'log1p_total_counts', 'highly_variable', 'means', 'dispersions', 'dispersions_norm'\n    uns: 'cond_colors', 'dendrogram_leiden_res0_25', 'hvg', 'leiden', 'leiden_res0_1_colors', 'leiden_res0_25_colors', 'leiden_res0_5_colors', 'leiden_res1_colors', 'log1p', 'louvain', 'louvain_colors', 'manual_celltype_annotation_coarse_colors', 'manual_celltype_annotation_fine_colors', 'mish_clusters_colors', 'neighbors', 'pca', 'umap'\n    obsm: 'X_pca', 'X_umap'\n    varm: 'PCs'\n    layers: 'log1p_norm'\n    obsp: 'connectivities', 'distances'"
     },
     "execution_count": 33,
     "metadata": {},
     "output_type": "execute_result"
    }
   ],
   "source": [
    "misharin_merging"
   ],
   "metadata": {
    "collapsed": false,
    "pycharm": {
     "name": "#%%\n"
    }
   }
  },
  {
   "cell_type": "code",
   "execution_count": 31,
   "outputs": [
    {
     "data": {
      "text/plain": "                       batch      cond  n_genes_by_counts  \\\nSC14_AAACCTGAGCGTTCCG      0   control                749   \nSC14_AAACCTGAGGACATTA      0   control                629   \nSC14_AAACCTGAGTCGTTTG      0   control               1180   \nSC14_AAACCTGCACATCCGG      0   control               2498   \nSC14_AAACCTGCACTAGTAC      0   control               1139   \n...                      ...       ...                ...   \nSC15_TTTGTCAGTGATGTGG      1  fibrosis               1141   \nSC15_TTTGTCAGTTCGCTAA      1  fibrosis                793   \nSC15_TTTGTCATCAGTCAGT      1  fibrosis               1638   \nSC15_TTTGTCATCGCGTAGC      1  fibrosis               1803   \nSC15_TTTGTCATCGCTGATA      1  fibrosis               1341   \n\n                       log1p_n_genes_by_counts  total_counts  \\\nSC14_AAACCTGAGCGTTCCG                 6.620073        1855.0   \nSC14_AAACCTGAGGACATTA                 6.445720        1479.0   \nSC14_AAACCTGAGTCGTTTG                 7.074117        2638.0   \nSC14_AAACCTGCACATCCGG                 7.823646        9452.0   \nSC14_AAACCTGCACTAGTAC                 7.038784        3883.0   \n...                                        ...           ...   \nSC15_TTTGTCAGTGATGTGG                 7.040536        2724.0   \nSC15_TTTGTCAGTTCGCTAA                 6.677083        2193.0   \nSC15_TTTGTCATCAGTCAGT                 7.401842        4270.0   \nSC15_TTTGTCATCGCGTAGC                 7.497762        7743.0   \nSC15_TTTGTCATCGCTGATA                 7.201916        4184.0   \n\n                       log1p_total_counts  pct_counts_in_top_20_genes  \\\nSC14_AAACCTGAGCGTTCCG            7.526179                   25.606469   \nSC14_AAACCTGAGGACATTA            7.299798                   26.369168   \nSC14_AAACCTGAGTCGTTTG            7.878155                   20.507961   \nSC14_AAACCTGCACATCCGG            9.154087                   16.314008   \nSC14_AAACCTGCACTAGTAC            8.264621                   24.671646   \n...                                   ...                         ...   \nSC15_TTTGTCAGTGATGTGG            7.910223                   21.145374   \nSC15_TTTGTCAGTTCGCTAA            7.693481                   26.265390   \nSC15_TTTGTCATCAGTCAGT            8.359603                   18.056206   \nSC15_TTTGTCATCGCGTAGC            8.954674                   26.217228   \nSC15_TTTGTCATCGCTGATA            8.339262                   35.229446   \n\n                       total_counts_mt  log1p_total_counts_mt  pct_counts_mt  \\\nSC14_AAACCTGAGCGTTCCG              0.0                    0.0            0.0   \nSC14_AAACCTGAGGACATTA              0.0                    0.0            0.0   \nSC14_AAACCTGAGTCGTTTG              0.0                    0.0            0.0   \nSC14_AAACCTGCACATCCGG              0.0                    0.0            0.0   \nSC14_AAACCTGCACTAGTAC              0.0                    0.0            0.0   \n...                                ...                    ...            ...   \nSC15_TTTGTCAGTGATGTGG              0.0                    0.0            0.0   \nSC15_TTTGTCAGTTCGCTAA              0.0                    0.0            0.0   \nSC15_TTTGTCATCAGTCAGT              0.0                    0.0            0.0   \nSC15_TTTGTCATCGCGTAGC              0.0                    0.0            0.0   \nSC15_TTTGTCATCGCTGATA              0.0                    0.0            0.0   \n\n                       ...  n_genes  louvain  leiden  leiden_res0_1  \\\nSC14_AAACCTGAGCGTTCCG  ...      749        4       3              4   \nSC14_AAACCTGAGGACATTA  ...      629        4       3              4   \nSC14_AAACCTGAGTCGTTTG  ...     1180        2       1              2   \nSC14_AAACCTGCACATCCGG  ...     2498        1       8              0   \nSC14_AAACCTGCACTAGTAC  ...     1139        3       5              3   \n...                    ...      ...      ...     ...            ...   \nSC15_TTTGTCAGTGATGTGG  ...     1141        5      11              0   \nSC15_TTTGTCAGTTCGCTAA  ...      793        3       5              3   \nSC15_TTTGTCATCAGTCAGT  ...     1638        1       2              0   \nSC15_TTTGTCATCGCGTAGC  ...     1803       15      27              5   \nSC15_TTTGTCATCGCTGATA  ...     1341        0       0              1   \n\n                       leiden_res0_25  leiden_res0_5  leiden_res1  \\\nSC14_AAACCTGAGCGTTCCG               4              4            3   \nSC14_AAACCTGAGGACATTA               4              4            3   \nSC14_AAACCTGAGTCGTTTG               2              2            1   \nSC14_AAACCTGCACATCCGG               1              6            8   \nSC14_AAACCTGCACTAGTAC               3              3            5   \n...                               ...            ...          ...   \nSC15_TTTGTCAGTGATGTGG               5              6           11   \nSC15_TTTGTCAGTTCGCTAA               3              3            5   \nSC15_TTTGTCATCAGTCAGT               1              0            2   \nSC15_TTTGTCATCGCGTAGC              15             19           27   \nSC15_TTTGTCATCGCTGATA               0              1            0   \n\n                                            mish_clusters  \\\nSC14_AAACCTGAGCGTTCCG                             B cells   \nSC14_AAACCTGAGGACATTA                             B cells   \nSC14_AAACCTGAGTCGTTTG                Alveolar macrophages   \nSC14_AAACCTGCACATCCGG                 Classical monocytes   \nSC14_AAACCTGCACTAGTAC                             T cells   \n...                                                   ...   \nSC15_TTTGTCAGTGATGTGG             Non-classical monocytes   \nSC15_TTTGTCAGTTCGCTAA                             T cells   \nSC15_TTTGTCATCAGTCAGT                 Classical monocytes   \nSC15_TTTGTCATCGCGTAGC                      Ccr7+Ccl22+ DC   \nSC15_TTTGTCATCGCTGATA  AT2 cells (asbestos only, Retnla+)   \n\n                       manual_celltype_annotation_coarse  \\\nSC14_AAACCTGAGCGTTCCG                            B-cells   \nSC14_AAACCTGAGGACATTA                            B-cells   \nSC14_AAACCTGAGTCGTTTG                        Macrophages   \nSC14_AAACCTGCACATCCGG                          Monocytes   \nSC14_AAACCTGCACTAGTAC                            T-cells   \n...                                                  ...   \nSC15_TTTGTCAGTGATGTGG                          Monocytes   \nSC15_TTTGTCAGTTCGCTAA                            T-cells   \nSC15_TTTGTCATCAGTCAGT                          Monocytes   \nSC15_TTTGTCATCGCGTAGC                        Macrophages   \nSC15_TTTGTCATCGCTGATA                                AT2   \n\n                      manual_celltype_annotation_fine  \nSC14_AAACCTGAGCGTTCCG                         B-cells  \nSC14_AAACCTGAGGACATTA                         B-cells  \nSC14_AAACCTGAGTCGTTTG            Alveolar macrophages  \nSC14_AAACCTGCACATCCGG             Classical monocytes  \nSC14_AAACCTGCACTAGTAC                         T-cells  \n...                                               ...  \nSC15_TTTGTCAGTGATGTGG         Non-classical monocytes  \nSC15_TTTGTCAGTTCGCTAA                         T-cells  \nSC15_TTTGTCATCAGTCAGT             Classical monocytes  \nSC15_TTTGTCATCGCGTAGC         Dendritic cells Ccr7-hi  \nSC15_TTTGTCATCGCTGATA                             AT2  \n\n[15365 rows x 28 columns]",
      "text/html": "<div>\n<style scoped>\n    .dataframe tbody tr th:only-of-type {\n        vertical-align: middle;\n    }\n\n    .dataframe tbody tr th {\n        vertical-align: top;\n    }\n\n    .dataframe thead th {\n        text-align: right;\n    }\n</style>\n<table border=\"1\" class=\"dataframe\">\n  <thead>\n    <tr style=\"text-align: right;\">\n      <th></th>\n      <th>batch</th>\n      <th>cond</th>\n      <th>n_genes_by_counts</th>\n      <th>log1p_n_genes_by_counts</th>\n      <th>total_counts</th>\n      <th>log1p_total_counts</th>\n      <th>pct_counts_in_top_20_genes</th>\n      <th>total_counts_mt</th>\n      <th>log1p_total_counts_mt</th>\n      <th>pct_counts_mt</th>\n      <th>...</th>\n      <th>n_genes</th>\n      <th>louvain</th>\n      <th>leiden</th>\n      <th>leiden_res0_1</th>\n      <th>leiden_res0_25</th>\n      <th>leiden_res0_5</th>\n      <th>leiden_res1</th>\n      <th>mish_clusters</th>\n      <th>manual_celltype_annotation_coarse</th>\n      <th>manual_celltype_annotation_fine</th>\n    </tr>\n  </thead>\n  <tbody>\n    <tr>\n      <th>SC14_AAACCTGAGCGTTCCG</th>\n      <td>0</td>\n      <td>control</td>\n      <td>749</td>\n      <td>6.620073</td>\n      <td>1855.0</td>\n      <td>7.526179</td>\n      <td>25.606469</td>\n      <td>0.0</td>\n      <td>0.0</td>\n      <td>0.0</td>\n      <td>...</td>\n      <td>749</td>\n      <td>4</td>\n      <td>3</td>\n      <td>4</td>\n      <td>4</td>\n      <td>4</td>\n      <td>3</td>\n      <td>B cells</td>\n      <td>B-cells</td>\n      <td>B-cells</td>\n    </tr>\n    <tr>\n      <th>SC14_AAACCTGAGGACATTA</th>\n      <td>0</td>\n      <td>control</td>\n      <td>629</td>\n      <td>6.445720</td>\n      <td>1479.0</td>\n      <td>7.299798</td>\n      <td>26.369168</td>\n      <td>0.0</td>\n      <td>0.0</td>\n      <td>0.0</td>\n      <td>...</td>\n      <td>629</td>\n      <td>4</td>\n      <td>3</td>\n      <td>4</td>\n      <td>4</td>\n      <td>4</td>\n      <td>3</td>\n      <td>B cells</td>\n      <td>B-cells</td>\n      <td>B-cells</td>\n    </tr>\n    <tr>\n      <th>SC14_AAACCTGAGTCGTTTG</th>\n      <td>0</td>\n      <td>control</td>\n      <td>1180</td>\n      <td>7.074117</td>\n      <td>2638.0</td>\n      <td>7.878155</td>\n      <td>20.507961</td>\n      <td>0.0</td>\n      <td>0.0</td>\n      <td>0.0</td>\n      <td>...</td>\n      <td>1180</td>\n      <td>2</td>\n      <td>1</td>\n      <td>2</td>\n      <td>2</td>\n      <td>2</td>\n      <td>1</td>\n      <td>Alveolar macrophages</td>\n      <td>Macrophages</td>\n      <td>Alveolar macrophages</td>\n    </tr>\n    <tr>\n      <th>SC14_AAACCTGCACATCCGG</th>\n      <td>0</td>\n      <td>control</td>\n      <td>2498</td>\n      <td>7.823646</td>\n      <td>9452.0</td>\n      <td>9.154087</td>\n      <td>16.314008</td>\n      <td>0.0</td>\n      <td>0.0</td>\n      <td>0.0</td>\n      <td>...</td>\n      <td>2498</td>\n      <td>1</td>\n      <td>8</td>\n      <td>0</td>\n      <td>1</td>\n      <td>6</td>\n      <td>8</td>\n      <td>Classical monocytes</td>\n      <td>Monocytes</td>\n      <td>Classical monocytes</td>\n    </tr>\n    <tr>\n      <th>SC14_AAACCTGCACTAGTAC</th>\n      <td>0</td>\n      <td>control</td>\n      <td>1139</td>\n      <td>7.038784</td>\n      <td>3883.0</td>\n      <td>8.264621</td>\n      <td>24.671646</td>\n      <td>0.0</td>\n      <td>0.0</td>\n      <td>0.0</td>\n      <td>...</td>\n      <td>1139</td>\n      <td>3</td>\n      <td>5</td>\n      <td>3</td>\n      <td>3</td>\n      <td>3</td>\n      <td>5</td>\n      <td>T cells</td>\n      <td>T-cells</td>\n      <td>T-cells</td>\n    </tr>\n    <tr>\n      <th>...</th>\n      <td>...</td>\n      <td>...</td>\n      <td>...</td>\n      <td>...</td>\n      <td>...</td>\n      <td>...</td>\n      <td>...</td>\n      <td>...</td>\n      <td>...</td>\n      <td>...</td>\n      <td>...</td>\n      <td>...</td>\n      <td>...</td>\n      <td>...</td>\n      <td>...</td>\n      <td>...</td>\n      <td>...</td>\n      <td>...</td>\n      <td>...</td>\n      <td>...</td>\n      <td>...</td>\n    </tr>\n    <tr>\n      <th>SC15_TTTGTCAGTGATGTGG</th>\n      <td>1</td>\n      <td>fibrosis</td>\n      <td>1141</td>\n      <td>7.040536</td>\n      <td>2724.0</td>\n      <td>7.910223</td>\n      <td>21.145374</td>\n      <td>0.0</td>\n      <td>0.0</td>\n      <td>0.0</td>\n      <td>...</td>\n      <td>1141</td>\n      <td>5</td>\n      <td>11</td>\n      <td>0</td>\n      <td>5</td>\n      <td>6</td>\n      <td>11</td>\n      <td>Non-classical monocytes</td>\n      <td>Monocytes</td>\n      <td>Non-classical monocytes</td>\n    </tr>\n    <tr>\n      <th>SC15_TTTGTCAGTTCGCTAA</th>\n      <td>1</td>\n      <td>fibrosis</td>\n      <td>793</td>\n      <td>6.677083</td>\n      <td>2193.0</td>\n      <td>7.693481</td>\n      <td>26.265390</td>\n      <td>0.0</td>\n      <td>0.0</td>\n      <td>0.0</td>\n      <td>...</td>\n      <td>793</td>\n      <td>3</td>\n      <td>5</td>\n      <td>3</td>\n      <td>3</td>\n      <td>3</td>\n      <td>5</td>\n      <td>T cells</td>\n      <td>T-cells</td>\n      <td>T-cells</td>\n    </tr>\n    <tr>\n      <th>SC15_TTTGTCATCAGTCAGT</th>\n      <td>1</td>\n      <td>fibrosis</td>\n      <td>1638</td>\n      <td>7.401842</td>\n      <td>4270.0</td>\n      <td>8.359603</td>\n      <td>18.056206</td>\n      <td>0.0</td>\n      <td>0.0</td>\n      <td>0.0</td>\n      <td>...</td>\n      <td>1638</td>\n      <td>1</td>\n      <td>2</td>\n      <td>0</td>\n      <td>1</td>\n      <td>0</td>\n      <td>2</td>\n      <td>Classical monocytes</td>\n      <td>Monocytes</td>\n      <td>Classical monocytes</td>\n    </tr>\n    <tr>\n      <th>SC15_TTTGTCATCGCGTAGC</th>\n      <td>1</td>\n      <td>fibrosis</td>\n      <td>1803</td>\n      <td>7.497762</td>\n      <td>7743.0</td>\n      <td>8.954674</td>\n      <td>26.217228</td>\n      <td>0.0</td>\n      <td>0.0</td>\n      <td>0.0</td>\n      <td>...</td>\n      <td>1803</td>\n      <td>15</td>\n      <td>27</td>\n      <td>5</td>\n      <td>15</td>\n      <td>19</td>\n      <td>27</td>\n      <td>Ccr7+Ccl22+ DC</td>\n      <td>Macrophages</td>\n      <td>Dendritic cells Ccr7-hi</td>\n    </tr>\n    <tr>\n      <th>SC15_TTTGTCATCGCTGATA</th>\n      <td>1</td>\n      <td>fibrosis</td>\n      <td>1341</td>\n      <td>7.201916</td>\n      <td>4184.0</td>\n      <td>8.339262</td>\n      <td>35.229446</td>\n      <td>0.0</td>\n      <td>0.0</td>\n      <td>0.0</td>\n      <td>...</td>\n      <td>1341</td>\n      <td>0</td>\n      <td>0</td>\n      <td>1</td>\n      <td>0</td>\n      <td>1</td>\n      <td>0</td>\n      <td>AT2 cells (asbestos only, Retnla+)</td>\n      <td>AT2</td>\n      <td>AT2</td>\n    </tr>\n  </tbody>\n</table>\n<p>15365 rows × 28 columns</p>\n</div>"
     },
     "execution_count": 31,
     "metadata": {},
     "output_type": "execute_result"
    }
   ],
   "source": [
    "misharin_merging.obs"
   ],
   "metadata": {
    "collapsed": false,
    "pycharm": {
     "name": "#%%\n"
    }
   }
  },
  {
   "cell_type": "markdown",
   "source": [
    "## Preparing *misharin_merging.obs*:"
   ],
   "metadata": {
    "collapsed": false,
    "pycharm": {
     "name": "#%% md\n"
    }
   }
  },
  {
   "cell_type": "code",
   "execution_count": 40,
   "outputs": [],
   "source": [
    "columns_to_drop = [\n",
    "    'cond', 'n_genes_by_counts', 'log1p_n_genes_by_counts', 'total_counts', 'log1p_total_counts',\n",
    "    'pct_counts_in_top_20_genes', 'total_counts_mt', 'log1p_total_counts_mt', 'pct_counts_mt', 'total_counts_ribo',\n",
    "    'log1p_total_counts_ribo', 'pct_counts_ribo', 'total_counts_hb', 'log1p_total_counts_hb', 'pct_counts_hb', 'outlier',\n",
    "    'n_counts', 'n_genes', 'louvain', 'leiden', 'leiden_res0_1', 'leiden_res0_25', 'leiden_res0_5', 'leiden_res1',\n",
    "    'manual_celltype_annotation_coarse'\n",
    "]\n",
    "\n",
    "misharin_merging.obs.drop(columns_to_drop, axis=1, inplace=True)"
   ],
   "metadata": {
    "collapsed": false,
    "pycharm": {
     "name": "#%%\n"
    }
   }
  },
  {
   "cell_type": "code",
   "execution_count": 42,
   "outputs": [
    {
     "name": "stderr",
     "output_type": "stream",
     "text": [
      "/var/folders/z_/nw0n7j9917b1t955zn7rj2vc0000gn/T/ipykernel_92789/3290205758.py:2: SettingWithCopyWarning: \n",
      "A value is trying to be set on a copy of a slice from a DataFrame\n",
      "\n",
      "See the caveats in the documentation: https://pandas.pydata.org/pandas-docs/stable/user_guide/indexing.html#returning-a-view-versus-a-copy\n",
      "  misharin_merging.obs['condition'][misharin_merging.obs.batch == 1] = 'asbestos'   # fibrosis\n"
     ]
    }
   ],
   "source": [
    "misharin_merging.obs['condition'] = 'control'                                     # control\n",
    "misharin_merging.obs['condition'][misharin_merging.obs.batch == 1] = 'asbestos'   # fibrosis"
   ],
   "metadata": {
    "collapsed": false,
    "pycharm": {
     "name": "#%%\n"
    }
   }
  },
  {
   "cell_type": "code",
   "execution_count": 43,
   "outputs": [],
   "source": [
    "misharin_merging.obs.rename(\n",
    "    columns={'manual_celltype_annotation_fine': 'manual_celltype_annotation',\n",
    "             'mish_clusters': 'author_annotation'}, inplace=True)"
   ],
   "metadata": {
    "collapsed": false,
    "pycharm": {
     "name": "#%%\n"
    }
   }
  },
  {
   "cell_type": "markdown",
   "source": [
    "## Deleting all unneeded properties of *misharin_merging*:"
   ],
   "metadata": {
    "collapsed": false,
    "pycharm": {
     "name": "#%% md\n"
    }
   }
  },
  {
   "cell_type": "code",
   "execution_count": 44,
   "outputs": [],
   "source": [
    "for key in misharin_merging.var_keys():\n",
    "    del misharin_merging.var[key]"
   ],
   "metadata": {
    "collapsed": false,
    "pycharm": {
     "name": "#%%\n"
    }
   }
  },
  {
   "cell_type": "code",
   "execution_count": 45,
   "outputs": [],
   "source": [
    "for key in misharin_merging.uns_keys():\n",
    "    del misharin_merging.uns[key]"
   ],
   "metadata": {
    "collapsed": false,
    "pycharm": {
     "name": "#%%\n"
    }
   }
  },
  {
   "cell_type": "code",
   "execution_count": 46,
   "outputs": [],
   "source": [
    "del misharin_merging.obsm['X_pca']\n",
    "del misharin_merging.obsm['X_umap']"
   ],
   "metadata": {
    "collapsed": false,
    "pycharm": {
     "name": "#%%\n"
    }
   }
  },
  {
   "cell_type": "code",
   "execution_count": 47,
   "outputs": [],
   "source": [
    "del misharin_merging.varm['PCs']"
   ],
   "metadata": {
    "collapsed": false,
    "pycharm": {
     "name": "#%%\n"
    }
   }
  },
  {
   "cell_type": "code",
   "execution_count": 48,
   "outputs": [],
   "source": [
    "del misharin_merging.layers['log1p_norm']"
   ],
   "metadata": {
    "collapsed": false,
    "pycharm": {
     "name": "#%%\n"
    }
   }
  },
  {
   "cell_type": "code",
   "execution_count": 49,
   "outputs": [],
   "source": [
    "del misharin_merging.obsp['connectivities']\n",
    "del misharin_merging.obsp['distances']"
   ],
   "metadata": {
    "collapsed": false,
    "pycharm": {
     "name": "#%%\n"
    }
   }
  },
  {
   "cell_type": "markdown",
   "source": [
    "## Only using the raw counts:"
   ],
   "metadata": {
    "collapsed": false,
    "pycharm": {
     "name": "#%% md\n"
    }
   }
  },
  {
   "cell_type": "code",
   "execution_count": 52,
   "outputs": [],
   "source": [
    "misharin_merging.X = misharin_merging.raw.X"
   ],
   "metadata": {
    "collapsed": false,
    "pycharm": {
     "name": "#%%\n"
    }
   }
  },
  {
   "cell_type": "markdown",
   "source": [
    "## Final *annData* object:"
   ],
   "metadata": {
    "collapsed": false,
    "pycharm": {
     "name": "#%% md\n"
    }
   }
  },
  {
   "cell_type": "code",
   "execution_count": 53,
   "outputs": [
    {
     "data": {
      "text/plain": "AnnData object with n_obs × n_vars = 15365 × 27998\n    obs: 'batch', 'author_annotation', 'manual_celltype_annotation', 'condition'"
     },
     "execution_count": 53,
     "metadata": {},
     "output_type": "execute_result"
    }
   ],
   "source": [
    "misharin_merging"
   ],
   "metadata": {
    "collapsed": false,
    "pycharm": {
     "name": "#%%\n"
    }
   }
  },
  {
   "cell_type": "code",
   "execution_count": 54,
   "outputs": [
    {
     "data": {
      "text/plain": "                       batch                   author_annotation  \\\nSC14_AAACCTGAGCGTTCCG      0                             B cells   \nSC14_AAACCTGAGGACATTA      0                             B cells   \nSC14_AAACCTGAGTCGTTTG      0                Alveolar macrophages   \nSC14_AAACCTGCACATCCGG      0                 Classical monocytes   \nSC14_AAACCTGCACTAGTAC      0                             T cells   \n...                      ...                                 ...   \nSC15_TTTGTCAGTGATGTGG      1             Non-classical monocytes   \nSC15_TTTGTCAGTTCGCTAA      1                             T cells   \nSC15_TTTGTCATCAGTCAGT      1                 Classical monocytes   \nSC15_TTTGTCATCGCGTAGC      1                      Ccr7+Ccl22+ DC   \nSC15_TTTGTCATCGCTGATA      1  AT2 cells (asbestos only, Retnla+)   \n\n                      manual_celltype_annotation condition  \nSC14_AAACCTGAGCGTTCCG                    B-cells   control  \nSC14_AAACCTGAGGACATTA                    B-cells   control  \nSC14_AAACCTGAGTCGTTTG       Alveolar macrophages   control  \nSC14_AAACCTGCACATCCGG        Classical monocytes   control  \nSC14_AAACCTGCACTAGTAC                    T-cells   control  \n...                                          ...       ...  \nSC15_TTTGTCAGTGATGTGG    Non-classical monocytes  asbestos  \nSC15_TTTGTCAGTTCGCTAA                    T-cells  asbestos  \nSC15_TTTGTCATCAGTCAGT        Classical monocytes  asbestos  \nSC15_TTTGTCATCGCGTAGC    Dendritic cells Ccr7-hi  asbestos  \nSC15_TTTGTCATCGCTGATA                        AT2  asbestos  \n\n[15365 rows x 4 columns]",
      "text/html": "<div>\n<style scoped>\n    .dataframe tbody tr th:only-of-type {\n        vertical-align: middle;\n    }\n\n    .dataframe tbody tr th {\n        vertical-align: top;\n    }\n\n    .dataframe thead th {\n        text-align: right;\n    }\n</style>\n<table border=\"1\" class=\"dataframe\">\n  <thead>\n    <tr style=\"text-align: right;\">\n      <th></th>\n      <th>batch</th>\n      <th>author_annotation</th>\n      <th>manual_celltype_annotation</th>\n      <th>condition</th>\n    </tr>\n  </thead>\n  <tbody>\n    <tr>\n      <th>SC14_AAACCTGAGCGTTCCG</th>\n      <td>0</td>\n      <td>B cells</td>\n      <td>B-cells</td>\n      <td>control</td>\n    </tr>\n    <tr>\n      <th>SC14_AAACCTGAGGACATTA</th>\n      <td>0</td>\n      <td>B cells</td>\n      <td>B-cells</td>\n      <td>control</td>\n    </tr>\n    <tr>\n      <th>SC14_AAACCTGAGTCGTTTG</th>\n      <td>0</td>\n      <td>Alveolar macrophages</td>\n      <td>Alveolar macrophages</td>\n      <td>control</td>\n    </tr>\n    <tr>\n      <th>SC14_AAACCTGCACATCCGG</th>\n      <td>0</td>\n      <td>Classical monocytes</td>\n      <td>Classical monocytes</td>\n      <td>control</td>\n    </tr>\n    <tr>\n      <th>SC14_AAACCTGCACTAGTAC</th>\n      <td>0</td>\n      <td>T cells</td>\n      <td>T-cells</td>\n      <td>control</td>\n    </tr>\n    <tr>\n      <th>...</th>\n      <td>...</td>\n      <td>...</td>\n      <td>...</td>\n      <td>...</td>\n    </tr>\n    <tr>\n      <th>SC15_TTTGTCAGTGATGTGG</th>\n      <td>1</td>\n      <td>Non-classical monocytes</td>\n      <td>Non-classical monocytes</td>\n      <td>asbestos</td>\n    </tr>\n    <tr>\n      <th>SC15_TTTGTCAGTTCGCTAA</th>\n      <td>1</td>\n      <td>T cells</td>\n      <td>T-cells</td>\n      <td>asbestos</td>\n    </tr>\n    <tr>\n      <th>SC15_TTTGTCATCAGTCAGT</th>\n      <td>1</td>\n      <td>Classical monocytes</td>\n      <td>Classical monocytes</td>\n      <td>asbestos</td>\n    </tr>\n    <tr>\n      <th>SC15_TTTGTCATCGCGTAGC</th>\n      <td>1</td>\n      <td>Ccr7+Ccl22+ DC</td>\n      <td>Dendritic cells Ccr7-hi</td>\n      <td>asbestos</td>\n    </tr>\n    <tr>\n      <th>SC15_TTTGTCATCGCTGATA</th>\n      <td>1</td>\n      <td>AT2 cells (asbestos only, Retnla+)</td>\n      <td>AT2</td>\n      <td>asbestos</td>\n    </tr>\n  </tbody>\n</table>\n<p>15365 rows × 4 columns</p>\n</div>"
     },
     "execution_count": 54,
     "metadata": {},
     "output_type": "execute_result"
    }
   ],
   "source": [
    "misharin_merging.obs"
   ],
   "metadata": {
    "collapsed": false,
    "pycharm": {
     "name": "#%%\n"
    }
   }
  },
  {
   "cell_type": "code",
   "execution_count": 55,
   "outputs": [
    {
     "name": "stdout",
     "output_type": "stream",
     "text": [
      "  (0, 17)\t1.0\n",
      "  (0, 38)\t1.0\n",
      "  (0, 62)\t9.0\n",
      "  (0, 150)\t1.0\n",
      "  (0, 153)\t2.0\n",
      "  (0, 208)\t2.0\n",
      "  (0, 219)\t1.0\n",
      "  (0, 227)\t5.0\n",
      "  (0, 311)\t1.0\n",
      "  (0, 357)\t1.0\n",
      "  (0, 425)\t1.0\n",
      "  (0, 429)\t3.0\n",
      "  (0, 499)\t26.0\n",
      "  (0, 523)\t1.0\n",
      "  (0, 537)\t1.0\n",
      "  (0, 547)\t1.0\n",
      "  (0, 584)\t1.0\n",
      "  (0, 595)\t1.0\n",
      "  (0, 639)\t1.0\n",
      "  (0, 642)\t2.0\n",
      "  (0, 660)\t1.0\n",
      "  (0, 663)\t4.0\n",
      "  (0, 728)\t1.0\n",
      "  (0, 803)\t1.0\n",
      "  (0, 847)\t1.0\n",
      "  :\t:\n",
      "  (15364, 27692)\t1.0\n",
      "  (15364, 27732)\t1.0\n",
      "  (15364, 27739)\t2.0\n",
      "  (15364, 27741)\t15.0\n",
      "  (15364, 27745)\t1.0\n",
      "  (15364, 27804)\t1.0\n",
      "  (15364, 27842)\t1.0\n",
      "  (15364, 27847)\t1.0\n",
      "  (15364, 27858)\t1.0\n",
      "  (15364, 27864)\t1.0\n",
      "  (15364, 27886)\t1.0\n",
      "  (15364, 27896)\t1.0\n",
      "  (15364, 27908)\t25.0\n",
      "  (15364, 27909)\t22.0\n",
      "  (15364, 27910)\t85.0\n",
      "  (15364, 27911)\t31.0\n",
      "  (15364, 27912)\t1.0\n",
      "  (15364, 27913)\t58.0\n",
      "  (15364, 27914)\t56.0\n",
      "  (15364, 27915)\t7.0\n",
      "  (15364, 27916)\t3.0\n",
      "  (15364, 27917)\t33.0\n",
      "  (15364, 27918)\t5.0\n",
      "  (15364, 27920)\t33.0\n",
      "  (15364, 27994)\t1.0\n"
     ]
    }
   ],
   "source": [
    "print(misharin_merging.X)"
   ],
   "metadata": {
    "collapsed": false,
    "pycharm": {
     "name": "#%%\n"
    }
   }
  },
  {
   "cell_type": "markdown",
   "source": [
    "## Saving *misharin_merging*:"
   ],
   "metadata": {
    "collapsed": false,
    "pycharm": {
     "name": "#%% md\n"
    }
   }
  },
  {
   "cell_type": "code",
   "execution_count": 56,
   "outputs": [],
   "source": [
    "misharin_merging.write(output + \"misharin_Emma_for_merging.h5ad\")"
   ],
   "metadata": {
    "collapsed": false,
    "pycharm": {
     "name": "#%%\n"
    }
   }
  },
  {
   "cell_type": "code",
   "execution_count": null,
   "outputs": [],
   "source": [],
   "metadata": {
    "collapsed": false,
    "pycharm": {
     "name": "#%%\n"
    }
   }
  }
 ],
 "metadata": {
  "kernelspec": {
   "display_name": "Python 3",
   "language": "python",
   "name": "python3"
  },
  "language_info": {
   "codemirror_mode": {
    "name": "ipython",
    "version": 2
   },
   "file_extension": ".py",
   "mimetype": "text/x-python",
   "name": "python",
   "nbconvert_exporter": "python",
   "pygments_lexer": "ipython2",
   "version": "2.7.6"
  }
 },
 "nbformat": 4,
 "nbformat_minor": 0
}