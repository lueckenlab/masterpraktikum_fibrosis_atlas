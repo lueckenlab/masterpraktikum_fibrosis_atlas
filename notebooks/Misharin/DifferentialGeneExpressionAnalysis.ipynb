{
 "cells": [
  {
   "cell_type": "markdown",
   "source": [
    "# Differential Gene Expression Analysis (chapter 16)\n",
    "As example data the data set Misharin was used."
   ],
   "metadata": {
    "collapsed": false,
    "pycharm": {
     "name": "#%% md\n"
    }
   }
  },
  {
   "cell_type": "code",
   "execution_count": 2,
   "outputs": [
    {
     "name": "stdout",
     "output_type": "stream",
     "text": [
      "Note: no visible global function definition for 'radixsort' \n"
     ]
    },
    {
     "name": "stderr",
     "output_type": "stream",
     "text": [
      "R[write to console]: Error in value[[3L]](cond) : \n",
      "  unable to load shared object '/usr/local/Caskroom/miniconda/base/lib/R/library/methods/libs/methods.so':\n",
      "  dlopen(/usr/local/Caskroom/miniconda/base/lib/R/library/methods/libs/methods.so, 0x0006): Library not loaded: @rpath/libreadline.6.2.dylib\n",
      "  Referenced from: <185433D7-8B40-31AA-8BD9-465D23C57257> /usr/local/Caskroom/miniconda/base/lib/R/lib/libR.dylib\n",
      "  Reason: tried: '/usr/local/Caskroom/miniconda/base/lib/R/lib/../../libreadline.6.2.dylib' (no such file), '/usr/local/Caskroom/miniconda/base/lib/R/library/methods/libs/../../../../libreadline.6.2.dylib' (no such file), '/usr/local/Caskroom/miniconda/base/lib/R/library/methods/libs/../../../../libreadline.6.2.dylib' (no such file), '/usr/lib/libreadline.6.2.dylib' (no such file, not in dyld cache)\n",
      "\n"
     ]
    },
    {
     "ename": "RRuntimeError",
     "evalue": "Error in value[[3L]](cond) : \n  unable to load shared object '/usr/local/Caskroom/miniconda/base/lib/R/library/methods/libs/methods.so':\n  dlopen(/usr/local/Caskroom/miniconda/base/lib/R/library/methods/libs/methods.so, 0x0006): Library not loaded: @rpath/libreadline.6.2.dylib\n  Referenced from: <185433D7-8B40-31AA-8BD9-465D23C57257> /usr/local/Caskroom/miniconda/base/lib/R/lib/libR.dylib\n  Reason: tried: '/usr/local/Caskroom/miniconda/base/lib/R/lib/../../libreadline.6.2.dylib' (no such file), '/usr/local/Caskroom/miniconda/base/lib/R/library/methods/libs/../../../../libreadline.6.2.dylib' (no such file), '/usr/local/Caskroom/miniconda/base/lib/R/library/methods/libs/../../../../libreadline.6.2.dylib' (no such file), '/usr/lib/libreadline.6.2.dylib' (no such file, not in dyld cache)\n",
     "output_type": "error",
     "traceback": [
      "\u001B[0;31m---------------------------------------------------------------------------\u001B[0m",
      "\u001B[0;31mRRuntimeError\u001B[0m                             Traceback (most recent call last)",
      "Cell \u001B[0;32mIn [2], line 14\u001B[0m\n\u001B[1;32m     11\u001B[0m \u001B[38;5;66;03m#import sc_toolbox\u001B[39;00m\n\u001B[1;32m     13\u001B[0m \u001B[38;5;28;01mimport\u001B[39;00m \u001B[38;5;21;01mrpy2\u001B[39;00m\u001B[38;5;21;01m.\u001B[39;00m\u001B[38;5;21;01mrinterface_lib\u001B[39;00m\u001B[38;5;21;01m.\u001B[39;00m\u001B[38;5;21;01mcallbacks\u001B[39;00m\n\u001B[0;32m---> 14\u001B[0m \u001B[38;5;28;01mimport\u001B[39;00m \u001B[38;5;21;01manndata2ri\u001B[39;00m\n\u001B[1;32m     15\u001B[0m \u001B[38;5;28;01mimport\u001B[39;00m \u001B[38;5;21;01mlogging\u001B[39;00m\n\u001B[1;32m     17\u001B[0m \u001B[38;5;28;01mfrom\u001B[39;00m \u001B[38;5;21;01mrpy2\u001B[39;00m\u001B[38;5;21;01m.\u001B[39;00m\u001B[38;5;21;01mrobjects\u001B[39;00m \u001B[38;5;28;01mimport\u001B[39;00m pandas2ri\n",
      "File \u001B[0;32m/Library/Frameworks/Python.framework/Versions/3.9/lib/python3.9/site-packages/anndata2ri/__init__.py:24\u001B[0m\n\u001B[1;32m     20\u001B[0m \u001B[38;5;28;01mfrom\u001B[39;00m \u001B[38;5;21;01mtyping\u001B[39;00m \u001B[38;5;28;01mimport\u001B[39;00m Any\n\u001B[1;32m     22\u001B[0m \u001B[38;5;28;01mfrom\u001B[39;00m \u001B[38;5;21;01mrpy2\u001B[39;00m\u001B[38;5;21;01m.\u001B[39;00m\u001B[38;5;21;01mrinterface\u001B[39;00m \u001B[38;5;28;01mimport\u001B[39;00m Sexp\n\u001B[0;32m---> 24\u001B[0m \u001B[38;5;28;01mfrom\u001B[39;00m \u001B[38;5;21;01m.\u001B[39;00m \u001B[38;5;28;01mimport\u001B[39;00m py2r, r2py\n\u001B[1;32m     25\u001B[0m \u001B[38;5;28;01mfrom\u001B[39;00m \u001B[38;5;21;01m.\u001B[39;00m\u001B[38;5;21;01mconv\u001B[39;00m \u001B[38;5;28;01mimport\u001B[39;00m activate, converter, deactivate\n\u001B[1;32m     28\u001B[0m HERE \u001B[38;5;241m=\u001B[39m Path(\u001B[38;5;18m__file__\u001B[39m)\u001B[38;5;241m.\u001B[39mparent\n",
      "File \u001B[0;32m/Library/Frameworks/Python.framework/Versions/3.9/lib/python3.9/site-packages/anndata2ri/py2r.py:7\u001B[0m\n\u001B[1;32m      5\u001B[0m \u001B[38;5;28;01mimport\u001B[39;00m \u001B[38;5;21;01mpandas\u001B[39;00m \u001B[38;5;28;01mas\u001B[39;00m \u001B[38;5;21;01mpd\u001B[39;00m\n\u001B[1;32m      6\u001B[0m \u001B[38;5;28;01mfrom\u001B[39;00m \u001B[38;5;21;01manndata\u001B[39;00m \u001B[38;5;28;01mimport\u001B[39;00m AnnData\n\u001B[0;32m----> 7\u001B[0m \u001B[38;5;28;01mfrom\u001B[39;00m \u001B[38;5;21;01mrpy2\u001B[39;00m\u001B[38;5;21;01m.\u001B[39;00m\u001B[38;5;21;01mrobjects\u001B[39;00m \u001B[38;5;28;01mimport\u001B[39;00m conversion, default_converter, pandas2ri\n\u001B[1;32m      8\u001B[0m \u001B[38;5;28;01mfrom\u001B[39;00m \u001B[38;5;21;01mrpy2\u001B[39;00m\u001B[38;5;21;01m.\u001B[39;00m\u001B[38;5;21;01mrobjects\u001B[39;00m\u001B[38;5;21;01m.\u001B[39;00m\u001B[38;5;21;01mconversion\u001B[39;00m \u001B[38;5;28;01mimport\u001B[39;00m localconverter\n\u001B[1;32m      9\u001B[0m \u001B[38;5;28;01mfrom\u001B[39;00m \u001B[38;5;21;01mrpy2\u001B[39;00m\u001B[38;5;21;01m.\u001B[39;00m\u001B[38;5;21;01mrobjects\u001B[39;00m\u001B[38;5;21;01m.\u001B[39;00m\u001B[38;5;21;01mmethods\u001B[39;00m \u001B[38;5;28;01mimport\u001B[39;00m RS4\n",
      "File \u001B[0;32m/Library/Frameworks/Python.framework/Versions/3.9/lib/python3.9/site-packages/rpy2/robjects/__init__.py:21\u001B[0m\n\u001B[1;32m     18\u001B[0m \u001B[38;5;28;01mimport\u001B[39;00m \u001B[38;5;21;01mrpy2\u001B[39;00m\u001B[38;5;21;01m.\u001B[39;00m\u001B[38;5;21;01mrinterface_lib\u001B[39;00m\u001B[38;5;21;01m.\u001B[39;00m\u001B[38;5;21;01mopenrlib\u001B[39;00m\n\u001B[1;32m     19\u001B[0m \u001B[38;5;28;01mimport\u001B[39;00m \u001B[38;5;21;01mrpy2\u001B[39;00m\u001B[38;5;21;01m.\u001B[39;00m\u001B[38;5;21;01mrlike\u001B[39;00m\u001B[38;5;21;01m.\u001B[39;00m\u001B[38;5;21;01mcontainer\u001B[39;00m \u001B[38;5;28;01mas\u001B[39;00m \u001B[38;5;21;01mrlc\u001B[39;00m\n\u001B[0;32m---> 21\u001B[0m \u001B[38;5;28;01mfrom\u001B[39;00m \u001B[38;5;21;01mrpy2\u001B[39;00m\u001B[38;5;21;01m.\u001B[39;00m\u001B[38;5;21;01mrobjects\u001B[39;00m\u001B[38;5;21;01m.\u001B[39;00m\u001B[38;5;21;01mrobject\u001B[39;00m \u001B[38;5;28;01mimport\u001B[39;00m RObjectMixin, RObject\n\u001B[1;32m     22\u001B[0m \u001B[38;5;28;01mimport\u001B[39;00m \u001B[38;5;21;01mrpy2\u001B[39;00m\u001B[38;5;21;01m.\u001B[39;00m\u001B[38;5;21;01mrobjects\u001B[39;00m\u001B[38;5;21;01m.\u001B[39;00m\u001B[38;5;21;01mfunctions\u001B[39;00m\n\u001B[1;32m     23\u001B[0m \u001B[38;5;28;01mfrom\u001B[39;00m \u001B[38;5;21;01mrpy2\u001B[39;00m\u001B[38;5;21;01m.\u001B[39;00m\u001B[38;5;21;01mrobjects\u001B[39;00m\u001B[38;5;21;01m.\u001B[39;00m\u001B[38;5;21;01menvironments\u001B[39;00m \u001B[38;5;28;01mimport\u001B[39;00m (Environment,\n\u001B[1;32m     24\u001B[0m                                         local_context)\n",
      "File \u001B[0;32m/Library/Frameworks/Python.framework/Versions/3.9/lib/python3.9/site-packages/rpy2/robjects/robject.py:81\u001B[0m\n\u001B[1;32m     75\u001B[0m             \u001B[38;5;28;01myield\u001B[39;00m v\n\u001B[1;32m     78\u001B[0m _get_exported_value \u001B[38;5;241m=\u001B[39m rpy2\u001B[38;5;241m.\u001B[39mrinterface\u001B[38;5;241m.\u001B[39mbaseenv[\u001B[38;5;124m'\u001B[39m\u001B[38;5;124m::\u001B[39m\u001B[38;5;124m'\u001B[39m]\n\u001B[0;32m---> 81\u001B[0m \u001B[38;5;28;01mclass\u001B[39;00m \u001B[38;5;21;01mRObjectMixin\u001B[39;00m(abc\u001B[38;5;241m.\u001B[39mABC):\n\u001B[1;32m     82\u001B[0m     \u001B[38;5;124;03m\"\"\" Abstract class to provide methods common to all RObject instances. \"\"\"\u001B[39;00m\n\u001B[1;32m     84\u001B[0m     __rname__: typing\u001B[38;5;241m.\u001B[39mOptional[\u001B[38;5;28mstr\u001B[39m] \u001B[38;5;241m=\u001B[39m \u001B[38;5;28;01mNone\u001B[39;00m\n",
      "File \u001B[0;32m/Library/Frameworks/Python.framework/Versions/3.9/lib/python3.9/site-packages/rpy2/robjects/robject.py:93\u001B[0m, in \u001B[0;36mRObjectMixin\u001B[0;34m()\u001B[0m\n\u001B[1;32m     91\u001B[0m __readlines \u001B[38;5;241m=\u001B[39m rpy2\u001B[38;5;241m.\u001B[39mrinterface\u001B[38;5;241m.\u001B[39mbaseenv\u001B[38;5;241m.\u001B[39mfind(\u001B[38;5;124m\"\u001B[39m\u001B[38;5;124mreadLines\u001B[39m\u001B[38;5;124m\"\u001B[39m)\n\u001B[1;32m     92\u001B[0m __unlink \u001B[38;5;241m=\u001B[39m rpy2\u001B[38;5;241m.\u001B[39mrinterface\u001B[38;5;241m.\u001B[39mbaseenv\u001B[38;5;241m.\u001B[39mfind(\u001B[38;5;124m\"\u001B[39m\u001B[38;5;124munlink\u001B[39m\u001B[38;5;124m\"\u001B[39m)\n\u001B[0;32m---> 93\u001B[0m __show \u001B[38;5;241m=\u001B[39m \u001B[43m_get_exported_value\u001B[49m\u001B[43m(\u001B[49m\u001B[38;5;124;43m'\u001B[39;49m\u001B[38;5;124;43mmethods\u001B[39;49m\u001B[38;5;124;43m'\u001B[39;49m\u001B[43m,\u001B[49m\u001B[43m \u001B[49m\u001B[38;5;124;43m'\u001B[39;49m\u001B[38;5;124;43mshow\u001B[39;49m\u001B[38;5;124;43m'\u001B[39;49m\u001B[43m)\u001B[49m\n\u001B[1;32m     94\u001B[0m __print \u001B[38;5;241m=\u001B[39m _get_exported_value(\u001B[38;5;124m'\u001B[39m\u001B[38;5;124mbase\u001B[39m\u001B[38;5;124m'\u001B[39m, \u001B[38;5;124m'\u001B[39m\u001B[38;5;124mprint\u001B[39m\u001B[38;5;124m'\u001B[39m)\n\u001B[1;32m     96\u001B[0m __slots \u001B[38;5;241m=\u001B[39m \u001B[38;5;28;01mNone\u001B[39;00m\n",
      "File \u001B[0;32m/Library/Frameworks/Python.framework/Versions/3.9/lib/python3.9/site-packages/rpy2/rinterface_lib/conversion.py:45\u001B[0m, in \u001B[0;36m_cdata_res_to_rinterface.<locals>._\u001B[0;34m(*args, **kwargs)\u001B[0m\n\u001B[1;32m     44\u001B[0m \u001B[38;5;28;01mdef\u001B[39;00m \u001B[38;5;21m_\u001B[39m(\u001B[38;5;241m*\u001B[39margs, \u001B[38;5;241m*\u001B[39m\u001B[38;5;241m*\u001B[39mkwargs):\n\u001B[0;32m---> 45\u001B[0m     cdata \u001B[38;5;241m=\u001B[39m \u001B[43mfunction\u001B[49m\u001B[43m(\u001B[49m\u001B[38;5;241;43m*\u001B[39;49m\u001B[43margs\u001B[49m\u001B[43m,\u001B[49m\u001B[43m \u001B[49m\u001B[38;5;241;43m*\u001B[39;49m\u001B[38;5;241;43m*\u001B[39;49m\u001B[43mkwargs\u001B[49m\u001B[43m)\u001B[49m\n\u001B[1;32m     46\u001B[0m     \u001B[38;5;66;03m# TODO: test cdata is of the expected CType\u001B[39;00m\n\u001B[1;32m     47\u001B[0m     \u001B[38;5;28;01mreturn\u001B[39;00m _cdata_to_rinterface(cdata)\n",
      "File \u001B[0;32m/Library/Frameworks/Python.framework/Versions/3.9/lib/python3.9/site-packages/rpy2/rinterface.py:817\u001B[0m, in \u001B[0;36mSexpClosure.__call__\u001B[0;34m(self, *args, **kwargs)\u001B[0m\n\u001B[1;32m    810\u001B[0m     res \u001B[38;5;241m=\u001B[39m rmemory\u001B[38;5;241m.\u001B[39mprotect(\n\u001B[1;32m    811\u001B[0m         openrlib\u001B[38;5;241m.\u001B[39mrlib\u001B[38;5;241m.\u001B[39mR_tryEval(\n\u001B[1;32m    812\u001B[0m             call_r,\n\u001B[1;32m    813\u001B[0m             call_context\u001B[38;5;241m.\u001B[39m__sexp__\u001B[38;5;241m.\u001B[39m_cdata,\n\u001B[1;32m    814\u001B[0m             error_occured)\n\u001B[1;32m    815\u001B[0m     )\n\u001B[1;32m    816\u001B[0m     \u001B[38;5;28;01mif\u001B[39;00m error_occured[\u001B[38;5;241m0\u001B[39m]:\n\u001B[0;32m--> 817\u001B[0m         \u001B[38;5;28;01mraise\u001B[39;00m embedded\u001B[38;5;241m.\u001B[39mRRuntimeError(_rinterface\u001B[38;5;241m.\u001B[39m_geterrmessage())\n\u001B[1;32m    818\u001B[0m \u001B[38;5;28;01mreturn\u001B[39;00m res\n",
      "\u001B[0;31mRRuntimeError\u001B[0m: Error in value[[3L]](cond) : \n  unable to load shared object '/usr/local/Caskroom/miniconda/base/lib/R/library/methods/libs/methods.so':\n  dlopen(/usr/local/Caskroom/miniconda/base/lib/R/library/methods/libs/methods.so, 0x0006): Library not loaded: @rpath/libreadline.6.2.dylib\n  Referenced from: <185433D7-8B40-31AA-8BD9-465D23C57257> /usr/local/Caskroom/miniconda/base/lib/R/lib/libR.dylib\n  Reason: tried: '/usr/local/Caskroom/miniconda/base/lib/R/lib/../../libreadline.6.2.dylib' (no such file), '/usr/local/Caskroom/miniconda/base/lib/R/library/methods/libs/../../../../libreadline.6.2.dylib' (no such file), '/usr/local/Caskroom/miniconda/base/lib/R/library/methods/libs/../../../../libreadline.6.2.dylib' (no such file), '/usr/lib/libreadline.6.2.dylib' (no such file, not in dyld cache)\n"
     ]
    }
   ],
   "source": [
    "import warnings\n",
    "\n",
    "warnings.filterwarnings(\"ignore\")\n",
    "\n",
    "import matplotlib.pyplot as plt\n",
    "import seaborn as sns\n",
    "import scanpy as sc\n",
    "import pandas as pd\n",
    "import numpy as np\n",
    "import random\n",
    "#import sc_toolbox\n",
    "\n",
    "import rpy2.rinterface_lib.callbacks\n",
    "import anndata2ri\n",
    "import logging\n",
    "\n",
    "from rpy2.robjects import pandas2ri\n",
    "from rpy2.robjects import r\n",
    "\n",
    "sc.settings.verbosity = 0\n",
    "rpy2.rinterface_lib.callbacks.logger.setLevel(logging.ERROR)\n",
    "\n",
    "pandas2ri.activate()\n",
    "anndata2ri.activate()\n",
    "\n",
    "%load_ext rpy2.ipython"
   ],
   "metadata": {
    "collapsed": false,
    "pycharm": {
     "name": "#%%\n"
    }
   }
  },
  {
   "cell_type": "code",
   "execution_count": null,
   "outputs": [],
   "source": [
    "%%R\n",
    "library(edgeR)\n",
    "library(MAST)"
   ],
   "metadata": {
    "collapsed": false,
    "pycharm": {
     "name": "#%%\n"
    }
   }
  }
 ],
 "metadata": {
  "kernelspec": {
   "display_name": "Python 3",
   "language": "python",
   "name": "python3"
  },
  "language_info": {
   "codemirror_mode": {
    "name": "ipython",
    "version": 2
   },
   "file_extension": ".py",
   "mimetype": "text/x-python",
   "name": "python",
   "nbconvert_exporter": "python",
   "pygments_lexer": "ipython2",
   "version": "2.7.6"
  }
 },
 "nbformat": 4,
 "nbformat_minor": 0
}