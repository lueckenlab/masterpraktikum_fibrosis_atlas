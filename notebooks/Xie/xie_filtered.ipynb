{
 "cells": [
  {
   "cell_type": "code",
   "execution_count": null,
   "id": "744e403d-b425-4882-83ca-580ea40cd8ae",
   "metadata": {},
   "outputs": [],
   "source": [
    "# use xie_env_r.yaml/scbp_env.yaml environment \n",
    "\n",
    "import scanpy as sc\n",
    "import pandas as pd\n",
    "import numpy as np\n",
    "import seaborn as sns\n",
    "import matplotlib.pyplot as plt\n",
    "import anndata as ad\n",
    "\n",
    "plt.rcParams['figure.figsize'] = (15, 15)\n",
    "from scipy.stats import median_abs_deviation\n",
    "\n",
    "# feature selection\n",
    "import anndata2ri\n",
    "import logging\n",
    "import rpy2.rinterface_lib.callbacks as rcb\n",
    "import rpy2.robjects as ro\n",
    "\n",
    "sc.settings.verbosity = 0\n",
    "sc.settings.set_figure_params(\n",
    "    dpi=80,\n",
    "    facecolor=\"white\",\n",
    "    frameon=False,\n",
    ")"
   ]
  },
  {
   "cell_type": "code",
   "execution_count": null,
   "id": "388902fa-035c-4b8b-af4d-7cd436b8342a",
   "metadata": {},
   "outputs": [],
   "source": [
    "# doublets filtered\n",
    "#mask = (xie_filtered_doublet.obs['scDblFinder_class'] != 2) & (xie_filtered_doublet.obs['scDblFinder_score'] <= 0.9) & (xie_filtered_doublet.obs['total_counts'] <= 12000)\n",
    "\n",
    "xie = sc.read('/home/p/pohll/Desktop/MP/data/xie_leonie_filtered.h5ad')"
   ]
  },
  {
   "cell_type": "code",
   "execution_count": null,
   "id": "1c31b4b1-7d59-473e-9e92-545617ff316a",
   "metadata": {},
   "outputs": [],
   "source": [
    "sc.settings.verbosity = 0\n",
    "sc.settings.set_figure_params(\n",
    "    dpi=80,\n",
    "    facecolor=\"white\",\n",
    "    frameon=False,\n",
    ")"
   ]
  },
  {
   "cell_type": "code",
   "execution_count": null,
   "id": "ceff0b0f-5ae3-44ce-b666-3c40df930c74",
   "metadata": {},
   "outputs": [],
   "source": [
    "sc.pl.umap(\n",
    "    xie,\n",
    "    color=[\"total_counts\", \"pct_counts_mt\", \"scDblFinder_score\", \"scDblFinder_class\"],\n",
    ")\n"
   ]
  },
  {
   "cell_type": "code",
   "execution_count": null,
   "id": "9772feb2-39aa-4d6e-872b-f88106b82559",
   "metadata": {},
   "outputs": [],
   "source": [
    "plt.rcParams['figure.figsize'] = (7, 7)\n",
    "sc.pl.umap(xie, color=['annotation', 'sample'], size=30)"
   ]
  },
  {
   "cell_type": "code",
   "execution_count": null,
   "id": "15aafbff-a4bf-4d29-a1d6-ff87923d2970",
   "metadata": {},
   "outputs": [],
   "source": [
    "sc.tl.leiden(xie)"
   ]
  },
  {
   "cell_type": "code",
   "execution_count": null,
   "id": "92814316-2d4a-462c-8a6e-8116a7619055",
   "metadata": {},
   "outputs": [],
   "source": [
    "sc.tl.leiden(xie, key_added=\"leiden_res0_1\", resolution=0.1)\n",
    "sc.tl.leiden(xie, key_added=\"leiden_res0_25\", resolution=0.25)\n",
    "sc.tl.leiden(xie, key_added=\"leiden_res0_5\", resolution=0.5)\n",
    "sc.tl.leiden(xie, key_added=\"leiden_res1\", resolution=1.0)"
   ]
  },
  {
   "cell_type": "code",
   "execution_count": null,
   "id": "dcf12740-5559-4aad-93db-e978a4396872",
   "metadata": {},
   "outputs": [],
   "source": [
    "sc.pl.umap(\n",
    "    xie,\n",
    "    color=[\"leiden_res0_1\",\"leiden_res0_25\", \"leiden_res0_5\", \"leiden_res1\"],\n",
    "    legend_loc=\"on data\",\n",
    ")"
   ]
  },
  {
   "cell_type": "markdown",
   "id": "6a3fc352-f467-4e36-a99f-ef8bba21e40c",
   "metadata": {},
   "source": [
    "## Annotation\n",
    "### From markers to clusters"
   ]
  },
  {
   "cell_type": "code",
   "execution_count": null,
   "id": "bfaf026e-80dd-4f85-95e9-1e908a7fd28d",
   "metadata": {},
   "outputs": [],
   "source": [
    "#Define a nice colour map for gene expression\n",
    "from matplotlib import colors\n",
    "colors2 = plt.cm.Reds(np.linspace(0, 1, 128))\n",
    "colors3 = plt.cm.Greys_r(np.linspace(0.7,0.8,1))\n",
    "colorsComb = np.vstack([colors3, colors2])\n",
    "mymap = colors.LinearSegmentedColormap.from_list('my_colormap', colorsComb)\n",
    "def plot_markers(adata):\n",
    "    print('Macrophages')\n",
    "    sc.pl.umap(adata, color=['Apoe', 'Mrc1', 'Marco', 'Mertk'], cmap=mymap, size=20)\n",
    "    print('Monocytes')\n",
    "    sc.pl.umap(adata, color=['Cd14', 'Vcan'], cmap=mymap, size=20)\n",
    "    print('T-Cells')\n",
    "    sc.pl.umap(adata, color=['Cd3e', 'Cd4','Cd8a', 'Cd3d'], cmap=mymap, size=40)\n",
    "    print('B-Cells')\n",
    "    sc.pl.umap(adata, color=['Cd19', 'Cd79a'], cmap=mymap, size=40)\n",
    "    print('AT2')\n",
    "    sc.pl.umap(adata, color=['Muc1', 'Sftpc', 'Sftpd', 'Lcn2'], cmap=mymap, size=30)\n",
    "    print('AT1')\n",
    "    sc.pl.umap(adata, color=['Vegfa'], cmap=mymap, size=30)\n",
    "    print('Krt8')\n",
    "    sc.pl.umap(adata, color='Krt8', cmap=mymap, size=30)\n",
    "    print('Endothelial')\n",
    "    sc.pl.umap(adata, color='Pecam1', cmap=mymap, size=30)\n",
    "    print('Fibroblasts')\n",
    "    sc.pl.umap(adata, color='Col1a2', cmap=mymap, size=30)\n",
    "    print('Myofibroblasts')\n",
    "    sc.pl.umap(adata, color=['Col3a1', 'Cthrc1', 'Postn', 'Spp1', 'Tnc', 'S100a6', 'Ccl2'], cmap=mymap, size=30)\n",
    "    \n",
    "def plot_marker_genes(adata):\n",
    "    plot_markers(adata)"
   ]
  },
  {
   "cell_type": "code",
   "execution_count": null,
   "id": "fc701e4f-c3e0-4384-bf4d-40e4c965c987",
   "metadata": {},
   "outputs": [],
   "source": [
    "plot_markers(xie)"
   ]
  },
  {
   "cell_type": "code",
   "execution_count": null,
   "id": "e5687896-6c82-4a41-97c6-91ed01e8b67c",
   "metadata": {},
   "outputs": [],
   "source": [
    "xie.obs['cond']='control'"
   ]
  },
  {
   "cell_type": "code",
   "execution_count": null,
   "id": "889b6540-1b6a-4936-9ceb-c0bb2a667047",
   "metadata": {},
   "outputs": [],
   "source": [
    "xie.obs['sample']=xie.obs.index.str.split('-').str[1]"
   ]
  },
  {
   "cell_type": "code",
   "execution_count": null,
   "id": "8dfbc948-c7f9-46d2-9f75-f3094731a73f",
   "metadata": {},
   "outputs": [],
   "source": [
    "xie.obs.loc[xie.obs['sample'].isin(['4', '5', '6']), 'cond']='bleo'"
   ]
  },
  {
   "cell_type": "code",
   "execution_count": null,
   "id": "030dd956-3eb4-418f-9ace-5fe4ad40bcb3",
   "metadata": {
    "jupyter": {
     "outputs_hidden": true
    }
   },
   "outputs": [],
   "source": [
    "plt.rcParams['figure.figsize'] = (10, 10)\n",
    "sc.pl.umap(xie, color=['sample', 'cond'], size=30)"
   ]
  },
  {
   "cell_type": "markdown",
   "id": "0d0a4ebc-64e0-4a72-95ac-507c4d7ead24",
   "metadata": {},
   "source": [
    "### From cluster differentially expressed genes to cluster annotation"
   ]
  },
  {
   "cell_type": "code",
   "execution_count": null,
   "id": "47138531-af66-4be4-86f9-4905854c8f51",
   "metadata": {},
   "outputs": [],
   "source": [
    "sc.pl.umap(xie, color=\"leiden_res0_5\")"
   ]
  },
  {
   "cell_type": "code",
   "execution_count": null,
   "id": "16c9e0d5-392e-4647-a42b-05f86d302d4b",
   "metadata": {},
   "outputs": [],
   "source": [
    "# todo manual annotation? "
   ]
  },
  {
   "cell_type": "code",
   "execution_count": null,
   "id": "a901762d-cd12-4364-94f4-4a95e0a48a33",
   "metadata": {},
   "outputs": [],
   "source": [
    "#xie.obs[\"manual_celltype_annotation\"] = xie.obs.leiden_2.map(cl_annotation)"
   ]
  },
  {
   "cell_type": "code",
   "execution_count": null,
   "id": "7ec351c4-b71f-4784-9e8e-c54aa4e46a6b",
   "metadata": {},
   "outputs": [],
   "source": [
    "xie.uns['log1p'] = {'base': None}\n",
    "# https://github.com/scverse/scanpy/issues/2181"
   ]
  },
  {
   "cell_type": "code",
   "execution_count": null,
   "id": "a3face7e-e65c-4352-892d-2bff439fe089",
   "metadata": {},
   "outputs": [],
   "source": [
    "sc.tl.rank_genes_groups(\n",
    "    xie, groupby=\"leiden_res0_5\", method=\"wilcoxon\", key_added=\"dea_leiden_0.5\"\n",
    ")"
   ]
  },
  {
   "cell_type": "code",
   "execution_count": null,
   "id": "12eb85de-9f7f-483d-b64e-b8896d7fdbc4",
   "metadata": {},
   "outputs": [],
   "source": [
    "sc.pl.rank_genes_groups_dotplot(\n",
    "    xie, groupby=\"leiden_res0_5\", standard_scale=\"var\", n_genes=5, key=\"dea_leiden_0.5\"\n",
    ")"
   ]
  },
  {
   "cell_type": "code",
   "execution_count": null,
   "id": "6ecf10af-a1e5-4e78-a398-f326bf405cd9",
   "metadata": {},
   "outputs": [],
   "source": [
    "sc.tl.filter_rank_genes_groups(\n",
    "    xie,\n",
    "    min_in_group_fraction=0.2,\n",
    "    max_out_group_fraction=0.2,\n",
    "    key=\"dea_leiden_0.5\",\n",
    "    key_added=\"dea_leiden_0_5_filtered\",\n",
    ")\n",
    "\n"
   ]
  },
  {
   "cell_type": "code",
   "execution_count": null,
   "id": "8e2548d1-c2ae-448b-ae6d-90e22e47d019",
   "metadata": {},
   "outputs": [],
   "source": [
    "sc.pl.rank_genes_groups_dotplot(\n",
    "    xie,\n",
    "    groupby=\"leiden_res0_5\",\n",
    "    standard_scale=\"var\",\n",
    "    n_genes=5,\n",
    "    key=\"dea_leiden_0_5_filtered\",\n",
    ")\n",
    "\n"
   ]
  },
  {
   "cell_type": "markdown",
   "id": "ca99e17c-fa99-4967-bc47-91c19796f132",
   "metadata": {},
   "source": [
    "todo manual celltype annotation "
   ]
  },
  {
   "cell_type": "markdown",
   "id": "27d85e1d-ebe7-4f22-8d01-9e79698a8b5a",
   "metadata": {},
   "source": [
    "Automated annotation --> cellltypist not mouse lung model "
   ]
  }
 ],
 "metadata": {
  "kernelspec": {
   "display_name": "Python 3 (ipykernel)",
   "language": "python",
   "name": "python3"
  },
  "language_info": {
   "codemirror_mode": {
    "name": "ipython",
    "version": 3
   },
   "file_extension": ".py",
   "mimetype": "text/x-python",
   "name": "python",
   "nbconvert_exporter": "python",
   "pygments_lexer": "ipython3",
   "version": "3.9.16"
  }
 },
 "nbformat": 4,
 "nbformat_minor": 5
}
