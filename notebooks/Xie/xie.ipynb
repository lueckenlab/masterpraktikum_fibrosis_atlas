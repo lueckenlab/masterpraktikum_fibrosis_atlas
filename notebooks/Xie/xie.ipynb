{
 "cells": [
  {
   "cell_type": "code",
   "execution_count": null,
   "id": "8fe9ef6a-cd40-41a7-ac7f-3d4aa5a71669",
   "metadata": {
    "tags": []
   },
   "outputs": [],
   "source": [
    "import scanpy as sc\n",
    "import pandas as pd\n",
    "import numpy as np\n",
    "import seaborn as sns\n",
    "import matplotlib.pyplot as plt\n",
    "#import scIB\n",
    "import anndata\n",
    "#import helpers\n",
    "plt.rcParams['figure.figsize'] = (15, 15)"
   ]
  },
  {
   "cell_type": "markdown",
   "id": "5306e53a-f8da-4a76-8d0e-8060246d50c1",
   "metadata": {},
   "source": [
    "test notebook "
   ]
  },
  {
   "cell_type": "code",
   "execution_count": null,
   "id": "db4a1529-7651-40d5-adc0-52b1b9f553a7",
   "metadata": {
    "tags": []
   },
   "outputs": [],
   "source": [
    "xie_csv = pd.read_csv('/home/p/pohll/Desktop/MP/data/xie/GSE104154_d0_d21_sma_tm_Expr_raw.csv', index_col='id')"
   ]
  },
  {
   "cell_type": "code",
   "execution_count": null,
   "id": "d1b4cfc4-be31-40ce-9672-0eb958dcb224",
   "metadata": {
    "tags": []
   },
   "outputs": [],
   "source": [
    "xie_csv.head()"
   ]
  },
  {
   "cell_type": "code",
   "execution_count": null,
   "id": "4249e724-4e7d-4ddc-8b04-cb204cc320d7",
   "metadata": {
    "tags": []
   },
   "outputs": [],
   "source": [
    "xie_csv.index = xie_csv.symbol\n",
    "xie_csv = xie_csv.drop('symbol', axis=1)\n",
    "xie_csv = anndata.AnnData(xie_csv)"
   ]
  },
  {
   "cell_type": "code",
   "execution_count": null,
   "id": "85951a75-9106-4248-bcbf-c56cfe0d9be2",
   "metadata": {
    "tags": []
   },
   "outputs": [],
   "source": [
    "xie_csv"
   ]
  },
  {
   "cell_type": "code",
   "execution_count": null,
   "id": "217e6e33-9c22-4355-8ec5-65941e6f0b00",
   "metadata": {
    "tags": []
   },
   "outputs": [],
   "source": [
    "xie_csv.obs"
   ]
  },
  {
   "cell_type": "code",
   "execution_count": null,
   "id": "3f74feb6-a750-427f-a4d7-886e36b1f1ba",
   "metadata": {
    "tags": []
   },
   "outputs": [],
   "source": [
    "xie_csv.var"
   ]
  },
  {
   "cell_type": "code",
   "execution_count": null,
   "id": "6f708256-7424-4e16-b883-2768402f8f2c",
   "metadata": {
    "tags": []
   },
   "outputs": [],
   "source": [
    "xie_csv"
   ]
  },
  {
   "cell_type": "code",
   "execution_count": null,
   "id": "7b7779d9-fcfa-416a-a0dc-cf96300f01e9",
   "metadata": {
    "tags": []
   },
   "outputs": [],
   "source": [
    "xie_unprocessed = sc.read('/home/p/pohll/Desktop/MP/data/xie.h5ad')\n",
    "xie_processed = sc.read('/home/p/pohll/Desktop/MP/data/xie/processed.h5ad')"
   ]
  },
  {
   "cell_type": "code",
   "execution_count": null,
   "id": "58945746-4352-479d-8ec3-14047dd2ed97",
   "metadata": {
    "tags": []
   },
   "outputs": [],
   "source": [
    "xie_unprocessed"
   ]
  },
  {
   "cell_type": "code",
   "execution_count": null,
   "id": "256489c1-96a2-4573-88a2-dceb78788069",
   "metadata": {
    "tags": []
   },
   "outputs": [],
   "source": [
    "xie_processed"
   ]
  },
  {
   "cell_type": "code",
   "execution_count": null,
   "id": "ca8b02d5-8f5e-488b-8748-8b19e710317d",
   "metadata": {
    "tags": []
   },
   "outputs": [],
   "source": [
    "xie_processed.obs['sample']=xie_processed.obs.index.str.split('-').str[1]\n",
    "xie_processed.obs['cond']='control'\n",
    "xie_processed.obs.loc[xie_processed.obs['sample'].isin(['4', '5', '6']), 'cond']='bleo'"
   ]
  },
  {
   "cell_type": "code",
   "execution_count": null,
   "id": "f8f24164-059e-410d-b136-9ade980a97f1",
   "metadata": {
    "tags": []
   },
   "outputs": [],
   "source": [
    "xie_processed.obs"
   ]
  },
  {
   "cell_type": "code",
   "execution_count": null,
   "id": "60b5074f-d8be-4158-b8c6-889954e0c395",
   "metadata": {
    "tags": []
   },
   "outputs": [],
   "source": [
    "p2 = sns.histplot(xie_processed.obs[\"n_counts\"], bins=100, kde=False)"
   ]
  },
  {
   "cell_type": "code",
   "execution_count": null,
   "id": "91abc174-d0ef-4b39-b35a-2ceb82aee737",
   "metadata": {
    "tags": []
   },
   "outputs": [],
   "source": [
    "sc.pp.filter_cells(xie_processed, min_genes=300)\n",
    "sc.pp.filter_cells(xie_processed, max_genes=4300)\n",
    "sc.pp.filter_cells(xie_processed, max_counts=18000)"
   ]
  },
  {
   "cell_type": "code",
   "execution_count": null,
   "id": "329dcf17-107b-4310-b7e1-4e0711d8a2fa",
   "metadata": {
    "tags": []
   },
   "outputs": [],
   "source": [
    "p2 = sns.histplot(xie_processed.obs[\"n_counts\"], bins=100, kde=False)"
   ]
  },
  {
   "cell_type": "code",
   "execution_count": null,
   "id": "960e1a8a-7414-4def-bcea-a1a1dd7f4b53",
   "metadata": {},
   "outputs": [],
   "source": [
    "xie_processed.obs[\"annotation\"]"
   ]
  },
  {
   "cell_type": "code",
   "execution_count": null,
   "id": "ab22ac83-b91a-469d-9558-3275ef051467",
   "metadata": {},
   "outputs": [],
   "source": [
    "xie_processed.obs[\"n_counts\"]"
   ]
  },
  {
   "cell_type": "code",
   "execution_count": null,
   "id": "25f7d818-69ac-4d9b-9d06-9094e2174e0e",
   "metadata": {},
   "outputs": [],
   "source": [
    "xie_processed.var[\"n_cells\"]"
   ]
  },
  {
   "cell_type": "code",
   "execution_count": null,
   "id": "3869d42c-105c-4f62-ad88-732b3e22bedb",
   "metadata": {
    "tags": []
   },
   "outputs": [],
   "source": [
    "xie_processed.obs['sample']=xie_processed.obs.index.str.split('-').str[1]\n",
    "xie_processed.obs['cond']='control'\n",
    "xie_processed.obs.loc[xie_processed.obs['sample'].isin(['4', '5', '6']), 'cond']='bleo'"
   ]
  },
  {
   "cell_type": "code",
   "execution_count": null,
   "id": "d46d2e86-227f-43a1-8511-7547c952dc1a",
   "metadata": {
    "tags": []
   },
   "outputs": [],
   "source": [
    "# umap color by sample (left) and condition (right) (--> small batch effect?)\n",
    "sc.pl.umap(xie_processed, color=['sample', 'cond'], size=30)"
   ]
  },
  {
   "cell_type": "code",
   "execution_count": null,
   "id": "00c0e4f2-ff2b-418e-99a6-64b4df907f70",
   "metadata": {
    "tags": []
   },
   "outputs": [],
   "source": [
    "sc.pl.umap(xie_processed, color=['annotation', 'sample'], size=30)"
   ]
  },
  {
   "cell_type": "code",
   "execution_count": null,
   "id": "d3e9e37c-10cd-4d12-9ad5-6a9e7f970ef7",
   "metadata": {
    "tags": []
   },
   "outputs": [],
   "source": [
    "# normalization \n",
    "sc.pp.normalize_per_cell(xie_unprocessed)\n",
    "p3 = sns.histplot(xie_unprocessed.obs[\"n_counts\"], bins=100, kde=False)"
   ]
  },
  {
   "cell_type": "code",
   "execution_count": null,
   "id": "460309b4-b5e3-427e-8812-d045656b4af9",
   "metadata": {
    "tags": []
   },
   "outputs": [],
   "source": [
    "anno_ctrl = pd.read_excel('/home/p/pohll/Desktop/MP/data/xie/GSE104154_cell_type_annotation_d0_d21.xlsx', sheet_name=1, index_col='Barcode')\n",
    "anno_bleo = pd.read_excel('/home/p/pohll/Desktop/MP/data/xie/GSE104154_cell_type_annotation_d0_d21.xlsx', sheet_name=2, index_col='Barcode')"
   ]
  },
  {
   "cell_type": "code",
   "execution_count": null,
   "id": "15ede037-95f7-4d3b-8944-d06406b030ce",
   "metadata": {},
   "outputs": [],
   "source": [
    "anno_xie = pd.concat([anno_ctrl, anno_bleo])"
   ]
  },
  {
   "cell_type": "code",
   "execution_count": null,
   "id": "a7d8a832-fd95-460a-9343-9c6b83065199",
   "metadata": {},
   "outputs": [],
   "source": [
    "anno_xie.head()"
   ]
  },
  {
   "cell_type": "code",
   "execution_count": null,
   "id": "3451699a-0b19-4360-8c12-4450cd38cf71",
   "metadata": {
    "tags": []
   },
   "outputs": [],
   "source": [
    "xie_processed.obs[\"annotation\"]"
   ]
  },
  {
   "cell_type": "code",
   "execution_count": null,
   "id": "00b094ec-5888-4de1-b379-12ef7c46c757",
   "metadata": {
    "tags": []
   },
   "outputs": [],
   "source": [
    "xie_processed.obs[\"louvain\"]"
   ]
  },
  {
   "cell_type": "code",
   "execution_count": null,
   "id": "dc11d419-fc09-47f5-8f7b-ad691177fa34",
   "metadata": {
    "tags": []
   },
   "outputs": [],
   "source": []
  },
  {
   "cell_type": "markdown",
   "id": "afd2aa15-40a0-42b9-bdc0-e4712d0a34d2",
   "metadata": {},
   "source": [
    "next steps? Variational autoencoder (VAE) based integration"
   ]
  },
  {
   "cell_type": "code",
   "execution_count": null,
   "id": "3e06ce2c-1ad0-4dbf-ab09-2b5829e9b7ed",
   "metadata": {
    "tags": []
   },
   "outputs": [],
   "source": [
    "#import scv\n",
    "test"
   ]
  }
 ],
 "metadata": {
  "kernelspec": {
   "display_name": "Python 3 (ipykernel)",
   "language": "python",
   "name": "python3"
  },
  "language_info": {
   "codemirror_mode": {
    "name": "ipython",
    "version": 3
   },
   "file_extension": ".py",
   "mimetype": "text/x-python",
   "name": "python",
   "nbconvert_exporter": "python",
   "pygments_lexer": "ipython3",
   "version": "3.9.16"
  }
 },
 "nbformat": 4,
 "nbformat_minor": 5
}
