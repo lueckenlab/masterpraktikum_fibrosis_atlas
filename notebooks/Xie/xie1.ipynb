{
 "cells": [
  {
   "cell_type": "raw",
   "id": "e466b145-3dea-4b73-8556-2915c8456a6c",
   "metadata": {
    "tags": []
   },
   "source": [
    "# use xie_env_r.yaml/scbp_env.yaml environment "
   ]
  },
  {
   "cell_type": "code",
   "execution_count": null,
   "id": "f87295e9-3fc8-4abf-9de4-e32be191b8e6",
   "metadata": {
    "tags": []
   },
   "outputs": [],
   "source": [
    "import scanpy as sc\n",
    "import pandas as pd\n",
    "import numpy as np\n",
    "import seaborn as sns\n",
    "import matplotlib.pyplot as plt\n",
    "import anndata as ad\n",
    "\n",
    "plt.rcParams['figure.figsize'] = (15, 15)\n",
    "from scipy.stats import median_abs_deviation\n",
    "\n",
    "# feature selection\n",
    "import anndata2ri\n",
    "import logging\n",
    "import rpy2.rinterface_lib.callbacks as rcb\n",
    "import rpy2.robjects as ro\n",
    "\n",
    "sc.settings.verbosity = 0\n",
    "sc.settings.set_figure_params(\n",
    "    dpi=80,\n",
    "    facecolor=\"white\",\n",
    "    frameon=False,\n",
    ")"
   ]
  },
  {
   "cell_type": "markdown",
   "id": "b099c652",
   "metadata": {
    "tags": []
   },
   "source": [
    "# Raw data processing \n",
    "### Read count file and create anndata object"
   ]
  },
  {
   "cell_type": "code",
   "execution_count": null,
   "id": "ef7d8f53",
   "metadata": {
    "tags": []
   },
   "outputs": [],
   "source": [
    "counts = pd.read_csv('/home/p/pohll/Desktop/MP/data/xie/GSE104154_d0_d21_sma_tm_Expr_raw.csv', index_col='id')"
   ]
  },
  {
   "cell_type": "code",
   "execution_count": null,
   "id": "935e9693",
   "metadata": {
    "tags": []
   },
   "outputs": [],
   "source": [
    "counts.head()"
   ]
  },
  {
   "cell_type": "code",
   "execution_count": null,
   "id": "21692757",
   "metadata": {
    "tags": []
   },
   "outputs": [],
   "source": [
    "counts.shape"
   ]
  },
  {
   "cell_type": "code",
   "execution_count": null,
   "id": "b8bb6012",
   "metadata": {
    "tags": []
   },
   "outputs": [],
   "source": [
    "counts.index = counts.symbol\n",
    "counts = counts.drop('symbol', axis=1)"
   ]
  },
  {
   "cell_type": "code",
   "execution_count": null,
   "id": "64ca531f",
   "metadata": {
    "tags": []
   },
   "outputs": [],
   "source": [
    "xie_csv = ad.AnnData(counts)"
   ]
  },
  {
   "cell_type": "code",
   "execution_count": null,
   "id": "adf1ba21-cea4-418b-a49e-99d60f7ed967",
   "metadata": {},
   "outputs": [],
   "source": [
    "xie_csv.obs_names_make_unique()"
   ]
  },
  {
   "cell_type": "code",
   "execution_count": null,
   "id": "afa6d32e",
   "metadata": {
    "tags": []
   },
   "outputs": [],
   "source": [
    "xie_csv = xie_csv.T"
   ]
  },
  {
   "cell_type": "code",
   "execution_count": null,
   "id": "97d5e515",
   "metadata": {
    "tags": []
   },
   "outputs": [],
   "source": [
    "xie_csv"
   ]
  },
  {
   "cell_type": "markdown",
   "id": "e815506c",
   "metadata": {},
   "source": [
    "10411 barcodes (cells, obs), 27998 genes (vars)"
   ]
  },
  {
   "cell_type": "code",
   "execution_count": null,
   "id": "25919b39",
   "metadata": {
    "tags": []
   },
   "outputs": [],
   "source": [
    "anno_ctrl = pd.read_excel('/home/p/pohll/Desktop/MP/data/xie/GSE104154_cell_type_annotation_d0_d21.xlsx', sheet_name=1, index_col='Barcode')\n",
    "anno_bleo = pd.read_excel('/home/p/pohll/Desktop/MP/data/xie/GSE104154_cell_type_annotation_d0_d21.xlsx', sheet_name=2, index_col='Barcode')"
   ]
  },
  {
   "cell_type": "code",
   "execution_count": null,
   "id": "5f0e8dc1-60c4-46b8-9731-27173c294933",
   "metadata": {},
   "outputs": [],
   "source": [
    "anno_ctrl[\"defined\"].unique()"
   ]
  },
  {
   "cell_type": "code",
   "execution_count": null,
   "id": "4ad764cb",
   "metadata": {
    "tags": []
   },
   "outputs": [],
   "source": [
    "anno_xie = pd.concat([anno_ctrl, anno_bleo])"
   ]
  },
  {
   "cell_type": "code",
   "execution_count": null,
   "id": "c69dd511",
   "metadata": {
    "tags": []
   },
   "outputs": [],
   "source": [
    "anno_xie.head()"
   ]
  },
  {
   "cell_type": "code",
   "execution_count": null,
   "id": "6258f8bb",
   "metadata": {
    "tags": []
   },
   "outputs": [],
   "source": [
    "anno_xie.index = anno_xie.index.str.replace(pat='.', repl='-')"
   ]
  },
  {
   "cell_type": "code",
   "execution_count": null,
   "id": "2c383cec",
   "metadata": {
    "tags": []
   },
   "outputs": [],
   "source": [
    "xie_csv.obs['annotation']=anno_xie"
   ]
  },
  {
   "cell_type": "code",
   "execution_count": null,
   "id": "c2766402",
   "metadata": {
    "tags": []
   },
   "outputs": [],
   "source": [
    "xie_csv"
   ]
  },
  {
   "cell_type": "code",
   "execution_count": null,
   "id": "cebf4065-d1ef-4170-867e-bd7ea3361425",
   "metadata": {},
   "outputs": [],
   "source": [
    "xie_csv.obs.index"
   ]
  },
  {
   "cell_type": "markdown",
   "id": "ae971ab9-8888-4241-8f15-51b456c6daab",
   "metadata": {},
   "source": [
    "### show highest expressed genes "
   ]
  },
  {
   "cell_type": "code",
   "execution_count": null,
   "id": "3ee461a3",
   "metadata": {
    "tags": []
   },
   "outputs": [],
   "source": [
    "sc.pl.highest_expr_genes(xie_csv, n_top=20)"
   ]
  },
  {
   "cell_type": "markdown",
   "id": "ab6a9538",
   "metadata": {},
   "source": [
    "MALAT1 is the most expressed gene which is frequently detected in poly-A captured scRNA-Seq data, independent of protocol. This gene has been shown to have an inverse correlation with cell health. Especially dead/dying cells have a higher expression of MALAT1."
   ]
  },
  {
   "cell_type": "code",
   "execution_count": null,
   "id": "dd909c01",
   "metadata": {
    "tags": []
   },
   "outputs": [],
   "source": [
    "xie_csv.var_names_make_unique()\n",
    "xie_csv"
   ]
  },
  {
   "cell_type": "markdown",
   "id": "d5178125",
   "metadata": {},
   "source": [
    "# Qualitly Control "
   ]
  },
  {
   "cell_type": "code",
   "execution_count": null,
   "id": "2ba0974e",
   "metadata": {
    "tags": []
   },
   "outputs": [],
   "source": [
    "xie_csv.var_names.str.startswith(\"MT-\").sum()"
   ]
  },
  {
   "cell_type": "code",
   "execution_count": null,
   "id": "a6da964f",
   "metadata": {
    "tags": []
   },
   "outputs": [],
   "source": [
    "xie_csv.var_names.str.startswith(\"mt-\").sum()"
   ]
  },
  {
   "cell_type": "code",
   "execution_count": null,
   "id": "473b2a3b",
   "metadata": {
    "tags": []
   },
   "outputs": [],
   "source": [
    "xie_csv.var_names"
   ]
  },
  {
   "cell_type": "code",
   "execution_count": null,
   "id": "2f60b746",
   "metadata": {
    "tags": []
   },
   "outputs": [],
   "source": [
    "# mitochondrial genes\n",
    "xie_csv.var[\"mt\"] = xie_csv.var_names.str.startswith((\"MT-\", \"mt-\"))\n",
    "# ribosomal genes\n",
    "xie_csv.var[\"ribo\"] = xie_csv.var_names.str.startswith((\"RPS\", \"RPL\", \"rps\", \"rpl\"))\n",
    "# hemoglobin genes.\n",
    "xie_csv.var[\"hb\"] = xie_csv.var_names.str.contains((\"^HB[^(P)]\"))"
   ]
  },
  {
   "cell_type": "code",
   "execution_count": null,
   "id": "f180bfcb-2e38-4600-9bfd-60173f7af33b",
   "metadata": {},
   "outputs": [],
   "source": [
    "xie_csv.obs.index"
   ]
  },
  {
   "cell_type": "code",
   "execution_count": null,
   "id": "b9fb6951-44a9-40f5-b54b-503432046ebe",
   "metadata": {},
   "outputs": [],
   "source": [
    "subset_xie.var.index"
   ]
  },
  {
   "cell_type": "code",
   "execution_count": null,
   "id": "488f2536",
   "metadata": {
    "tags": []
   },
   "outputs": [],
   "source": [
    "sc.pp.calculate_qc_metrics(\n",
    "    xie_csv, qc_vars=[\"mt\", \"ribo\", \"hb\"], inplace=True, percent_top=[20], log1p=True\n",
    ")\n",
    "xie_csv"
   ]
  },
  {
   "cell_type": "code",
   "execution_count": null,
   "id": "b877f719-24b1-40a1-b922-f4fe7e13a758",
   "metadata": {},
   "outputs": [],
   "source": [
    "xie_csv"
   ]
  },
  {
   "cell_type": "code",
   "execution_count": null,
   "id": "7098176a-0218-4f4d-9570-e4705c7944cc",
   "metadata": {},
   "outputs": [],
   "source": [
    "xie_csv.obs['sample']=xie_csv.obs.index.str.split('-').str[1]"
   ]
  },
  {
   "cell_type": "code",
   "execution_count": null,
   "id": "6ad14e26-26f0-4072-ba01-c4f13d9f6d54",
   "metadata": {},
   "outputs": [],
   "source": [
    "subset_xie = xie_csv[xie_csv.obs.index.str.endswith(\"-1\")]"
   ]
  },
  {
   "cell_type": "code",
   "execution_count": null,
   "id": "2e4f94e8-0b62-46cb-9148-620b2e472cf9",
   "metadata": {},
   "outputs": [],
   "source": [
    "subset_xie.obs"
   ]
  },
  {
   "cell_type": "markdown",
   "id": "10ffafe4",
   "metadata": {},
   "source": [
    "### QC covariates: \n",
    "- n_genes_by_counts in .obs is the number of genes with positive counts in a cell,\n",
    "- total_counts is the total number of counts for a cell, this might also be known as library size, and\n",
    "- pct_counts_mt is the proportion of total counts for a cell which are mitochondrial."
   ]
  },
  {
   "cell_type": "code",
   "execution_count": null,
   "id": "24830c1e-2b0b-4da3-8033-010035c23bfe",
   "metadata": {},
   "outputs": [],
   "source": [
    "plt.rcParams['figure.figsize'] = (7, 7)\n",
    "samples = [\"-1\",\"-2\", \"-3\",\"-4\",\"-5\",\"-6\"]\n",
    "for x in samples: \n",
    "    subset_xie = xie_csv[xie_csv.obs.index.str.endswith(x)]\n",
    "    p1 = sns.histplot(subset_xie.obs[\"total_counts\"], bins=100, kde=False, legend = True).set(xlim=(0,30000),ylim=(0,350))\n",
    "\n"
   ]
  },
  {
   "cell_type": "code",
   "execution_count": null,
   "id": "22150397-5fc0-445b-80a6-71d225bd7b03",
   "metadata": {},
   "outputs": [],
   "source": [
    "sns.histplot(\n",
    "    xie_csv.obs, x=\"total_counts\", hue=\"sample\",bins=100, kde=False, legend = True\n",
    ")"
   ]
  },
  {
   "cell_type": "code",
   "execution_count": null,
   "id": "718a08be-fff9-4f88-b104-0a452148624a",
   "metadata": {},
   "outputs": [],
   "source": [
    "for x in samples: \n",
    "    subset_xie = xie_csv[xie_csv.obs.index.str.endswith(x)]\n",
    "    p1 = sns.histplot(subset_xie.obs[\"total_counts\"], bins=100, kde=False).set(xlim=(0,30000),ylim=(0,350))\n",
    "    # sc.pl.violin(adata, 'total_counts')\n",
    "    p2 = sc.pl.violin(subset_xie, \"pct_counts_mt\",title='Sample '+ x)\n",
    "    p3 = sc.pl.scatter(subset_xie, \"total_counts\", \"n_genes_by_counts\", color=\"pct_counts_mt\", title='Sample '+ x)\n",
    "   \n",
    "    \n",
    "\n",
    "    "
   ]
  },
  {
   "cell_type": "code",
   "execution_count": null,
   "id": "ea7fae85",
   "metadata": {
    "tags": []
   },
   "outputs": [],
   "source": [
    "# plot the three QC covariates n_genes_by_counts, total_counts and pct_counts_mt per sample \n",
    "# to assess how well the respective cells were captured.\n",
    "p1 = sns.displot(xie_csv.obs[\"total_counts\"], bins=100, kde=False)\n",
    "# sc.pl.violin(adata, 'total_counts')\n",
    "p2 = sc.pl.violin(xie_csv, \"pct_counts_mt\")\n",
    "p3 = sc.pl.scatter(xie_csv, \"total_counts\", \"n_genes_by_counts\", color=\"pct_counts_mt\")"
   ]
  },
  {
   "cell_type": "code",
   "execution_count": null,
   "id": "92e8172c-f77b-46ea-ad67-bfda3b9c87a8",
   "metadata": {},
   "outputs": [],
   "source": [
    "sns.histplot(\n",
    "    xie_csv.obs, x=\"total_counts\", bins=100, kde=False, legend = True\n",
    ").set(xlim=(10000,20000), ylim=(0,50))"
   ]
  },
  {
   "cell_type": "markdown",
   "id": "02041977",
   "metadata": {},
   "source": [
    "### comparison to Xie et al. \n",
    "xie et al paper: \"Cells with percentage of reads mapped on mitochondrial genes > 15% or total number of genes expressed < 300 were removed from further analysis\" --> 300 ✅, > 15% --> 30 obs - maybe even 10%? cells already dead? \n",
    "\n",
    "filter by:  min_genes=300, max_genes=4000, max_counts=18000\n",
    "\"Cells with a relatively high fraction of mitochondrial counts might for example be involved in respiratory processes and should not be filtered out.\"- SCBP"
   ]
  },
  {
   "cell_type": "code",
   "execution_count": null,
   "id": "75c6a4ab-c77f-489f-a565-b4cf50962f8c",
   "metadata": {},
   "outputs": [],
   "source": [
    "# histogramm, bereich zw. 2000 6000, beim oberen: randbereiche genauer anschauen, \n",
    "# outliers mit high count and low numer of genes: population evtl genauer anschauen "
   ]
  },
  {
   "cell_type": "code",
   "execution_count": null,
   "id": "733429f2-c34a-43f5-962c-b3a397965d75",
   "metadata": {},
   "outputs": [],
   "source": [
    "\n",
    "#filtered_df = xie_csv.obs[(xie_csv.obs['total_counts'] > 100) & (xie_csv.obs['n_genes_by_counts'] < 300)]\n",
    "\n",
    "# Extract the elements of the \"annotation\" column from the filtered DataFrame\n",
    "#annotations = filtered_df['annotation']"
   ]
  },
  {
   "cell_type": "code",
   "execution_count": null,
   "id": "9b37f40a",
   "metadata": {
    "tags": []
   },
   "outputs": [],
   "source": [
    "np.array(xie_csv.obs[\"pct_counts_mt\"] > 15).sum()"
   ]
  },
  {
   "cell_type": "code",
   "execution_count": null,
   "id": "9364d252",
   "metadata": {
    "tags": []
   },
   "outputs": [],
   "source": [
    "np.array(xie_csv.obs[\"pct_counts_mt\"] > 10).sum()"
   ]
  },
  {
   "cell_type": "code",
   "execution_count": null,
   "id": "ed1a18e4",
   "metadata": {
    "tags": []
   },
   "outputs": [],
   "source": [
    "print(f\"Total number of cells: {xie_csv.n_obs}\")"
   ]
  },
  {
   "cell_type": "code",
   "execution_count": null,
   "id": "f10b45aa",
   "metadata": {
    "tags": []
   },
   "outputs": [],
   "source": [
    "sc.pp.filter_cells(xie_csv, min_genes=300)\n",
    "sc.pp.filter_cells(xie_csv, max_genes=4000)\n",
    "sc.pp.filter_cells(xie_csv, max_counts=15000)"
   ]
  },
  {
   "cell_type": "code",
   "execution_count": null,
   "id": "de107909",
   "metadata": {
    "tags": []
   },
   "outputs": [],
   "source": [
    "np.array(xie_csv.obs[\"pct_counts_mt\"] > 10).sum()"
   ]
  },
  {
   "cell_type": "code",
   "execution_count": null,
   "id": "7e58c308",
   "metadata": {
    "tags": []
   },
   "outputs": [],
   "source": [
    "xie_csv.obs[\"mt_outlier\"] = xie_csv.obs[\"pct_counts_mt\"] > 10"
   ]
  },
  {
   "cell_type": "code",
   "execution_count": null,
   "id": "2437b6c8",
   "metadata": {
    "tags": []
   },
   "outputs": [],
   "source": [
    "xie_csv = xie_csv[(~xie_csv.obs.mt_outlier)].copy()"
   ]
  },
  {
   "cell_type": "code",
   "execution_count": null,
   "id": "1c7323dd",
   "metadata": {
    "tags": []
   },
   "outputs": [],
   "source": [
    "np.array(xie_csv.obs[\"pct_counts_mt\"] > 10).sum()"
   ]
  },
  {
   "cell_type": "markdown",
   "id": "c22dd226-073c-467c-8cd5-076b34802320",
   "metadata": {
    "tags": []
   },
   "source": [
    "### data after filtering low quality reads"
   ]
  },
  {
   "cell_type": "code",
   "execution_count": null,
   "id": "88b40f39",
   "metadata": {
    "tags": []
   },
   "outputs": [],
   "source": [
    "print(f\"Number of cells after filtering of low quality cells: {xie_csv.n_obs}\")"
   ]
  },
  {
   "cell_type": "markdown",
   "id": "e3f3fa38-f364-45ac-959b-6f7cc5867909",
   "metadata": {
    "tags": []
   },
   "source": [
    "p1 = sc.pl.scatter(xie_csv, \"total_counts\", \"n_genes_by_counts\", color=\"pct_counts_mt\")\n",
    "\n"
   ]
  },
  {
   "cell_type": "code",
   "execution_count": null,
   "id": "5959a4d0",
   "metadata": {
    "tags": []
   },
   "outputs": [],
   "source": [
    "#xie_csv.write('/home/p/pohll/Desktop/MP/data/xie_leonie.h5ad')\n",
    "#xie = sc.read('/home/p/pohll/Desktop/MP/data/xie_leonie.h5ad')"
   ]
  },
  {
   "cell_type": "markdown",
   "id": "4e60228f",
   "metadata": {
    "tags": []
   },
   "source": [
    "## doublets analysis"
   ]
  },
  {
   "cell_type": "code",
   "execution_count": null,
   "id": "75e0bbb8-3cce-4034-a396-ca9f6830e69c",
   "metadata": {
    "tags": []
   },
   "outputs": [],
   "source": [
    "%load_ext rpy2.ipython"
   ]
  },
  {
   "cell_type": "code",
   "execution_count": null,
   "id": "1ceb1527-927b-405c-8d6e-8b14124e4610",
   "metadata": {
    "jupyter": {
     "outputs_hidden": true
    },
    "tags": []
   },
   "outputs": [],
   "source": [
    "%%R\n",
    "library(Seurat)\n",
    "library(scater)\n",
    "library(scDblFinder)\n",
    "library(BiocParallel)"
   ]
  },
  {
   "cell_type": "code",
   "execution_count": null,
   "id": "9015eb05-b5d8-42ba-bd50-2cb6029db3c3",
   "metadata": {
    "tags": []
   },
   "outputs": [],
   "source": [
    "xie_mat = xie.X.T #input for scDblFinder"
   ]
  },
  {
   "cell_type": "markdown",
   "id": "e00b2947-0766-4903-9766-90fed19acb47",
   "metadata": {},
   "source": [
    "- `sce$scDblFinder.score` : the final doublet score (the higher the more likely that the cell is a doublet)\n",
    "- `sce$scDblFinder.ratio` : the ratio of artificial doublets in the cell’s neighborhood\n",
    "- `sce$scDblFinder.class` : the classification (doublet or singlet)"
   ]
  },
  {
   "cell_type": "code",
   "execution_count": null,
   "id": "7439ce6c-0fdb-48d7-8a0b-798599ac8e3d",
   "metadata": {
    "jupyter": {
     "outputs_hidden": true
    },
    "tags": []
   },
   "outputs": [],
   "source": [
    "%%R -i xie_mat -o doublet_score -o doublet_class\n",
    "\n",
    "set.seed(123)\n",
    "sce = scDblFinder(\n",
    "    SingleCellExperiment(\n",
    "        list(counts=xie_mat),\n",
    "    ) \n",
    ")\n",
    "doublet_score = sce$scDblFinder.score\n",
    "doublet_class = sce$scDblFinder.class"
   ]
  },
  {
   "cell_type": "code",
   "execution_count": null,
   "id": "2ddda8ce-b2d6-40a6-aa67-bccca60033f7",
   "metadata": {
    "tags": []
   },
   "outputs": [],
   "source": [
    "xie.obs[\"scDblFinder_score\"] = doublet_score\n",
    "xie.obs[\"scDblFinder_class\"] = doublet_class\n",
    "xie.obs.scDblFinder_class.value_counts()"
   ]
  },
  {
   "cell_type": "markdown",
   "id": "7d934dbf-7869-44ce-8783-66a3a7f440e7",
   "metadata": {},
   "source": [
    "9293 singlets, 933 doublets, leave doublets in for now "
   ]
  },
  {
   "cell_type": "code",
   "execution_count": null,
   "id": "42d7dcbc-7737-476c-900b-4f472a4dfed4",
   "metadata": {
    "tags": []
   },
   "outputs": [],
   "source": [
    "xie"
   ]
  },
  {
   "cell_type": "markdown",
   "id": "acc82955-c447-420b-9236-385cbeb6b239",
   "metadata": {},
   "source": [
    "# Normalization "
   ]
  },
  {
   "cell_type": "code",
   "execution_count": null,
   "id": "cc481c3b-9745-4bb6-a083-3c7259417aa6",
   "metadata": {
    "tags": []
   },
   "outputs": [],
   "source": [
    "scales_counts = sc.pp.normalize_total(xie, target_sum=None, inplace=False)\n",
    "# log1p transform\n",
    "xie.layers[\"log1p_norm\"] = sc.pp.log1p(scales_counts[\"X\"], copy=True)"
   ]
  },
  {
   "cell_type": "code",
   "execution_count": null,
   "id": "9e724538-c73a-4986-8f7a-b8667a2cf3a6",
   "metadata": {
    "tags": []
   },
   "outputs": [],
   "source": [
    "fig, axes = plt.subplots(1, 2, figsize=(10, 5))\n",
    "p1 = sns.histplot(xie.obs[\"total_counts\"], bins=100, kde=False, ax=axes[0])\n",
    "axes[0].set_title(\"Total counts\")\n",
    "p2 = sns.histplot(xie.layers[\"log1p_norm\"].sum(1), bins=100, kde=False, ax=axes[1])\n",
    "axes[1].set_title(\"Shifted logarithm\")\n",
    "plt.show()"
   ]
  },
  {
   "cell_type": "code",
   "execution_count": null,
   "id": "b13364cc-3086-4d76-a243-2624567f3fe1",
   "metadata": {
    "tags": []
   },
   "outputs": [],
   "source": [
    "xie = sc.read('/home/p/pohll/Desktop/MP/data/xie_leonie.h5ad')"
   ]
  },
  {
   "cell_type": "code",
   "execution_count": null,
   "id": "16059d4e-e969-44e8-8a92-56bf6f4fbddd",
   "metadata": {
    "tags": []
   },
   "outputs": [],
   "source": [
    "xie"
   ]
  },
  {
   "cell_type": "markdown",
   "id": "e8f966ab-f365-4d42-8a76-cfc0472ea4e0",
   "metadata": {},
   "source": [
    "# Feature Selection \n",
    "exclude uninformative genes\n",
    "- use deviance for feature selection which works on raw counts. \n",
    "- can be computed in closed form and quantifies whether genes show a constant expression profile across cells as these are not informative\n",
    "- Genes with constant expression: multinomial null model\n",
    "- Highly informative genes across cells: high deviance value, do not fit null model \n",
    "- According to the deviance values, the method then ranks all genes and obtains only highly deviant genes."
   ]
  },
  {
   "cell_type": "markdown",
   "id": "eed2b058-f636-407b-b8d8-a7b5a7bd9e6d",
   "metadata": {
    "jp-MarkdownHeadingCollapsed": true
   },
   "source": [
    "## 1. using scry --> eher nicht"
   ]
  },
  {
   "cell_type": "code",
   "execution_count": null,
   "id": "544bfc2b-7f2d-4247-9f53-fbb5cb84469e",
   "metadata": {
    "tags": []
   },
   "outputs": [],
   "source": [
    "sc.settings.verbosity = 0\n",
    "sc.settings.set_figure_params(\n",
    "    dpi=80,\n",
    "    facecolor=\"white\",\n",
    "    frameon=False,\n",
    ")\n",
    "\n",
    "rcb.logger.setLevel(logging.ERROR)\n",
    "ro.pandas2ri.activate()\n",
    "anndata2ri.activate()"
   ]
  },
  {
   "cell_type": "code",
   "execution_count": null,
   "id": "bc95a838-6179-4016-8711-e18414844b10",
   "metadata": {
    "tags": []
   },
   "outputs": [],
   "source": [
    "load_ext rpy2.ipython"
   ]
  },
  {
   "cell_type": "code",
   "execution_count": null,
   "id": "1d7fe830-da83-466a-888c-692218755037",
   "metadata": {
    "tags": []
   },
   "outputs": [],
   "source": [
    "%%R\n",
    "library(scry)"
   ]
  },
  {
   "cell_type": "markdown",
   "id": "878e02b5-f626-4a12-9167-5dae1fbc5730",
   "metadata": {},
   "source": [
    "save the AnnData object in our R environment"
   ]
  },
  {
   "cell_type": "code",
   "execution_count": null,
   "id": "82ba6acc-ac22-4e1e-847e-f8341af8f361",
   "metadata": {
    "tags": []
   },
   "outputs": [],
   "source": [
    "ro.globalenv[\"xie\"] = xie"
   ]
  },
  {
   "cell_type": "code",
   "execution_count": null,
   "id": "c0d8557e-71d2-4e0d-af18-163d6f952c68",
   "metadata": {
    "jupyter": {
     "outputs_hidden": true
    },
    "tags": []
   },
   "outputs": [],
   "source": [
    "#%%R -i xie\n",
    "#xie"
   ]
  },
  {
   "cell_type": "code",
   "execution_count": null,
   "id": "daf7ffc9-d67d-436f-add5-cb3ac1e37d64",
   "metadata": {
    "tags": []
   },
   "outputs": [],
   "source": [
    "%%R\n",
    "sce = devianceFeatureSelection(xie, assay=\"X\")"
   ]
  },
  {
   "cell_type": "code",
   "execution_count": null,
   "id": "4508646b-8507-4e7e-acb1-68d6521b2f87",
   "metadata": {
    "tags": []
   },
   "outputs": [],
   "source": [
    "binomial_deviance = ro.r(\"rowData(sce)$binomial_deviance\").T"
   ]
  },
  {
   "cell_type": "markdown",
   "id": "c8a65cde-7f11-4ea4-b160-00b59fdf2f6b",
   "metadata": {},
   "source": [
    "sort the vector an select the top 4,000 highly deviant genes and save them as an additional column in .var as ‘highly_deviant’. \n",
    "save the computed binomial deviance in case we want to sub-select a different number of highly variable genes afterwards."
   ]
  },
  {
   "cell_type": "code",
   "execution_count": null,
   "id": "8ea26482-250c-4715-a6cb-3019b982476f",
   "metadata": {
    "tags": []
   },
   "outputs": [],
   "source": [
    "idx = binomial_deviance.argsort()[-4000:]\n",
    "mask = np.zeros(xie.var_names.shape, dtype=bool)\n",
    "mask[idx] = True\n",
    "\n",
    "xie.var[\"highly_deviant\"] = mask\n",
    "xie.var[\"binomial_deviance\"] = binomial_deviance"
   ]
  },
  {
   "cell_type": "code",
   "execution_count": null,
   "id": "19b3fbdb-623a-404a-ac4b-acbb1f7fc2e4",
   "metadata": {
    "tags": []
   },
   "outputs": [],
   "source": [
    "xie.var[\"highly_deviant\"].value_counts()"
   ]
  },
  {
   "cell_type": "code",
   "execution_count": null,
   "id": "7c0a884b-40ab-45b3-939f-97ac8587dab2",
   "metadata": {
    "tags": []
   },
   "outputs": [],
   "source": [
    "# setting highly variable as highly deviant to use scanpy 'use_highly_variable' argument in sc.pp.pca\n",
    "xie.var[\"highly_variable\"] = xie.var[\"highly_deviant\"]"
   ]
  },
  {
   "cell_type": "code",
   "execution_count": null,
   "id": "1818b76d-a308-423f-9689-ffa667aca9ad",
   "metadata": {
    "tags": []
   },
   "outputs": [],
   "source": [
    "#xie.X = xie.layers[\"log1p_norm\"]"
   ]
  },
  {
   "cell_type": "markdown",
   "id": "b576c3d0-31a8-4f60-abd4-9d1899cefeed",
   "metadata": {},
   "source": [
    "## 2. Using sc.pp.highly_variable_genes"
   ]
  },
  {
   "cell_type": "code",
   "execution_count": null,
   "id": "8fb2cfe1-9e32-4279-a70c-1af8ea81d6aa",
   "metadata": {
    "tags": []
   },
   "outputs": [],
   "source": [
    "sc.pp.log1p(xie)"
   ]
  },
  {
   "cell_type": "code",
   "execution_count": null,
   "id": "5a81170e-4da1-4f03-88de-7d7a308b6598",
   "metadata": {
    "tags": []
   },
   "outputs": [],
   "source": [
    "sc.pp.highly_variable_genes(xie, min_mean=0.0125, max_mean=3, min_disp=0.5)"
   ]
  },
  {
   "cell_type": "code",
   "execution_count": null,
   "id": "6842a9b1-b113-460d-af53-14a921ff7d24",
   "metadata": {
    "tags": []
   },
   "outputs": [],
   "source": [
    "sc.pl.highly_variable_genes(xie)"
   ]
  },
  {
   "cell_type": "code",
   "execution_count": null,
   "id": "9daba7d2-fd1e-49b9-a2fe-6d257bf32d45",
   "metadata": {},
   "outputs": [],
   "source": [
    "xie"
   ]
  },
  {
   "cell_type": "markdown",
   "id": "6653a1e2-f654-4307-b72e-4501cb1458b3",
   "metadata": {},
   "source": [
    "# Dim Reduction + UMAP"
   ]
  },
  {
   "cell_type": "markdown",
   "id": "eb1e2621-0263-4f18-902a-4af3c89bf0ff",
   "metadata": {
    "tags": []
   },
   "source": [
    "## 1. PCA "
   ]
  },
  {
   "cell_type": "code",
   "execution_count": null,
   "id": "aacfb622-3667-48c5-84ee-9e61f89ff853",
   "metadata": {
    "tags": []
   },
   "outputs": [],
   "source": [
    "sc.tl.pca(xie, svd_solver='arpack', use_highly_variable=True )"
   ]
  },
  {
   "cell_type": "code",
   "execution_count": null,
   "id": "47622b0a-ee69-4178-8e99-19622a207542",
   "metadata": {
    "tags": []
   },
   "outputs": [],
   "source": [
    "sc.pl.pca(xie, color='total_counts')"
   ]
  },
  {
   "cell_type": "code",
   "execution_count": null,
   "id": "a63a4ef6-a7ae-49a2-a365-ba976673f7fc",
   "metadata": {
    "tags": []
   },
   "outputs": [],
   "source": [
    "sc.pl.pca_variance_ratio(xie, log=True) # später rufer neighbours/UMAP mit verschiedenen PCs auf "
   ]
  },
  {
   "cell_type": "markdown",
   "id": "ba550f38-d684-4c1c-b1e4-c45e80cd009b",
   "metadata": {},
   "source": [
    "## 2. UMAP"
   ]
  },
  {
   "cell_type": "code",
   "execution_count": null,
   "id": "714b10e0-4a3f-4bd9-bf9f-0a5d9716c7a4",
   "metadata": {
    "tags": []
   },
   "outputs": [],
   "source": [
    "sc.pp.neighbors(xie)\n",
    "sc.tl.umap(xie)"
   ]
  },
  {
   "cell_type": "code",
   "execution_count": null,
   "id": "89cd482e-0bd7-48d2-a810-de87da4ca971",
   "metadata": {
    "tags": []
   },
   "outputs": [],
   "source": [
    "sc.pl.umap(xie, color=\"total_counts\")"
   ]
  },
  {
   "cell_type": "code",
   "execution_count": null,
   "id": "81d41ebd-a1ce-42b9-9332-8038879c155c",
   "metadata": {
    "tags": []
   },
   "outputs": [],
   "source": [
    "sc.pl.umap(\n",
    "    xie,\n",
    "    color=[\"total_counts\", \"pct_counts_mt\", \"scDblFinder_score\", \"scDblFinder_class\"],\n",
    ")\n",
    "# todo doublets + hohe counts nochmal anschaune --> rausfiltern"
   ]
  },
  {
   "cell_type": "code",
   "execution_count": null,
   "id": "fb0a3281-91f1-4cc0-b039-ddc17ff3ae3d",
   "metadata": {},
   "outputs": [],
   "source": [
    "xie_filtered_doublet = xie.copy()"
   ]
  },
  {
   "cell_type": "code",
   "execution_count": null,
   "id": "3baa775b-a4f8-4b35-9bf0-81a5f611c637",
   "metadata": {},
   "outputs": [],
   "source": [
    "mask = (xie_filtered_doublet.obs['scDblFinder_class'] != 2) & (xie_filtered_doublet.obs['scDblFinder_score'] <= 0.9) & (xie_filtered_doublet.obs['total_counts'] <= 12000)\n"
   ]
  },
  {
   "cell_type": "code",
   "execution_count": null,
   "id": "9941f76c-6181-41e5-9bed-23522a9a4c79",
   "metadata": {},
   "outputs": [],
   "source": [
    "filtered_obs = xie_filtered_doublet.obs[mask]\n",
    "\n",
    "# Filter the AnnData object using the mask\n",
    "xie_filtered_doublet = xie_filtered_doublet[mask]\n",
    "\n",
    "# Update the AnnData object with the filtered `obs`\n",
    "xie_filtered_doublet.obs = filtered_obs"
   ]
  },
  {
   "cell_type": "code",
   "execution_count": null,
   "id": "64e7814b-7f8a-4ad4-90f8-cf2efe32936d",
   "metadata": {},
   "outputs": [],
   "source": [
    "xie_filtered_doublet.obs.shape"
   ]
  },
  {
   "cell_type": "code",
   "execution_count": null,
   "id": "c9d46278-1c2b-4ab4-979d-e8b43b087347",
   "metadata": {},
   "outputs": [],
   "source": [
    "xie_filtered_doublet"
   ]
  },
  {
   "cell_type": "code",
   "execution_count": null,
   "id": "8cc9d998-3912-4005-9b4f-ce0e3f0b6750",
   "metadata": {},
   "outputs": [],
   "source": [
    "xie.obs.shape"
   ]
  },
  {
   "cell_type": "code",
   "execution_count": null,
   "id": "18c29c61-0899-4505-8137-4f51aeb8fda9",
   "metadata": {},
   "outputs": [],
   "source": [
    "sc.pp.log1p(xie_filtered_doublet)"
   ]
  },
  {
   "cell_type": "code",
   "execution_count": null,
   "id": "1397b71f-5798-4270-a672-3bacbc03220b",
   "metadata": {},
   "outputs": [],
   "source": [
    "sc.tl.pca(xie_filtered_doublet, svd_solver='arpack', use_highly_variable=True )"
   ]
  },
  {
   "cell_type": "code",
   "execution_count": null,
   "id": "c0d0c226-1ecd-41d9-b6a2-3669fc36ec36",
   "metadata": {},
   "outputs": [],
   "source": [
    "sc.pp.neighbors(xie_filtered_doublet)\n",
    "sc.tl.umap(xie_filtered_doublet)"
   ]
  },
  {
   "cell_type": "code",
   "execution_count": null,
   "id": "9f063565-5939-4a82-98ad-24ac49a1bc3f",
   "metadata": {},
   "outputs": [],
   "source": [
    "sc.pl.umap(\n",
    "    xie_filtered_doublet,\n",
    "    color=[\"total_counts\", \"pct_counts_mt\", \"scDblFinder_score\", \"scDblFinder_class\"],\n",
    ")\n"
   ]
  },
  {
   "cell_type": "code",
   "execution_count": null,
   "id": "7928da40-41f2-4a97-a8dc-5c4b9af06a1c",
   "metadata": {},
   "outputs": [],
   "source": [
    "xie_filtered_doublet.write('/home/p/pohll/Desktop/MP/data/xie_leonie_filtered.h5ad')"
   ]
  },
  {
   "cell_type": "code",
   "execution_count": null,
   "id": "ab2cb367-6281-4d9e-91f8-81b059ec8aea",
   "metadata": {
    "tags": []
   },
   "outputs": [],
   "source": [
    "#xie.write('/home/p/pohll/Desktop/MP/data/xie_leonie_dim_reduction.h5ad')\n",
    "xie = sc.read('/home/p/pohll/Desktop/MP/data/xie_leonie_dim_reduction.h5ad')"
   ]
  },
  {
   "cell_type": "markdown",
   "id": "bc02cc19-d254-42d8-a463-1efb92ba5d3c",
   "metadata": {},
   "source": [
    "# Clustering using Leiden Algorithm\n",
    "-->  identification of cellular structure in the dataset."
   ]
  },
  {
   "cell_type": "code",
   "execution_count": null,
   "id": "a655efe7-c79c-499d-b837-0b9cf177cf3b",
   "metadata": {
    "tags": []
   },
   "outputs": [],
   "source": [
    "sc.tl.leiden(xie)"
   ]
  },
  {
   "cell_type": "code",
   "execution_count": null,
   "id": "641c8664-63bf-4f2d-85e4-b5b8cefa38b6",
   "metadata": {
    "tags": []
   },
   "outputs": [],
   "source": [
    "sc.tl.leiden(xie, key_added=\"leiden_res0_1\", resolution=0.1)\n",
    "sc.tl.leiden(xie, key_added=\"leiden_res0_25\", resolution=0.25)\n",
    "sc.tl.leiden(xie, key_added=\"leiden_res0_5\", resolution=0.5)\n",
    "sc.tl.leiden(xie, key_added=\"leiden_res1\", resolution=1.0)"
   ]
  },
  {
   "cell_type": "code",
   "execution_count": null,
   "id": "47bf7ba3-dd0e-4e02-a623-99a4e21835f2",
   "metadata": {
    "tags": []
   },
   "outputs": [],
   "source": [
    "sc.pl.umap(\n",
    "    xie,\n",
    "    color=[\"leiden_res0_1\",\"leiden_res0_25\", \"leiden_res0_5\", \"leiden_res1\"],\n",
    "    legend_loc=\"on data\",\n",
    ")"
   ]
  },
  {
   "cell_type": "code",
   "execution_count": null,
   "id": "c30bd023-9f74-4777-bd18-869dacd115b8",
   "metadata": {
    "tags": []
   },
   "outputs": [],
   "source": [
    "#Define a nice colour map for gene expression\n",
    "from matplotlib import colors\n",
    "colors2 = plt.cm.Reds(np.linspace(0, 1, 128))\n",
    "colors3 = plt.cm.Greys_r(np.linspace(0.7,0.8,1))\n",
    "colorsComb = np.vstack([colors3, colors2])\n",
    "mymap = colors.LinearSegmentedColormap.from_list('my_colormap', colorsComb)\n",
    "def plot_markers(adata):\n",
    "    print('Macrophages')\n",
    "    sc.pl.umap(adata, color=['Apoe', 'Mrc1', 'Marco', 'Mertk'], cmap=mymap, size=20)\n",
    "    print('Monocytes')\n",
    "    sc.pl.umap(adata, color=['Cd14', 'Vcan'], cmap=mymap, size=20)\n",
    "    print('T-Cells')\n",
    "    sc.pl.umap(adata, color=['Cd3e', 'Cd4','Cd8a', 'Cd3d'], cmap=mymap, size=40)\n",
    "    print('B-Cells')\n",
    "    sc.pl.umap(adata, color=['Cd19', 'Cd79a'], cmap=mymap, size=40)\n",
    "    print('AT2')\n",
    "    sc.pl.umap(adata, color=['Muc1', 'Sftpc', 'Sftpd', 'Lcn2'], cmap=mymap, size=30)\n",
    "    print('AT1')\n",
    "    sc.pl.umap(adata, color=['Vegfa'], cmap=mymap, size=30)\n",
    "    print('Krt8')\n",
    "    sc.pl.umap(adata, color='Krt8', cmap=mymap, size=30)\n",
    "    print('Endothelial')\n",
    "    sc.pl.umap(adata, color='Pecam1', cmap=mymap, size=30)\n",
    "    print('Fibroblasts')\n",
    "    sc.pl.umap(adata, color='Col1a2', cmap=mymap, size=30)\n",
    "    print('Myofibroblasts')\n",
    "    sc.pl.umap(adata, color=['Col3a1', 'Cthrc1', 'Postn', 'Spp1', 'Tnc', 'S100a6', 'Ccl2'], cmap=mymap, size=30)\n",
    "    \n",
    "def plot_marker_genes(adata):\n",
    "    plot_markers(adata)"
   ]
  },
  {
   "cell_type": "code",
   "execution_count": null,
   "id": "49892f07-103c-49d0-b86d-216229b0a1ad",
   "metadata": {
    "tags": []
   },
   "outputs": [],
   "source": [
    "plot_markers(xie)"
   ]
  },
  {
   "cell_type": "code",
   "execution_count": null,
   "id": "869ff852-6bd0-40b4-ae3d-f6b4f57baf93",
   "metadata": {
    "tags": []
   },
   "outputs": [],
   "source": [
    "xie.obs['sample']=xie.obs.index.str.split('-').str[1]"
   ]
  },
  {
   "cell_type": "code",
   "execution_count": null,
   "id": "0b548a28-4ae0-4682-9473-d84112c4562f",
   "metadata": {
    "tags": []
   },
   "outputs": [],
   "source": [
    "xie.obs['cond']='control'"
   ]
  },
  {
   "cell_type": "code",
   "execution_count": null,
   "id": "a142aa6a-b0a7-41b2-8746-a702df876572",
   "metadata": {
    "tags": []
   },
   "outputs": [],
   "source": [
    "xie.obs.loc[xie.obs['sample'].isin(['4', '5', '6']), 'cond']='bleo'"
   ]
  },
  {
   "cell_type": "markdown",
   "id": "8545b14b-a22e-4723-9cf2-557f8d80c52b",
   "metadata": {
    "tags": []
   },
   "source": [
    "# Analyze Batch effects"
   ]
  },
  {
   "cell_type": "code",
   "execution_count": null,
   "id": "230ad6bd-915e-4f8d-bfaf-61ae729dd79a",
   "metadata": {
    "tags": []
   },
   "outputs": [],
   "source": [
    "plt.rcParams['figure.figsize'] = (10, 10)\n",
    "sc.pl.umap(xie, color=['sample', 'cond'], size=30)"
   ]
  },
  {
   "cell_type": "markdown",
   "id": "2db29e26-568c-41d4-a623-c3f861409f15",
   "metadata": {},
   "source": [
    "- fewer contol cells than bleo cells, makes sense since in total 1943 (normal)+ 3386 (fibrotic) cells. \n",
    "- batch effect: each batch only \"represents\" one condition - bleo or normal "
   ]
  },
  {
   "cell_type": "code",
   "execution_count": null,
   "id": "ed4cdf8d-a9e0-4209-9570-43c4a707ac9f",
   "metadata": {
    "tags": []
   },
   "outputs": [],
   "source": [
    "plt.rcParams['figure.figsize'] = (10, 10)\n",
    "sc.pl.umap(xie, color=['annotation', 'sample'], size=30)"
   ]
  },
  {
   "cell_type": "markdown",
   "id": "cf551d7c-aef3-4199-8e81-855e3f83d94b",
   "metadata": {
    "tags": []
   },
   "source": [
    "-  cells from same label are generally near each other\n",
    "- but shift between batches. \n",
    "+ todo: inspecting the distribution of marker genes (SCBP)"
   ]
  },
  {
   "cell_type": "code",
   "execution_count": null,
   "id": "c44cc57f-c0d5-4458-b7c4-b841b1db2cdb",
   "metadata": {
    "tags": []
   },
   "outputs": [],
   "source": [
    "#xie.write('/home/p/pohll/Desktop/MP/data/xie_leonie_clustering.h5ad')\n",
    "xie = sc.read('/home/p/pohll/Desktop/MP/data/xie_leonie_clustering.h5ad')"
   ]
  },
  {
   "cell_type": "code",
   "execution_count": null,
   "id": "e817effa",
   "metadata": {
    "jupyter": {
     "outputs_hidden": true
    },
    "tags": []
   },
   "outputs": [],
   "source": [
    "# daniel's xie adata:\n",
    "xie_processed = sc.read('/home/p/pohll/Desktop/MP/data/xie/processed.h5ad') \n",
    "# use (backed=\"r\") if h5ad very big "
   ]
  }
 ],
 "metadata": {
  "kernelspec": {
   "display_name": "Python 3 (ipykernel)",
   "language": "python",
   "name": "python3"
  },
  "language_info": {
   "codemirror_mode": {
    "name": "ipython",
    "version": 3
   },
   "file_extension": ".py",
   "mimetype": "text/x-python",
   "name": "python",
   "nbconvert_exporter": "python",
   "pygments_lexer": "ipython3",
   "version": "3.9.16"
  }
 },
 "nbformat": 4,
 "nbformat_minor": 5
}
