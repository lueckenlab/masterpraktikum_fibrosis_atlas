{
 "cells": [
  {
   "cell_type": "code",
   "execution_count": null,
   "id": "ba597cb4-3ffa-4e80-b924-a5ed02fda345",
   "metadata": {},
   "outputs": [],
   "source": [
    "import scanpy as sc\n",
    "import pandas as pd\n",
    "import numpy as np\n",
    "import seaborn as sns\n",
    "import matplotlib.pyplot as plt\n",
    "import anndata as ad\n",
    "from scipy import sparse\n",
    "from anndata import AnnData\n",
    "from matplotlib import colors"
   ]
  },
  {
   "cell_type": "code",
   "execution_count": null,
   "id": "201aefcc-f5ce-4b39-93e6-6234f8a2fffc",
   "metadata": {},
   "outputs": [],
   "source": [
    "adata = sc.read(\"/lustre/groups/ml01/workspace/daniel.michaela.masterpraktikum23/all_datasets_merged/final_anno_integrated.h5ad\")"
   ]
  },
  {
   "cell_type": "code",
   "execution_count": null,
   "id": "7cbdff59-806e-4bfd-af48-5bdbbca187a1",
   "metadata": {},
   "outputs": [],
   "source": [
    "adata"
   ]
  },
  {
   "cell_type": "raw",
   "id": "7257153e-96b9-4efc-abdb-cd9e1d9454a9",
   "metadata": {},
   "source": [
    "pretty umaps of:\n",
    "condition , batch dataset 'fibrotic/control'\n",
    "leiden_res1 majority_anno\n",
    " \"final_annotation\", \n",
    "\"doublet_score\", \"predicted_doublet\"\n",
    "'augur_score_dataset-specific', 'integrated_augur_score_condition_label' 'integrated_augur_score_fibrotic_control_label'"
   ]
  },
  {
   "cell_type": "code",
   "execution_count": null,
   "id": "e962b380-df6a-4783-8e84-cc2eeacfdac1",
   "metadata": {},
   "outputs": [],
   "source": [
    "sc.set_figure_params(frameon=False, vector_friendly=True, fontsize=12, dpi_save=200, figsize=[10,10])"
   ]
  },
  {
   "cell_type": "code",
   "execution_count": null,
   "id": "304bb563-7b03-402a-8fdf-69c1d805662b",
   "metadata": {},
   "outputs": [],
   "source": [
    "#plt.rcParams['figure.figsize'] = (9, 9)\n",
    "sc.pl.umap(\n",
    "    adata[adata.obs.sample(adata.n_obs).index],\n",
    "    color=[\"leiden_res1\"],\n",
    "    #legend_loc=\"on data\", \n",
    "     size=5, palette=sc.pl.palettes.default_102, frameon=False, ncols=1,\n",
    "    save= \"_leiden.png\"\n",
    ")"
   ]
  },
  {
   "cell_type": "code",
   "execution_count": null,
   "id": "c2f88861-1c1f-4b70-a0de-c754c4cc880b",
   "metadata": {},
   "outputs": [],
   "source": [
    "sc.pl.umap(\n",
    "    adata[adata.obs.sample(adata.n_obs).index],\n",
    "    color=[\"batch\"],\n",
    "    #legend_loc=\"on data\", \n",
    "     size=5, palette=sc.pl.palettes.default_102, frameon=False, ncols=1,\n",
    "    save= \"_batch.png\"\n",
    ")\n"
   ]
  },
  {
   "cell_type": "code",
   "execution_count": null,
   "id": "e61f3a26-85fb-4f3a-a740-dac3233ef2aa",
   "metadata": {},
   "outputs": [],
   "source": [
    "#plt.rcParams['figure.figsize'] = (8, 8)\n",
    "sc.pl.umap(\n",
    "    adata[adata.obs.sample(adata.n_obs).index],\n",
    "    color=[\"dataset\"],\n",
    "    #legend_loc=\"on data\", \n",
    "     size=5, frameon=False, ncols=1,\n",
    "     #palette=sc.pl.palettes.default_102,\n",
    "    cmap = \"tab10\",\n",
    "    save= \"_dataset.png\"\n",
    ")\n"
   ]
  },
  {
   "cell_type": "code",
   "execution_count": null,
   "id": "e5c573e0-95de-4b1f-bbe1-3b0068daae44",
   "metadata": {},
   "outputs": [],
   "source": [
    "#plt.rcParams['figure.figsize'] = (8, 8)\n",
    "sc.pl.umap(\n",
    "    adata[adata.obs.sample(adata.n_obs).index],\n",
    "    color=[\"fibrotic/control\"],\n",
    "    #legend_loc=\"on data\", \n",
    "     size=5, frameon=False, ncols=1,\n",
    "    # palette=sc.pl.palettes.default_102,\n",
    "    save= \"_fibrotic_control.png\"\n",
    ")\n"
   ]
  },
  {
   "cell_type": "code",
   "execution_count": null,
   "id": "9ddeea80-89ba-4321-9316-e86d2f174987",
   "metadata": {},
   "outputs": [],
   "source": [
    "#plt.rcParams['figure.figsize'] = (8, 8)\n",
    "sc.pl.umap(\n",
    "    adata[adata.obs.sample(adata.n_obs).index],\n",
    "    color=[\"predicted_doublet\"],\n",
    "    #legend_loc=\"on data\", \n",
    "     size=5, frameon=False, ncols=1,\n",
    "    palette=sc.pl.palettes.vega_10,\n",
    "   # cmap=\"tab10\",\n",
    "    save= \"_predicted_doublet.png\"\n",
    ")\n"
   ]
  },
  {
   "cell_type": "code",
   "execution_count": null,
   "id": "335f1f02-91da-4653-a27c-91e35e0bab51",
   "metadata": {},
   "outputs": [],
   "source": [
    "sc.pl.umap(\n",
    "    adata[adata.obs.sample(adata.n_obs).index],\n",
    "    color=[\"condition\"],\n",
    "    #legend_loc=\"on data\", \n",
    "     size=5, frameon=False, ncols=1,\n",
    "    palette=sc.pl.palettes.vega_10,\n",
    "   # cmap=\"tab10\",\n",
    "    save= \"_condition.png\"\n",
    ")"
   ]
  },
  {
   "cell_type": "code",
   "execution_count": null,
   "id": "d2b71419-950d-4347-b9df-b6228a38d6e5",
   "metadata": {},
   "outputs": [],
   "source": [
    "sc.pl.umap(\n",
    "    adata[adata.obs.sample(adata.n_obs).index],\n",
    "    color=[\"majority_anno\"],\n",
    "    #legend_loc=\"on data\", \n",
    "     size=5, frameon=False, ncols=1,\n",
    "    palette=sc.pl.palettes.default_102,\n",
    "   # cmap=\"tab10\",\n",
    "    save= \"_majority_anno.png\"\n",
    ")"
   ]
  },
  {
   "cell_type": "code",
   "execution_count": null,
   "id": "602aa4b4-1f29-48d6-a0db-5f9fb4ecf161",
   "metadata": {},
   "outputs": [],
   "source": [
    "sc.pl.umap(\n",
    "    adata[adata.obs.sample(adata.n_obs).index],\n",
    "    color=[\"majority_anno\"],\n",
    "    #legend_loc=\"on data\", \n",
    "     size=5, frameon=False, ncols=1,\n",
    "    palette=sc.pl.palettes.default_102,\n",
    "   # cmap=\"tab10\",\n",
    "    save= \"_majority_anno_on_legend.png\",\n",
    "    legend_loc=\"on data\"\n",
    ")"
   ]
  },
  {
   "cell_type": "code",
   "execution_count": null,
   "id": "b1200fe2-e1c8-4b83-8182-9ff74854329f",
   "metadata": {},
   "outputs": [],
   "source": [
    "sc.pl.umap(\n",
    "    adata[adata.obs.sample(adata.n_obs).index],\n",
    "    color=[\"harmonized_anno\"],\n",
    "    #legend_loc=\"on data\", \n",
    "     size=5, frameon=False, ncols=1,\n",
    "    palette=sc.pl.palettes.default_102,\n",
    "   # cmap=\"tab10\",\n",
    "    save= \"_harmonized_anno.png\"\n",
    ")"
   ]
  },
  {
   "cell_type": "code",
   "execution_count": null,
   "id": "76a7843f-c811-423c-b709-ab4ef67f91a0",
   "metadata": {},
   "outputs": [],
   "source": [
    "sc.pl.umap(\n",
    "    adata[adata.obs.sample(adata.n_obs).index],\n",
    "    color=[\"harmonized_anno\"],\n",
    "    #legend_loc=\"on data\", \n",
    "     size=5, frameon=False, ncols=1,\n",
    "    palette=sc.pl.palettes.default_102,\n",
    "   # cmap=\"tab10\",\n",
    "    save= \"_harmonized_anno_on_legend.png\",\n",
    "    legend_loc=\"on data\"\n",
    ")"
   ]
  },
  {
   "cell_type": "code",
   "execution_count": null,
   "id": "a917d8f0-80ab-45a4-a671-57e366a94fda",
   "metadata": {},
   "outputs": [],
   "source": [
    "sc.pl.umap(\n",
    "    adata[adata.obs.sample(adata.n_obs).index],\n",
    "    color=[\"harmonized_anno\"],\n",
    "    #legend_loc=\"on data\", \n",
    "     size=5, frameon=False, ncols=1,\n",
    "    palette=sc.pl.palettes.zeileis_28,\n",
    "   # cmap=\"tab10\",\n",
    "    save= \"_harmonized_anno_on_legend_zeileis_28.png\",\n",
    "    legend_loc=\"on data\"\n",
    ")"
   ]
  },
  {
   "cell_type": "code",
   "execution_count": null,
   "id": "a96916d6-b80a-4672-8412-5b5ee42cf05e",
   "metadata": {},
   "outputs": [],
   "source": [
    "sc.pl.umap(\n",
    "    adata[adata.obs.sample(adata.n_obs).index],\n",
    "    color=[\"harmonized_anno\"],\n",
    "    #legend_loc=\"on data\", \n",
    "     size=5, frameon=False, ncols=1,\n",
    "    palette=sc.pl.palettes.zeileis_28,\n",
    "   # cmap=\"tab10\",\n",
    "    save= \"_harmonized_anno_on_legend_zeileis_28.png\",\n",
    "    legend_loc=\"on data\"\n",
    ")"
   ]
  },
  {
   "cell_type": "code",
   "execution_count": null,
   "id": "40705963-f8dd-4cc9-ba93-36d86ac44a62",
   "metadata": {},
   "outputs": [],
   "source": [
    "sc.pl.umap(\n",
    "    adata[adata.obs.sample(adata.n_obs).index],\n",
    "    color=[\"final_annotation\"],\n",
    "    #legend_loc=\"on data\", \n",
    "     size=5, frameon=False, ncols=1,\n",
    "    palette=sc.pl.palettes.default_102,\n",
    "   # cmap=\"tab10\",\n",
    "    save= \"_final_anno.png\"\n",
    ")"
   ]
  },
  {
   "cell_type": "code",
   "execution_count": null,
   "id": "adb983f2-b5ad-4ccd-b0e9-11abe0dd232f",
   "metadata": {},
   "outputs": [],
   "source": [
    "sc.pl.umap(\n",
    "    adata[adata.obs.sample(adata.n_obs).index],\n",
    "    color=[\"final_annotation\"],\n",
    "    #legend_loc=\"on data\", \n",
    "     size=5, frameon=False, ncols=1,\n",
    "    palette=sc.pl.palettes.default_102,\n",
    "   # cmap=\"tab10\",\n",
    "    save= \"_final_anno_on_legend.png\",\n",
    "    legend_loc=\"on data\"\n",
    ")"
   ]
  },
  {
   "cell_type": "code",
   "execution_count": null,
   "id": "25ae48b2-67bd-413e-8dd1-7d6f45837356",
   "metadata": {},
   "outputs": [],
   "source": [
    "sc.pl.umap(\n",
    "    adata[adata.obs.sample(adata.n_obs).index],\n",
    "    color=[\"final_annotation\"],\n",
    "    #legend_loc=\"on data\", \n",
    "     size=5, frameon=False, ncols=1,\n",
    "    palette=sc.pl.palettes.zeileis_28,\n",
    "   # cmap=\"tab10\",\n",
    "    save= \"_final_anno_on_legend_zeileis_28.png\",\n",
    "    legend_loc=\"on data\"\n",
    ")"
   ]
  },
  {
   "cell_type": "code",
   "execution_count": null,
   "id": "cb61048a-d9a4-4c3d-8db0-545e05ec5f1f",
   "metadata": {},
   "outputs": [],
   "source": [
    "# 'augur_score_dataset-specific', 'integrated_augur_score_condition_label' 'integrated_augur_score_fibrotic_control_label'\"doublet_score\", "
   ]
  },
  {
   "cell_type": "code",
   "execution_count": null,
   "id": "b174abc2-ec47-4c9f-96e8-5fa32b1c43c0",
   "metadata": {},
   "outputs": [],
   "source": [
    "sc.pl.umap(\n",
    "    adata[adata.obs.sample(adata.n_obs).index],\n",
    "    color=[\"augur_score_dataset-specific\"],\n",
    "    #legend_loc=\"on data\", \n",
    "     size=5, frameon=False, ncols=1,\n",
    "    #palette=sc.pl.palettes.default_102,\n",
    "   cmap=\"plasma\",\n",
    "    save= \"_augur_score_dataset-specific.png\"\n",
    ")"
   ]
  },
  {
   "cell_type": "code",
   "execution_count": null,
   "id": "5a8dfa1d-abca-4163-a05f-e49174996b02",
   "metadata": {},
   "outputs": [],
   "source": [
    "sc.pl.umap(\n",
    "    adata[adata.obs.sample(adata.n_obs).index],\n",
    "    color=[\"integrated_augur_score_condition_label\"],\n",
    "    #legend_loc=\"on data\", \n",
    "     size=5, frameon=False, ncols=1,\n",
    "    #palette=sc.pl.palettes.default_102,\n",
    "   cmap=\"plasma\",\n",
    "    save= \"_integrated_augur_score_condition_label.png\"\n",
    ")"
   ]
  },
  {
   "cell_type": "code",
   "execution_count": null,
   "id": "d12c4c8e-9de4-4eec-9bbf-9a42ba094a3d",
   "metadata": {},
   "outputs": [],
   "source": [
    "sc.pl.umap(\n",
    "    adata[adata.obs.sample(adata.n_obs).index],\n",
    "    color=[\"integrated_augur_score_fibrotic_control_label\"],\n",
    "    #legend_loc=\"on data\", \n",
    "     size=5, frameon=False, ncols=1,\n",
    "    #palette=sc.pl.palettes.default_102,\n",
    "   cmap=\"plasma\",\n",
    "    save= \"_integrated_augur_score_fibrotic_control_label.png\"\n",
    ")"
   ]
  },
  {
   "cell_type": "code",
   "execution_count": null,
   "id": "bfbc8a21-9469-4909-abca-0f976d44689c",
   "metadata": {},
   "outputs": [],
   "source": [
    "sc.pl.umap(\n",
    "    adata[adata.obs.sample(adata.n_obs).index],\n",
    "    color=[\"doublet_score\"],\n",
    "    #legend_loc=\"on data\", \n",
    "     size=5, frameon=False, ncols=1,\n",
    "    #palette=sc.pl.palettes.default_102,\n",
    "   cmap=\"plasma\",\n",
    "    save= \"_doublet_score.png\"\n",
    ")"
   ]
  }
 ],
 "metadata": {
  "kernelspec": {
   "display_name": "Python [conda env:scanpy] *",
   "language": "python",
   "name": "conda-env-scanpy-py"
  },
  "language_info": {
   "codemirror_mode": {
    "name": "ipython",
    "version": 3
   },
   "file_extension": ".py",
   "mimetype": "text/x-python",
   "name": "python",
   "nbconvert_exporter": "python",
   "pygments_lexer": "ipython3",
   "version": "3.9.16"
  }
 },
 "nbformat": 4,
 "nbformat_minor": 5
}
