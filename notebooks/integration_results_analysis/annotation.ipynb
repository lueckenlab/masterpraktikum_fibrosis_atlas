{
 "cells": [
  {
   "cell_type": "code",
   "execution_count": 1,
   "id": "57de2f30-f9fd-4230-94f0-b4ff7413f38a",
   "metadata": {},
   "outputs": [],
   "source": [
    "import scanpy as sc\n",
    "import pandas as pd\n",
    "import numpy as np\n",
    "import seaborn as sns\n",
    "import matplotlib.pyplot as plt\n",
    "import celltypist\n",
    "import anndata as ad\n",
    "from scipy import sparse\n",
    "from anndata import AnnData\n",
    "from matplotlib import colors"
   ]
  },
  {
   "cell_type": "code",
   "execution_count": 2,
   "id": "ad047562-0f5d-44c3-8024-ffc71dd8b31d",
   "metadata": {},
   "outputs": [],
   "source": [
    "def get_majority_label(adata, transferred_label, leiden_label):\n",
    "    return adata.obs[\n",
    "        [transferred_label, leiden_label]\n",
    "    ].value_counts().reset_index().sort_values(\n",
    "        ['count', leiden_label], ascending=False,\n",
    "    ).drop_duplicates(\n",
    "        leiden_label,\n",
    "        keep='first',\n",
    "    ).set_index(leiden_label)[transferred_label].to_dict()"
   ]
  },
  {
   "cell_type": "code",
   "execution_count": 3,
   "id": "12052f12-17d0-44e8-b1aa-b346f4e58152",
   "metadata": {},
   "outputs": [],
   "source": [
    "adata = sc.read(\"/lustre/groups/ml01/workspace/daniel.michaela.masterpraktikum23/all_datasets_merged/complete_merged_public_and_galapagos_integrated_scvi_neighbors_umap.h5ad\")"
   ]
  },
  {
   "cell_type": "code",
   "execution_count": null,
   "id": "ff38aa92-a814-483d-9bbf-37a8bd73f32b",
   "metadata": {},
   "outputs": [],
   "source": [
    "# leiden \n",
    "sc.tl.leiden(adata, key_added=\"leiden_res0_4\", resolution=0.4)\n",
    "sc.tl.leiden(adata, key_added=\"leiden_res0_8\", resolution=0.8)\n",
    "sc.tl.leiden(adata, key_added=\"leiden_res1\", resolution=1.0)\n",
    "sc.tl.leiden(adata, key_added=\"leiden_res1_4\", resolution=1.4)"
   ]
  },
  {
   "cell_type": "code",
   "execution_count": null,
   "id": "16aa9071-cc84-4115-8db7-d49a58cf7693",
   "metadata": {},
   "outputs": [],
   "source": [
    "plt.rcParams['figure.figsize'] = (7, 7), n_col=2\n",
    "sc.pl.umap(\n",
    "    adata,\n",
    "    color=[\"leiden_res0_1\",\"leiden_res0_3\", \"leiden_res0_4\", \"leiden_res0_5\"],\n",
    "    legend_loc=\"on data\",\n",
    ")"
   ]
  },
  {
   "cell_type": "code",
   "execution_count": null,
   "id": "4b5427e9-23d4-454f-b99f-ed6f0a702265",
   "metadata": {},
   "outputs": [],
   "source": [
    "get_majority_label"
   ]
  },
  {
   "cell_type": "code",
   "execution_count": null,
   "id": "beab5d8a-e8b1-47e6-9ccf-d387c572d034",
   "metadata": {},
   "outputs": [],
   "source": []
  }
 ],
 "metadata": {
  "kernelspec": {
   "display_name": "Python [conda env:scanpy] *",
   "language": "python",
   "name": "conda-env-scanpy-py"
  },
  "language_info": {
   "codemirror_mode": {
    "name": "ipython",
    "version": 3
   },
   "file_extension": ".py",
   "mimetype": "text/x-python",
   "name": "python",
   "nbconvert_exporter": "python",
   "pygments_lexer": "ipython3",
   "version": "3.9.16"
  }
 },
 "nbformat": 4,
 "nbformat_minor": 5
}
