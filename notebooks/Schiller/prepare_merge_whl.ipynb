{
 "cells": [
  {
   "cell_type": "code",
   "execution_count": 17,
   "metadata": {},
   "outputs": [],
   "source": [
    "import scanpy as sc"
   ]
  },
  {
   "cell_type": "code",
   "execution_count": 18,
   "metadata": {},
   "outputs": [
    {
     "data": {
      "text/plain": [
       "AnnData object with n_obs × n_vars = 24071 × 23400\n",
       "    obs: 'Unnamed: 0', 'nGene', 'nUMI', 'orig.ident', 'identifier', 'res.2', 'grouping', 'cell.type', 'metacelltype', 'spline_cluster', 'n_genes_by_counts', 'log1p_n_genes_by_counts', 'total_counts', 'log1p_total_counts', 'pct_counts_in_top_20_genes', 'total_counts_mt', 'log1p_total_counts_mt', 'pct_counts_mt', 'total_counts_ribo', 'log1p_total_counts_ribo', 'pct_counts_ribo', 'total_counts_hb', 'log1p_total_counts_hb', 'pct_counts_hb', 'outlier', 'mt_outlier', 'doublet_score', 'predicted_doublet', 'is_doublet', 'leiden_0.7', 'leiden', 'leiden_1.3', 'author_annotation', 'batch', 'condition', 'timepoint', 'leiden_0.5', 'manual_celltype_annotation', 'author_annotation_coarse'\n",
       "    var: 'gene_name', 'mt', 'ribo', 'hb', 'n_cells_by_counts', 'mean_counts', 'log1p_mean_counts', 'pct_dropout_by_counts', 'total_counts', 'log1p_total_counts', 'highly_variable', 'means', 'dispersions', 'dispersions_norm'\n",
       "    uns: 'cell.type_colors', 'grouping_colors', 'hvg', 'identifier_colors', 'leiden', 'leiden_0.5_colors', 'leiden_0.7_colors', 'leiden_1.3_colors', 'leiden_colors', 'manual_celltype_annotation_colors', 'metacelltype_colors', 'neighbors', 'orig.ident_colors', 'pca', 'rank_genes_groups', 'scrublet', 'spline_cluster_colors', 'umap'\n",
       "    obsm: 'X_pca', 'X_umap'\n",
       "    varm: 'PCs'\n",
       "    layers: 'log1p_norm', 'raw_counts'\n",
       "    obsp: 'connectivities', 'distances'"
      ]
     },
     "execution_count": 18,
     "metadata": {},
     "output_type": "execute_result"
    }
   ],
   "source": [
    "adata = sc.read(\"../../../data/schiller_whl_anno.h5ad\")\n",
    "adata"
   ]
  },
  {
   "attachments": {},
   "cell_type": "markdown",
   "metadata": {},
   "source": [
    "return raw counts to X:"
   ]
  },
  {
   "cell_type": "code",
   "execution_count": 19,
   "metadata": {},
   "outputs": [
    {
     "data": {
      "text/plain": [
       "<24071x23400 sparse matrix of type '<class 'numpy.float32'>'\n",
       "\twith 10935862 stored elements in Compressed Sparse Row format>"
      ]
     },
     "execution_count": 19,
     "metadata": {},
     "output_type": "execute_result"
    }
   ],
   "source": [
    "adata.X = adata.layers[\"raw_counts\"]\n",
    "adata.X"
   ]
  },
  {
   "cell_type": "code",
   "execution_count": 20,
   "metadata": {},
   "outputs": [
    {
     "data": {
      "text/plain": [
       "Index(['Unnamed: 0', 'nGene', 'nUMI', 'orig.ident', 'identifier', 'res.2',\n",
       "       'grouping', 'cell.type', 'metacelltype', 'spline_cluster',\n",
       "       'n_genes_by_counts', 'log1p_n_genes_by_counts', 'total_counts',\n",
       "       'log1p_total_counts', 'pct_counts_in_top_20_genes', 'total_counts_mt',\n",
       "       'log1p_total_counts_mt', 'pct_counts_mt', 'total_counts_ribo',\n",
       "       'log1p_total_counts_ribo', 'pct_counts_ribo', 'total_counts_hb',\n",
       "       'log1p_total_counts_hb', 'pct_counts_hb', 'outlier', 'mt_outlier',\n",
       "       'doublet_score', 'predicted_doublet', 'is_doublet', 'leiden_0.7',\n",
       "       'leiden', 'leiden_1.3', 'author_annotation', 'batch', 'condition',\n",
       "       'timepoint', 'leiden_0.5', 'manual_celltype_annotation',\n",
       "       'author_annotation_coarse'],\n",
       "      dtype='object')"
      ]
     },
     "execution_count": 20,
     "metadata": {},
     "output_type": "execute_result"
    }
   ],
   "source": [
    "adata.obs.columns"
   ]
  },
  {
   "cell_type": "code",
   "execution_count": 21,
   "metadata": {},
   "outputs": [],
   "source": [
    "obs_keep = [\"batch\", \"author_annotation\", 'manual_celltype_annotation', 'condition',\n",
    "             'timepoint', 'author_annotation_coarse']\n",
    "obs_drop = [c for c in adata.obs.columns if c not in obs_keep]"
   ]
  },
  {
   "cell_type": "code",
   "execution_count": 22,
   "metadata": {},
   "outputs": [],
   "source": [
    "adata.obs.drop(obs_drop, axis=1, inplace=True)"
   ]
  },
  {
   "cell_type": "code",
   "execution_count": 23,
   "metadata": {},
   "outputs": [
    {
     "data": {
      "text/plain": [
       "AnnData object with n_obs × n_vars = 24071 × 23400\n",
       "    obs: 'author_annotation', 'batch', 'condition', 'timepoint', 'manual_celltype_annotation', 'author_annotation_coarse'\n",
       "    var: 'gene_name', 'mt', 'ribo', 'hb', 'n_cells_by_counts', 'mean_counts', 'log1p_mean_counts', 'pct_dropout_by_counts', 'total_counts', 'log1p_total_counts', 'highly_variable', 'means', 'dispersions', 'dispersions_norm'\n",
       "    uns: 'cell.type_colors', 'grouping_colors', 'hvg', 'identifier_colors', 'leiden', 'leiden_0.5_colors', 'leiden_0.7_colors', 'leiden_1.3_colors', 'leiden_colors', 'manual_celltype_annotation_colors', 'metacelltype_colors', 'neighbors', 'orig.ident_colors', 'pca', 'rank_genes_groups', 'scrublet', 'spline_cluster_colors', 'umap'\n",
       "    obsm: 'X_pca', 'X_umap'\n",
       "    varm: 'PCs'\n",
       "    layers: 'log1p_norm', 'raw_counts'\n",
       "    obsp: 'connectivities', 'distances'"
      ]
     },
     "execution_count": 23,
     "metadata": {},
     "output_type": "execute_result"
    }
   ],
   "source": [
    "adata"
   ]
  },
  {
   "attachments": {},
   "cell_type": "markdown",
   "metadata": {},
   "source": [
    "delete everything besides obs and X:"
   ]
  },
  {
   "cell_type": "code",
   "execution_count": 24,
   "metadata": {},
   "outputs": [],
   "source": [
    "del adata.var\n",
    "del adata.uns\n",
    "del adata.obsm\n",
    "del adata.varm\n",
    "del adata.layers\n",
    "del adata.obsp"
   ]
  },
  {
   "cell_type": "code",
   "execution_count": 28,
   "metadata": {},
   "outputs": [
    {
     "data": {
      "text/plain": [
       "AnnData object with n_obs × n_vars = 24071 × 23400\n",
       "    obs: 'author_annotation', 'batch', 'condition', 'timepoint', 'manual_celltype_annotation', 'author_annotation_coarse'"
      ]
     },
     "execution_count": 28,
     "metadata": {},
     "output_type": "execute_result"
    }
   ],
   "source": [
    "adata"
   ]
  },
  {
   "cell_type": "code",
   "execution_count": 27,
   "metadata": {},
   "outputs": [
    {
     "data": {
      "text/plain": [
       "array([[0., 0., 0., ..., 0., 0., 0.],\n",
       "       [1., 0., 0., ..., 0., 0., 0.],\n",
       "       [0., 0., 0., ..., 0., 0., 0.],\n",
       "       ...,\n",
       "       [0., 0., 0., ..., 0., 0., 0.],\n",
       "       [0., 0., 0., ..., 0., 0., 0.],\n",
       "       [0., 0., 0., ..., 0., 0., 0.]], dtype=float32)"
      ]
     },
     "execution_count": 27,
     "metadata": {},
     "output_type": "execute_result"
    }
   ],
   "source": [
    "adata.X.A"
   ]
  },
  {
   "cell_type": "code",
   "execution_count": 29,
   "metadata": {},
   "outputs": [],
   "source": [
    "adata.write(\"../../../data/schiller_whl_for_merge.h5ad\")"
   ]
  },
  {
   "cell_type": "code",
   "execution_count": null,
   "metadata": {},
   "outputs": [],
   "source": []
  }
 ],
 "metadata": {
  "kernelspec": {
   "display_name": "scanpy",
   "language": "python",
   "name": "python3"
  },
  "language_info": {
   "codemirror_mode": {
    "name": "ipython",
    "version": 3
   },
   "file_extension": ".py",
   "mimetype": "text/x-python",
   "name": "python",
   "nbconvert_exporter": "python",
   "pygments_lexer": "ipython3",
   "version": "3.9.16"
  },
  "orig_nbformat": 4
 },
 "nbformat": 4,
 "nbformat_minor": 2
}
