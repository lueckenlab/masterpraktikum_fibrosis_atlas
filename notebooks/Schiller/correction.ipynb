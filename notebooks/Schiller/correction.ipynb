{
 "cells": [
  {
   "cell_type": "code",
   "execution_count": 1,
   "metadata": {},
   "outputs": [],
   "source": [
    "import scanpy as sc\n",
    "import pandas as pd\n",
    "import numpy as np\n",
    "import matplotlib.pyplot as plt\n",
    "import json\n",
    "\n",
    "import seaborn as sns\n",
    "\n",
    "plt.rcParams['figure.figsize'] = (10, 10)\n",
    "sc.settings.set_figure_params(dpi=100, facecolor='white')"
   ]
  },
  {
   "cell_type": "code",
   "execution_count": 2,
   "metadata": {},
   "outputs": [
    {
     "data": {
      "text/plain": [
       "AnnData object with n_obs × n_vars = 24071 × 23400\n",
       "    obs: 'author_annotation', 'batch', 'condition', 'timepoint', 'manual_celltype_annotation', 'author_annotation_coarse'"
      ]
     },
     "execution_count": 2,
     "metadata": {},
     "output_type": "execute_result"
    }
   ],
   "source": [
    "adata = sc.read(\"../../../data/for_merge/schiller_whl_for_merge.h5ad\")\n",
    "adata"
   ]
  },
  {
   "cell_type": "code",
   "execution_count": 4,
   "metadata": {},
   "outputs": [
    {
     "data": {
      "text/plain": [
       "0                  undefined\n",
       "1                        AT2\n",
       "2                Endothelial\n",
       "3                        AT2\n",
       "4                  undefined\n",
       "                ...         \n",
       "29291    Alveolar fibroblast\n",
       "29292                    AT2\n",
       "29293    Alveolar fibroblast\n",
       "29294                    AT2\n",
       "29295              undefined\n",
       "Name: manual_celltype_annotation, Length: 24071, dtype: category\n",
       "Categories (8, object): ['AT1', 'AT2', 'Alveolar fibroblast', 'Dendritic', 'Endothelial', 'Myofibroblasts', 'Neutrophils', 'undefined']"
      ]
     },
     "execution_count": 4,
     "metadata": {},
     "output_type": "execute_result"
    }
   ],
   "source": [
    "adata.obs[\"manual_celltype_annotation\"]"
   ]
  },
  {
   "cell_type": "code",
   "execution_count": 5,
   "metadata": {},
   "outputs": [],
   "source": [
    "adata.obs[\"manual_celltype_annotation\"] = adata.obs[\"manual_celltype_annotation\"].cat.rename_categories({\"undefined\":\"T-cells\", \"Myofibroblasts\":\"Macrophages\"})"
   ]
  },
  {
   "cell_type": "code",
   "execution_count": 6,
   "metadata": {},
   "outputs": [
    {
     "data": {
      "text/plain": [
       "0                    T-cells\n",
       "1                        AT2\n",
       "2                Endothelial\n",
       "3                        AT2\n",
       "4                    T-cells\n",
       "                ...         \n",
       "29291    Alveolar fibroblast\n",
       "29292                    AT2\n",
       "29293    Alveolar fibroblast\n",
       "29294                    AT2\n",
       "29295                T-cells\n",
       "Name: manual_celltype_annotation, Length: 24071, dtype: category\n",
       "Categories (8, object): ['AT1', 'AT2', 'Alveolar fibroblast', 'Dendritic', 'Endothelial', 'Macrophages', 'Neutrophils', 'T-cells']"
      ]
     },
     "execution_count": 6,
     "metadata": {},
     "output_type": "execute_result"
    }
   ],
   "source": [
    "adata.obs[\"manual_celltype_annotation\"]"
   ]
  },
  {
   "cell_type": "code",
   "execution_count": null,
   "metadata": {},
   "outputs": [],
   "source": [
    "adata.write(\"../../../data/schiller_whl_for_merge.h5ad\")"
   ]
  },
  {
   "cell_type": "code",
   "execution_count": null,
   "metadata": {},
   "outputs": [],
   "source": []
  }
 ],
 "metadata": {
  "kernelspec": {
   "display_name": "scanpy_r",
   "language": "python",
   "name": "python3"
  },
  "language_info": {
   "codemirror_mode": {
    "name": "ipython",
    "version": 3
   },
   "file_extension": ".py",
   "mimetype": "text/x-python",
   "name": "python",
   "nbconvert_exporter": "python",
   "pygments_lexer": "ipython3",
   "version": "3.9.16"
  },
  "orig_nbformat": 4
 },
 "nbformat": 4,
 "nbformat_minor": 2
}
