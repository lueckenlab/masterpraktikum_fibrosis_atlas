{
 "cells": [
  {
   "cell_type": "code",
   "execution_count": 2,
   "id": "ab906320-98d2-471f-a187-40a1d3c4a869",
   "metadata": {
    "tags": []
   },
   "outputs": [],
   "source": [
    "import scanpy as sc\n",
    "import pandas as pd\n",
    "import numpy as np\n",
    "import seaborn as sns\n",
    "import matplotlib.pyplot as plt\n",
    "import anndata as ad\n",
    "from scipy import sparse\n",
    "from anndata import AnnData"
   ]
  },
  {
   "cell_type": "markdown",
   "id": "2d6e7830-7463-441d-ae36-174f6c9adf59",
   "metadata": {},
   "source": [
    "## Load Anndata and deprecate to bare minimum"
   ]
  },
  {
   "cell_type": "code",
   "execution_count": 2,
   "id": "9b59abe7-abad-4d87-aee2-f4b302433a19",
   "metadata": {
    "tags": []
   },
   "outputs": [],
   "source": [
    "adata = sc.read(\"/mnt/biocluster/projekte/Corona2020/ideas_leonie_pohl/tempDir/merged_data.h5ad\")"
   ]
  },
  {
   "cell_type": "markdown",
   "id": "49186070-83a2-4bb8-a8e9-7741bbeca5c4",
   "metadata": {},
   "source": [
    "Needed obs columns:\n",
    "assay_ontology_term_id    categorical with str categories. This MUST be an EFO term    (\"EFO:0030080\" and \"EFO:0008722\" for Schiller)\n",
    "cell_type_ontology_term_id    categorical with str categories. This MUST be a CL term.    \"CL_0000548\"\n",
    "development_stage_ontology_term_id     categorical with str categories. If unavailable, this MUST be \"unknown\".    \"unknown\"\n",
    "disease_ontology_term_id    categorical with str categories. This MUST be a MONDO term or \"PATO:0000461\" for normal or healthy.    \"MONDO:0002771\"\n",
    "donor_id    categorical with str categories. This MUST be free-text that identifies a unique individual that data were derived from.    =batch\n",
    "is_primary_data    bool. This MUST be True if this is the canonical instance of this cellular observation and False if not.    True\n",
    "organism_ontology_term_id    categorical with str categories. This MUST be a child of NCBITaxon:33208 for Metazoa.    NCBITaxon:10090\n",
    "self_reported_ethnicity_ontology_term_id    Otherwise, for all other organisms this MUST be \"na\".    \"na\"\n",
    "sex_ontology_term_id    categorical with str categories. This MUST be a child of PATO:0001894 for phenotypic sex or \"unknown\" if unavailable.    \"unknown\"\n",
    "suspension_type    \"cell\" or \"nucleus\"    \"cell\"\n",
    "tissue_ontology_term_id    categorical with str categories. This MUST be the UBERON or CL term    \"UBERON:0002048\"\n",
    "assay    human readable name assigned to the    \"10x transcription profiling\" or \"Drop-seq\"\n",
    "cell_type    human readable name assigned to the cell_type_ontology_term_id    =coarse_harmonized_anno\n",
    "development_stage    \"unknown\"\n",
    "disease     human-readable name assigned to the value of disease_ontology_term_id    \"pulmonary fibrosis\"\n",
    "organism    \"Mus musculus\"\n",
    "self_reported_ethnicity    \"na\"\n",
    "sex    \"unknown\"\n",
    "tissue    \"lung\""
   ]
  },
  {
   "cell_type": "code",
   "execution_count": 3,
   "id": "651c3cb1-7496-471b-8631-4559c382f71b",
   "metadata": {
    "tags": []
   },
   "outputs": [],
   "source": [
    "#set X to raw counts\n",
    "adata.X = adata.layers[\"raw_counts\"]"
   ]
  },
  {
   "cell_type": "code",
   "execution_count": 4,
   "id": "90fcb4a5-1cd5-4df7-a969-6e5ee8a38475",
   "metadata": {
    "tags": []
   },
   "outputs": [],
   "source": [
    "unneededobs = ['author_annotation', 'scDblFinder_score', 'scDblFinder_class', 'manual_celltype_annotation', 'doublet_score', 'predicted_doublet', 'timepoint','author_annotation_coarse', 'n_genes_by_counts', 'log1p_n_genes_by_counts', 'total_counts', 'log1p_total_counts', 'pct_counts_in_top_20_genes', 'total_counts_mt', 'log1p_total_counts_mt', 'pct_counts_mt', 'total_counts_ribo', 'log1p_total_counts_ribo', 'pct_counts_ribo', 'total_counts_hb', 'log1p_total_counts_hb', 'pct_counts_hb', 'low_hierarchy', 'high_hierarchy',  'low_hierarchy_fine', 'high_hierarchy_fine', 'low_hierarchy_coarse', 'high_hierarchy_coarse']"
   ]
  },
  {
   "cell_type": "code",
   "execution_count": 5,
   "id": "6d0d18fe-86a9-45db-9af0-dd7f73a2b2c8",
   "metadata": {
    "tags": []
   },
   "outputs": [],
   "source": [
    "adata.obs = adata.obs.drop(labels = unneededobs, axis = 1)"
   ]
  },
  {
   "cell_type": "code",
   "execution_count": 6,
   "id": "80642aab-f84d-42c3-8e47-d47139629c35",
   "metadata": {
    "tags": []
   },
   "outputs": [
    {
     "data": {
      "text/html": [
       "<div>\n",
       "<style scoped>\n",
       "    .dataframe tbody tr th:only-of-type {\n",
       "        vertical-align: middle;\n",
       "    }\n",
       "\n",
       "    .dataframe tbody tr th {\n",
       "        vertical-align: top;\n",
       "    }\n",
       "\n",
       "    .dataframe thead th {\n",
       "        text-align: right;\n",
       "    }\n",
       "</style>\n",
       "<table border=\"1\" class=\"dataframe\">\n",
       "  <thead>\n",
       "    <tr style=\"text-align: right;\">\n",
       "      <th></th>\n",
       "      <th>batch</th>\n",
       "      <th>condition</th>\n",
       "      <th>dataset</th>\n",
       "      <th>fibrotic/control</th>\n",
       "      <th>harmonized_anno</th>\n",
       "      <th>coarse_harmonized_anno</th>\n",
       "    </tr>\n",
       "  </thead>\n",
       "  <tbody>\n",
       "    <tr>\n",
       "      <th>AAACCTGAGGACATTA-1_xie</th>\n",
       "      <td>1_xie</td>\n",
       "      <td>untreated</td>\n",
       "      <td>xie</td>\n",
       "      <td>control</td>\n",
       "      <td>Myofibroblasts</td>\n",
       "      <td>Myofibroblasts</td>\n",
       "    </tr>\n",
       "    <tr>\n",
       "      <th>AAACCTGCAGTCGTGC-1_xie</th>\n",
       "      <td>1_xie</td>\n",
       "      <td>untreated</td>\n",
       "      <td>xie</td>\n",
       "      <td>control</td>\n",
       "      <td>Peribronchial fibroblasts</td>\n",
       "      <td>Fibroblasts</td>\n",
       "    </tr>\n",
       "    <tr>\n",
       "      <th>AAACCTGCATGAAGTA-1_xie</th>\n",
       "      <td>1_xie</td>\n",
       "      <td>untreated</td>\n",
       "      <td>xie</td>\n",
       "      <td>control</td>\n",
       "      <td>Alveolar macrophages</td>\n",
       "      <td>Alveolar macrophages</td>\n",
       "    </tr>\n",
       "    <tr>\n",
       "      <th>AAACCTGTCTCGCATC-1_xie</th>\n",
       "      <td>1_xie</td>\n",
       "      <td>untreated</td>\n",
       "      <td>xie</td>\n",
       "      <td>control</td>\n",
       "      <td>Peribronchial fibroblasts</td>\n",
       "      <td>Fibroblasts</td>\n",
       "    </tr>\n",
       "    <tr>\n",
       "      <th>AAACGGGTCCTAGAAC-1_xie</th>\n",
       "      <td>1_xie</td>\n",
       "      <td>untreated</td>\n",
       "      <td>xie</td>\n",
       "      <td>control</td>\n",
       "      <td>Peribronchial fibroblasts</td>\n",
       "      <td>Fibroblasts</td>\n",
       "    </tr>\n",
       "    <tr>\n",
       "      <th>...</th>\n",
       "      <td>...</td>\n",
       "      <td>...</td>\n",
       "      <td>...</td>\n",
       "      <td>...</td>\n",
       "      <td>...</td>\n",
       "      <td>...</td>\n",
       "    </tr>\n",
       "    <tr>\n",
       "      <th>29291_schiller</th>\n",
       "      <td>muc4657_schiller</td>\n",
       "      <td>untreated</td>\n",
       "      <td>schiller</td>\n",
       "      <td>control</td>\n",
       "      <td>Alveolar fibroblasts</td>\n",
       "      <td>Fibroblasts</td>\n",
       "    </tr>\n",
       "    <tr>\n",
       "      <th>29292_schiller</th>\n",
       "      <td>muc4657_schiller</td>\n",
       "      <td>untreated</td>\n",
       "      <td>schiller</td>\n",
       "      <td>control</td>\n",
       "      <td>AT1/2</td>\n",
       "      <td>Epithelial</td>\n",
       "    </tr>\n",
       "    <tr>\n",
       "      <th>29293_schiller</th>\n",
       "      <td>muc4657_schiller</td>\n",
       "      <td>untreated</td>\n",
       "      <td>schiller</td>\n",
       "      <td>control</td>\n",
       "      <td>Alveolar fibroblasts</td>\n",
       "      <td>Fibroblasts</td>\n",
       "    </tr>\n",
       "    <tr>\n",
       "      <th>29294_schiller</th>\n",
       "      <td>muc4657_schiller</td>\n",
       "      <td>untreated</td>\n",
       "      <td>schiller</td>\n",
       "      <td>control</td>\n",
       "      <td>AT1/2</td>\n",
       "      <td>Epithelial</td>\n",
       "    </tr>\n",
       "    <tr>\n",
       "      <th>29295_schiller</th>\n",
       "      <td>muc4657_schiller</td>\n",
       "      <td>untreated</td>\n",
       "      <td>schiller</td>\n",
       "      <td>control</td>\n",
       "      <td>T-cells</td>\n",
       "      <td>T-cells</td>\n",
       "    </tr>\n",
       "  </tbody>\n",
       "</table>\n",
       "<p>93103 rows × 6 columns</p>\n",
       "</div>"
      ],
      "text/plain": [
       "                                   batch  condition   dataset   \n",
       "AAACCTGAGGACATTA-1_xie             1_xie  untreated       xie  \\\n",
       "AAACCTGCAGTCGTGC-1_xie             1_xie  untreated       xie   \n",
       "AAACCTGCATGAAGTA-1_xie             1_xie  untreated       xie   \n",
       "AAACCTGTCTCGCATC-1_xie             1_xie  untreated       xie   \n",
       "AAACGGGTCCTAGAAC-1_xie             1_xie  untreated       xie   \n",
       "...                                  ...        ...       ...   \n",
       "29291_schiller          muc4657_schiller  untreated  schiller   \n",
       "29292_schiller          muc4657_schiller  untreated  schiller   \n",
       "29293_schiller          muc4657_schiller  untreated  schiller   \n",
       "29294_schiller          muc4657_schiller  untreated  schiller   \n",
       "29295_schiller          muc4657_schiller  untreated  schiller   \n",
       "\n",
       "                       fibrotic/control            harmonized_anno   \n",
       "AAACCTGAGGACATTA-1_xie          control             Myofibroblasts  \\\n",
       "AAACCTGCAGTCGTGC-1_xie          control  Peribronchial fibroblasts   \n",
       "AAACCTGCATGAAGTA-1_xie          control       Alveolar macrophages   \n",
       "AAACCTGTCTCGCATC-1_xie          control  Peribronchial fibroblasts   \n",
       "AAACGGGTCCTAGAAC-1_xie          control  Peribronchial fibroblasts   \n",
       "...                                 ...                        ...   \n",
       "29291_schiller                  control       Alveolar fibroblasts   \n",
       "29292_schiller                  control                      AT1/2   \n",
       "29293_schiller                  control       Alveolar fibroblasts   \n",
       "29294_schiller                  control                      AT1/2   \n",
       "29295_schiller                  control                    T-cells   \n",
       "\n",
       "                       coarse_harmonized_anno  \n",
       "AAACCTGAGGACATTA-1_xie         Myofibroblasts  \n",
       "AAACCTGCAGTCGTGC-1_xie            Fibroblasts  \n",
       "AAACCTGCATGAAGTA-1_xie   Alveolar macrophages  \n",
       "AAACCTGTCTCGCATC-1_xie            Fibroblasts  \n",
       "AAACGGGTCCTAGAAC-1_xie            Fibroblasts  \n",
       "...                                       ...  \n",
       "29291_schiller                    Fibroblasts  \n",
       "29292_schiller                     Epithelial  \n",
       "29293_schiller                    Fibroblasts  \n",
       "29294_schiller                     Epithelial  \n",
       "29295_schiller                        T-cells  \n",
       "\n",
       "[93103 rows x 6 columns]"
      ]
     },
     "execution_count": 6,
     "metadata": {},
     "output_type": "execute_result"
    }
   ],
   "source": [
    "adata.obs"
   ]
  },
  {
   "cell_type": "markdown",
   "id": "442d7282-36cd-44e5-b6e5-a065b1f936ba",
   "metadata": {},
   "source": [
    "## Set obs columns according to CELLxGENE schema"
   ]
  },
  {
   "cell_type": "code",
   "execution_count": 7,
   "id": "9481b93b-e08d-4de3-a200-e13574fbc211",
   "metadata": {
    "tags": []
   },
   "outputs": [],
   "source": [
    "#assay_ontology_term_id    categorical with str categories. This MUST be an EFO term    (\"EFO:0030080\" and \"EFO:0008722\" for Schiller)\n",
    "adata.obs.loc[(adata.obs['dataset'] != 'schiller'),\n",
    "       'assay_ontology_term_id'] = \"EFO:0030080\"\n",
    "adata.obs.loc[(adata.obs['dataset'] == 'schiller'),\n",
    "       'assay_ontology_term_id'] = \"EFO:0008722\""
   ]
  },
  {
   "cell_type": "code",
   "execution_count": 8,
   "id": "524af4fd-a971-4cd5-8369-461ab814e52e",
   "metadata": {
    "tags": []
   },
   "outputs": [],
   "source": [
    "#assay    human readable name assigned to the    \"10x transcription profiling\" or \"Drop-seq\"\n",
    "adata.obs.loc[(adata.obs['dataset'] != 'schiller'),\n",
    "       'assay'] = \"10x transcription profiling\"\n",
    "adata.obs.loc[(adata.obs['dataset'] == 'schiller'),\n",
    "       'assay'] = \"Drop-seq\""
   ]
  },
  {
   "cell_type": "code",
   "execution_count": 9,
   "id": "dabfa9e8-015e-435a-8aed-7bf1f632423d",
   "metadata": {
    "tags": []
   },
   "outputs": [],
   "source": [
    "#cell_type_ontology_term_id    categorical with str categories. This MUST be a CL term.    \"CL_0000548\"\n",
    "#cell_type    human readable name assigned to the cell_type_ontology_term_id    =coarse_harmonized_anno\n",
    "adata.obs['cell_type_ontology_term_id'] = \"CL_0000548\"\n",
    "adata.obs['cell_type'] = adata.obs[\"coarse_harmonized_anno\"]"
   ]
  },
  {
   "cell_type": "code",
   "execution_count": 10,
   "id": "64cf7efc-d176-4880-a6d3-7dcb8f2ca59f",
   "metadata": {
    "tags": []
   },
   "outputs": [],
   "source": [
    "#development_stage_ontology_term_id     categorical with str categories. If unavailable, this MUST be \"unknown\".    \"unknown\"\n",
    "#development_stage    \"unknown\"\n",
    "adata.obs['development_stage_ontology_term_id'] = \"unknown\"\n",
    "adata.obs['development_stage'] = \"unknown\""
   ]
  },
  {
   "cell_type": "code",
   "execution_count": 11,
   "id": "00d8eba8-0f5b-4646-a077-171ef912c216",
   "metadata": {
    "tags": []
   },
   "outputs": [],
   "source": [
    "#disease_ontology_term_id    categorical with str categories. This MUST be a MONDO term or \"PATO:0000461\" for normal or healthy.    \"MONDO:0002771\"\n",
    "#disease     human-readable name assigned to the value of disease_ontology_term_id    \"pulmonary fibrosis\"\n",
    "adata.obs['disease_ontology_term_id'] = \"MONDO:0002771\"\n",
    "adata.obs['disease'] = \"pulmonary fibrosis\""
   ]
  },
  {
   "cell_type": "code",
   "execution_count": 12,
   "id": "01b02357-a697-4849-9bb5-709ea20901c8",
   "metadata": {
    "tags": []
   },
   "outputs": [],
   "source": [
    "#donor_id    categorical with str categories. This MUST be free-text that identifies a unique individual that data were derived from.    =batch\n",
    "adata.obs['donor_id'] = adata.obs[\"batch\"]"
   ]
  },
  {
   "cell_type": "code",
   "execution_count": 13,
   "id": "486ab30c-e4d6-4dba-84a0-be50d39cfc13",
   "metadata": {
    "tags": []
   },
   "outputs": [],
   "source": [
    "#is_primary_data    bool. This MUST be True if this is the canonical instance of this cellular observation and False if not.    True\n",
    "adata.obs['is_primary_data'] = True"
   ]
  },
  {
   "cell_type": "code",
   "execution_count": 14,
   "id": "e1da4d4a-c504-4e0a-8439-36aca2770b5d",
   "metadata": {
    "tags": []
   },
   "outputs": [],
   "source": [
    "#organism_ontology_term_id    categorical with str categories. This MUST be a child of NCBITaxon:33208 for Metazoa.    NCBITaxon:10090\n",
    "#organism    \"Mus musculus\"\n",
    "adata.obs['organism_ontology_term_id'] = \"NCBITaxon:10090\"\n",
    "adata.obs['organism'] = \"Mus musculus\""
   ]
  },
  {
   "cell_type": "code",
   "execution_count": 15,
   "id": "da72bac5-6f89-4aa9-bb61-70312a0a82d0",
   "metadata": {
    "tags": []
   },
   "outputs": [],
   "source": [
    "#self_reported_ethnicity_ontology_term_id    Otherwise, for all other organisms this MUST be \"na\".    \"na\"\n",
    "#self_reported_ethnicity    \"na\"\n",
    "adata.obs['self_reported_ethnicity_ontology_term_id'] = \"na\"\n",
    "adata.obs['self_reported_ethnicity'] = \"na\""
   ]
  },
  {
   "cell_type": "code",
   "execution_count": 16,
   "id": "ee708950-021a-4ad6-a41c-73c837dd8715",
   "metadata": {
    "tags": []
   },
   "outputs": [],
   "source": [
    "#sex_ontology_term_id    categorical with str categories. This MUST be a child of PATO:0001894 for phenotypic sex or \"unknown\" if unavailable.    \"unknown\"\n",
    "#sex    \"unknown\"\n",
    "adata.obs['sex_ontology_term_id'] = \"unknown\"\n",
    "adata.obs['sex'] = \"unknown\""
   ]
  },
  {
   "cell_type": "code",
   "execution_count": 17,
   "id": "f3a1675d-2e9f-4f8e-84d9-604436b54bb6",
   "metadata": {
    "tags": []
   },
   "outputs": [],
   "source": [
    "#suspension_type    \"cell\" or \"nucleus\"    \"cell\"\n",
    "adata.obs['suspension_type'] = \"cell\""
   ]
  },
  {
   "cell_type": "code",
   "execution_count": 18,
   "id": "d160e679-16d1-4ced-a663-4b14a2925ae6",
   "metadata": {
    "tags": []
   },
   "outputs": [],
   "source": [
    "#tissue_ontology_term_id    categorical with str categories. This MUST be the UBERON or CL term    \"UBERON:0002048\"\n",
    "#tissue    \"lung\"\n",
    "adata.obs['tissue_ontology_term_id'] = \"UBERON:0002048\"\n",
    "adata.obs['tissue'] = \"lung\""
   ]
  },
  {
   "cell_type": "markdown",
   "id": "478545a8-eb60-4b26-b4fe-ab5463e9726a",
   "metadata": {},
   "source": [
    "## Make output look like this:\n",
    ".X raw counts, sparse format\n",
    "\n",
    ".uns['meta'] metadata from TSV file\n",
    "\n",
    ".obs columns from CELLxGENE schema 3.0.0 and a subset of information in .uns['meta'] from EXTRA_COLUMNS from scripts/utils.py\n",
    "\n",
    ".obs['dataset'], .uns['dataset'] name of task/dataset\n",
    "\n",
    ".obs['organ'], .uns['organ'] organ\n",
    "\n",
    ".obs['donor'] donor ID\n",
    "\n",
    ".obs['sample'] sample ID (inferred from input TSV)\n",
    "\n",
    ".obs['barcode'] cell barcodes as declared in index\n",
    "\n",
    ".obs['author_annotation'] author annotation under the author_annotation column of the input TSV\n",
    "\n",
    ".var gene information as specified in CELLxGENE schema 3.0.0  -> we didn´t do this, possible error source\n",
    "\n",
    ".obs.index unique cell identifiers e.g. dataset + numerical index"
   ]
  },
  {
   "cell_type": "code",
   "execution_count": 19,
   "id": "d6166a93-a8d2-471f-8e49-33bfc7301d2e",
   "metadata": {
    "tags": []
   },
   "outputs": [],
   "source": [
    "adata.obs['organ'] = adata.obs[\"tissue\"]\n",
    "adata.obs['donor'] = adata.obs[\"donor_id\"]\n",
    "adata.obs['sample'] = adata.obs[\"donor_id\"]\n",
    "adata.obs['barcode'] = adata.obs.index\n",
    "adata.obs['author_annotation'] = adata.obs['coarse_harmonized_anno']"
   ]
  },
  {
   "cell_type": "code",
   "execution_count": 22,
   "id": "3521248d-af7e-409d-b974-b8aebde6c798",
   "metadata": {
    "tags": []
   },
   "outputs": [
    {
     "data": {
      "text/plain": [
       "AnnData object with n_obs × n_vars = 93103 × 32317\n",
       "    obs: 'batch', 'condition', 'dataset', 'fibrotic/control', 'harmonized_anno', 'coarse_harmonized_anno', 'assay_ontology_term_id', 'assay', 'cell_type_ontology_term_id', 'cell_type', 'development_stage_ontology_term_id', 'development_stage', 'disease_ontology_term_id', 'disease', 'donor_id', 'is_primary_data', 'organism_ontology_term_id', 'organism', 'self_reported_ethnicity_ontology_term_id', 'self_reported_ethnicity', 'sex_ontology_term_id', 'sex', 'suspension_type', 'tissue_ontology_term_id', 'tissue', 'organ', 'donor', 'sample', 'barcode', 'author_annotation'\n",
       "    var: 'mt', 'ribo', 'hb', 'n_cells_by_counts', 'mean_counts', 'log1p_mean_counts', 'pct_dropout_by_counts', 'total_counts', 'log1p_total_counts', 'highly_variable', 'means', 'dispersions', 'dispersions_norm', 'highly_variable_nbatches', 'highly_variable_intersection'\n",
       "    uns: 'batch_colors', 'dataset_colors', 'high_hierarchy_colors', 'hvg', 'log1p', 'low_hierarchy_colors', 'manual_celltype_annotation_colors', 'neighbors', 'pca', 'umap'\n",
       "    obsm: 'X_pca', 'X_umap'\n",
       "    varm: 'PCs'\n",
       "    layers: 'log1p_norm', 'raw_counts'\n",
       "    obsp: 'connectivities', 'distances'"
      ]
     },
     "execution_count": 22,
     "metadata": {},
     "output_type": "execute_result"
    }
   ],
   "source": [
    "#evtl noch TODO\n",
    "adata.var[\"counts\"]\n",
    "- counts\n",
    "        - normalize\n",
    "        - highly_variable_genes"
   ]
  },
  {
   "cell_type": "code",
   "execution_count": 20,
   "id": "e4241225-40e5-42d5-9a6b-84e6a00c347d",
   "metadata": {
    "tags": []
   },
   "outputs": [],
   "source": [
    "adata.write(\"/mnt/biocluster/projekte/Corona2020/ideas_leonie_pohl/tempDir/integration_ready_data.h5ad\")"
   ]
  },
  {
   "cell_type": "code",
   "execution_count": 3,
   "id": "115092c4-92b3-4936-ba3b-13385339a743",
   "metadata": {
    "tags": []
   },
   "outputs": [],
   "source": [
    "adata=sc.read(\"/mnt/biocluster/projekte/Corona2020/ideas_leonie_pohl/tempDir/integration_ready_data.h5ad\")"
   ]
  },
  {
   "cell_type": "code",
   "execution_count": 15,
   "id": "12561efe-f2f6-4eb2-94bb-ba36691bc242",
   "metadata": {
    "tags": []
   },
   "outputs": [],
   "source": [
    "preprocessing = {\"hvg\":2007, \"scaled\":True}\n",
    "adata.uns['preprocessing']=preprocessing"
   ]
  },
  {
   "cell_type": "code",
   "execution_count": 20,
   "id": "602e4810-9ebd-40bf-b47c-eeabb5e073e1",
   "metadata": {
    "tags": []
   },
   "outputs": [],
   "source": [
    "adata.layers['normcounts'] = adata.layers['log1p_norm']"
   ]
  },
  {
   "cell_type": "code",
   "execution_count": 23,
   "id": "aa72bfaa-278e-4e83-b658-70817bf65bd9",
   "metadata": {
    "tags": []
   },
   "outputs": [],
   "source": [
    "adata.uns['dataset']=\"integration_ready_data\""
   ]
  },
  {
   "cell_type": "code",
   "execution_count": 24,
   "id": "5ce29fc9-8520-4779-a69c-0cbd31764d1b",
   "metadata": {
    "tags": []
   },
   "outputs": [],
   "source": [
    "adata.write(\"/mnt/biocluster/projekte/Corona2020/ideas_leonie_pohl/tempDir/integration_ready_data.h5ad\")"
   ]
  }
 ],
 "metadata": {
  "kernelspec": {
   "display_name": "Python 3 (ipykernel)",
   "language": "python",
   "name": "python3"
  },
  "language_info": {
   "codemirror_mode": {
    "name": "ipython",
    "version": 3
   },
   "file_extension": ".py",
   "mimetype": "text/x-python",
   "name": "python",
   "nbconvert_exporter": "python",
   "pygments_lexer": "ipython3",
   "version": "3.9.16"
  }
 },
 "nbformat": 4,
 "nbformat_minor": 5
}
