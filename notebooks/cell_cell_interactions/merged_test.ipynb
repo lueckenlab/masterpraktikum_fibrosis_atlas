{
 "cells": [
  {
   "cell_type": "code",
   "execution_count": 1,
   "metadata": {},
   "outputs": [],
   "source": [
    "# python libs\n",
    "import numpy as np\n",
    "import pandas as pd\n",
    "import matplotlib.pyplot as plt\n",
    "import seaborn as sns\n",
    "\n",
    "import scanpy as sc\n",
    "import liana as li\n",
    "from liana.method import rank_aggregate\n",
    "#import decoupler as dc\n",
    "\n",
    "import session_info"
   ]
  },
  {
   "cell_type": "code",
   "execution_count": 2,
   "metadata": {},
   "outputs": [],
   "source": [
    "# Setting up R dependencies\n",
    "import anndata2ri\n",
    "import rpy2\n",
    "from rpy2.robjects import r\n",
    "import random\n",
    "\n",
    "anndata2ri.activate()\n",
    "\n",
    "%load_ext rpy2.ipython"
   ]
  },
  {
   "cell_type": "code",
   "execution_count": 3,
   "metadata": {},
   "outputs": [
    {
     "data": {
      "text/plain": [
       "AnnData object with n_obs × n_vars = 87871 × 23767\n",
       "    obs: 'author_annotation', 'scDblFinder_score', 'scDblFinder_class', 'manual_celltype_annotation', 'batch', 'condition', 'doublet_score', 'predicted_doublet', 'timepoint', 'author_annotation_coarse', 'dataset', 'fibrotic/control', 'n_genes_by_counts', 'log1p_n_genes_by_counts', 'total_counts', 'log1p_total_counts', 'pct_counts_in_top_20_genes', 'total_counts_mt', 'log1p_total_counts_mt', 'pct_counts_mt', 'total_counts_ribo', 'log1p_total_counts_ribo', 'pct_counts_ribo', 'total_counts_hb', 'log1p_total_counts_hb', 'pct_counts_hb', 'low_hierarchy', 'high_hierarchy', 'harmonized_anno', 'coarse_harmonized_anno', 'low_hierarchy_fine', 'high_hierarchy_fine', 'low_hierarchy_coarse', 'high_hierarchy_coarse'\n",
       "    var: 'mt', 'ribo', 'hb', 'n_cells_by_counts', 'mean_counts', 'log1p_mean_counts', 'pct_dropout_by_counts', 'total_counts', 'log1p_total_counts', 'highly_variable', 'means', 'dispersions', 'dispersions_norm', 'highly_variable_nbatches', 'highly_variable_intersection', 'n_counts'\n",
       "    uns: 'batch_colors', 'dataset_colors', 'high_hierarchy_colors', 'hvg', 'log1p', 'low_hierarchy_colors', 'manual_celltype_annotation_colors', 'neighbors', 'pca', 'umap'\n",
       "    obsm: 'X_pca', 'X_umap'\n",
       "    varm: 'PCs'\n",
       "    layers: 'log1p_norm', 'raw_counts'\n",
       "    obsp: 'connectivities', 'distances'"
      ]
     },
     "execution_count": 3,
     "metadata": {},
     "output_type": "execute_result"
    }
   ],
   "source": [
    "file = \"merged_data.h5ad\"\n",
    "adata = sc.read(\"../../../data/merged_data.h5ad\")\n",
    "adata"
   ]
  },
  {
   "cell_type": "code",
   "execution_count": 4,
   "metadata": {},
   "outputs": [],
   "source": [
    "# data already log1p normalized\n",
    "adata.X = adata.layers[\"log1p_norm\"]\n",
    "adatas = dict()\n",
    "# make sure the format is correct\n",
    "adata.obs[\"batch\"] = adata.obs[\"batch\"].astype(\"category\")\n",
    "adata.obs[\"manual_celltype_annotation\"] = adata.obs[\"manual_celltype_annotation\"].astype(\"category\")"
   ]
  },
  {
   "cell_type": "code",
   "execution_count": 6,
   "metadata": {},
   "outputs": [
    {
     "data": {
      "text/plain": [
       "['untreated1', 'asbestos', 'bleomycin']"
      ]
     },
     "execution_count": 6,
     "metadata": {},
     "output_type": "execute_result"
    }
   ],
   "source": [
    "adata.obs[\"condition\"] = adata.obs[\"condition\"].replace({\"untreated\":\"untreated1\"})\n",
    "#adata.obs[\"condition\"] = adata.obs[\"condition\"].astype(\"category\")\n",
    "conditions = list(adata.obs.condition.cat.categories)\n",
    "conditions"
   ]
  },
  {
   "cell_type": "code",
   "execution_count": 7,
   "metadata": {},
   "outputs": [
    {
     "name": "stdout",
     "output_type": "stream",
     "text": [
      "Running rank_aggregate on merged_data, untreated1\n",
      "Using `.X`!\n",
      "1050 features of mat are empty, they will be removed.\n"
     ]
    },
    {
     "name": "stderr",
     "output_type": "stream",
     "text": [
      "/home/d/danilina/mambaforge/envs/scanpy_r/lib/python3.9/site-packages/pandas/core/indexing.py:1761: ImplicitModificationWarning: Trying to modify attribute `.obs` of view, initializing view as actual.\n"
     ]
    },
    {
     "name": "stdout",
     "output_type": "stream",
     "text": [
      "0.09 of entities in the resource are missing from the data.\n",
      "Generating ligand-receptor stats for 37855 samples and 22717 features\n",
      "Assuming that counts were `natural` log-normalized!\n",
      "Running CellPhoneDB\n"
     ]
    },
    {
     "name": "stderr",
     "output_type": "stream",
     "text": [
      "100%|██████████| 1000/1000 [00:36<00:00, 27.05it/s]\n"
     ]
    },
    {
     "name": "stdout",
     "output_type": "stream",
     "text": [
      "Running Connectome\n",
      "Running log2FC\n",
      "Running NATMI\n",
      "Running SingleCellSignalR\n",
      "Running CellChat\n"
     ]
    },
    {
     "name": "stderr",
     "output_type": "stream",
     "text": [
      "100%|██████████| 1000/1000 [16:33<00:00,  1.01it/s]\n",
      "/home/d/danilina/mambaforge/envs/scanpy_r/lib/python3.9/site-packages/plotnine/ggplot.py:587: PlotnineWarning: Saving 46 x 26 in image.\n",
      "/home/d/danilina/mambaforge/envs/scanpy_r/lib/python3.9/site-packages/plotnine/ggplot.py:588: PlotnineWarning: Filename: ./results/merged_data_untreated1_liana.png\n"
     ]
    }
   ],
   "source": [
    "for cond in conditions[:1]:\n",
    "    adatas[cond] = adata[adata.obs[\"condition\"]==cond].copy()\n",
    "\n",
    "    # run liana consensus\n",
    "    print(\"Running rank_aggregate on \"+file[:-5]+\", \"+cond)\n",
    "    rank_aggregate(\n",
    "        adatas[cond], groupby=\"manual_celltype_annotation\", resource_name = 'mouseconsensus',\n",
    "        return_all_lrs=True, use_raw=False, verbose=True)\n",
    "    liana_res = adatas[cond].uns[\"liana_res\"].drop_duplicates([\"ligand_complex\", \"receptor_complex\"]).sort_values([\"magnitude_rank\", \"specificity_rank\"],)\n",
    "    liana_res.to_csv(\"./results/\"+file[:-5]+\"_\"+cond+\"_liana.csv\")\n",
    "    adatas[cond].write(\"../../../data/liana_anndatas/\"+file[:-5]+\"_\"+cond+\"_liana.h5ad\", compression='gzip')\n",
    "    fig = li.pl.dotplot(\n",
    "        adata=adatas[cond],\n",
    "        colour=\"magnitude_rank\",\n",
    "        size=\"specificity_rank\",\n",
    "        inverse_colour=True,  # we inverse sign since we want small p-values to have large sizes\n",
    "        inverse_size=True,\n",
    "        # since the rank_aggregate can also be interpreted as a probability distribution\n",
    "        # we can again filter them according to their specificity significance\n",
    "        # yet here the interactions are filtered according to\n",
    "        # how consistently highly-ranked is their specificity across the methods\n",
    "        filterby=\"specificity_rank\",\n",
    "        filter_lambda=lambda x: x <= 0.05,\n",
    "        # again, we can also further order according to magnitude\n",
    "        orderby=\"magnitude_rank\",\n",
    "        orderby_ascending=True,  # prioritize those with lowest values\n",
    "        top_n=20,  # and we want to keep only the top 20 interactions\n",
    "        figure_size=(46, 26),\n",
    "        size_range=(1, 6),\n",
    "        return_fig=True\n",
    "    )   \n",
    "    fig.save(\"./results/\"+file[:-5]+\"_\"+cond+\"_liana.png\", dpi=500, limitsize=False)"
   ]
  },
  {
   "cell_type": "code",
   "execution_count": 8,
   "metadata": {},
   "outputs": [
    {
     "data": {
      "text/plain": [
       "{'untreated1': AnnData object with n_obs × n_vars = 37855 × 23767\n",
       "     obs: 'author_annotation', 'scDblFinder_score', 'scDblFinder_class', 'manual_celltype_annotation', 'batch', 'condition', 'doublet_score', 'predicted_doublet', 'timepoint', 'author_annotation_coarse', 'dataset', 'fibrotic/control', 'n_genes_by_counts', 'log1p_n_genes_by_counts', 'total_counts', 'log1p_total_counts', 'pct_counts_in_top_20_genes', 'total_counts_mt', 'log1p_total_counts_mt', 'pct_counts_mt', 'total_counts_ribo', 'log1p_total_counts_ribo', 'pct_counts_ribo', 'total_counts_hb', 'log1p_total_counts_hb', 'pct_counts_hb', 'low_hierarchy', 'high_hierarchy', 'harmonized_anno', 'coarse_harmonized_anno', 'low_hierarchy_fine', 'high_hierarchy_fine', 'low_hierarchy_coarse', 'high_hierarchy_coarse'\n",
       "     var: 'mt', 'ribo', 'hb', 'n_cells_by_counts', 'mean_counts', 'log1p_mean_counts', 'pct_dropout_by_counts', 'total_counts', 'log1p_total_counts', 'highly_variable', 'means', 'dispersions', 'dispersions_norm', 'highly_variable_nbatches', 'highly_variable_intersection', 'n_counts'\n",
       "     uns: 'batch_colors', 'dataset_colors', 'high_hierarchy_colors', 'hvg', 'liana_res', 'log1p', 'low_hierarchy_colors', 'manual_celltype_annotation_colors', 'neighbors', 'pca', 'umap'\n",
       "     obsm: 'X_pca', 'X_umap'\n",
       "     varm: 'PCs'\n",
       "     layers: 'log1p_norm', 'raw_counts'\n",
       "     obsp: 'connectivities', 'distances',\n",
       " 'asbestos': AnnData object with n_obs × n_vars = 7117 × 23767\n",
       "     obs: 'author_annotation', 'scDblFinder_score', 'scDblFinder_class', 'manual_celltype_annotation', 'batch', 'condition', 'doublet_score', 'predicted_doublet', 'timepoint', 'author_annotation_coarse', 'dataset', 'fibrotic/control', 'n_genes_by_counts', 'log1p_n_genes_by_counts', 'total_counts', 'log1p_total_counts', 'pct_counts_in_top_20_genes', 'total_counts_mt', 'log1p_total_counts_mt', 'pct_counts_mt', 'total_counts_ribo', 'log1p_total_counts_ribo', 'pct_counts_ribo', 'total_counts_hb', 'log1p_total_counts_hb', 'pct_counts_hb', 'low_hierarchy', 'high_hierarchy', 'harmonized_anno', 'coarse_harmonized_anno', 'low_hierarchy_fine', 'high_hierarchy_fine', 'low_hierarchy_coarse', 'high_hierarchy_coarse'\n",
       "     var: 'mt', 'ribo', 'hb', 'n_cells_by_counts', 'mean_counts', 'log1p_mean_counts', 'pct_dropout_by_counts', 'total_counts', 'log1p_total_counts', 'highly_variable', 'means', 'dispersions', 'dispersions_norm', 'highly_variable_nbatches', 'highly_variable_intersection', 'n_counts'\n",
       "     uns: 'batch_colors', 'dataset_colors', 'high_hierarchy_colors', 'hvg', 'liana_res', 'log1p', 'low_hierarchy_colors', 'manual_celltype_annotation_colors', 'neighbors', 'pca', 'umap'\n",
       "     obsm: 'X_pca', 'X_umap'\n",
       "     varm: 'PCs'\n",
       "     layers: 'log1p_norm', 'raw_counts'\n",
       "     obsp: 'connectivities', 'distances',\n",
       " 'bleomycin': AnnData object with n_obs × n_vars = 42899 × 23767\n",
       "     obs: 'author_annotation', 'scDblFinder_score', 'scDblFinder_class', 'manual_celltype_annotation', 'batch', 'condition', 'doublet_score', 'predicted_doublet', 'timepoint', 'author_annotation_coarse', 'dataset', 'fibrotic/control', 'n_genes_by_counts', 'log1p_n_genes_by_counts', 'total_counts', 'log1p_total_counts', 'pct_counts_in_top_20_genes', 'total_counts_mt', 'log1p_total_counts_mt', 'pct_counts_mt', 'total_counts_ribo', 'log1p_total_counts_ribo', 'pct_counts_ribo', 'total_counts_hb', 'log1p_total_counts_hb', 'pct_counts_hb', 'low_hierarchy', 'high_hierarchy', 'harmonized_anno', 'coarse_harmonized_anno', 'low_hierarchy_fine', 'high_hierarchy_fine', 'low_hierarchy_coarse', 'high_hierarchy_coarse'\n",
       "     var: 'mt', 'ribo', 'hb', 'n_cells_by_counts', 'mean_counts', 'log1p_mean_counts', 'pct_dropout_by_counts', 'total_counts', 'log1p_total_counts', 'highly_variable', 'means', 'dispersions', 'dispersions_norm', 'highly_variable_nbatches', 'highly_variable_intersection', 'n_counts'\n",
       "     uns: 'batch_colors', 'dataset_colors', 'high_hierarchy_colors', 'hvg', 'liana_res', 'log1p', 'low_hierarchy_colors', 'manual_celltype_annotation_colors', 'neighbors', 'pca', 'umap'\n",
       "     obsm: 'X_pca', 'X_umap'\n",
       "     varm: 'PCs'\n",
       "     layers: 'log1p_norm', 'raw_counts'\n",
       "     obsp: 'connectivities', 'distances'}"
      ]
     },
     "execution_count": 8,
     "metadata": {},
     "output_type": "execute_result"
    }
   ],
   "source": [
    "for cond in conditions:\n",
    "    adatas[cond] = sc.read(f\"../../../data/liana_anndatas/merged_data_{cond}_liana.h5ad\")\n",
    "adatas"
   ]
  },
  {
   "cell_type": "markdown",
   "metadata": {},
   "source": [
    "nichenet"
   ]
  },
  {
   "cell_type": "code",
   "execution_count": 9,
   "metadata": {},
   "outputs": [
    {
     "name": "stdout",
     "output_type": "stream",
     "text": [
      "\n",
      "    WARNING: The R package \"reticulate\" only fixed recently\n",
      "    an issue that caused a segfault when used with rpy2:\n",
      "    https://github.com/rstudio/reticulate/pull/1188\n",
      "    Make sure that you use a version of that package that includes\n",
      "    the fix.\n",
      "    "
     ]
    }
   ],
   "source": [
    "%%R\n",
    "suppressPackageStartupMessages({\n",
    "    library(reticulate)\n",
    "    library(ggplot2)\n",
    "    library(tidyr)\n",
    "    library(dplyr)\n",
    "    library(purrr)\n",
    "    library(tibble)\n",
    "})"
   ]
  },
  {
   "cell_type": "code",
   "execution_count": 10,
   "metadata": {},
   "outputs": [
    {
     "data": {
      "text/plain": [
       "The legacy packages maptools, rgdal, and rgeos, underpinning the sp package,\n",
       "which was just loaded, will retire in October 2023.\n",
       "Please refer to R-spatial evolution reports for details, especially\n",
       "https://r-spatial.org/r/2023/05/15/evolution4.html.\n",
       "It may be desirable to make the sf package available;\n",
       "package maintainers should consider adding sf to Suggests:.\n",
       "The sp package is now running under evolution status 2\n",
       "     (status 2 uses the sf package in place of rgdal)\n"
      ]
     },
     "metadata": {},
     "output_type": "display_data"
    }
   ],
   "source": [
    "%%R\n",
    "library(\"nichenetr\", lib=\"/home/d/danilina/mambaforge/envs/scanpy_r/lib/R/library\")"
   ]
  },
  {
   "cell_type": "code",
   "execution_count": 11,
   "metadata": {},
   "outputs": [],
   "source": [
    "%%R\n",
    "# Increase timeout threshold\n",
    "options(timeout=600)\n",
    "\n",
    "# Load PK\n",
    "ligand_target_matrix <- readRDS(url(\"https://zenodo.org/record/7074291/files/ligand_target_matrix_nsga2r_final_mouse.rds\"))\n",
    "lr_network <- readRDS(url(\"https://zenodo.org/record/7074291/files/lr_network_mouse_21122021.rds\"))"
   ]
  },
  {
   "cell_type": "code",
   "execution_count": 12,
   "metadata": {},
   "outputs": [],
   "source": [
    "sender_celltypes = [\"Aerocytes\", \"Alveolar_macrophages\", \"Endothelial\", \"Transitioning_epitheial\", \"Fibroblasts\", \"Interstitial_macrophages\", \"Epithelial\"]\n",
    "receiver_celltypes = [\"Aerocytes\", \"Alveolar_macrophages\", \"Endothelial\", \"Transitioning_epitheial\", \"Fibroblasts\", \"Interstitial_macrophages\", \"Epithelial\"]"
   ]
  },
  {
   "cell_type": "code",
   "execution_count": 13,
   "metadata": {},
   "outputs": [],
   "source": [
    "# Helper function to obtain sufficiently expressed genes\n",
    "from functools import reduce\n",
    "\n",
    "\n",
    "def get_expressed_genes(adata, cell_type, expr_prop):\n",
    "    # calculate proportions\n",
    "    temp = adata[adata.obs[\"manual_celltype_annotation\"] == cell_type, :]\n",
    "    a = temp.X.getnnz(axis=0) / temp.X.shape[0]\n",
    "    stats = (\n",
    "        pd.DataFrame({\"genes\": temp.var_names, \"props\": a})\n",
    "        .assign(cell_type=cell_type)\n",
    "        .sort_values(\"genes\")\n",
    "    )\n",
    "\n",
    "    # obtain expressed genes\n",
    "    stats = stats[stats[\"props\"] >= expr_prop]\n",
    "    expressed_genes = stats[\"genes\"].values\n",
    "\n",
    "    return expressed_genes"
   ]
  },
  {
   "cell_type": "code",
   "execution_count": 14,
   "metadata": {},
   "outputs": [
    {
     "name": "stderr",
     "output_type": "stream",
     "text": [
      "/tmp/user/21175/ipykernel_983688/982473700.py:8: RuntimeWarning: invalid value encountered in divide\n",
      "/tmp/user/21175/ipykernel_983688/982473700.py:8: RuntimeWarning: invalid value encountered in divide\n",
      "/tmp/user/21175/ipykernel_983688/982473700.py:8: RuntimeWarning: invalid value encountered in divide\n",
      "/tmp/user/21175/ipykernel_983688/982473700.py:8: RuntimeWarning: invalid value encountered in divide\n",
      "/tmp/user/21175/ipykernel_983688/982473700.py:8: RuntimeWarning: invalid value encountered in divide\n",
      "/tmp/user/21175/ipykernel_983688/982473700.py:8: RuntimeWarning: invalid value encountered in divide\n",
      "/tmp/user/21175/ipykernel_983688/982473700.py:8: RuntimeWarning: invalid value encountered in divide\n",
      "/tmp/user/21175/ipykernel_983688/982473700.py:8: RuntimeWarning: invalid value encountered in divide\n"
     ]
    }
   ],
   "source": [
    "sender_expressed = reduce(\n",
    "    np.union1d,\n",
    "    [\n",
    "        get_expressed_genes(adata, cell_type=cell_type, expr_prop=0.1)\n",
    "        for cell_type in sender_celltypes\n",
    "    ],\n",
    ")\n",
    "receiver_expressed = reduce(\n",
    "    np.union1d,\n",
    "    [\n",
    "        get_expressed_genes(adata, cell_type=cell_type, expr_prop=0.1)\n",
    "        for cell_type in receiver_celltypes\n",
    "    ],\n",
    ")"
   ]
  },
  {
   "cell_type": "code",
   "execution_count": 15,
   "metadata": {},
   "outputs": [],
   "source": [
    "%%R -i sender_expressed -i receiver_expressed\n",
    "# get ligands and receptors in the resource\n",
    "ligands <- lr_network %>% pull(from) %>% unique()\n",
    "receptors <- lr_network %>% pull(to) %>% unique()\n",
    "\n",
    "# only keep the intersect between the resource and the data\n",
    "expressed_ligands <- intersect(ligands, sender_expressed)\n",
    "expressed_receptors <- intersect(receptors, receiver_expressed)\n",
    "\n",
    "# filter the network to only include ligands for which both the ligand and receptor are expressed\n",
    "potential_ligands <- lr_network %>% \n",
    "  filter(from %in% expressed_ligands & to %in% expressed_receptors) %>%\n",
    "  pull(from) %>% unique()"
   ]
  },
  {
   "cell_type": "code",
   "execution_count": 16,
   "metadata": {},
   "outputs": [
    {
     "data": {
      "text/html": [
       "<div>\n",
       "<style scoped>\n",
       "    .dataframe tbody tr th:only-of-type {\n",
       "        vertical-align: middle;\n",
       "    }\n",
       "\n",
       "    .dataframe tbody tr th {\n",
       "        vertical-align: top;\n",
       "    }\n",
       "\n",
       "    .dataframe thead th {\n",
       "        text-align: right;\n",
       "    }\n",
       "</style>\n",
       "<table border=\"1\" class=\"dataframe\">\n",
       "  <thead>\n",
       "    <tr style=\"text-align: right;\">\n",
       "      <th></th>\n",
       "      <th>Unnamed: 0</th>\n",
       "      <th>logFC</th>\n",
       "      <th>logCPM</th>\n",
       "      <th>F</th>\n",
       "      <th>PValue</th>\n",
       "      <th>FDR</th>\n",
       "      <th>PValue_adj</th>\n",
       "    </tr>\n",
       "  </thead>\n",
       "  <tbody>\n",
       "    <tr>\n",
       "      <th>0</th>\n",
       "      <td>Actr1b</td>\n",
       "      <td>-3.215889</td>\n",
       "      <td>5.195018</td>\n",
       "      <td>1.097403e+01</td>\n",
       "      <td>0.001146</td>\n",
       "      <td>1</td>\n",
       "      <td>1</td>\n",
       "    </tr>\n",
       "    <tr>\n",
       "      <th>1</th>\n",
       "      <td>Mis18a</td>\n",
       "      <td>-5.747447</td>\n",
       "      <td>4.534618</td>\n",
       "      <td>1.113889e+01</td>\n",
       "      <td>0.001618</td>\n",
       "      <td>1</td>\n",
       "      <td>1</td>\n",
       "    </tr>\n",
       "    <tr>\n",
       "      <th>2</th>\n",
       "      <td>Ampd2</td>\n",
       "      <td>-5.634205</td>\n",
       "      <td>4.197896</td>\n",
       "      <td>9.414385e+00</td>\n",
       "      <td>0.002536</td>\n",
       "      <td>1</td>\n",
       "      <td>1</td>\n",
       "    </tr>\n",
       "    <tr>\n",
       "      <th>3</th>\n",
       "      <td>Ffar4</td>\n",
       "      <td>4.123256</td>\n",
       "      <td>4.792299</td>\n",
       "      <td>8.943457e+00</td>\n",
       "      <td>0.003233</td>\n",
       "      <td>1</td>\n",
       "      <td>1</td>\n",
       "    </tr>\n",
       "    <tr>\n",
       "      <th>4</th>\n",
       "      <td>Tsen15</td>\n",
       "      <td>-5.634206</td>\n",
       "      <td>4.509011</td>\n",
       "      <td>8.881292e+00</td>\n",
       "      <td>0.003339</td>\n",
       "      <td>1</td>\n",
       "      <td>1</td>\n",
       "    </tr>\n",
       "    <tr>\n",
       "      <th>...</th>\n",
       "      <td>...</td>\n",
       "      <td>...</td>\n",
       "      <td>...</td>\n",
       "      <td>...</td>\n",
       "      <td>...</td>\n",
       "      <td>...</td>\n",
       "      <td>...</td>\n",
       "    </tr>\n",
       "    <tr>\n",
       "      <th>14361</th>\n",
       "      <td>St5</td>\n",
       "      <td>0.000000</td>\n",
       "      <td>2.811764</td>\n",
       "      <td>-3.212423e-14</td>\n",
       "      <td>1.000000</td>\n",
       "      <td>1</td>\n",
       "      <td>1</td>\n",
       "    </tr>\n",
       "    <tr>\n",
       "      <th>14362</th>\n",
       "      <td>Sult5a1</td>\n",
       "      <td>0.000000</td>\n",
       "      <td>3.211757</td>\n",
       "      <td>-8.675448e-13</td>\n",
       "      <td>1.000000</td>\n",
       "      <td>1</td>\n",
       "      <td>1</td>\n",
       "    </tr>\n",
       "    <tr>\n",
       "      <th>14363</th>\n",
       "      <td>Tceb1</td>\n",
       "      <td>0.000000</td>\n",
       "      <td>4.715812</td>\n",
       "      <td>-3.546005e-14</td>\n",
       "      <td>1.000000</td>\n",
       "      <td>1</td>\n",
       "      <td>1</td>\n",
       "    </tr>\n",
       "    <tr>\n",
       "      <th>14364</th>\n",
       "      <td>Tceb2</td>\n",
       "      <td>0.000000</td>\n",
       "      <td>6.305754</td>\n",
       "      <td>-1.903411e-14</td>\n",
       "      <td>1.000000</td>\n",
       "      <td>1</td>\n",
       "      <td>1</td>\n",
       "    </tr>\n",
       "    <tr>\n",
       "      <th>14365</th>\n",
       "      <td>mt-Rnr1</td>\n",
       "      <td>0.000000</td>\n",
       "      <td>3.077172</td>\n",
       "      <td>-7.081170e-14</td>\n",
       "      <td>1.000000</td>\n",
       "      <td>1</td>\n",
       "      <td>1</td>\n",
       "    </tr>\n",
       "  </tbody>\n",
       "</table>\n",
       "<p>14366 rows × 7 columns</p>\n",
       "</div>"
      ],
      "text/plain": [
       "      Unnamed: 0     logFC    logCPM             F    PValue  FDR  PValue_adj\n",
       "0         Actr1b -3.215889  5.195018  1.097403e+01  0.001146    1           1\n",
       "1         Mis18a -5.747447  4.534618  1.113889e+01  0.001618    1           1\n",
       "2          Ampd2 -5.634205  4.197896  9.414385e+00  0.002536    1           1\n",
       "3          Ffar4  4.123256  4.792299  8.943457e+00  0.003233    1           1\n",
       "4         Tsen15 -5.634206  4.509011  8.881292e+00  0.003339    1           1\n",
       "...          ...       ...       ...           ...       ...  ...         ...\n",
       "14361        St5  0.000000  2.811764 -3.212423e-14  1.000000    1           1\n",
       "14362    Sult5a1  0.000000  3.211757 -8.675448e-13  1.000000    1           1\n",
       "14363      Tceb1  0.000000  4.715812 -3.546005e-14  1.000000    1           1\n",
       "14364      Tceb2  0.000000  6.305754 -1.903411e-14  1.000000    1           1\n",
       "14365    mt-Rnr1  0.000000  3.077172 -7.081170e-14  1.000000    1           1\n",
       "\n",
       "[14366 rows x 7 columns]"
      ]
     },
     "execution_count": 16,
     "metadata": {},
     "output_type": "execute_result"
    }
   ],
   "source": [
    "d = pd.read_csv(\"../../../data/all_deg/Aerocytes_conditionasbestos-conditionuntreated.csv\")\n",
    "d"
   ]
  },
  {
   "cell_type": "code",
   "execution_count": null,
   "metadata": {},
   "outputs": [],
   "source": [
    "deg = dict()\n",
    "for cond in conditions:\n",
    "    deg[cond] = "
   ]
  }
 ],
 "metadata": {
  "kernelspec": {
   "display_name": "scanpy_r",
   "language": "python",
   "name": "python3"
  },
  "language_info": {
   "codemirror_mode": {
    "name": "ipython",
    "version": 3
   },
   "file_extension": ".py",
   "mimetype": "text/x-python",
   "name": "python",
   "nbconvert_exporter": "python",
   "pygments_lexer": "ipython3",
   "version": "3.9.16"
  },
  "orig_nbformat": 4
 },
 "nbformat": 4,
 "nbformat_minor": 2
}
