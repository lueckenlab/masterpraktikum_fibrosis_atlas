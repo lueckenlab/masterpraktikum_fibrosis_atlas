{
 "cells": [
  {
   "cell_type": "code",
   "execution_count": null,
   "metadata": {},
   "outputs": [],
   "source": [
    "# python libs\n",
    "import numpy as np\n",
    "import pandas as pd\n",
    "import matplotlib.pyplot as plt\n",
    "import seaborn as sns\n",
    "\n",
    "import scanpy as sc\n",
    "import liana as li\n",
    "from liana.method import rank_aggregate\n",
    "import decoupler as dc\n",
    "\n",
    "import session_info"
   ]
  },
  {
   "cell_type": "code",
   "execution_count": null,
   "metadata": {},
   "outputs": [],
   "source": [
    "# Setting up R dependencies\n",
    "import anndata2ri\n",
    "import rpy2\n",
    "from rpy2.robjects import r\n",
    "import random\n",
    "\n",
    "anndata2ri.activate()\n"
   ]
  },
  {
   "cell_type": "code",
   "execution_count": null,
   "metadata": {},
   "outputs": [],
   "source": [
    "%%R\n",
    "suppressPackageStartupMessages({\n",
    "    library(reticulate)\n",
    "    library(ggplot2)\n",
    "    library(tidyr)\n",
    "    library(dplyr)\n",
    "    library(purrr)\n",
    "    library(tibble)\n",
    "})"
   ]
  },
  {
   "cell_type": "code",
   "execution_count": null,
   "metadata": {},
   "outputs": [],
   "source": [
    "%%R\n",
    "library(\"nichenetr\", lib=\"/home/d/danilina/mambaforge/envs/scanpy_r/lib/R/library\")"
   ]
  },
  {
   "cell_type": "code",
   "execution_count": null,
   "metadata": {},
   "outputs": [],
   "source": [
    "# figure settings\n",
    "sc.settings.set_figure_params(dpi=200, frameon=False)\n",
    "sc.set_figure_params(dpi=200, facecolor=\"white\")\n",
    "sc.set_figure_params(figsize=(5, 5))"
   ]
  },
  {
   "cell_type": "code",
   "execution_count": null,
   "metadata": {},
   "outputs": [],
   "source": [
    "file = \"merged_data.h5ad\"\n",
    "adata = sc.read(\"../../../data/merged_data.h5ad\")\n",
    "adata"
   ]
  },
  {
   "cell_type": "code",
   "execution_count": null,
   "metadata": {},
   "outputs": [],
   "source": [
    "condition = [x for x in ['bleomycin', 'bleo', 'Bleo', 'asbestos'] if x in list(adata.obs[\"condition\"].cat.categories)][0]\n",
    "control = [x for x in ['saline', 'healthy', 'UT', 'control'] if x in list(adata.obs[\"condition\"].cat.categories)][0]\n",
    "\n",
    "# Store the counts for later use\n",
    "adata.layers[\"counts\"] = adata.X.copy()\n",
    "# log1p normalize the data\n",
    "sc.pp.normalize_total(adata)\n",
    "sc.pp.log1p(adata)\n",
    "# make sure the format is correct\n",
    "adata.obs[\"batch\"] = adata.obs[\"batch\"].astype(\"category\")\n",
    "adata.obs[\"manual_celltype_annotation\"] = adata.obs[\"manual_celltype_annotation\"].astype(\"category\")"
   ]
  },
  {
   "cell_type": "code",
   "execution_count": null,
   "metadata": {},
   "outputs": [],
   "source": [
    "adatas = dict()\n",
    "for cond in [condition, control]:\n",
    "    adatas[cond] = adata[adata.obs[\"condition\"]==cond].copy()\n",
    "\n",
    "    # run liana consensus\n",
    "    print(\"Running rank_aggregate on \"+file[:-5]+\", \"+cond)\n",
    "    rank_aggregate(\n",
    "        adatas[cond], groupby=\"manual_celltype_annotation\", resource_name = 'mouseconsensus',\n",
    "        return_all_lrs=True, use_raw=False, verbose=True)\n",
    "    liana_res = adatas[cond].uns[\"liana_res\"].drop_duplicates([\"ligand_complex\", \"receptor_complex\"]).sort_values([\"magnitude_rank\", \"specificity_rank\"],)\n",
    "    liana_res.to_csv(\"./results/\"+file[:-5]+\"_\"+cond+\"_liana.csv\")\n",
    "    adatas[cond].write(\"../../../data/liana_anndatas/\"+file[:-5]+\"_\"+cond+\"_liana.h5ad\", compression='gzip')\n",
    "    fig = li.pl.dotplot(\n",
    "        adata=adatas[cond],\n",
    "        colour=\"magnitude_rank\",\n",
    "        size=\"specificity_rank\",\n",
    "        inverse_colour=True,  # we inverse sign since we want small p-values to have large sizes\n",
    "        inverse_size=True,\n",
    "        # since the rank_aggregate can also be interpreted as a probability distribution\n",
    "        # we can again filter them according to their specificity significance\n",
    "        # yet here the interactions are filtered according to\n",
    "        # how consistently highly-ranked is their specificity across the methods\n",
    "        filterby=\"specificity_rank\",\n",
    "        filter_lambda=lambda x: x <= 0.05,\n",
    "        # again, we can also further order according to magnitude\n",
    "        orderby=\"magnitude_rank\",\n",
    "        orderby_ascending=True,  # prioritize those with lowest values\n",
    "        top_n=20,  # and we want to keep only the top 20 interactions\n",
    "        figure_size=(46, 26),\n",
    "        #size_range=(1, 6),\n",
    "        return_fig=True\n",
    "    )   \n",
    "    fig.save(\"./results/\"+file[:-5]+\"_\"+cond+\"_liana.png\", dpi=500, limitsize=False)"
   ]
  },
  {
   "cell_type": "markdown",
   "metadata": {},
   "source": [
    "nichenet"
   ]
  },
  {
   "cell_type": "code",
   "execution_count": null,
   "metadata": {},
   "outputs": [],
   "source": [
    "%%R\n",
    "# Increase timeout threshold\n",
    "options(timeout=600)\n",
    "\n",
    "# Load PK\n",
    "ligand_target_matrix <- readRDS(url(\"https://zenodo.org/record/7074291/files/ligand_target_matrix_nsga2r_final_mouse.rds\"))\n",
    "lr_network <- readRDS(url(\"https://zenodo.org/record/7074291/files/lr_network_mouse_21122021.rds\"))"
   ]
  },
  {
   "cell_type": "code",
   "execution_count": null,
   "metadata": {},
   "outputs": [],
   "source": [
    "sender_celltypes = [\"Fibroblasts\", \"Interstitial_macrophages\", \"Epithelial\"]\n",
    "receiver_celltypes = [\"Fibroblasts\", \"Interstitial_macrophages\", \"Epithelial\"]"
   ]
  },
  {
   "cell_type": "code",
   "execution_count": null,
   "metadata": {},
   "outputs": [],
   "source": [
    "# Helper function to obtain sufficiently expressed genes\n",
    "from functools import reduce\n",
    "\n",
    "\n",
    "def get_expressed_genes(adata, cell_type, expr_prop):\n",
    "    # calculate proportions\n",
    "    temp = adata[adata.obs[\"manual_celltype_annotation\"] == cell_type, :]\n",
    "    a = temp.X.getnnz(axis=0) / temp.X.shape[0]\n",
    "    stats = (\n",
    "        pd.DataFrame({\"genes\": temp.var_names, \"props\": a})\n",
    "        .assign(cell_type=cell_type)\n",
    "        .sort_values(\"genes\")\n",
    "    )\n",
    "\n",
    "    # obtain expressed genes\n",
    "    stats = stats[stats[\"props\"] >= expr_prop]\n",
    "    expressed_genes = stats[\"genes\"].values\n",
    "\n",
    "    return expressed_genes"
   ]
  },
  {
   "cell_type": "code",
   "execution_count": null,
   "metadata": {},
   "outputs": [],
   "source": [
    "sender_expressed = reduce(\n",
    "    np.union1d,\n",
    "    [\n",
    "        get_expressed_genes(adata, cell_type=cell_type, expr_prop=0.1)\n",
    "        for cell_type in sender_celltypes\n",
    "    ],\n",
    ")\n",
    "receiver_expressed = reduce(\n",
    "    np.union1d,\n",
    "    [\n",
    "        get_expressed_genes(adata, cell_type=cell_type, expr_prop=0.1)\n",
    "        for cell_type in receiver_celltypes\n",
    "    ],\n",
    ")"
   ]
  },
  {
   "cell_type": "code",
   "execution_count": null,
   "metadata": {},
   "outputs": [],
   "source": [
    "%%R -i sender_expressed -i receiver_expressed\n",
    "# get ligands and receptors in the resource\n",
    "ligands <- lr_network %>% pull(from) %>% unique()\n",
    "receptors <- lr_network %>% pull(to) %>% unique()\n",
    "\n",
    "# only keep the intersect between the resource and the data\n",
    "expressed_ligands <- intersect(ligands, sender_expressed)\n",
    "expressed_receptors <- intersect(receptors, receiver_expressed)\n",
    "\n",
    "# filter the network to only include ligands for which both the ligand and receptor are expressed\n",
    "potential_ligands <- lr_network %>% \n",
    "  filter(from %in% expressed_ligands & to %in% expressed_receptors) %>%\n",
    "  pull(from) %>% unique()"
   ]
  },
  {
   "cell_type": "code",
   "execution_count": null,
   "metadata": {},
   "outputs": [],
   "source": [
    "deg = # all genes from table"
   ]
  },
  {
   "cell_type": "code",
   "execution_count": null,
   "metadata": {},
   "outputs": [],
   "source": [
    "# define background of sufficiently expressed genes\n",
    "background_genes = deg[\"name\"].values\n",
    "\n",
    "# only keep significant and positive DE genes\n",
    "deg = deg[(deg[\"pvals\"] <= 0.05) & (deg[\"logFCs\"] > 1)]\n",
    "# get geneset of interest\n",
    "geneset_oi = deg[\"name\"].values"
   ]
  }
 ],
 "metadata": {
  "language_info": {
   "name": "python"
  },
  "orig_nbformat": 4
 },
 "nbformat": 4,
 "nbformat_minor": 2
}
