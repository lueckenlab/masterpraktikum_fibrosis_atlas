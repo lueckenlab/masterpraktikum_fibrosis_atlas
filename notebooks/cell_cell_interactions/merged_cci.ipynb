{
 "cells": [
  {
   "cell_type": "code",
   "execution_count": 1,
   "metadata": {},
   "outputs": [],
   "source": [
    "# python libs\n",
    "import numpy as np\n",
    "import pandas as pd\n",
    "import matplotlib.pyplot as plt\n",
    "import seaborn as sns\n",
    "\n",
    "import scanpy as sc\n",
    "import liana as li\n",
    "from liana.method import rank_aggregate\n",
    "#import decoupler as dc\n",
    "\n",
    "import session_info"
   ]
  },
  {
   "cell_type": "code",
   "execution_count": 2,
   "metadata": {},
   "outputs": [],
   "source": [
    "# Setting up R dependencies\n",
    "import anndata2ri\n",
    "import rpy2\n",
    "from rpy2.robjects import r\n",
    "import random\n",
    "\n",
    "anndata2ri.activate()\n",
    "\n",
    "%load_ext rpy2.ipython"
   ]
  },
  {
   "cell_type": "code",
   "execution_count": 3,
   "metadata": {},
   "outputs": [
    {
     "name": "stdout",
     "output_type": "stream",
     "text": [
      "\n",
      "    WARNING: The R package \"reticulate\" only fixed recently\n",
      "    an issue that caused a segfault when used with rpy2:\n",
      "    https://github.com/rstudio/reticulate/pull/1188\n",
      "    Make sure that you use a version of that package that includes\n",
      "    the fix.\n",
      "    "
     ]
    }
   ],
   "source": [
    "%%R\n",
    "suppressPackageStartupMessages({\n",
    "    library(reticulate)\n",
    "    library(ggplot2)\n",
    "    library(tidyr)\n",
    "    library(dplyr)\n",
    "    library(purrr)\n",
    "    library(tibble)\n",
    "})"
   ]
  },
  {
   "cell_type": "code",
   "execution_count": 4,
   "metadata": {},
   "outputs": [
    {
     "data": {
      "text/plain": [
       "The legacy packages maptools, rgdal, and rgeos, underpinning the sp package,\n",
       "which was just loaded, will retire in October 2023.\n",
       "Please refer to R-spatial evolution reports for details, especially\n",
       "https://r-spatial.org/r/2023/05/15/evolution4.html.\n",
       "It may be desirable to make the sf package available;\n",
       "package maintainers should consider adding sf to Suggests:.\n",
       "The sp package is now running under evolution status 2\n",
       "     (status 2 uses the sf package in place of rgdal)\n"
      ]
     },
     "metadata": {},
     "output_type": "display_data"
    }
   ],
   "source": [
    "%%R\n",
    "library(\"nichenetr\", lib=\"/home/d/danilina/mambaforge/envs/scanpy_r/lib/R/library\")"
   ]
  },
  {
   "cell_type": "code",
   "execution_count": 5,
   "metadata": {},
   "outputs": [],
   "source": [
    "# figure settings\n",
    "sc.settings.set_figure_params(dpi=200, frameon=False)\n",
    "sc.set_figure_params(dpi=200, facecolor=\"white\")\n",
    "sc.set_figure_params(figsize=(5, 5))"
   ]
  },
  {
   "cell_type": "code",
   "execution_count": 3,
   "metadata": {},
   "outputs": [
    {
     "data": {
      "text/plain": [
       "AnnData object with n_obs × n_vars = 87871 × 23767\n",
       "    obs: 'author_annotation', 'scDblFinder_score', 'scDblFinder_class', 'manual_celltype_annotation', 'batch', 'condition', 'doublet_score', 'predicted_doublet', 'timepoint', 'author_annotation_coarse', 'dataset', 'fibrotic/control', 'n_genes_by_counts', 'log1p_n_genes_by_counts', 'total_counts', 'log1p_total_counts', 'pct_counts_in_top_20_genes', 'total_counts_mt', 'log1p_total_counts_mt', 'pct_counts_mt', 'total_counts_ribo', 'log1p_total_counts_ribo', 'pct_counts_ribo', 'total_counts_hb', 'log1p_total_counts_hb', 'pct_counts_hb', 'low_hierarchy', 'high_hierarchy', 'harmonized_anno', 'coarse_harmonized_anno', 'low_hierarchy_fine', 'high_hierarchy_fine', 'low_hierarchy_coarse', 'high_hierarchy_coarse'\n",
       "    var: 'mt', 'ribo', 'hb', 'n_cells_by_counts', 'mean_counts', 'log1p_mean_counts', 'pct_dropout_by_counts', 'total_counts', 'log1p_total_counts', 'highly_variable', 'means', 'dispersions', 'dispersions_norm', 'highly_variable_nbatches', 'highly_variable_intersection', 'n_counts'\n",
       "    uns: 'batch_colors', 'dataset_colors', 'high_hierarchy_colors', 'hvg', 'log1p', 'low_hierarchy_colors', 'manual_celltype_annotation_colors', 'neighbors', 'pca', 'umap'\n",
       "    obsm: 'X_pca', 'X_umap'\n",
       "    varm: 'PCs'\n",
       "    layers: 'log1p_norm', 'raw_counts'\n",
       "    obsp: 'connectivities', 'distances'"
      ]
     },
     "execution_count": 3,
     "metadata": {},
     "output_type": "execute_result"
    }
   ],
   "source": [
    "file = \"merged_data.h5ad\"\n",
    "adata = sc.read(\"../../../data/merged_data.h5ad\")\n",
    "adata"
   ]
  },
  {
   "cell_type": "code",
   "execution_count": 4,
   "metadata": {},
   "outputs": [],
   "source": [
    "#condition = [x for x in ['bleomycin', 'bleo', 'Bleo', 'asbestos'] if x in list(adata.obs[\"condition\"].cat.categories)][0]\n",
    "#control = [x for x in ['saline', 'healthy', 'UT', 'control'] if x in list(adata.obs[\"condition\"].cat.categories)][0]\n",
    "\n",
    "# data already log1p normalized\n",
    "# make sure the format is correct\n",
    "adata.obs[\"batch\"] = adata.obs[\"batch\"].astype(\"category\")\n",
    "adata.obs[\"manual_celltype_annotation\"] = adata.obs[\"manual_celltype_annotation\"].astype(\"category\")"
   ]
  },
  {
   "cell_type": "code",
   "execution_count": 14,
   "metadata": {},
   "outputs": [
    {
     "data": {
      "text/plain": [
       "AAACCTGAGGACATTA-1_xie    untreated\n",
       "AAACCTGCAGTCGTGC-1_xie    untreated\n",
       "AAACCTGCATGAAGTA-1_xie    untreated\n",
       "AAACCTGTCTCGCATC-1_xie    untreated\n",
       "AAACGGGTCCTAGAAC-1_xie    untreated\n",
       "                            ...    \n",
       "29291_schiller            untreated\n",
       "29292_schiller            untreated\n",
       "29293_schiller            untreated\n",
       "29294_schiller            untreated\n",
       "29295_schiller            untreated\n",
       "Name: condition, Length: 87871, dtype: category\n",
       "Categories (4, object): ['untreated', 'asbestos', 'bleomycin', 'saline']"
      ]
     },
     "execution_count": 14,
     "metadata": {},
     "output_type": "execute_result"
    }
   ],
   "source": [
    "adata.obs.condition"
   ]
  },
  {
   "cell_type": "code",
   "execution_count": 15,
   "metadata": {},
   "outputs": [
    {
     "data": {
      "text/plain": [
       "AAACCTGAGGACATTA-1_xie    untreated\n",
       "AAACCTGCAGTCGTGC-1_xie    untreated\n",
       "AAACCTGCATGAAGTA-1_xie    untreated\n",
       "AAACCTGTCTCGCATC-1_xie    untreated\n",
       "AAACGGGTCCTAGAAC-1_xie    untreated\n",
       "                            ...    \n",
       "29291_schiller            untreated\n",
       "29292_schiller            untreated\n",
       "29293_schiller            untreated\n",
       "29294_schiller            untreated\n",
       "29295_schiller            untreated\n",
       "Name: condition, Length: 31495, dtype: category\n",
       "Categories (4, object): ['untreated', 'asbestos', 'bleomycin', 'saline']"
      ]
     },
     "execution_count": 15,
     "metadata": {},
     "output_type": "execute_result"
    }
   ],
   "source": [
    "adata.obs.condition[adata.obs.condition ==\"untreated\"]"
   ]
  },
  {
   "cell_type": "code",
   "execution_count": 16,
   "metadata": {},
   "outputs": [
    {
     "data": {
      "text/plain": [
       "AAACCTGAGGAATTAC-1_peyser    saline\n",
       "AAACCTGCATAACCTG-1_peyser    saline\n",
       "AAACCTGCATTGGGCC-1_peyser    saline\n",
       "AAACCTGGTCTCAACA-1_peyser    saline\n",
       "AAACCTGGTTGACGTT-1_peyser    saline\n",
       "                              ...  \n",
       "TTTGGTTAGAATTCCC-1_peyser    saline\n",
       "TTTGGTTAGTGGAGAA-1_peyser    saline\n",
       "TTTGTCAGTAGGGTAC-1_peyser    saline\n",
       "TTTGTCAGTGACGGTA-1_peyser    saline\n",
       "TTTGTCAGTTCTGAAC-1_peyser    saline\n",
       "Name: condition, Length: 6360, dtype: category\n",
       "Categories (4, object): ['untreated', 'asbestos', 'bleomycin', 'saline']"
      ]
     },
     "execution_count": 16,
     "metadata": {},
     "output_type": "execute_result"
    }
   ],
   "source": [
    "adata.obs.condition[adata.obs.condition ==\"saline\"]"
   ]
  },
  {
   "cell_type": "code",
   "execution_count": 17,
   "metadata": {},
   "outputs": [
    {
     "data": {
      "text/plain": [
       "SC15_AAACCTGAGACACGAC_misharin    asbestos\n",
       "SC15_AAACCTGAGCTGAACG_misharin    asbestos\n",
       "SC15_AAACCTGAGGGTCTCC_misharin    asbestos\n",
       "SC15_AAACCTGCAATCCAAC_misharin    asbestos\n",
       "SC15_AAACCTGCATATACGC_misharin    asbestos\n",
       "                                    ...   \n",
       "SC15_TTTGTCAGTGATGTGG_misharin    asbestos\n",
       "SC15_TTTGTCAGTTCGCTAA_misharin    asbestos\n",
       "SC15_TTTGTCATCAGTCAGT_misharin    asbestos\n",
       "SC15_TTTGTCATCGCGTAGC_misharin    asbestos\n",
       "SC15_TTTGTCATCGCTGATA_misharin    asbestos\n",
       "Name: condition, Length: 7117, dtype: category\n",
       "Categories (4, object): ['untreated', 'asbestos', 'bleomycin', 'saline']"
      ]
     },
     "execution_count": 17,
     "metadata": {},
     "output_type": "execute_result"
    }
   ],
   "source": [
    "adata.obs.condition[adata.obs.condition ==\"asbestos\"]"
   ]
  },
  {
   "cell_type": "code",
   "execution_count": 18,
   "metadata": {},
   "outputs": [
    {
     "data": {
      "text/plain": [
       "AAACCTGAGGAGTCTG-4_xie    bleomycin\n",
       "AAACCTGCAACGCACC-4_xie    bleomycin\n",
       "AAACCTGGTAGAGTGC-4_xie    bleomycin\n",
       "AAACCTGGTCCTAGCG-4_xie    bleomycin\n",
       "AAACCTGGTCGCGAAA-4_xie    bleomycin\n",
       "                            ...    \n",
       "28613_schiller            bleomycin\n",
       "28614_schiller            bleomycin\n",
       "28615_schiller            bleomycin\n",
       "28616_schiller            bleomycin\n",
       "28617_schiller            bleomycin\n",
       "Name: condition, Length: 42899, dtype: category\n",
       "Categories (4, object): ['untreated', 'asbestos', 'bleomycin', 'saline']"
      ]
     },
     "execution_count": 18,
     "metadata": {},
     "output_type": "execute_result"
    }
   ],
   "source": [
    "adata.obs.condition[adata.obs.condition ==\"bleomycin\"]"
   ]
  },
  {
   "cell_type": "code",
   "execution_count": 5,
   "metadata": {},
   "outputs": [
    {
     "data": {
      "text/plain": [
       "['untreated', 'asbestos', 'bleomycin', 'saline']"
      ]
     },
     "execution_count": 5,
     "metadata": {},
     "output_type": "execute_result"
    }
   ],
   "source": [
    "#adata.obs[\"condition\"] = adata.obs[\"condition\"].replace({\"saline\":\"untreated\"})\n",
    "#adata.obs[\"condition\"] = adata.obs[\"condition\"].astype(\"category\")\n",
    "conditions = list(adata.obs.condition.cat.categories)\n",
    "conditions"
   ]
  },
  {
   "cell_type": "code",
   "execution_count": 7,
   "metadata": {},
   "outputs": [],
   "source": [
    "adata.X = adata.layers[\"log1p_norm\"]\n",
    "adatas = dict()"
   ]
  },
  {
   "cell_type": "code",
   "execution_count": 22,
   "metadata": {},
   "outputs": [
    {
     "name": "stdout",
     "output_type": "stream",
     "text": [
      "Running rank_aggregate on merged_data, asbestos\n",
      "Using `.X`!\n",
      "4917 features of mat are empty, they will be removed.\n"
     ]
    },
    {
     "name": "stderr",
     "output_type": "stream",
     "text": [
      "/home/d/danilina/mambaforge/envs/scanpy_r/lib/python3.9/site-packages/pandas/core/indexing.py:1761: ImplicitModificationWarning: Trying to modify attribute `.obs` of view, initializing view as actual.\n"
     ]
    },
    {
     "name": "stdout",
     "output_type": "stream",
     "text": [
      "0.18 of entities in the resource are missing from the data.\n",
      "Generating ligand-receptor stats for 7117 samples and 18850 features\n",
      "Assuming that counts were `natural` log-normalized!\n",
      "Running CellPhoneDB\n"
     ]
    },
    {
     "name": "stderr",
     "output_type": "stream",
     "text": [
      "100%|██████████| 1000/1000 [00:11<00:00, 86.49it/s]\n"
     ]
    },
    {
     "name": "stdout",
     "output_type": "stream",
     "text": [
      "Running Connectome\n",
      "Running log2FC\n",
      "Running NATMI\n",
      "Running SingleCellSignalR\n",
      "Running CellChat\n"
     ]
    },
    {
     "name": "stderr",
     "output_type": "stream",
     "text": [
      "100%|██████████| 1000/1000 [02:25<00:00,  6.88it/s]\n",
      "/home/d/danilina/mambaforge/envs/scanpy_r/lib/python3.9/site-packages/plotnine/ggplot.py:587: PlotnineWarning: Saving 46 x 26 in image.\n",
      "/home/d/danilina/mambaforge/envs/scanpy_r/lib/python3.9/site-packages/plotnine/ggplot.py:588: PlotnineWarning: Filename: ./results/merged_data_asbestos_liana.png\n"
     ]
    },
    {
     "name": "stdout",
     "output_type": "stream",
     "text": [
      "Running rank_aggregate on merged_data, bleomycin\n",
      "Using `.X`!\n",
      "417 features of mat are empty, they will be removed.\n"
     ]
    },
    {
     "name": "stderr",
     "output_type": "stream",
     "text": [
      "/home/d/danilina/mambaforge/envs/scanpy_r/lib/python3.9/site-packages/pandas/core/indexing.py:1761: ImplicitModificationWarning: Trying to modify attribute `.obs` of view, initializing view as actual.\n"
     ]
    },
    {
     "name": "stdout",
     "output_type": "stream",
     "text": [
      "0.07 of entities in the resource are missing from the data.\n",
      "Generating ligand-receptor stats for 42899 samples and 23350 features\n",
      "Assuming that counts were `natural` log-normalized!\n",
      "Running CellPhoneDB\n"
     ]
    },
    {
     "name": "stderr",
     "output_type": "stream",
     "text": [
      "100%|██████████| 1000/1000 [00:38<00:00, 25.84it/s]\n"
     ]
    },
    {
     "name": "stdout",
     "output_type": "stream",
     "text": [
      "Running Connectome\n",
      "Running log2FC\n",
      "Running NATMI\n",
      "Running SingleCellSignalR\n",
      "Running CellChat\n"
     ]
    },
    {
     "name": "stderr",
     "output_type": "stream",
     "text": [
      "100%|██████████| 1000/1000 [14:37<00:00,  1.14it/s]\n",
      "/home/d/danilina/mambaforge/envs/scanpy_r/lib/python3.9/site-packages/plotnine/ggplot.py:587: PlotnineWarning: Saving 46 x 26 in image.\n",
      "/home/d/danilina/mambaforge/envs/scanpy_r/lib/python3.9/site-packages/plotnine/ggplot.py:588: PlotnineWarning: Filename: ./results/merged_data_bleomycin_liana.png\n"
     ]
    },
    {
     "name": "stdout",
     "output_type": "stream",
     "text": [
      "Running rank_aggregate on merged_data, saline\n",
      "Using `.X`!\n",
      "5831 features of mat are empty, they will be removed.\n"
     ]
    },
    {
     "name": "stderr",
     "output_type": "stream",
     "text": [
      "/home/d/danilina/mambaforge/envs/scanpy_r/lib/python3.9/site-packages/pandas/core/indexing.py:1761: ImplicitModificationWarning: Trying to modify attribute `.obs` of view, initializing view as actual.\n"
     ]
    },
    {
     "name": "stdout",
     "output_type": "stream",
     "text": [
      "0.14 of entities in the resource are missing from the data.\n",
      "Generating ligand-receptor stats for 6360 samples and 17936 features\n",
      "Assuming that counts were `natural` log-normalized!\n",
      "Running CellPhoneDB\n"
     ]
    },
    {
     "name": "stderr",
     "output_type": "stream",
     "text": [
      "100%|██████████| 1000/1000 [00:11<00:00, 89.86it/s]\n"
     ]
    },
    {
     "name": "stdout",
     "output_type": "stream",
     "text": [
      "Running Connectome\n",
      "Running log2FC\n",
      "Running NATMI\n",
      "Running SingleCellSignalR\n",
      "Running CellChat\n"
     ]
    },
    {
     "name": "stderr",
     "output_type": "stream",
     "text": [
      "100%|██████████| 1000/1000 [01:52<00:00,  8.90it/s]\n",
      "/home/d/danilina/mambaforge/envs/scanpy_r/lib/python3.9/site-packages/plotnine/ggplot.py:587: PlotnineWarning: Saving 46 x 26 in image.\n",
      "/home/d/danilina/mambaforge/envs/scanpy_r/lib/python3.9/site-packages/plotnine/ggplot.py:588: PlotnineWarning: Filename: ./results/merged_data_saline_liana.png\n"
     ]
    }
   ],
   "source": [
    "for cond in conditions[1:]:\n",
    "    adatas[cond] = adata[adata.obs[\"condition\"]==cond].copy()\n",
    "\n",
    "    # run liana consensus\n",
    "    print(\"Running rank_aggregate on \"+file[:-5]+\", \"+cond)\n",
    "    rank_aggregate(\n",
    "        adatas[cond], groupby=\"manual_celltype_annotation\", resource_name = 'mouseconsensus',\n",
    "        return_all_lrs=True, use_raw=False, verbose=True)\n",
    "    liana_res = adatas[cond].uns[\"liana_res\"].drop_duplicates([\"ligand_complex\", \"receptor_complex\"]).sort_values([\"magnitude_rank\", \"specificity_rank\"],)\n",
    "    liana_res.to_csv(\"./results/\"+file[:-5]+\"_\"+cond+\"_liana.csv\")\n",
    "    adatas[cond].write(\"../../../data/liana_anndatas/\"+file[:-5]+\"_\"+cond+\"_liana.h5ad\", compression='gzip')\n",
    "    fig = li.pl.dotplot(\n",
    "        adata=adatas[cond],\n",
    "        colour=\"magnitude_rank\",\n",
    "        size=\"specificity_rank\",\n",
    "        inverse_colour=True,  # we inverse sign since we want small p-values to have large sizes\n",
    "        inverse_size=True,\n",
    "        # since the rank_aggregate can also be interpreted as a probability distribution\n",
    "        # we can again filter them according to their specificity significance\n",
    "        # yet here the interactions are filtered according to\n",
    "        # how consistently highly-ranked is their specificity across the methods\n",
    "        filterby=\"specificity_rank\",\n",
    "        filter_lambda=lambda x: x <= 0.05,\n",
    "        # again, we can also further order according to magnitude\n",
    "        orderby=\"magnitude_rank\",\n",
    "        orderby_ascending=True,  # prioritize those with lowest values\n",
    "        top_n=20,  # and we want to keep only the top 20 interactions\n",
    "        figure_size=(46, 26),\n",
    "        size_range=(1, 6),\n",
    "        return_fig=True\n",
    "    )   \n",
    "    fig.save(\"./results/\"+file[:-5]+\"_\"+cond+\"_liana.png\", dpi=500, limitsize=False)"
   ]
  },
  {
   "cell_type": "code",
   "execution_count": 10,
   "metadata": {},
   "outputs": [
    {
     "name": "stdout",
     "output_type": "stream",
     "text": [
      "Running rank_aggregate on merged_data, untreated\n",
      "Using `.X`!\n",
      "2175 features of mat are empty, they will be removed.\n"
     ]
    },
    {
     "name": "stderr",
     "output_type": "stream",
     "text": [
      "/home/d/danilina/mambaforge/envs/scanpy_r/lib/python3.9/site-packages/pandas/core/indexing.py:1761: ImplicitModificationWarning: Trying to modify attribute `.obs` of view, initializing view as actual.\n"
     ]
    },
    {
     "name": "stdout",
     "output_type": "stream",
     "text": [
      "0.11 of entities in the resource are missing from the data.\n",
      "Generating ligand-receptor stats for 31495 samples and 21592 features\n",
      "Assuming that counts were `natural` log-normalized!\n",
      "Running CellPhoneDB\n"
     ]
    },
    {
     "name": "stderr",
     "output_type": "stream",
     "text": [
      "100%|██████████| 1000/1000 [00:30<00:00, 33.11it/s]\n"
     ]
    },
    {
     "name": "stdout",
     "output_type": "stream",
     "text": [
      "Running Connectome\n",
      "Running log2FC\n",
      "Running NATMI\n",
      "Running SingleCellSignalR\n",
      "Running CellChat\n"
     ]
    },
    {
     "name": "stderr",
     "output_type": "stream",
     "text": [
      "100%|██████████| 1000/1000 [11:48<00:00,  1.41it/s]\n",
      "/home/d/danilina/mambaforge/envs/scanpy_r/lib/python3.9/site-packages/plotnine/ggplot.py:587: PlotnineWarning: Saving 46 x 26 in image.\n",
      "/home/d/danilina/mambaforge/envs/scanpy_r/lib/python3.9/site-packages/plotnine/ggplot.py:588: PlotnineWarning: Filename: ./results/merged_data_untreated_liana.png\n"
     ]
    }
   ],
   "source": [
    "for cond in conditions[:1]:\n",
    "    adatas[cond] = adata[adata.obs[\"condition\"]==cond].copy()\n",
    "\n",
    "    # run liana consensus\n",
    "    print(\"Running rank_aggregate on \"+file[:-5]+\", \"+cond)\n",
    "    rank_aggregate(\n",
    "        adatas[cond], groupby=\"manual_celltype_annotation\", resource_name = 'mouseconsensus',\n",
    "        return_all_lrs=True, use_raw=False, verbose=True)\n",
    "    liana_res = adatas[cond].uns[\"liana_res\"].drop_duplicates([\"ligand_complex\", \"receptor_complex\"]).sort_values([\"magnitude_rank\", \"specificity_rank\"],)\n",
    "    liana_res.to_csv(\"./results/\"+file[:-5]+\"_\"+cond+\"_liana.csv\")\n",
    "    adatas[cond].write(\"../../../data/liana_anndatas/\"+file[:-5]+\"_\"+cond+\"_liana.h5ad\", compression='gzip')\n",
    "    fig = li.pl.dotplot(\n",
    "        adata=adatas[cond],\n",
    "        colour=\"magnitude_rank\",\n",
    "        size=\"specificity_rank\",\n",
    "        inverse_colour=True,  # we inverse sign since we want small p-values to have large sizes\n",
    "        inverse_size=True,\n",
    "        # since the rank_aggregate can also be interpreted as a probability distribution\n",
    "        # we can again filter them according to their specificity significance\n",
    "        # yet here the interactions are filtered according to\n",
    "        # how consistently highly-ranked is their specificity across the methods\n",
    "        filterby=\"specificity_rank\",\n",
    "        filter_lambda=lambda x: x <= 0.05,\n",
    "        # again, we can also further order according to magnitude\n",
    "        orderby=\"magnitude_rank\",\n",
    "        orderby_ascending=True,  # prioritize those with lowest values\n",
    "        top_n=20,  # and we want to keep only the top 20 interactions\n",
    "        figure_size=(46, 26),\n",
    "        size_range=(1, 6),\n",
    "        return_fig=True\n",
    "    )   \n",
    "    fig.save(\"./results/\"+file[:-5]+\"_\"+cond+\"_liana.png\", dpi=500, limitsize=False)"
   ]
  },
  {
   "cell_type": "code",
   "execution_count": null,
   "metadata": {},
   "outputs": [
    {
     "data": {
      "text/plain": [
       "AAACCTGAGGACATTA-1_xie    untreated\n",
       "AAACCTGCAGTCGTGC-1_xie    untreated\n",
       "AAACCTGCATGAAGTA-1_xie    untreated\n",
       "AAACCTGTCTCGCATC-1_xie    untreated\n",
       "AAACGGGTCCTAGAAC-1_xie    untreated\n",
       "                            ...    \n",
       "29291_schiller            untreated\n",
       "29292_schiller            untreated\n",
       "29293_schiller            untreated\n",
       "29294_schiller            untreated\n",
       "29295_schiller            untreated\n",
       "Name: condition, Length: 87871, dtype: category\n",
       "Categories (4, object): ['untreated', 'asbestos', 'bleomycin', 'saline']"
      ]
     },
     "execution_count": 15,
     "metadata": {},
     "output_type": "execute_result"
    }
   ],
   "source": [
    "adata.obs.condition"
   ]
  },
  {
   "cell_type": "markdown",
   "metadata": {},
   "source": [
    "nichenet"
   ]
  },
  {
   "cell_type": "code",
   "execution_count": null,
   "metadata": {},
   "outputs": [
    {
     "name": "stderr",
     "output_type": "stream",
     "text": [
      "UsageError: Cell magic `%%R` not found.\n"
     ]
    }
   ],
   "source": [
    "%%R\n",
    "# Increase timeout threshold\n",
    "options(timeout=600)\n",
    "\n",
    "# Load PK\n",
    "ligand_target_matrix <- readRDS(url(\"https://zenodo.org/record/7074291/files/ligand_target_matrix_nsga2r_final_mouse.rds\"))\n",
    "lr_network <- readRDS(url(\"https://zenodo.org/record/7074291/files/lr_network_mouse_21122021.rds\"))"
   ]
  },
  {
   "cell_type": "code",
   "execution_count": null,
   "metadata": {},
   "outputs": [],
   "source": [
    "sender_celltypes = [\"Aerocytes\", \"Alveolar_macrophages\", \"Endothelial\", \"Transitioning_epitheial\", \"Fibroblasts\", \"Interstitial_macrophages\", \"Epithelial\"]\n",
    "receiver_celltypes = [\"Aerocytes\", \"Alveolar_macrophages\", \"Endothelial\", \"Transitioning_epitheial\", \"Fibroblasts\", \"Interstitial_macrophages\", \"Epithelial\"]"
   ]
  },
  {
   "cell_type": "code",
   "execution_count": null,
   "metadata": {},
   "outputs": [],
   "source": [
    "# Helper function to obtain sufficiently expressed genes\n",
    "from functools import reduce\n",
    "\n",
    "\n",
    "def get_expressed_genes(adata, cell_type, expr_prop):\n",
    "    # calculate proportions\n",
    "    temp = adata[adata.obs[\"manual_celltype_annotation\"] == cell_type, :]\n",
    "    a = temp.X.getnnz(axis=0) / temp.X.shape[0]\n",
    "    stats = (\n",
    "        pd.DataFrame({\"genes\": temp.var_names, \"props\": a})\n",
    "        .assign(cell_type=cell_type)\n",
    "        .sort_values(\"genes\")\n",
    "    )\n",
    "\n",
    "    # obtain expressed genes\n",
    "    stats = stats[stats[\"props\"] >= expr_prop]\n",
    "    expressed_genes = stats[\"genes\"].values\n",
    "\n",
    "    return expressed_genes"
   ]
  },
  {
   "cell_type": "code",
   "execution_count": null,
   "metadata": {},
   "outputs": [
    {
     "name": "stderr",
     "output_type": "stream",
     "text": [
      "/tmp/user/21175/ipykernel_493118/982473700.py:8: RuntimeWarning: invalid value encountered in divide\n",
      "/tmp/user/21175/ipykernel_493118/982473700.py:8: RuntimeWarning: invalid value encountered in divide\n",
      "/tmp/user/21175/ipykernel_493118/982473700.py:8: RuntimeWarning: invalid value encountered in divide\n",
      "/tmp/user/21175/ipykernel_493118/982473700.py:8: RuntimeWarning: invalid value encountered in divide\n",
      "/tmp/user/21175/ipykernel_493118/982473700.py:8: RuntimeWarning: invalid value encountered in divide\n",
      "/tmp/user/21175/ipykernel_493118/982473700.py:8: RuntimeWarning: invalid value encountered in divide\n",
      "/tmp/user/21175/ipykernel_493118/982473700.py:8: RuntimeWarning: invalid value encountered in divide\n",
      "/tmp/user/21175/ipykernel_493118/982473700.py:8: RuntimeWarning: invalid value encountered in divide\n"
     ]
    }
   ],
   "source": [
    "sender_expressed = reduce(\n",
    "    np.union1d,\n",
    "    [\n",
    "        get_expressed_genes(adata, cell_type=cell_type, expr_prop=0.1)\n",
    "        for cell_type in sender_celltypes\n",
    "    ],\n",
    ")\n",
    "receiver_expressed = reduce(\n",
    "    np.union1d,\n",
    "    [\n",
    "        get_expressed_genes(adata, cell_type=cell_type, expr_prop=0.1)\n",
    "        for cell_type in receiver_celltypes\n",
    "    ],\n",
    ")"
   ]
  },
  {
   "cell_type": "code",
   "execution_count": null,
   "metadata": {},
   "outputs": [
    {
     "name": "stderr",
     "output_type": "stream",
     "text": [
      "UsageError: Cell magic `%%R` not found.\n"
     ]
    }
   ],
   "source": [
    "%%R -i sender_expressed -i receiver_expressed\n",
    "# get ligands and receptors in the resource\n",
    "ligands <- lr_network %>% pull(from) %>% unique()\n",
    "receptors <- lr_network %>% pull(to) %>% unique()\n",
    "\n",
    "# only keep the intersect between the resource and the data\n",
    "expressed_ligands <- intersect(ligands, sender_expressed)\n",
    "expressed_receptors <- intersect(receptors, receiver_expressed)\n",
    "\n",
    "# filter the network to only include ligands for which both the ligand and receptor are expressed\n",
    "potential_ligands <- lr_network %>% \n",
    "  filter(from %in% expressed_ligands & to %in% expressed_receptors) %>%\n",
    "  pull(from) %>% unique()"
   ]
  },
  {
   "cell_type": "code",
   "execution_count": null,
   "metadata": {},
   "outputs": [
    {
     "ename": "SyntaxError",
     "evalue": "invalid syntax (1302648512.py, line 1)",
     "output_type": "error",
     "traceback": [
      "\u001b[0;36m  Cell \u001b[0;32mIn[14], line 1\u001b[0;36m\u001b[0m\n\u001b[0;31m    deg = # all genes from table\u001b[0m\n\u001b[0m          ^\u001b[0m\n\u001b[0;31mSyntaxError\u001b[0m\u001b[0;31m:\u001b[0m invalid syntax\n"
     ]
    }
   ],
   "source": [
    "deg = # all genes from table"
   ]
  },
  {
   "cell_type": "code",
   "execution_count": null,
   "metadata": {},
   "outputs": [],
   "source": [
    "# define background of sufficiently expressed genes\n",
    "background_genes = deg[\"name\"].values\n",
    "\n",
    "# only keep significant and positive DE genes\n",
    "deg = deg[(deg[\"pvals\"] <= 0.05) & (deg[\"logFCs\"] > 1)]\n",
    "# get geneset of interest\n",
    "geneset_oi = deg[\"name\"].values"
   ]
  },
  {
   "cell_type": "code",
   "execution_count": null,
   "metadata": {},
   "outputs": [],
   "source": [
    "%%R -i geneset_oi -i background_genes -o ligand_activities\n",
    "\n",
    "ligand_activities <- predict_ligand_activities(geneset = geneset_oi, \n",
    "                                               background_expressed_genes = background_genes,\n",
    "                                               ligand_target_matrix = ligand_target_matrix,\n",
    "                                               potential_ligands = potential_ligands)\n",
    "\n",
    "ligand_activities <- ligand_activities %>% \n",
    "  arrange(-aupr) %>% \n",
    "  mutate(rank = rank(desc(aupr)))\n",
    "\n",
    "# show top10 ligand activities\n",
    "head(ligand_activities, n=10)"
   ]
  },
  {
   "cell_type": "code",
   "execution_count": null,
   "metadata": {},
   "outputs": [],
   "source": [
    "%%R -o vis_ligand_target\n",
    "top_ligands <- ligand_activities %>%\n",
    "  top_n(15, aupr) %>% \n",
    "  arrange(-aupr) %>%\n",
    "  pull(test_ligand) %>%\n",
    "  unique()\n",
    "\n",
    "# get regulatory potentials\n",
    "ligand_target_potential <- map(top_ligands,\n",
    "                               ~get_weighted_ligand_target_links(.x,\n",
    "                                                                 geneset = geneset_oi,\n",
    "                                                                 ligand_target_matrix = ligand_target_matrix,\n",
    "                                                                 n = 500)\n",
    "                              ) %>%\n",
    "    bind_rows() %>% \n",
    "    drop_na()\n",
    "    \n",
    "# prep for visualization\n",
    "active_ligand_target_links <- \n",
    "  prepare_ligand_target_visualization(ligand_target_df = ligand_target_potential, \n",
    "                                      ligand_target_matrix = ligand_target_matrix)\n",
    "\n",
    "# order ligands & targets\n",
    "order_ligands <- intersect(top_ligands,\n",
    "                           colnames(active_ligand_target_links)) %>% rev() %>% make.names()\n",
    "order_targets <- ligand_target_potential$target %>%\n",
    "  unique() %>% \n",
    "  intersect(rownames(active_ligand_target_links)) %>%\n",
    "  make.names()\n",
    "rownames(active_ligand_target_links) <- rownames(active_ligand_target_links) %>%\n",
    "  make.names() # make.names() for heatmap visualization of genes like H2-T23\n",
    "colnames(active_ligand_target_links) <- colnames(active_ligand_target_links) %>%\n",
    "  make.names() # make.names() for heatmap visualization of genes like H2-T23\n",
    "\n",
    "vis_ligand_target <- active_ligand_target_links[order_targets, order_ligands] %>%\n",
    "  t()\n",
    "    \n",
    "# convert to dataframe, and then it's returned to py\n",
    "vis_ligand_target <- vis_ligand_target %>%\n",
    "    as.data.frame() %>%\n",
    "    rownames_to_column(\"ligand\") %>%\n",
    "    as_tibble()"
   ]
  },
  {
   "cell_type": "code",
   "execution_count": null,
   "metadata": {},
   "outputs": [],
   "source": [
    "# convert dot to underscore and set ligand as index\n",
    "vis_ligand_target[\"ligand\"] = vis_ligand_target[\"ligand\"].replace(\"\\.\", \"_\", regex=True)\n",
    "vis_ligand_target.set_index(\"ligand\", inplace=True)\n",
    "# keep only columns where at least one gene has a regulatory potential >= 0.05\n",
    "vis_ligand_target = vis_ligand_target.loc[\n",
    "    :, vis_ligand_target[vis_ligand_target >= 0.05].any()\n",
    "]\n",
    "vis_ligand_target.head()"
   ]
  },
  {
   "cell_type": "code",
   "execution_count": null,
   "metadata": {},
   "outputs": [],
   "source": [
    "fig, ax = plt.subplots(1, 1, figsize=(15, 5))\n",
    "sns.heatmap(vis_ligand_target, xticklabels=True, ax=ax)\n",
    "plt.show()"
   ]
  }
 ],
 "metadata": {
  "kernelspec": {
   "display_name": "scanpy_r",
   "language": "python",
   "name": "python3"
  },
  "language_info": {
   "codemirror_mode": {
    "name": "ipython",
    "version": 3
   },
   "file_extension": ".py",
   "mimetype": "text/x-python",
   "name": "python",
   "nbconvert_exporter": "python",
   "pygments_lexer": "ipython3",
   "version": "3.9.16"
  },
  "orig_nbformat": 4
 },
 "nbformat": 4,
 "nbformat_minor": 2
}
