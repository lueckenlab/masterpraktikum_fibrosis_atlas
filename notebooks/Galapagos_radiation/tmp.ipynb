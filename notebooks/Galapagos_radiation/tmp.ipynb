{
 "cells": [
  {
   "cell_type": "markdown",
   "id": "59a04ea9-6966-49d9-aca7-b0be53b848fb",
   "metadata": {},
   "source": [
    "## Pertpy Analysis "
   ]
  },
  {
   "cell_type": "code",
   "execution_count": null,
   "id": "2bc0e373-0d10-4612-8fc2-95f05b5f6e3a",
   "metadata": {},
   "outputs": [],
   "source": [
    "import pertpy as pt\n",
    "\n",
    "import scanpy as sc\n",
    "import matplotlib\n",
    "import matplotlib.pyplot as plt\n",
    "\n",
    "plt.rcParams['figure.figsize'] = (7,7)\n",
    "import numpy as np\n",
    "import pandas as pd\n",
    "import scvi\n",
    "sc.settings.verbosity = 3\n",
    "import rpy2\n",
    "import ete3\n",
    "\n",
    "\n",
    "import scanpy as sc\n",
    "import rpy2.robjects as ro\n",
    "import rpy2.robjects.numpy2ri\n",
    "import anndata2ri\n",
    "\n",
    "anndata2ri.activate()\n",
    "rpy2.robjects.numpy2ri.activate()\n",
    "\n",
    "%load_ext rpy2.ipython"
   ]
  },
  {
   "cell_type": "code",
   "execution_count": 2,
   "id": "8ddf1688-e906-4bf3-9c7d-2490841e9bad",
   "metadata": {
    "scrolled": true
   },
   "outputs": [],
   "source": [
    "#! pip install anndata2ri\n",
    "#!pip install ete3"
   ]
  },
  {
   "cell_type": "code",
   "execution_count": 3,
   "id": "2d90bb2b-7354-405c-a421-a6c8219d90d3",
   "metadata": {
    "scrolled": true
   },
   "outputs": [],
   "source": [
    "#!pip install mizani==0.9.1\n",
    "#!pip install torchmetrics==0.11.4\n",
    "#!pip install -q torch==2.0.0+cu118 torchmetrics==0.11.4 torchvision==0.15.1+cu118 torchaudio==2.0.1+cu118 torchtext==0.15.1 torchdata==0.6.0 --extra-index-url https://download.pytorch.org/wh1/cul18 -U\n",
    "#!pip install pertpy"
   ]
  },
  {
   "cell_type": "code",
   "execution_count": 13,
   "id": "134cb3dc-e27a-4238-93b2-06c8bae4a0a1",
   "metadata": {},
   "outputs": [],
   "source": [
    "# path of partly preprocessed HLCA file used in this notebook:\n",
    "#adata_path = \"/home/h/hollenberg/MaPra/adata_radiation_processed.h5ad\"\n",
    "adata_path = \"/home/h/hollenberg/MaPra/adata_processed_2_lea.h5ad\"\n",
    "\n",
    "# path to results directory:\n",
    "dir_out = \"/home/h/hollenberg/MaPra/\""
   ]
  },
  {
   "cell_type": "code",
   "execution_count": 14,
   "id": "d16346e8-21c9-4f87-bc43-8ebebba13b48",
   "metadata": {},
   "outputs": [],
   "source": [
    "adata = sc.read(adata_path)"
   ]
  },
  {
   "cell_type": "code",
   "execution_count": 15,
   "id": "6e58b175-457d-4ca5-a7f0-251fb30816fa",
   "metadata": {},
   "outputs": [],
   "source": [
    "milo = pt.tl.Milo()\n",
    "mdata = milo.load(adata)"
   ]
  },
  {
   "cell_type": "code",
   "execution_count": 16,
   "id": "2b5851db-7fea-4f02-8ce7-d067dd79e29c",
   "metadata": {
    "scrolled": true
   },
   "outputs": [
    {
     "data": {
      "text/html": [
       "<pre>MuData object with n_obs × n_vars = 17544 × 18252\n",
       "  2 modalities\n",
       "    rna:\t17544 x 18252\n",
       "      obs:\t&#x27;samples&#x27;, &#x27;GSM&#x27;, &#x27;condition&#x27;, &#x27;id&#x27;, &#x27;n_genes_by_counts&#x27;, &#x27;log1p_n_genes_by_counts&#x27;, &#x27;total_counts&#x27;, &#x27;log1p_total_counts&#x27;, &#x27;pct_counts_in_top_20_genes&#x27;, &#x27;total_counts_mt&#x27;, &#x27;log1p_total_counts_mt&#x27;, &#x27;pct_counts_mt&#x27;, &#x27;total_counts_ribo&#x27;, &#x27;log1p_total_counts_ribo&#x27;, &#x27;pct_counts_ribo&#x27;, &#x27;total_counts_hb&#x27;, &#x27;log1p_total_counts_hb&#x27;, &#x27;pct_counts_hb&#x27;, &#x27;outlier&#x27;, &#x27;mt_outlier&#x27;, &#x27;n_genes&#x27;, &#x27;n_counts&#x27;, &#x27;doublet_score&#x27;, &#x27;predicted_doublet&#x27;, &#x27;is_doublet&#x27;\n",
       "      var:\t&#x27;mt&#x27;, &#x27;ribo&#x27;, &#x27;hb&#x27;, &#x27;n_cells_by_counts&#x27;, &#x27;mean_counts&#x27;, &#x27;log1p_mean_counts&#x27;, &#x27;pct_dropout_by_counts&#x27;, &#x27;total_counts&#x27;, &#x27;log1p_total_counts&#x27;, &#x27;n_counts&#x27;\n",
       "      uns:\t&#x27;condition_colors&#x27;, &#x27;is_doublet_colors&#x27;, &#x27;neighbors&#x27;, &#x27;pca&#x27;, &#x27;predicted_doublet_colors&#x27;, &#x27;samples_colors&#x27;, &#x27;scrublet&#x27;, &#x27;umap&#x27;\n",
       "      obsm:\t&#x27;X_pca&#x27;, &#x27;X_umap&#x27;\n",
       "      varm:\t&#x27;PCs&#x27;\n",
       "      layers:\t&#x27;log1p_norm&#x27;\n",
       "      obsp:\t&#x27;connectivities&#x27;, &#x27;distances&#x27;\n",
       "    milo:\t0 x 0</pre>"
      ],
      "text/plain": [
       "MuData object with n_obs × n_vars = 17544 × 18252\n",
       "  2 modalities\n",
       "    rna:\t17544 x 18252\n",
       "      obs:\t'samples', 'GSM', 'condition', 'id', 'n_genes_by_counts', 'log1p_n_genes_by_counts', 'total_counts', 'log1p_total_counts', 'pct_counts_in_top_20_genes', 'total_counts_mt', 'log1p_total_counts_mt', 'pct_counts_mt', 'total_counts_ribo', 'log1p_total_counts_ribo', 'pct_counts_ribo', 'total_counts_hb', 'log1p_total_counts_hb', 'pct_counts_hb', 'outlier', 'mt_outlier', 'n_genes', 'n_counts', 'doublet_score', 'predicted_doublet', 'is_doublet'\n",
       "      var:\t'mt', 'ribo', 'hb', 'n_cells_by_counts', 'mean_counts', 'log1p_mean_counts', 'pct_dropout_by_counts', 'total_counts', 'log1p_total_counts', 'n_counts'\n",
       "      uns:\t'condition_colors', 'is_doublet_colors', 'neighbors', 'pca', 'predicted_doublet_colors', 'samples_colors', 'scrublet', 'umap'\n",
       "      obsm:\t'X_pca', 'X_umap'\n",
       "      varm:\t'PCs'\n",
       "      layers:\t'log1p_norm'\n",
       "      obsp:\t'connectivities', 'distances'\n",
       "    milo:\t0 x 0"
      ]
     },
     "execution_count": 16,
     "metadata": {},
     "output_type": "execute_result"
    }
   ],
   "source": [
    "mdata"
   ]
  },
  {
   "cell_type": "code",
   "execution_count": 17,
   "id": "d207bed2-f42a-4476-87c2-54be3d8f13f1",
   "metadata": {},
   "outputs": [
    {
     "name": "stdout",
     "output_type": "stream",
     "text": [
      "extracting highly variable genes\n",
      "    finished (0:00:01)\n",
      "--> added\n",
      "    'highly_variable', boolean vector (adata.var)\n",
      "    'means', float vector (adata.var)\n",
      "    'dispersions', float vector (adata.var)\n",
      "    'dispersions_norm', float vector (adata.var)\n"
     ]
    }
   ],
   "source": [
    "sc.pp.highly_variable_genes(adata)"
   ]
  },
  {
   "cell_type": "code",
   "execution_count": null,
   "id": "ab0760b7-29cc-4ed5-86cf-152467d6bb44",
   "metadata": {},
   "outputs": [],
   "source": [
    "adata_scvi = adata[:, adata.var[\"highly_variable\"]].copy()\n",
    "scvi.model.SCVI.setup_anndata(adata_scvi, layer=\"log1p_norm\", batch_key=\"condition\")\n",
    "model_scvi = scvi.model.SCVI(adata_scvi)\n",
    "max_epochs_scvi = int(np.min([round((200 / adata.n_obs) * 400), 50]))\n",
    "model_scvi.train(max_epochs=max_epochs_scvi)\n",
    "adata.obsm[\"X_scVI\"] = model_scvi.get_latent_representation()"
   ]
  },
  {
   "cell_type": "markdown",
   "id": "ce3eba31-bba8-4a94-aeb7-41745ba9e1ce",
   "metadata": {},
   "source": [
    "## Build KNN graph\n"
   ]
  },
  {
   "cell_type": "code",
   "execution_count": 21,
   "id": "1c820a8d-57e2-4c67-b643-de25caa064bf",
   "metadata": {},
   "outputs": [
    {
     "name": "stdout",
     "output_type": "stream",
     "text": [
      "computing neighbors\n",
      "    finished: added to `.uns['neighbors']`\n",
      "    `.obsp['distances']`, distances for each pair of neighbors\n",
      "    `.obsp['connectivities']`, weighted adjacency matrix (0:00:35)\n"
     ]
    }
   ],
   "source": [
    "sc.pp.neighbors(mdata['rna'], use_rep='X_scVI', n_neighbors=150, n_pcs=10)"
   ]
  },
  {
   "cell_type": "markdown",
   "id": "4fa17b7f-901c-4ea3-acb8-ffe15bb98414",
   "metadata": {},
   "source": [
    "## Construct neighbourhoods\n",
    "\n"
   ]
  },
  {
   "cell_type": "code",
   "execution_count": 22,
   "id": "28121f14-e246-4550-977c-cd4e8ca9f795",
   "metadata": {},
   "outputs": [
    {
     "data": {
      "text/html": [
       "<div>\n",
       "<style scoped>\n",
       "    .dataframe tbody tr th:only-of-type {\n",
       "        vertical-align: middle;\n",
       "    }\n",
       "\n",
       "    .dataframe tbody tr th {\n",
       "        vertical-align: top;\n",
       "    }\n",
       "\n",
       "    .dataframe thead th {\n",
       "        text-align: right;\n",
       "    }\n",
       "</style>\n",
       "<table border=\"1\" class=\"dataframe\">\n",
       "  <thead>\n",
       "    <tr style=\"text-align: right;\">\n",
       "      <th></th>\n",
       "      <th>nhood_ixs_refined</th>\n",
       "      <th>nhood_kth_distance</th>\n",
       "    </tr>\n",
       "  </thead>\n",
       "  <tbody>\n",
       "    <tr>\n",
       "      <th>AAAGTAGAGAAACGCC-1</th>\n",
       "      <td>1</td>\n",
       "      <td>1.159875</td>\n",
       "    </tr>\n",
       "    <tr>\n",
       "      <th>AACTTTCAGAGTGACC-1</th>\n",
       "      <td>1</td>\n",
       "      <td>1.020193</td>\n",
       "    </tr>\n",
       "    <tr>\n",
       "      <th>AAGGAGCGTCTGATTG-1</th>\n",
       "      <td>1</td>\n",
       "      <td>0.927946</td>\n",
       "    </tr>\n",
       "    <tr>\n",
       "      <th>AAGGCAGTCTCGCATC-1</th>\n",
       "      <td>1</td>\n",
       "      <td>2.088737</td>\n",
       "    </tr>\n",
       "    <tr>\n",
       "      <th>ACCCACTAGAACTGTA-1</th>\n",
       "      <td>1</td>\n",
       "      <td>1.327079</td>\n",
       "    </tr>\n",
       "    <tr>\n",
       "      <th>...</th>\n",
       "      <td>...</td>\n",
       "      <td>...</td>\n",
       "    </tr>\n",
       "    <tr>\n",
       "      <th>TGGCCAGTCAACTCTT-1</th>\n",
       "      <td>1</td>\n",
       "      <td>1.332930</td>\n",
       "    </tr>\n",
       "    <tr>\n",
       "      <th>TGGCGCATCATGTAGC-1</th>\n",
       "      <td>1</td>\n",
       "      <td>1.180577</td>\n",
       "    </tr>\n",
       "    <tr>\n",
       "      <th>TGTGGTAGTTACAGAA-1-1</th>\n",
       "      <td>1</td>\n",
       "      <td>1.196121</td>\n",
       "    </tr>\n",
       "    <tr>\n",
       "      <th>TTAGGACAGCTAGCCC-1</th>\n",
       "      <td>1</td>\n",
       "      <td>0.979592</td>\n",
       "    </tr>\n",
       "    <tr>\n",
       "      <th>TTGGCAATCTAAGCCA-1</th>\n",
       "      <td>1</td>\n",
       "      <td>1.639263</td>\n",
       "    </tr>\n",
       "  </tbody>\n",
       "</table>\n",
       "<p>963 rows × 2 columns</p>\n",
       "</div>"
      ],
      "text/plain": [
       "                      nhood_ixs_refined  nhood_kth_distance\n",
       "AAAGTAGAGAAACGCC-1                    1            1.159875\n",
       "AACTTTCAGAGTGACC-1                    1            1.020193\n",
       "AAGGAGCGTCTGATTG-1                    1            0.927946\n",
       "AAGGCAGTCTCGCATC-1                    1            2.088737\n",
       "ACCCACTAGAACTGTA-1                    1            1.327079\n",
       "...                                 ...                 ...\n",
       "TGGCCAGTCAACTCTT-1                    1            1.332930\n",
       "TGGCGCATCATGTAGC-1                    1            1.180577\n",
       "TGTGGTAGTTACAGAA-1-1                  1            1.196121\n",
       "TTAGGACAGCTAGCCC-1                    1            0.979592\n",
       "TTGGCAATCTAAGCCA-1                    1            1.639263\n",
       "\n",
       "[963 rows x 2 columns]"
      ]
     },
     "execution_count": 22,
     "metadata": {},
     "output_type": "execute_result"
    }
   ],
   "source": [
    "milo.make_nhoods(mdata['rna'], prop=0.1)\n",
    "mdata['rna'].obsm[\"nhoods\"]\n",
    "mdata['rna'][mdata['rna'].obs['nhood_ixs_refined'] != 0].obs[['nhood_ixs_refined', 'nhood_kth_distance']]"
   ]
  },
  {
   "cell_type": "code",
   "execution_count": 23,
   "id": "fb1f5611-a65f-40ae-b2c8-8c3d37a5f4bd",
   "metadata": {},
   "outputs": [
    {
     "data": {
      "image/png": "[encoded data removed]",
      "text/plain": [
       "<Figure size 700x700 with 1 Axes>"
      ]
     },
     "metadata": {},
     "output_type": "display_data"
    }
   ],
   "source": [
    "nhood_size = np.array(mdata['rna'].obsm[\"nhoods\"].sum(0)).ravel()\n",
    "plt.hist(nhood_size, bins=100);\n",
    "plt.xlabel('# cells in nhood');\n",
    "plt.ylabel('# nhoods');"
   ]
  },
  {
   "cell_type": "markdown",
   "id": "0b857cd6-cccd-415f-be6a-8db9ced384d4",
   "metadata": {},
   "source": [
    "## Count cells in neighbourhoods\n",
    "\n"
   ]
  },
  {
   "cell_type": "code",
   "execution_count": 24,
   "id": "a185bf69-0474-43f4-8ece-50cdc46001c7",
   "metadata": {},
   "outputs": [
    {
     "data": {
      "text/html": [
       "<pre>MuData object with n_obs × n_vars = 17544 × 18252\n",
       "  2 modalities\n",
       "    rna:\t17544 x 18252\n",
       "      obs:\t&#x27;samples&#x27;, &#x27;GSM&#x27;, &#x27;condition&#x27;, &#x27;id&#x27;, &#x27;n_genes_by_counts&#x27;, &#x27;log1p_n_genes_by_counts&#x27;, &#x27;total_counts&#x27;, &#x27;log1p_total_counts&#x27;, &#x27;pct_counts_in_top_20_genes&#x27;, &#x27;total_counts_mt&#x27;, &#x27;log1p_total_counts_mt&#x27;, &#x27;pct_counts_mt&#x27;, &#x27;total_counts_ribo&#x27;, &#x27;log1p_total_counts_ribo&#x27;, &#x27;pct_counts_ribo&#x27;, &#x27;total_counts_hb&#x27;, &#x27;log1p_total_counts_hb&#x27;, &#x27;pct_counts_hb&#x27;, &#x27;outlier&#x27;, &#x27;mt_outlier&#x27;, &#x27;n_genes&#x27;, &#x27;n_counts&#x27;, &#x27;doublet_score&#x27;, &#x27;predicted_doublet&#x27;, &#x27;is_doublet&#x27;, &#x27;nhood_ixs_random&#x27;, &#x27;nhood_ixs_refined&#x27;, &#x27;nhood_kth_distance&#x27;\n",
       "      var:\t&#x27;mt&#x27;, &#x27;ribo&#x27;, &#x27;hb&#x27;, &#x27;n_cells_by_counts&#x27;, &#x27;mean_counts&#x27;, &#x27;log1p_mean_counts&#x27;, &#x27;pct_dropout_by_counts&#x27;, &#x27;total_counts&#x27;, &#x27;log1p_total_counts&#x27;, &#x27;n_counts&#x27;, &#x27;highly_variable&#x27;, &#x27;means&#x27;, &#x27;dispersions&#x27;, &#x27;dispersions_norm&#x27;\n",
       "      uns:\t&#x27;condition_colors&#x27;, &#x27;is_doublet_colors&#x27;, &#x27;neighbors&#x27;, &#x27;pca&#x27;, &#x27;predicted_doublet_colors&#x27;, &#x27;samples_colors&#x27;, &#x27;scrublet&#x27;, &#x27;umap&#x27;, &#x27;hvg&#x27;, &#x27;nhood_neighbors_key&#x27;\n",
       "      obsm:\t&#x27;X_pca&#x27;, &#x27;X_umap&#x27;, &#x27;X_scVI&#x27;, &#x27;nhoods&#x27;\n",
       "      varm:\t&#x27;PCs&#x27;\n",
       "      layers:\t&#x27;log1p_norm&#x27;\n",
       "      obsp:\t&#x27;connectivities&#x27;, &#x27;distances&#x27;\n",
       "    milo:\t11 x 963\n",
       "      var:\t&#x27;index_cell&#x27;, &#x27;kth_distance&#x27;\n",
       "      uns:\t&#x27;sample_col&#x27;</pre>"
      ],
      "text/plain": [
       "MuData object with n_obs × n_vars = 17544 × 18252\n",
       "  2 modalities\n",
       "    rna:\t17544 x 18252\n",
       "      obs:\t'samples', 'GSM', 'condition', 'id', 'n_genes_by_counts', 'log1p_n_genes_by_counts', 'total_counts', 'log1p_total_counts', 'pct_counts_in_top_20_genes', 'total_counts_mt', 'log1p_total_counts_mt', 'pct_counts_mt', 'total_counts_ribo', 'log1p_total_counts_ribo', 'pct_counts_ribo', 'total_counts_hb', 'log1p_total_counts_hb', 'pct_counts_hb', 'outlier', 'mt_outlier', 'n_genes', 'n_counts', 'doublet_score', 'predicted_doublet', 'is_doublet', 'nhood_ixs_random', 'nhood_ixs_refined', 'nhood_kth_distance'\n",
       "      var:\t'mt', 'ribo', 'hb', 'n_cells_by_counts', 'mean_counts', 'log1p_mean_counts', 'pct_dropout_by_counts', 'total_counts', 'log1p_total_counts', 'n_counts', 'highly_variable', 'means', 'dispersions', 'dispersions_norm'\n",
       "      uns:\t'condition_colors', 'is_doublet_colors', 'neighbors', 'pca', 'predicted_doublet_colors', 'samples_colors', 'scrublet', 'umap', 'hvg', 'nhood_neighbors_key'\n",
       "      obsm:\t'X_pca', 'X_umap', 'X_scVI', 'nhoods'\n",
       "      varm:\t'PCs'\n",
       "      layers:\t'log1p_norm'\n",
       "      obsp:\t'connectivities', 'distances'\n",
       "    milo:\t11 x 963\n",
       "      var:\t'index_cell', 'kth_distance'\n",
       "      uns:\t'sample_col'"
      ]
     },
     "execution_count": 24,
     "metadata": {},
     "output_type": "execute_result"
    }
   ],
   "source": [
    "mdata = milo.count_nhoods(mdata, sample_col=\"samples\")\n",
    "mdata"
   ]
  },
  {
   "cell_type": "code",
   "execution_count": 25,
   "id": "3ead6d50-9ce8-40c6-abc0-575daa0c6bf3",
   "metadata": {},
   "outputs": [
    {
     "data": {
      "text/plain": [
       "AnnData object with n_obs × n_vars = 11 × 963\n",
       "    var: 'index_cell', 'kth_distance'\n",
       "    uns: 'sample_col'"
      ]
     },
     "execution_count": 25,
     "metadata": {},
     "output_type": "execute_result"
    }
   ],
   "source": [
    "mdata['milo']"
   ]
  },
  {
   "cell_type": "markdown",
   "id": "b2697285-b68c-4b5b-b6f7-b2087eeb357b",
   "metadata": {},
   "source": [
    "## Differential abundance testing with GLM\n",
    "\n"
   ]
  },
  {
   "cell_type": "code",
   "execution_count": 30,
   "id": "ea24a0f1-dd7d-40a5-89e5-bf40f6aba33a",
   "metadata": {},
   "outputs": [],
   "source": [
    "# Reorder categories \n",
    "# (by default, the last category is taken as the condition of interest)\n",
    "\n",
    "mdata['rna'].obs['condition'] = mdata['rna'].obs['condition'].cat.reorder_categories(['bleomycin', 'saline', \"nintedanib\"])\n",
    "#mdata['rna'].obs['condition']"
   ]
  },
  {
   "cell_type": "code",
   "execution_count": 31,
   "id": "2b280f1b-5300-4ce6-8387-7759a32f7a41",
   "metadata": {
    "scrolled": true
   },
   "outputs": [
    {
     "data": {
      "text/html": [
       "<pre style=\"white-space:pre;overflow-x:auto;line-height:normal;font-family:Menlo,'DejaVu Sans Mono',consolas,'Courier New',monospace\">Install Bioconductor library `<span style=\"color: #008000; text-decoration-color: #008000\">'edgeR'</span>` first as `BiocManager::<span style=\"color: #800080; text-decoration-color: #800080; font-weight: bold\">install</span><span style=\"font-weight: bold\">(</span><span style=\"color: #008000; text-decoration-color: #008000\">'edgeR'</span><span style=\"font-weight: bold\">)</span>.`\n",
       "</pre>\n"
      ],
      "text/plain": [
       "Install Bioconductor library `\u001b[32m'edgeR'\u001b[0m` first as `BiocManager::\u001b[1;35minstall\u001b[0m\u001b[1m(\u001b[0m\u001b[32m'edgeR'\u001b[0m\u001b[1m)\u001b[0m.`\n"
      ]
     },
     "metadata": {},
     "output_type": "display_data"
    },
    {
     "ename": "PackageNotInstalledError",
     "evalue": "The R package \"edgeR\" is not installed.",
     "output_type": "error",
     "traceback": [
      "\u001b[0;31m---------------------------------------------------------------------------\u001b[0m",
      "\u001b[0;31mPackageNotInstalledError\u001b[0m                  Traceback (most recent call last)",
      "Cell \u001b[0;32mIn[31], line 1\u001b[0m\n\u001b[0;32m----> 1\u001b[0m \u001b[43mmilo\u001b[49m\u001b[38;5;241;43m.\u001b[39;49m\u001b[43mda_nhoods\u001b[49m\u001b[43m(\u001b[49m\u001b[43mmdata\u001b[49m\u001b[43m,\u001b[49m\u001b[43m \u001b[49m\u001b[43mdesign\u001b[49m\u001b[38;5;241;43m=\u001b[39;49m\u001b[38;5;124;43m'\u001b[39;49m\u001b[38;5;124;43m~condition\u001b[39;49m\u001b[38;5;124;43m'\u001b[39;49m\u001b[43m)\u001b[49m\n",
      "File \u001b[0;32m~/miniconda3/envs/scanpy/lib/python3.9/site-packages/pertpy/tools/_milo.py:312\u001b[0m, in \u001b[0;36mMilo.da_nhoods\u001b[0;34m(self, mdata, design, model_contrasts, subset_samples, add_intercept, feature_key, solver)\u001b[0m\n\u001b[1;32m    308\u001b[0m keep_nhoods \u001b[38;5;241m=\u001b[39m count_mat[:, keep_smp]\u001b[38;5;241m.\u001b[39msum(\u001b[38;5;241m1\u001b[39m) \u001b[38;5;241m>\u001b[39m \u001b[38;5;241m0\u001b[39m\n\u001b[1;32m    310\u001b[0m \u001b[38;5;28;01mif\u001b[39;00m solver \u001b[38;5;241m==\u001b[39m \u001b[38;5;124m\"\u001b[39m\u001b[38;5;124medger\u001b[39m\u001b[38;5;124m\"\u001b[39m:\n\u001b[1;32m    311\u001b[0m     \u001b[38;5;66;03m# Set up rpy2 to run edgeR\u001b[39;00m\n\u001b[0;32m--> 312\u001b[0m     edgeR, limma, stats, base \u001b[38;5;241m=\u001b[39m \u001b[38;5;28;43mself\u001b[39;49m\u001b[38;5;241;43m.\u001b[39;49m\u001b[43m_setup_rpy2\u001b[49m\u001b[43m(\u001b[49m\u001b[43m)\u001b[49m\n\u001b[1;32m    314\u001b[0m     \u001b[38;5;66;03m# Define model matrix\u001b[39;00m\n\u001b[1;32m    315\u001b[0m     \u001b[38;5;28;01mif\u001b[39;00m \u001b[38;5;129;01mnot\u001b[39;00m add_intercept \u001b[38;5;129;01mor\u001b[39;00m model_contrasts \u001b[38;5;129;01mis\u001b[39;00m \u001b[38;5;129;01mnot\u001b[39;00m \u001b[38;5;28;01mNone\u001b[39;00m:\n",
      "File \u001b[0;32m~/miniconda3/envs/scanpy/lib/python3.9/site-packages/pertpy/tools/_milo.py:544\u001b[0m, in \u001b[0;36mMilo._setup_rpy2\u001b[0;34m(self)\u001b[0m\n\u001b[1;32m    542\u001b[0m numpy2ri\u001b[38;5;241m.\u001b[39mactivate()\n\u001b[1;32m    543\u001b[0m pandas2ri\u001b[38;5;241m.\u001b[39mactivate()\n\u001b[0;32m--> 544\u001b[0m edgeR \u001b[38;5;241m=\u001b[39m \u001b[38;5;28;43mself\u001b[39;49m\u001b[38;5;241;43m.\u001b[39;49m\u001b[43m_try_import_bioc_library\u001b[49m\u001b[43m(\u001b[49m\u001b[38;5;124;43m\"\u001b[39;49m\u001b[38;5;124;43medgeR\u001b[39;49m\u001b[38;5;124;43m\"\u001b[39;49m\u001b[43m)\u001b[49m\n\u001b[1;32m    545\u001b[0m limma \u001b[38;5;241m=\u001b[39m \u001b[38;5;28mself\u001b[39m\u001b[38;5;241m.\u001b[39m_try_import_bioc_library(\u001b[38;5;124m\"\u001b[39m\u001b[38;5;124mlimma\u001b[39m\u001b[38;5;124m\"\u001b[39m)\n\u001b[1;32m    546\u001b[0m stats \u001b[38;5;241m=\u001b[39m importr(\u001b[38;5;124m\"\u001b[39m\u001b[38;5;124mstats\u001b[39m\u001b[38;5;124m\"\u001b[39m)\n",
      "File \u001b[0;32m~/miniconda3/envs/scanpy/lib/python3.9/site-packages/pertpy/tools/_milo.py:561\u001b[0m, in \u001b[0;36mMilo._try_import_bioc_library\u001b[0;34m(self, name)\u001b[0m\n\u001b[1;32m    555\u001b[0m \u001b[38;5;250m\u001b[39m\u001b[38;5;124;03m\"\"\"Import R packages.\u001b[39;00m\n\u001b[1;32m    556\u001b[0m \n\u001b[1;32m    557\u001b[0m \u001b[38;5;124;03mArgs:\u001b[39;00m\n\u001b[1;32m    558\u001b[0m \u001b[38;5;124;03m    name (str): R packages name\u001b[39;00m\n\u001b[1;32m    559\u001b[0m \u001b[38;5;124;03m\"\"\"\u001b[39;00m\n\u001b[1;32m    560\u001b[0m \u001b[38;5;28;01mtry\u001b[39;00m:\n\u001b[0;32m--> 561\u001b[0m     _r_lib \u001b[38;5;241m=\u001b[39m \u001b[43mimportr\u001b[49m\u001b[43m(\u001b[49m\u001b[43mname\u001b[49m\u001b[43m)\u001b[49m\n\u001b[1;32m    562\u001b[0m     \u001b[38;5;28;01mreturn\u001b[39;00m _r_lib\n\u001b[1;32m    563\u001b[0m \u001b[38;5;28;01mexcept\u001b[39;00m PackageNotInstalledError:\n",
      "File \u001b[0;32m~/miniconda3/envs/scanpy/lib/python3.9/site-packages/rpy2/robjects/packages.py:472\u001b[0m, in \u001b[0;36mimportr\u001b[0;34m(name, lib_loc, robject_translations, signature_translation, suppress_messages, on_conflict, symbol_r2python, symbol_resolve, data)\u001b[0m\n\u001b[1;32m    440\u001b[0m \u001b[38;5;250m\u001b[39m\u001b[38;5;124;03m\"\"\" Import an R package.\u001b[39;00m\n\u001b[1;32m    441\u001b[0m \n\u001b[1;32m    442\u001b[0m \u001b[38;5;124;03mArguments:\u001b[39;00m\n\u001b[0;32m   (...)\u001b[0m\n\u001b[1;32m    468\u001b[0m \n\u001b[1;32m    469\u001b[0m \u001b[38;5;124;03m\"\"\"\u001b[39;00m\n\u001b[1;32m    471\u001b[0m \u001b[38;5;28;01mif\u001b[39;00m \u001b[38;5;129;01mnot\u001b[39;00m isinstalled(name, lib_loc\u001b[38;5;241m=\u001b[39mlib_loc):\n\u001b[0;32m--> 472\u001b[0m     \u001b[38;5;28;01mraise\u001b[39;00m PackageNotInstalledError(\n\u001b[1;32m    473\u001b[0m         \u001b[38;5;124m'\u001b[39m\u001b[38;5;124mThe R package \u001b[39m\u001b[38;5;124m\"\u001b[39m\u001b[38;5;132;01m%s\u001b[39;00m\u001b[38;5;124m\"\u001b[39m\u001b[38;5;124m is not installed.\u001b[39m\u001b[38;5;124m'\u001b[39m \u001b[38;5;241m%\u001b[39m name\n\u001b[1;32m    474\u001b[0m     )\n\u001b[1;32m    476\u001b[0m \u001b[38;5;28;01mif\u001b[39;00m suppress_messages:\n\u001b[1;32m    477\u001b[0m     ok \u001b[38;5;241m=\u001b[39m quiet_require(name, lib_loc\u001b[38;5;241m=\u001b[39mlib_loc)\n",
      "\u001b[0;31mPackageNotInstalledError\u001b[0m: The R package \"edgeR\" is not installed."
     ]
    }
   ],
   "source": [
    "milo.da_nhoods(mdata, design='~condition')"
   ]
  },
  {
   "cell_type": "code",
   "execution_count": 46,
   "id": "8f3b9db6-ba38-4d12-a005-77bfbe1c7c53",
   "metadata": {
    "scrolled": true
   },
   "outputs": [
    {
     "name": "stdout",
     "output_type": "stream",
     "text": [
      "[1] ‘3.10’\n"
     ]
    },
    {
     "name": "stderr",
     "output_type": "stream",
     "text": [
      "R[write to console]: Error in dev.off() : cannot shut down device 1 (the null device)\n",
      "\n"
     ]
    },
    {
     "ename": "RRuntimeError",
     "evalue": "Error in dev.off() : cannot shut down device 1 (the null device)\n",
     "output_type": "error",
     "traceback": [
      "\u001b[0;31m---------------------------------------------------------------------------\u001b[0m",
      "\u001b[0;31mRRuntimeError\u001b[0m                             Traceback (most recent call last)",
      "Cell \u001b[0;32mIn[46], line 1\u001b[0m\n\u001b[0;32m----> 1\u001b[0m \u001b[43mget_ipython\u001b[49m\u001b[43m(\u001b[49m\u001b[43m)\u001b[49m\u001b[38;5;241;43m.\u001b[39;49m\u001b[43mrun_cell_magic\u001b[49m\u001b[43m(\u001b[49m\u001b[38;5;124;43m'\u001b[39;49m\u001b[38;5;124;43mR\u001b[39;49m\u001b[38;5;124;43m'\u001b[39;49m\u001b[43m,\u001b[49m\u001b[43m \u001b[49m\u001b[38;5;124;43m'\u001b[39;49m\u001b[38;5;124;43m'\u001b[39;49m\u001b[43m,\u001b[49m\u001b[43m \u001b[49m\u001b[38;5;124;43m'\u001b[39;49m\u001b[38;5;124;43m#if (!require(\u001b[39;49m\u001b[38;5;124;43m\"\u001b[39;49m\u001b[38;5;124;43mBiocManager\u001b[39;49m\u001b[38;5;124;43m\"\u001b[39;49m\u001b[38;5;124;43m, quietly = TRUE))\u001b[39;49m\u001b[38;5;130;43;01m\\n\u001b[39;49;00m\u001b[38;5;124;43m#    install.packages(\u001b[39;49m\u001b[38;5;124;43m\"\u001b[39;49m\u001b[38;5;124;43mBiocManager\u001b[39;49m\u001b[38;5;124;43m\"\u001b[39;49m\u001b[38;5;124;43m)\u001b[39;49m\u001b[38;5;130;43;01m\\n\u001b[39;49;00m\u001b[38;5;124;43mversion()\u001b[39;49m\u001b[38;5;130;43;01m\\n\u001b[39;49;00m\u001b[38;5;124;43m#BiocManager::install(\u001b[39;49m\u001b[38;5;130;43;01m\\'\u001b[39;49;00m\u001b[38;5;124;43medgeR\u001b[39;49m\u001b[38;5;130;43;01m\\'\u001b[39;49;00m\u001b[38;5;124;43m)\u001b[39;49m\u001b[38;5;130;43;01m\\n\u001b[39;49;00m\u001b[38;5;124;43m#library(edgeR)\u001b[39;49m\u001b[38;5;130;43;01m\\n\u001b[39;49;00m\u001b[38;5;124;43m'\u001b[39;49m\u001b[43m)\u001b[49m\n",
      "File \u001b[0;32m~/miniconda3/envs/scanpy/lib/python3.9/site-packages/IPython/core/interactiveshell.py:2478\u001b[0m, in \u001b[0;36mInteractiveShell.run_cell_magic\u001b[0;34m(self, magic_name, line, cell)\u001b[0m\n\u001b[1;32m   2476\u001b[0m \u001b[38;5;28;01mwith\u001b[39;00m \u001b[38;5;28mself\u001b[39m\u001b[38;5;241m.\u001b[39mbuiltin_trap:\n\u001b[1;32m   2477\u001b[0m     args \u001b[38;5;241m=\u001b[39m (magic_arg_s, cell)\n\u001b[0;32m-> 2478\u001b[0m     result \u001b[38;5;241m=\u001b[39m \u001b[43mfn\u001b[49m\u001b[43m(\u001b[49m\u001b[38;5;241;43m*\u001b[39;49m\u001b[43margs\u001b[49m\u001b[43m,\u001b[49m\u001b[43m \u001b[49m\u001b[38;5;241;43m*\u001b[39;49m\u001b[38;5;241;43m*\u001b[39;49m\u001b[43mkwargs\u001b[49m\u001b[43m)\u001b[49m\n\u001b[1;32m   2480\u001b[0m \u001b[38;5;66;03m# The code below prevents the output from being displayed\u001b[39;00m\n\u001b[1;32m   2481\u001b[0m \u001b[38;5;66;03m# when using magics with decodator @output_can_be_silenced\u001b[39;00m\n\u001b[1;32m   2482\u001b[0m \u001b[38;5;66;03m# when the last Python token in the expression is a ';'.\u001b[39;00m\n\u001b[1;32m   2483\u001b[0m \u001b[38;5;28;01mif\u001b[39;00m \u001b[38;5;28mgetattr\u001b[39m(fn, magic\u001b[38;5;241m.\u001b[39mMAGIC_OUTPUT_CAN_BE_SILENCED, \u001b[38;5;28;01mFalse\u001b[39;00m):\n",
      "File \u001b[0;32m~/miniconda3/envs/scanpy/lib/python3.9/site-packages/rpy2/ipython/rmagic.py:981\u001b[0m, in \u001b[0;36mRMagics.R\u001b[0;34m(self, line, cell, local_ns)\u001b[0m\n\u001b[1;32m    979\u001b[0m \u001b[38;5;28;01mfinally\u001b[39;00m:\n\u001b[1;32m    980\u001b[0m     \u001b[38;5;28;01mif\u001b[39;00m \u001b[38;5;28mself\u001b[39m\u001b[38;5;241m.\u001b[39mdevice \u001b[38;5;129;01min\u001b[39;00m DEVICES_STATIC:\n\u001b[0;32m--> 981\u001b[0m         \u001b[43mro\u001b[49m\u001b[38;5;241;43m.\u001b[39;49m\u001b[43mr\u001b[49m\u001b[43m(\u001b[49m\u001b[38;5;124;43m'\u001b[39;49m\u001b[38;5;124;43mdev.off()\u001b[39;49m\u001b[38;5;124;43m'\u001b[39;49m\u001b[43m)\u001b[49m\n\u001b[1;32m    982\u001b[0m     \u001b[38;5;28;01mif\u001b[39;00m text_output:\n\u001b[1;32m    983\u001b[0m         \u001b[38;5;66;03m# display_data.append(('RMagic.R', {'text/plain':text_output}))\u001b[39;00m\n\u001b[1;32m    984\u001b[0m         displaypub\u001b[38;5;241m.\u001b[39mpublish_display_data(\n\u001b[1;32m    985\u001b[0m             source\u001b[38;5;241m=\u001b[39m\u001b[38;5;124m'\u001b[39m\u001b[38;5;124mRMagic.R\u001b[39m\u001b[38;5;124m'\u001b[39m,\n\u001b[1;32m    986\u001b[0m             data\u001b[38;5;241m=\u001b[39m{\u001b[38;5;124m'\u001b[39m\u001b[38;5;124mtext/plain\u001b[39m\u001b[38;5;124m'\u001b[39m: text_output})\n",
      "File \u001b[0;32m~/miniconda3/envs/scanpy/lib/python3.9/site-packages/rpy2/robjects/__init__.py:501\u001b[0m, in \u001b[0;36mR.__call__\u001b[0;34m(self, string, invisible, print_r_warnings)\u001b[0m\n\u001b[1;32m    499\u001b[0m     invisible \u001b[38;5;241m=\u001b[39m \u001b[38;5;28mself\u001b[39m\u001b[38;5;241m.\u001b[39m_invisible\n\u001b[1;32m    500\u001b[0m \u001b[38;5;28;01mif\u001b[39;00m invisible:\n\u001b[0;32m--> 501\u001b[0m     res, visible \u001b[38;5;241m=\u001b[39m \u001b[43mrinterface\u001b[49m\u001b[38;5;241;43m.\u001b[39;49m\u001b[43mevalr_expr_with_visible\u001b[49m\u001b[43m(\u001b[49m\u001b[43m   \u001b[49m\u001b[38;5;66;43;03m# type: ignore\u001b[39;49;00m\n\u001b[1;32m    502\u001b[0m \u001b[43m        \u001b[49m\u001b[43mr_expr\u001b[49m\n\u001b[1;32m    503\u001b[0m \u001b[43m    \u001b[49m\u001b[43m)\u001b[49m\n\u001b[1;32m    504\u001b[0m     \u001b[38;5;28;01mif\u001b[39;00m \u001b[38;5;129;01mnot\u001b[39;00m visible[\u001b[38;5;241m0\u001b[39m]:  \u001b[38;5;66;03m# type: ignore\u001b[39;00m\n\u001b[1;32m    505\u001b[0m         res \u001b[38;5;241m=\u001b[39m \u001b[38;5;28;01mNone\u001b[39;00m\n",
      "File \u001b[0;32m~/miniconda3/envs/scanpy/lib/python3.9/site-packages/rpy2/rinterface.py:196\u001b[0m, in \u001b[0;36mevalr_expr_with_visible\u001b[0;34m(expr, envir)\u001b[0m\n\u001b[1;32m    189\u001b[0m r_res \u001b[38;5;241m=\u001b[39m rmemory\u001b[38;5;241m.\u001b[39mprotect(\n\u001b[1;32m    190\u001b[0m         openrlib\u001b[38;5;241m.\u001b[39mrlib\u001b[38;5;241m.\u001b[39mR_tryEval(\n\u001b[1;32m    191\u001b[0m             r_call,\n\u001b[1;32m    192\u001b[0m             envir\u001b[38;5;241m.\u001b[39m__sexp__\u001b[38;5;241m.\u001b[39m_cdata,  \u001b[38;5;66;03m# call context.\u001b[39;00m\n\u001b[1;32m    193\u001b[0m             error_occured)\n\u001b[1;32m    194\u001b[0m )\n\u001b[1;32m    195\u001b[0m \u001b[38;5;28;01mif\u001b[39;00m error_occured[\u001b[38;5;241m0\u001b[39m]:\n\u001b[0;32m--> 196\u001b[0m     \u001b[38;5;28;01mraise\u001b[39;00m embedded\u001b[38;5;241m.\u001b[39mRRuntimeError(_rinterface\u001b[38;5;241m.\u001b[39m_geterrmessage())\n\u001b[1;32m    197\u001b[0m res \u001b[38;5;241m=\u001b[39m conversion\u001b[38;5;241m.\u001b[39m_cdata_to_rinterface(r_res)\n\u001b[1;32m    198\u001b[0m \u001b[38;5;28;01massert\u001b[39;00m \u001b[38;5;28misinstance\u001b[39m(res, ListSexpVector)\n",
      "\u001b[0;31mRRuntimeError\u001b[0m: Error in dev.off() : cannot shut down device 1 (the null device)\n"
     ]
    }
   ],
   "source": [
    "%%R\n",
    "#if (!require(\"BiocManager\", quietly = TRUE))\n",
    "#    install.packages(\"BiocManager\")\n",
    "version()\n",
    "\n",
    "#BiocManager::install('edgeR')\n",
    "#library(edgeR)"
   ]
  },
  {
   "cell_type": "code",
   "execution_count": null,
   "id": "1badb54f-9050-4806-93d0-34618c9aa59b",
   "metadata": {},
   "outputs": [],
   "source": []
  },
  {
   "cell_type": "code",
   "execution_count": null,
   "id": "6e699461-968f-484f-806f-f02e47f31639",
   "metadata": {
    "scrolled": true
   },
   "outputs": [
    {
     "name": "stdout",
     "output_type": "stream",
     "text": [
      "Collecting package metadata (current_repodata.json): done\n",
      "Solving environment: / \n",
      "The environment is inconsistent, please check the package plan carefully\n",
      "The following packages are causing the inconsistency:\n",
      "\n",
      "  - conda-forge/noarch::patsy==0.5.3=pyhd8ed1ab_0\n",
      "  - conda-forge/noarch::scanpy==1.9.3=pyhd8ed1ab_0\n",
      "  - conda-forge/noarch::typing-extensions==4.6.3=hd8ed1ab_0\n",
      "  - conda-forge/linux-64::matplotlib==3.6.3=py39hf3d152e_0\n",
      "  - conda-forge/linux-64::scikit-learn==1.2.2=py39hc236052_2\n",
      "  - conda-forge/noarch::requests==2.31.0=pyhd8ed1ab_0\n",
      "  - conda-forge/noarch::anndata==0.9.1=pyhd8ed1ab_0\n",
      "  - conda-forge/linux-64::statsmodels==0.14.0=py39h0f8d45d_1\n",
      "  - conda-forge/noarch::pooch==1.7.0=pyha770c72_3\n",
      "  - conda-forge/linux-64::jupyter_core==5.3.1=py39hf3d152e_0\n",
      "  - conda-forge/noarch::pynndescent==0.5.10=pyh1a96a4e_0\n",
      "  - conda-forge/noarch::ipython==8.14.0=pyh41d4057_0\n",
      "  - conda-forge/noarch::ipykernel==6.23.1=pyh210e3f2_0\n",
      "  - conda-forge/noarch::jupyter_client==8.2.0=pyhd8ed1ab_0\n",
      "  - conda-forge/linux-64::umap-learn==0.5.3=py39hf3d152e_1\n",
      "  - conda-forge/noarch::seaborn==0.12.2=hd8ed1ab_0\n",
      "  - conda-forge/noarch::platformdirs==3.5.3=pyhd8ed1ab_0\n",
      "  - conda-forge/linux-64::scipy==1.10.1=py39h6183b62_3\n",
      "failed with initial frozen solve. Retrying with flexible solve.\n",
      "Solving environment: failed with repodata from current_repodata.json, will retry with next repodata source.\n",
      "Collecting package metadata (repodata.json): done\n",
      "Solving environment: | \n",
      "The environment is inconsistent, please check the package plan carefully\n",
      "The following packages are causing the inconsistency:\n",
      "\n",
      "  - conda-forge/noarch::patsy==0.5.3=pyhd8ed1ab_0\n",
      "  - conda-forge/noarch::scanpy==1.9.3=pyhd8ed1ab_0\n",
      "  - conda-forge/noarch::typing-extensions==4.6.3=hd8ed1ab_0\n",
      "  - conda-forge/linux-64::matplotlib==3.6.3=py39hf3d152e_0\n",
      "  - conda-forge/linux-64::scikit-learn==1.2.2=py39hc236052_2\n",
      "  - conda-forge/noarch::requests==2.31.0=pyhd8ed1ab_0\n",
      "  - conda-forge/noarch::anndata==0.9.1=pyhd8ed1ab_0\n",
      "  - conda-forge/linux-64::statsmodels==0.14.0=py39h0f8d45d_1\n",
      "  - conda-forge/noarch::pooch==1.7.0=pyha770c72_3\n",
      "  - conda-forge/linux-64::jupyter_core==5.3.1=py39hf3d152e_0\n",
      "  - conda-forge/noarch::pynndescent==0.5.10=pyh1a96a4e_0\n",
      "  - conda-forge/noarch::ipython==8.14.0=pyh41d4057_0\n",
      "  - conda-forge/noarch::ipykernel==6.23.1=pyh210e3f2_0\n",
      "  - conda-forge/noarch::jupyter_client==8.2.0=pyhd8ed1ab_0\n",
      "  - conda-forge/linux-64::umap-learn==0.5.3=py39hf3d152e_1\n",
      "  - conda-forge/noarch::seaborn==0.12.2=hd8ed1ab_0\n",
      "  - conda-forge/noarch::platformdirs==3.5.3=pyhd8ed1ab_0\n",
      "  - conda-forge/linux-64::scipy==1.10.1=py39h6183b62_3\n",
      "failed with initial frozen solve. Retrying with flexible solve.\n",
      "Solving environment: | \n",
      "Found conflicts! Looking for incompatible packages.\n",
      "This can take several minutes.  Press CTRL-C to abort.\n",
      "Examining conflict for xorg-kbproto bzip2 libev numpy xorg-xf86vidmodeproto xo/ "
     ]
    }
   ],
   "source": [
    "!conda install --channel https://conda.anaconda.org/bioconda bioconductor-edger"
   ]
  },
  {
   "cell_type": "code",
   "execution_count": null,
   "id": "851f7928-1cf8-49eb-99bd-3bcf6aa0dee7",
   "metadata": {},
   "outputs": [],
   "source": [
    "milo.da_nhoods(mdata, \n",
    "               design='~Status', \n",
    "               model_contrasts='StatusCovid-StatusHealthy')"
   ]
  },
  {
   "cell_type": "code",
   "execution_count": null,
   "id": "1f988c7e-5057-47ff-8b75-0bc8bf492864",
   "metadata": {},
   "outputs": [],
   "source": [
    "milo.da_nhoods(mdata, \n",
    "               design='~Site+Status', \n",
    "               model_contrasts='StatusCovid')"
   ]
  },
  {
   "cell_type": "code",
   "execution_count": null,
   "id": "94ea7469-e72d-4ddf-82b5-c3d98257253b",
   "metadata": {},
   "outputs": [],
   "source": [
    "mdata['milo'].obs\n"
   ]
  },
  {
   "cell_type": "code",
   "execution_count": null,
   "id": "7be2438d-6cdd-43d6-84a9-b62bc26078ee",
   "metadata": {},
   "outputs": [],
   "source": [
    "mdata['milo'].var\n"
   ]
  },
  {
   "cell_type": "code",
   "execution_count": null,
   "id": "010ba01c-3ee3-4ca0-b0c6-ef0650a50062",
   "metadata": {},
   "outputs": [],
   "source": [
    "old_figsize = plt.rcParams[\"figure.figsize\"]\n",
    "plt.rcParams[\"figure.figsize\"] = [10,5]\n",
    "plt.subplot(1,2,1)\n",
    "plt.hist(mdata['milo'].var.PValue, bins=50);\n",
    "plt.xlabel(\"P-Vals\");\n",
    "plt.subplot(1,2,2)\n",
    "plt.plot(mdata['milo'].var.logFC, -np.log10(mdata['milo'].var.SpatialFDR), '.');\n",
    "plt.xlabel(\"log-Fold Change\");\n",
    "plt.ylabel(\"- log10(Spatial FDR)\");\n",
    "plt.tight_layout()\n",
    "plt.rcParams[\"figure.figsize\"] = old_figsize"
   ]
  }
 ],
 "metadata": {
  "kernelspec": {
   "display_name": "Python [conda env:scanpy_r]",
   "language": "python",
   "name": "conda-env-scanpy_r-py"
  },
  "language_info": {
   "codemirror_mode": {
    "name": "ipython",
    "version": 3
   },
   "file_extension": ".py",
   "mimetype": "text/x-python",
   "name": "python",
   "nbconvert_exporter": "python",
   "pygments_lexer": "ipython3",
   "version": "3.9.16"
  }
 },
 "nbformat": 4,
 "nbformat_minor": 5
}
