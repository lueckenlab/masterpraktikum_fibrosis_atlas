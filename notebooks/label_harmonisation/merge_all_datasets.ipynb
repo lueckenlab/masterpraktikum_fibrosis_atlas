{
 "cells": [
  {
   "cell_type": "markdown",
   "id": "3eb55e5d-453c-4eaf-b6e2-386ea3a0c318",
   "metadata": {},
   "source": [
    "# Imports and Data loading"
   ]
  },
  {
   "cell_type": "code",
   "execution_count": 2,
   "id": "ded093e0-1535-4f72-907c-9d337afb5bdd",
   "metadata": {},
   "outputs": [],
   "source": [
    "import scanpy as sc\n",
    "import pandas as pd\n",
    "import numpy as np\n",
    "import seaborn as sns\n",
    "import matplotlib.pyplot as plt\n",
    "import anndata as ad\n",
    "#import celltypist\n",
    "import anndata as ad\n",
    "from scipy import sparse\n",
    "from anndata import AnnData\n",
    "import sys  \n",
    "#import scib\n",
    "sys.path.insert(0, '/home/icb/leonie.pohl/masterpraktikum_fibrosis_atlas/masterpraktikum_fibrosis_atlas/source')\n",
    "#sys.path.append(\"Desktop/Masterpraktikum/masterpraktikum_fibrosis_atlas/source/utils.py\")\n",
    "#import utils"
   ]
  },
  {
   "cell_type": "code",
   "execution_count": 2,
   "id": "94b02dbe-262c-4e85-9100-698ba16f50e7",
   "metadata": {},
   "outputs": [],
   "source": [
    "galapagos_bleo = sc.read(\"/lustre/groups/ml01/workspace/daniel.michaela.masterpraktikum23/galapagos/galapagos_bleo_pp_qc_anno.h5ad\")"
   ]
  },
  {
   "cell_type": "code",
   "execution_count": 3,
   "id": "52f0f9f9-c38b-4523-ba71-60e6095e3a14",
   "metadata": {},
   "outputs": [],
   "source": [
    "galapagos_rad = sc.read(\"/lustre/groups/ml01/workspace/daniel.michaela.masterpraktikum23/galapagos/adata_radiation_processed.h5ad\")"
   ]
  },
  {
   "cell_type": "code",
   "execution_count": 4,
   "id": "b0ec341d-1c9a-4b64-8c79-1d4192df1912",
   "metadata": {},
   "outputs": [],
   "source": [
    "galapagos_rad.obs = pd.read_csv(\"/lustre/groups/ml01/workspace/daniel.michaela.masterpraktikum23/galapagos/radiation_obs_annotation2.csv\")"
   ]
  },
  {
   "cell_type": "code",
   "execution_count": 3,
   "id": "5b8f5589-71ae-4dfd-9af4-a762c3425a64",
   "metadata": {},
   "outputs": [],
   "source": [
    "publics = sc.read(\"/lustre/groups/ml01/workspace/daniel.michaela.masterpraktikum23/public_data/merged_data.h5ad\")"
   ]
  },
  {
   "cell_type": "code",
   "execution_count": 14,
   "id": "a36efae9-de98-48e3-bbcb-949310c7c6ef",
   "metadata": {},
   "outputs": [
    {
     "data": {
      "text/plain": [
       "AnnData object with n_obs × n_vars = 87871 × 23767\n",
       "    obs: 'author_annotation', 'scDblFinder_score', 'scDblFinder_class', 'manual_celltype_annotation', 'batch', 'condition', 'doublet_score', 'predicted_doublet', 'timepoint', 'author_annotation_coarse', 'dataset', 'fibrotic/control', 'n_genes_by_counts', 'log1p_n_genes_by_counts', 'total_counts', 'log1p_total_counts', 'pct_counts_in_top_20_genes', 'total_counts_mt', 'log1p_total_counts_mt', 'pct_counts_mt', 'total_counts_ribo', 'log1p_total_counts_ribo', 'pct_counts_ribo', 'total_counts_hb', 'log1p_total_counts_hb', 'pct_counts_hb', 'low_hierarchy', 'high_hierarchy', 'harmonized_anno', 'coarse_harmonized_anno', 'low_hierarchy_fine', 'high_hierarchy_fine', 'low_hierarchy_coarse', 'high_hierarchy_coarse'\n",
       "    var: 'mt', 'ribo', 'hb', 'n_cells_by_counts', 'mean_counts', 'log1p_mean_counts', 'pct_dropout_by_counts', 'total_counts', 'log1p_total_counts', 'highly_variable', 'means', 'dispersions', 'dispersions_norm', 'highly_variable_nbatches', 'highly_variable_intersection', 'n_counts'\n",
       "    uns: 'batch_colors', 'dataset_colors', 'high_hierarchy_colors', 'hvg', 'log1p', 'low_hierarchy_colors', 'manual_celltype_annotation_colors', 'neighbors', 'pca', 'umap'\n",
       "    obsm: 'X_pca', 'X_umap'\n",
       "    varm: 'PCs'\n",
       "    layers: 'log1p_norm', 'raw_counts'\n",
       "    obsp: 'connectivities', 'distances'"
      ]
     },
     "execution_count": 14,
     "metadata": {},
     "output_type": "execute_result"
    }
   ],
   "source": [
    "publics"
   ]
  },
  {
   "cell_type": "markdown",
   "id": "a93514bf-7284-4ed7-80d7-1b57e138ba36",
   "metadata": {},
   "source": [
    "# Reduce adatas --> only relevant info for merging"
   ]
  },
  {
   "cell_type": "markdown",
   "id": "c9dc7156-8adb-4366-a256-b29aae3bade1",
   "metadata": {},
   "source": [
    "which information should anndatas contain:\n",
    "\n",
    "adata.X --> raw counts\n",
    "in adata.obs\n",
    "\n",
    "- \"batch\" --> number or name identifying batch/sample --> SAMP_subject_ID / \"tube_ID\"\n",
    "- \"author_annotation\" --> annotation given by paper --> CELL_celltype_compartment (only for bleo)\n",
    "- \"manual_celltype_annotation\" --> your annotation  --> manual_celltype_annotation_fine_leiden03 / annotation\n",
    "- \"condition\" --> \"healthy\" or \"bleo\" or other treatment for fibrosis --> SAMP_condition\n",
    "-  Phase\n",
    "- stage/ time --> SAMP_stage\n",
    "- SC-Prep groups --> SC_prep"
   ]
  },
  {
   "cell_type": "code",
   "execution_count": 7,
   "id": "d51aa149-dcbf-4c82-a56d-d9cb107bf9eb",
   "metadata": {},
   "outputs": [],
   "source": [
    "galapagos_rad.X = galapagos_rad.layers[\"logcounts\"]"
   ]
  },
  {
   "cell_type": "code",
   "execution_count": 8,
   "id": "4262ceaf-1588-4362-8712-0d3d7f848691",
   "metadata": {},
   "outputs": [],
   "source": [
    "galapagos_rad.obs[\"batch\"] = galapagos_rad.obs[\"SAMP_subject_ID\"]\n",
    "galapagos_rad.obs[\"manual_celltype_annotation\"] = galapagos_rad.obs[\"annotation\"]\n",
    "galapagos_rad.obs[\"condition\"] = galapagos_rad.obs[\"SAMP_condition\"]\n",
    "galapagos_rad.obs[\"timepoint\"] = galapagos_rad.obs[\"SAMP_stage\"]"
   ]
  },
  {
   "cell_type": "code",
   "execution_count": 9,
   "id": "3426d2f0-1958-4bff-869c-cc0ebc8ea224",
   "metadata": {},
   "outputs": [],
   "source": [
    "galapagos_bleo.obs[\"batch\"] = galapagos_bleo.obs[\"SAMP_subject_ID\"]\n",
    "galapagos_bleo.obs[\"manual_celltype_annotation\"] = galapagos_bleo.obs[\"manual_celltype_annotation_fine_leiden03\"]\n",
    "galapagos_bleo.obs[\"author_annotation\"] = galapagos_bleo.obs[\"CELL_celltype_compartment\"]\n",
    "\n",
    "galapagos_bleo.obs[\"condition\"] = galapagos_bleo.obs[\"SAMP_condition\"]\n",
    "galapagos_bleo.obs[\"timepoint\"] = galapagos_bleo.obs[\"SAMP_stage\"]\n",
    "\n"
   ]
  },
  {
   "cell_type": "code",
   "execution_count": 10,
   "id": "1dc8290e-5597-4849-9e8e-41cb123f073f",
   "metadata": {},
   "outputs": [],
   "source": [
    "del galapagos_rad.layers\n",
    "del galapagos_rad.obsp\n",
    "del galapagos_rad.varm\n",
    "del galapagos_rad.obsm\n",
    "del galapagos_rad.uns\n",
    "del galapagos_rad.var"
   ]
  },
  {
   "cell_type": "code",
   "execution_count": 11,
   "id": "bd096b63-9d00-4e0a-a1b9-e00ba8e0d20b",
   "metadata": {},
   "outputs": [],
   "source": [
    "del galapagos_bleo.layers\n",
    "del galapagos_bleo.obsp\n",
    "del galapagos_bleo.obsm\n",
    "del galapagos_bleo.uns\n",
    "del galapagos_bleo.var"
   ]
  },
  {
   "cell_type": "code",
   "execution_count": 12,
   "id": "aac3c767-c4ba-44f1-a322-3039bb36c177",
   "metadata": {},
   "outputs": [],
   "source": [
    "galapagos_rad.obs = galapagos_rad.obs[['batch', \"manual_celltype_annotation\", \"condition\",\"Phase\", \"SAMP_stage\", \"SC_prep\" ]]"
   ]
  },
  {
   "cell_type": "code",
   "execution_count": 13,
   "id": "74ba26d5-9d37-40eb-9711-733be208fd63",
   "metadata": {},
   "outputs": [],
   "source": [
    "galapagos_bleo.obs = galapagos_bleo.obs[['batch','author_annotation', \"manual_celltype_annotation\", \"condition\",\"Phase\", \"SAMP_stage\", \"SC_prep\" ]]"
   ]
  },
  {
   "cell_type": "code",
   "execution_count": 14,
   "id": "ed538910-1f9d-4322-b769-9c0c3da54c5c",
   "metadata": {},
   "outputs": [],
   "source": [
    "galapagos_rad.obs[\"batch\"] = galapagos_rad.obs[\"batch\"].astype(\"category\")\n",
    "galapagos_rad.obs[\"manual_celltype_annotation\"] = galapagos_rad.obs[\"manual_celltype_annotation\"].astype(\"category\")\n",
    "galapagos_rad.obs[\"condition\"] = galapagos_rad.obs[\"condition\"].astype(\"category\")\n",
    "galapagos_rad.obs[\"Phase\"] = galapagos_rad.obs[\"Phase\"].astype(\"category\")\n",
    "galapagos_rad.obs[\"SAMP_stage\"] = galapagos_rad.obs[\"SAMP_stage\"].astype(\"category\")\n",
    "galapagos_rad.obs[\"SC_prep\"] = galapagos_rad.obs[\"SC_prep\"].astype(\"category\")"
   ]
  },
  {
   "cell_type": "code",
   "execution_count": 15,
   "id": "3c9a553c-faf5-4880-ad29-a4a1ad337988",
   "metadata": {},
   "outputs": [],
   "source": [
    "galapagos_bleo.obs[\"batch\"] = galapagos_bleo.obs[\"batch\"].astype(\"category\")"
   ]
  },
  {
   "cell_type": "code",
   "execution_count": 16,
   "id": "9042e80a-54cb-4741-a04b-714709ff7a7d",
   "metadata": {},
   "outputs": [
    {
     "data": {
      "text/plain": [
       "RangeIndex(start=0, stop=343071, step=1)"
      ]
     },
     "execution_count": 16,
     "metadata": {},
     "output_type": "execute_result"
    }
   ],
   "source": [
    "galapagos_rad.obs.index"
   ]
  },
  {
   "cell_type": "code",
   "execution_count": 17,
   "id": "6bf68f22-93d0-46b3-88e0-e7a96b573970",
   "metadata": {},
   "outputs": [],
   "source": [
    "galapagos_rad.obs.index = galapagos_rad.obs.index.astype(str)"
   ]
  },
  {
   "cell_type": "code",
   "execution_count": 18,
   "id": "05cbd1a5-6c39-4ac1-92f4-87f8e91459db",
   "metadata": {},
   "outputs": [
    {
     "data": {
      "text/plain": [
       "Index(['0', '1', '2', '3', '4', '5', '6', '7', '8', '9',\n",
       "       ...\n",
       "       '343061', '343062', '343063', '343064', '343065', '343066', '343067',\n",
       "       '343068', '343069', '343070'],\n",
       "      dtype='object', length=343071)"
      ]
     },
     "execution_count": 18,
     "metadata": {},
     "output_type": "execute_result"
    }
   ],
   "source": [
    "galapagos_rad.obs.index"
   ]
  },
  {
   "cell_type": "code",
   "execution_count": 19,
   "id": "828c0b6d-7aa7-4e6b-bf6f-f4d8d8ab6ae4",
   "metadata": {},
   "outputs": [
    {
     "data": {
      "text/plain": [
       "batch                         category\n",
       "manual_celltype_annotation    category\n",
       "condition                     category\n",
       "Phase                         category\n",
       "SAMP_stage                    category\n",
       "SC_prep                       category\n",
       "dtype: object"
      ]
     },
     "execution_count": 19,
     "metadata": {},
     "output_type": "execute_result"
    }
   ],
   "source": [
    "galapagos_rad.obs.dtypes"
   ]
  },
  {
   "cell_type": "code",
   "execution_count": 20,
   "id": "8b1af72c-0dd5-4a66-89d6-1c61c576ae36",
   "metadata": {},
   "outputs": [],
   "source": [
    "del publics.obsp\n",
    "del publics.layers\n",
    "del publics.varm\n",
    "del publics.uns\n",
    "del publics.obsm\n",
    "del publics.var"
   ]
  },
  {
   "cell_type": "code",
   "execution_count": 21,
   "id": "70457988-37a4-427b-824c-32c4c14423fb",
   "metadata": {},
   "outputs": [],
   "source": [
    "publics.obs[\"manual_celltype_annotation\"] = publics.obs[\"harmonized_anno\"] "
   ]
  },
  {
   "cell_type": "code",
   "execution_count": 22,
   "id": "5ffc64f9-8f73-45fc-9f20-7aa7975307b9",
   "metadata": {},
   "outputs": [],
   "source": [
    "publics.obs = publics.obs[[\"author_annotation\", \"manual_celltype_annotation\", \"batch\", \"condition\", \"timepoint\", \"dataset\", \"fibrotic/control\", \"coarse_harmonized_anno\"]]"
   ]
  },
  {
   "cell_type": "code",
   "execution_count": 23,
   "id": "fe5ef5cd-cd35-4665-824d-7e3a83aa8bab",
   "metadata": {},
   "outputs": [
    {
     "data": {
      "text/plain": [
       "AnnData object with n_obs × n_vars = 87871 × 23767\n",
       "    obs: 'author_annotation', 'manual_celltype_annotation', 'batch', 'condition', 'timepoint', 'dataset', 'fibrotic/control', 'coarse_harmonized_anno'"
      ]
     },
     "execution_count": 23,
     "metadata": {},
     "output_type": "execute_result"
    }
   ],
   "source": [
    "publics"
   ]
  },
  {
   "cell_type": "markdown",
   "id": "b931854f-ea09-40be-90cf-fb1afe02b6d6",
   "metadata": {},
   "source": [
    "# Merging "
   ]
  },
  {
   "cell_type": "code",
   "execution_count": 33,
   "id": "d113076b-61ff-4d0d-92d9-7b507ce426d0",
   "metadata": {},
   "outputs": [],
   "source": [
    "adatas = {\n",
    "    \"galapagos_bleo\": galapagos_bleo,\n",
    "    \"galapagos_rad\": galapagos_rad\n",
    " }\n",
    "galapagos_adata = ad.concat(adatas, label=\"dataset\", index_unique=\"_\", join=\"outer\", axis = 0)#.obs"
   ]
  },
  {
   "cell_type": "code",
   "execution_count": 34,
   "id": "e7e2b59a-a783-4e94-9225-a867b1bae744",
   "metadata": {},
   "outputs": [],
   "source": [
    "galapagos_adata.obs[\"condition\"] = galapagos_adata.obs[\"condition\"].replace([\"BLM\"], \"bleomycin\") # 'RAD', 'SHAM'] ['BLM', 'SHAM']\n",
    "galapagos_adata.obs[\"condition\"] = galapagos_adata.obs[\"condition\"].replace([\"RAD\"], \"radiation\") # 'RAD', 'SHAM'] ['BLM', 'SHAM']\n",
    "galapagos_adata.obs[\"condition\"] = galapagos_adata.obs[\"condition\"].replace([\"SHAM\"], \"untreated\")"
   ]
  },
  {
   "cell_type": "code",
   "execution_count": 35,
   "id": "48fdea7f-1acc-4575-8c62-e9e9b282d359",
   "metadata": {},
   "outputs": [],
   "source": [
    "galapagos_adata.obs[\"fibrotic/control\"] = galapagos_adata.obs[\"condition\"].apply(lambda x: \"control\" if x == \"untreated\" else \"fibrotic\")\n"
   ]
  },
  {
   "cell_type": "code",
   "execution_count": 44,
   "id": "bd1748d1-3c9a-49af-9a47-c2bc8bed6d05",
   "metadata": {},
   "outputs": [],
   "source": [
    "galapagos_adata.obs[\"batch\"] = galapagos_adata.obs.apply(lambda row: str(row[\"batch\"]) + \"_\" + str(row[\"dataset\"]), axis=1)\n"
   ]
  },
  {
   "cell_type": "code",
   "execution_count": 45,
   "id": "c02b781b-d434-4d9c-a4c4-3dfb16b1f648",
   "metadata": {},
   "outputs": [
    {
     "data": {
      "text/html": [
       "<div>\n",
       "<style scoped>\n",
       "    .dataframe tbody tr th:only-of-type {\n",
       "        vertical-align: middle;\n",
       "    }\n",
       "\n",
       "    .dataframe tbody tr th {\n",
       "        vertical-align: top;\n",
       "    }\n",
       "\n",
       "    .dataframe thead th {\n",
       "        text-align: right;\n",
       "    }\n",
       "</style>\n",
       "<table border=\"1\" class=\"dataframe\">\n",
       "  <thead>\n",
       "    <tr style=\"text-align: right;\">\n",
       "      <th></th>\n",
       "      <th>batch</th>\n",
       "      <th>author_annotation</th>\n",
       "      <th>manual_celltype_annotation</th>\n",
       "      <th>condition</th>\n",
       "      <th>Phase</th>\n",
       "      <th>SAMP_stage</th>\n",
       "      <th>SC_prep</th>\n",
       "      <th>dataset</th>\n",
       "      <th>fibrotic/control</th>\n",
       "    </tr>\n",
       "  </thead>\n",
       "  <tbody>\n",
       "    <tr>\n",
       "      <th>1_Sal_veh_d21_AAACCCAAGACATATG-1_galapagos_bleo</th>\n",
       "      <td>1.0_galapagos_bleo</td>\n",
       "      <td>lymphoid</td>\n",
       "      <td>CD4 T-cells</td>\n",
       "      <td>untreated</td>\n",
       "      <td>S</td>\n",
       "      <td>day21</td>\n",
       "      <td>group1</td>\n",
       "      <td>galapagos_bleo</td>\n",
       "      <td>control</td>\n",
       "    </tr>\n",
       "    <tr>\n",
       "      <th>1_Sal_veh_d21_AAACCCAGTATTCTCT-1_galapagos_bleo</th>\n",
       "      <td>1.0_galapagos_bleo</td>\n",
       "      <td>lymphoid</td>\n",
       "      <td>B-cells</td>\n",
       "      <td>untreated</td>\n",
       "      <td>S</td>\n",
       "      <td>day21</td>\n",
       "      <td>group1</td>\n",
       "      <td>galapagos_bleo</td>\n",
       "      <td>control</td>\n",
       "    </tr>\n",
       "    <tr>\n",
       "      <th>1_Sal_veh_d21_AAACCCATCCGCTGTT-1_galapagos_bleo</th>\n",
       "      <td>1.0_galapagos_bleo</td>\n",
       "      <td>mononuclear_phagocytes</td>\n",
       "      <td>Dendritic cells</td>\n",
       "      <td>untreated</td>\n",
       "      <td>G1</td>\n",
       "      <td>day21</td>\n",
       "      <td>group1</td>\n",
       "      <td>galapagos_bleo</td>\n",
       "      <td>control</td>\n",
       "    </tr>\n",
       "    <tr>\n",
       "      <th>1_Sal_veh_d21_AAACGCTAGCGGGTTA-1_galapagos_bleo</th>\n",
       "      <td>1.0_galapagos_bleo</td>\n",
       "      <td>lymphoid</td>\n",
       "      <td>B-cells</td>\n",
       "      <td>untreated</td>\n",
       "      <td>S</td>\n",
       "      <td>day21</td>\n",
       "      <td>group1</td>\n",
       "      <td>galapagos_bleo</td>\n",
       "      <td>control</td>\n",
       "    </tr>\n",
       "    <tr>\n",
       "      <th>1_Sal_veh_d21_AAAGGATGTCCGGTCA-1_galapagos_bleo</th>\n",
       "      <td>1.0_galapagos_bleo</td>\n",
       "      <td>lymphoid</td>\n",
       "      <td>CD4 T-cells</td>\n",
       "      <td>untreated</td>\n",
       "      <td>G2M</td>\n",
       "      <td>day21</td>\n",
       "      <td>group1</td>\n",
       "      <td>galapagos_bleo</td>\n",
       "      <td>control</td>\n",
       "    </tr>\n",
       "    <tr>\n",
       "      <th>...</th>\n",
       "      <td>...</td>\n",
       "      <td>...</td>\n",
       "      <td>...</td>\n",
       "      <td>...</td>\n",
       "      <td>...</td>\n",
       "      <td>...</td>\n",
       "      <td>...</td>\n",
       "      <td>...</td>\n",
       "      <td>...</td>\n",
       "    </tr>\n",
       "    <tr>\n",
       "      <th>343066_galapagos_rad</th>\n",
       "      <td>74.0_galapagos_rad</td>\n",
       "      <td>NaN</td>\n",
       "      <td>Alveolar macrophages</td>\n",
       "      <td>radiation</td>\n",
       "      <td>S</td>\n",
       "      <td>19weeks</td>\n",
       "      <td>day3_group9</td>\n",
       "      <td>galapagos_rad</td>\n",
       "      <td>fibrotic</td>\n",
       "    </tr>\n",
       "    <tr>\n",
       "      <th>343067_galapagos_rad</th>\n",
       "      <td>74.0_galapagos_rad</td>\n",
       "      <td>NaN</td>\n",
       "      <td>AT2</td>\n",
       "      <td>radiation</td>\n",
       "      <td>G1</td>\n",
       "      <td>19weeks</td>\n",
       "      <td>day3_group9</td>\n",
       "      <td>galapagos_rad</td>\n",
       "      <td>fibrotic</td>\n",
       "    </tr>\n",
       "    <tr>\n",
       "      <th>343068_galapagos_rad</th>\n",
       "      <td>74.0_galapagos_rad</td>\n",
       "      <td>NaN</td>\n",
       "      <td>B-cells</td>\n",
       "      <td>radiation</td>\n",
       "      <td>G2M</td>\n",
       "      <td>19weeks</td>\n",
       "      <td>day3_group9</td>\n",
       "      <td>galapagos_rad</td>\n",
       "      <td>fibrotic</td>\n",
       "    </tr>\n",
       "    <tr>\n",
       "      <th>343069_galapagos_rad</th>\n",
       "      <td>74.0_galapagos_rad</td>\n",
       "      <td>NaN</td>\n",
       "      <td>B-cells</td>\n",
       "      <td>radiation</td>\n",
       "      <td>G2M</td>\n",
       "      <td>19weeks</td>\n",
       "      <td>day3_group9</td>\n",
       "      <td>galapagos_rad</td>\n",
       "      <td>fibrotic</td>\n",
       "    </tr>\n",
       "    <tr>\n",
       "      <th>343070_galapagos_rad</th>\n",
       "      <td>74.0_galapagos_rad</td>\n",
       "      <td>NaN</td>\n",
       "      <td>B-cells</td>\n",
       "      <td>radiation</td>\n",
       "      <td>S</td>\n",
       "      <td>19weeks</td>\n",
       "      <td>day3_group9</td>\n",
       "      <td>galapagos_rad</td>\n",
       "      <td>fibrotic</td>\n",
       "    </tr>\n",
       "  </tbody>\n",
       "</table>\n",
       "<p>448037 rows × 9 columns</p>\n",
       "</div>"
      ],
      "text/plain": [
       "                                                              batch  \\\n",
       "1_Sal_veh_d21_AAACCCAAGACATATG-1_galapagos_bleo  1.0_galapagos_bleo   \n",
       "1_Sal_veh_d21_AAACCCAGTATTCTCT-1_galapagos_bleo  1.0_galapagos_bleo   \n",
       "1_Sal_veh_d21_AAACCCATCCGCTGTT-1_galapagos_bleo  1.0_galapagos_bleo   \n",
       "1_Sal_veh_d21_AAACGCTAGCGGGTTA-1_galapagos_bleo  1.0_galapagos_bleo   \n",
       "1_Sal_veh_d21_AAAGGATGTCCGGTCA-1_galapagos_bleo  1.0_galapagos_bleo   \n",
       "...                                                             ...   \n",
       "343066_galapagos_rad                             74.0_galapagos_rad   \n",
       "343067_galapagos_rad                             74.0_galapagos_rad   \n",
       "343068_galapagos_rad                             74.0_galapagos_rad   \n",
       "343069_galapagos_rad                             74.0_galapagos_rad   \n",
       "343070_galapagos_rad                             74.0_galapagos_rad   \n",
       "\n",
       "                                                      author_annotation  \\\n",
       "1_Sal_veh_d21_AAACCCAAGACATATG-1_galapagos_bleo                lymphoid   \n",
       "1_Sal_veh_d21_AAACCCAGTATTCTCT-1_galapagos_bleo                lymphoid   \n",
       "1_Sal_veh_d21_AAACCCATCCGCTGTT-1_galapagos_bleo  mononuclear_phagocytes   \n",
       "1_Sal_veh_d21_AAACGCTAGCGGGTTA-1_galapagos_bleo                lymphoid   \n",
       "1_Sal_veh_d21_AAAGGATGTCCGGTCA-1_galapagos_bleo                lymphoid   \n",
       "...                                                                 ...   \n",
       "343066_galapagos_rad                                                NaN   \n",
       "343067_galapagos_rad                                                NaN   \n",
       "343068_galapagos_rad                                                NaN   \n",
       "343069_galapagos_rad                                                NaN   \n",
       "343070_galapagos_rad                                                NaN   \n",
       "\n",
       "                                                manual_celltype_annotation  \\\n",
       "1_Sal_veh_d21_AAACCCAAGACATATG-1_galapagos_bleo                CD4 T-cells   \n",
       "1_Sal_veh_d21_AAACCCAGTATTCTCT-1_galapagos_bleo                    B-cells   \n",
       "1_Sal_veh_d21_AAACCCATCCGCTGTT-1_galapagos_bleo            Dendritic cells   \n",
       "1_Sal_veh_d21_AAACGCTAGCGGGTTA-1_galapagos_bleo                    B-cells   \n",
       "1_Sal_veh_d21_AAAGGATGTCCGGTCA-1_galapagos_bleo                CD4 T-cells   \n",
       "...                                                                    ...   \n",
       "343066_galapagos_rad                                  Alveolar macrophages   \n",
       "343067_galapagos_rad                                                   AT2   \n",
       "343068_galapagos_rad                                               B-cells   \n",
       "343069_galapagos_rad                                               B-cells   \n",
       "343070_galapagos_rad                                               B-cells   \n",
       "\n",
       "                                                 condition Phase SAMP_stage  \\\n",
       "1_Sal_veh_d21_AAACCCAAGACATATG-1_galapagos_bleo  untreated     S      day21   \n",
       "1_Sal_veh_d21_AAACCCAGTATTCTCT-1_galapagos_bleo  untreated     S      day21   \n",
       "1_Sal_veh_d21_AAACCCATCCGCTGTT-1_galapagos_bleo  untreated    G1      day21   \n",
       "1_Sal_veh_d21_AAACGCTAGCGGGTTA-1_galapagos_bleo  untreated     S      day21   \n",
       "1_Sal_veh_d21_AAAGGATGTCCGGTCA-1_galapagos_bleo  untreated   G2M      day21   \n",
       "...                                                    ...   ...        ...   \n",
       "343066_galapagos_rad                             radiation     S    19weeks   \n",
       "343067_galapagos_rad                             radiation    G1    19weeks   \n",
       "343068_galapagos_rad                             radiation   G2M    19weeks   \n",
       "343069_galapagos_rad                             radiation   G2M    19weeks   \n",
       "343070_galapagos_rad                             radiation     S    19weeks   \n",
       "\n",
       "                                                     SC_prep         dataset  \\\n",
       "1_Sal_veh_d21_AAACCCAAGACATATG-1_galapagos_bleo       group1  galapagos_bleo   \n",
       "1_Sal_veh_d21_AAACCCAGTATTCTCT-1_galapagos_bleo       group1  galapagos_bleo   \n",
       "1_Sal_veh_d21_AAACCCATCCGCTGTT-1_galapagos_bleo       group1  galapagos_bleo   \n",
       "1_Sal_veh_d21_AAACGCTAGCGGGTTA-1_galapagos_bleo       group1  galapagos_bleo   \n",
       "1_Sal_veh_d21_AAAGGATGTCCGGTCA-1_galapagos_bleo       group1  galapagos_bleo   \n",
       "...                                                      ...             ...   \n",
       "343066_galapagos_rad                             day3_group9   galapagos_rad   \n",
       "343067_galapagos_rad                             day3_group9   galapagos_rad   \n",
       "343068_galapagos_rad                             day3_group9   galapagos_rad   \n",
       "343069_galapagos_rad                             day3_group9   galapagos_rad   \n",
       "343070_galapagos_rad                             day3_group9   galapagos_rad   \n",
       "\n",
       "                                                fibrotic/control  \n",
       "1_Sal_veh_d21_AAACCCAAGACATATG-1_galapagos_bleo          control  \n",
       "1_Sal_veh_d21_AAACCCAGTATTCTCT-1_galapagos_bleo          control  \n",
       "1_Sal_veh_d21_AAACCCATCCGCTGTT-1_galapagos_bleo          control  \n",
       "1_Sal_veh_d21_AAACGCTAGCGGGTTA-1_galapagos_bleo          control  \n",
       "1_Sal_veh_d21_AAAGGATGTCCGGTCA-1_galapagos_bleo          control  \n",
       "...                                                          ...  \n",
       "343066_galapagos_rad                                    fibrotic  \n",
       "343067_galapagos_rad                                    fibrotic  \n",
       "343068_galapagos_rad                                    fibrotic  \n",
       "343069_galapagos_rad                                    fibrotic  \n",
       "343070_galapagos_rad                                    fibrotic  \n",
       "\n",
       "[448037 rows x 9 columns]"
      ]
     },
     "execution_count": 45,
     "metadata": {},
     "output_type": "execute_result"
    }
   ],
   "source": [
    "galapagos_adata.obs"
   ]
  },
  {
   "cell_type": "code",
   "execution_count": 46,
   "id": "d321ec77-f6cb-4d7d-930f-7dfc8666f12b",
   "metadata": {},
   "outputs": [],
   "source": [
    "adatas = {\n",
    "    \"public\": publics ,\n",
    "    \"galapagos\": galapagos_adata\n",
    " }\n",
    "adata = ad.concat(adatas, join=\"outer\", axis = 0)#.obs"
   ]
  },
  {
   "cell_type": "code",
   "execution_count": 47,
   "id": "462af376-9ab8-4af6-89c3-9c7fdd398c93",
   "metadata": {},
   "outputs": [
    {
     "data": {
      "text/html": [
       "<div>\n",
       "<style scoped>\n",
       "    .dataframe tbody tr th:only-of-type {\n",
       "        vertical-align: middle;\n",
       "    }\n",
       "\n",
       "    .dataframe tbody tr th {\n",
       "        vertical-align: top;\n",
       "    }\n",
       "\n",
       "    .dataframe thead th {\n",
       "        text-align: right;\n",
       "    }\n",
       "</style>\n",
       "<table border=\"1\" class=\"dataframe\">\n",
       "  <thead>\n",
       "    <tr style=\"text-align: right;\">\n",
       "      <th></th>\n",
       "      <th>author_annotation</th>\n",
       "      <th>manual_celltype_annotation</th>\n",
       "      <th>batch</th>\n",
       "      <th>condition</th>\n",
       "      <th>timepoint</th>\n",
       "      <th>dataset</th>\n",
       "      <th>fibrotic/control</th>\n",
       "      <th>coarse_harmonized_anno</th>\n",
       "      <th>Phase</th>\n",
       "      <th>SAMP_stage</th>\n",
       "      <th>SC_prep</th>\n",
       "    </tr>\n",
       "  </thead>\n",
       "  <tbody>\n",
       "    <tr>\n",
       "      <th>AAACCTGAGGACATTA-1_xie</th>\n",
       "      <td>Col13a1</td>\n",
       "      <td>Myofibroblasts</td>\n",
       "      <td>1_xie</td>\n",
       "      <td>untreated</td>\n",
       "      <td>NaN</td>\n",
       "      <td>xie</td>\n",
       "      <td>control</td>\n",
       "      <td>Myofibroblasts</td>\n",
       "      <td>NaN</td>\n",
       "      <td>NaN</td>\n",
       "      <td>NaN</td>\n",
       "    </tr>\n",
       "    <tr>\n",
       "      <th>AAACCTGCAGTCGTGC-1_xie</th>\n",
       "      <td>Myofibroblasts</td>\n",
       "      <td>Peribronchial fibroblasts</td>\n",
       "      <td>1_xie</td>\n",
       "      <td>untreated</td>\n",
       "      <td>NaN</td>\n",
       "      <td>xie</td>\n",
       "      <td>control</td>\n",
       "      <td>Fibroblasts</td>\n",
       "      <td>NaN</td>\n",
       "      <td>NaN</td>\n",
       "      <td>NaN</td>\n",
       "    </tr>\n",
       "    <tr>\n",
       "      <th>AAACCTGCATGAAGTA-1_xie</th>\n",
       "      <td>Lipofibroblasts</td>\n",
       "      <td>Alveolar macrophages</td>\n",
       "      <td>1_xie</td>\n",
       "      <td>untreated</td>\n",
       "      <td>NaN</td>\n",
       "      <td>xie</td>\n",
       "      <td>control</td>\n",
       "      <td>Alveolar macrophages</td>\n",
       "      <td>NaN</td>\n",
       "      <td>NaN</td>\n",
       "      <td>NaN</td>\n",
       "    </tr>\n",
       "    <tr>\n",
       "      <th>AAACCTGTCTCGCATC-1_xie</th>\n",
       "      <td>Myofibroblasts</td>\n",
       "      <td>Peribronchial fibroblasts</td>\n",
       "      <td>1_xie</td>\n",
       "      <td>untreated</td>\n",
       "      <td>NaN</td>\n",
       "      <td>xie</td>\n",
       "      <td>control</td>\n",
       "      <td>Fibroblasts</td>\n",
       "      <td>NaN</td>\n",
       "      <td>NaN</td>\n",
       "      <td>NaN</td>\n",
       "    </tr>\n",
       "    <tr>\n",
       "      <th>AAACGGGTCCTAGAAC-1_xie</th>\n",
       "      <td>Myofibroblasts</td>\n",
       "      <td>Peribronchial fibroblasts</td>\n",
       "      <td>1_xie</td>\n",
       "      <td>untreated</td>\n",
       "      <td>NaN</td>\n",
       "      <td>xie</td>\n",
       "      <td>control</td>\n",
       "      <td>Fibroblasts</td>\n",
       "      <td>NaN</td>\n",
       "      <td>NaN</td>\n",
       "      <td>NaN</td>\n",
       "    </tr>\n",
       "    <tr>\n",
       "      <th>...</th>\n",
       "      <td>...</td>\n",
       "      <td>...</td>\n",
       "      <td>...</td>\n",
       "      <td>...</td>\n",
       "      <td>...</td>\n",
       "      <td>...</td>\n",
       "      <td>...</td>\n",
       "      <td>...</td>\n",
       "      <td>...</td>\n",
       "      <td>...</td>\n",
       "      <td>...</td>\n",
       "    </tr>\n",
       "    <tr>\n",
       "      <th>343066_galapagos_rad</th>\n",
       "      <td>NaN</td>\n",
       "      <td>Alveolar macrophages</td>\n",
       "      <td>74.0_galapagos_rad</td>\n",
       "      <td>radiation</td>\n",
       "      <td>NaN</td>\n",
       "      <td>galapagos_rad</td>\n",
       "      <td>fibrotic</td>\n",
       "      <td>NaN</td>\n",
       "      <td>S</td>\n",
       "      <td>19weeks</td>\n",
       "      <td>day3_group9</td>\n",
       "    </tr>\n",
       "    <tr>\n",
       "      <th>343067_galapagos_rad</th>\n",
       "      <td>NaN</td>\n",
       "      <td>AT2</td>\n",
       "      <td>74.0_galapagos_rad</td>\n",
       "      <td>radiation</td>\n",
       "      <td>NaN</td>\n",
       "      <td>galapagos_rad</td>\n",
       "      <td>fibrotic</td>\n",
       "      <td>NaN</td>\n",
       "      <td>G1</td>\n",
       "      <td>19weeks</td>\n",
       "      <td>day3_group9</td>\n",
       "    </tr>\n",
       "    <tr>\n",
       "      <th>343068_galapagos_rad</th>\n",
       "      <td>NaN</td>\n",
       "      <td>B-cells</td>\n",
       "      <td>74.0_galapagos_rad</td>\n",
       "      <td>radiation</td>\n",
       "      <td>NaN</td>\n",
       "      <td>galapagos_rad</td>\n",
       "      <td>fibrotic</td>\n",
       "      <td>NaN</td>\n",
       "      <td>G2M</td>\n",
       "      <td>19weeks</td>\n",
       "      <td>day3_group9</td>\n",
       "    </tr>\n",
       "    <tr>\n",
       "      <th>343069_galapagos_rad</th>\n",
       "      <td>NaN</td>\n",
       "      <td>B-cells</td>\n",
       "      <td>74.0_galapagos_rad</td>\n",
       "      <td>radiation</td>\n",
       "      <td>NaN</td>\n",
       "      <td>galapagos_rad</td>\n",
       "      <td>fibrotic</td>\n",
       "      <td>NaN</td>\n",
       "      <td>G2M</td>\n",
       "      <td>19weeks</td>\n",
       "      <td>day3_group9</td>\n",
       "    </tr>\n",
       "    <tr>\n",
       "      <th>343070_galapagos_rad</th>\n",
       "      <td>NaN</td>\n",
       "      <td>B-cells</td>\n",
       "      <td>74.0_galapagos_rad</td>\n",
       "      <td>radiation</td>\n",
       "      <td>NaN</td>\n",
       "      <td>galapagos_rad</td>\n",
       "      <td>fibrotic</td>\n",
       "      <td>NaN</td>\n",
       "      <td>S</td>\n",
       "      <td>19weeks</td>\n",
       "      <td>day3_group9</td>\n",
       "    </tr>\n",
       "  </tbody>\n",
       "</table>\n",
       "<p>535908 rows × 11 columns</p>\n",
       "</div>"
      ],
      "text/plain": [
       "                       author_annotation manual_celltype_annotation  \\\n",
       "AAACCTGAGGACATTA-1_xie           Col13a1             Myofibroblasts   \n",
       "AAACCTGCAGTCGTGC-1_xie    Myofibroblasts  Peribronchial fibroblasts   \n",
       "AAACCTGCATGAAGTA-1_xie   Lipofibroblasts       Alveolar macrophages   \n",
       "AAACCTGTCTCGCATC-1_xie    Myofibroblasts  Peribronchial fibroblasts   \n",
       "AAACGGGTCCTAGAAC-1_xie    Myofibroblasts  Peribronchial fibroblasts   \n",
       "...                                  ...                        ...   \n",
       "343066_galapagos_rad                 NaN       Alveolar macrophages   \n",
       "343067_galapagos_rad                 NaN                        AT2   \n",
       "343068_galapagos_rad                 NaN                    B-cells   \n",
       "343069_galapagos_rad                 NaN                    B-cells   \n",
       "343070_galapagos_rad                 NaN                    B-cells   \n",
       "\n",
       "                                     batch  condition timepoint  \\\n",
       "AAACCTGAGGACATTA-1_xie               1_xie  untreated       NaN   \n",
       "AAACCTGCAGTCGTGC-1_xie               1_xie  untreated       NaN   \n",
       "AAACCTGCATGAAGTA-1_xie               1_xie  untreated       NaN   \n",
       "AAACCTGTCTCGCATC-1_xie               1_xie  untreated       NaN   \n",
       "AAACGGGTCCTAGAAC-1_xie               1_xie  untreated       NaN   \n",
       "...                                    ...        ...       ...   \n",
       "343066_galapagos_rad    74.0_galapagos_rad  radiation       NaN   \n",
       "343067_galapagos_rad    74.0_galapagos_rad  radiation       NaN   \n",
       "343068_galapagos_rad    74.0_galapagos_rad  radiation       NaN   \n",
       "343069_galapagos_rad    74.0_galapagos_rad  radiation       NaN   \n",
       "343070_galapagos_rad    74.0_galapagos_rad  radiation       NaN   \n",
       "\n",
       "                              dataset fibrotic/control coarse_harmonized_anno  \\\n",
       "AAACCTGAGGACATTA-1_xie            xie          control         Myofibroblasts   \n",
       "AAACCTGCAGTCGTGC-1_xie            xie          control            Fibroblasts   \n",
       "AAACCTGCATGAAGTA-1_xie            xie          control   Alveolar macrophages   \n",
       "AAACCTGTCTCGCATC-1_xie            xie          control            Fibroblasts   \n",
       "AAACGGGTCCTAGAAC-1_xie            xie          control            Fibroblasts   \n",
       "...                               ...              ...                    ...   \n",
       "343066_galapagos_rad    galapagos_rad         fibrotic                    NaN   \n",
       "343067_galapagos_rad    galapagos_rad         fibrotic                    NaN   \n",
       "343068_galapagos_rad    galapagos_rad         fibrotic                    NaN   \n",
       "343069_galapagos_rad    galapagos_rad         fibrotic                    NaN   \n",
       "343070_galapagos_rad    galapagos_rad         fibrotic                    NaN   \n",
       "\n",
       "                       Phase SAMP_stage      SC_prep  \n",
       "AAACCTGAGGACATTA-1_xie   NaN        NaN          NaN  \n",
       "AAACCTGCAGTCGTGC-1_xie   NaN        NaN          NaN  \n",
       "AAACCTGCATGAAGTA-1_xie   NaN        NaN          NaN  \n",
       "AAACCTGTCTCGCATC-1_xie   NaN        NaN          NaN  \n",
       "AAACGGGTCCTAGAAC-1_xie   NaN        NaN          NaN  \n",
       "...                      ...        ...          ...  \n",
       "343066_galapagos_rad       S    19weeks  day3_group9  \n",
       "343067_galapagos_rad      G1    19weeks  day3_group9  \n",
       "343068_galapagos_rad     G2M    19weeks  day3_group9  \n",
       "343069_galapagos_rad     G2M    19weeks  day3_group9  \n",
       "343070_galapagos_rad       S    19weeks  day3_group9  \n",
       "\n",
       "[535908 rows x 11 columns]"
      ]
     },
     "execution_count": 47,
     "metadata": {},
     "output_type": "execute_result"
    }
   ],
   "source": [
    "adata.obs"
   ]
  },
  {
   "cell_type": "code",
   "execution_count": 48,
   "id": "48c66eb0-bd3b-4078-b43f-a8fbc3fe8c4c",
   "metadata": {},
   "outputs": [],
   "source": [
    "adata.obs[\"batch\"] = adata.obs[\"batch\"].astype(\"category\")"
   ]
  },
  {
   "cell_type": "code",
   "execution_count": 49,
   "id": "1bdf2f71-5c85-4c7f-9ebb-24f12ee342fb",
   "metadata": {},
   "outputs": [],
   "source": [
    "adata.write(\"/lustre/groups/ml01/workspace/daniel.michaela.masterpraktikum23/all_datasets_merged/complete_merged_public_and_galapagos.h5ad\")"
   ]
  }
 ],
 "metadata": {
  "kernelspec": {
   "display_name": "Python [conda env:scanpy] *",
   "language": "python",
   "name": "conda-env-scanpy-py"
  },
  "language_info": {
   "codemirror_mode": {
    "name": "ipython",
    "version": 3
   },
   "file_extension": ".py",
   "mimetype": "text/x-python",
   "name": "python",
   "nbconvert_exporter": "python",
   "pygments_lexer": "ipython3",
   "version": "3.9.16"
  }
 },
 "nbformat": 4,
 "nbformat_minor": 5
}
