{
 "cells": [
  {
   "cell_type": "code",
   "execution_count": null,
   "id": "787a869c-5e9b-44e4-8415-ae505bdd79bc",
   "metadata": {
    "tags": []
   },
   "outputs": [],
   "source": [
    "import scanpy as sc\n",
    "import pandas as pd\n",
    "import numpy as np\n",
    "import glob"
   ]
  },
  {
   "cell_type": "code",
   "execution_count": null,
   "id": "44e15919-ff56-4640-8c7a-f29d13ccf687",
   "metadata": {},
   "outputs": [],
   "source": [
    "sc.settings.verbosity = 3             # verbosity: errors (0), warnings (1), info (2), hints (3)\n",
    "sc.logging.print_header()\n",
    "sc.settings.set_figure_params(dpi=80, facecolor='white')"
   ]
  },
  {
   "cell_type": "code",
   "execution_count": null,
   "id": "86539813-b23c-4567-befa-c5ec17361357",
   "metadata": {
    "tags": []
   },
   "outputs": [],
   "source": [
    "results_file = 'write/tsukui_ali.h5ad'  # the file that will store the analysis results"
   ]
  },
  {
   "cell_type": "code",
   "execution_count": null,
   "id": "06d7e418-4c18-47d4-b3dd-a7dbd4e46768",
   "metadata": {
    "tags": []
   },
   "outputs": [],
   "source": [
    "filenames = (glob.glob('/mnt/cip/home/sch/schuboea/tsukuidata/*.mtx'))\n",
    "samplenames = []\n",
    "for file in filenames:\n",
    "    sample = '_'.join((file.split(sep=\"/\")[-1]).split(sep=\"_\")[0:-1])\n",
    "    samplenames.append(sample)\n",
    "print(samplenames)"
   ]
  },
  {
   "cell_type": "code",
   "execution_count": null,
   "id": "a3238a97-4f1f-4cd7-bd85-e1c9e1dd8d6f",
   "metadata": {},
   "outputs": [],
   "source": [
    "#generate adata object for each sample matrix and store them in \"adatas\"-list\n",
    "adatas = []\n",
    "for sample in samplenames:\n",
    "    adata = sc.read_10x_mtx(\n",
    "    '/mnt/cip/home/sch/schuboea/tsukuidata/',  # the directory with the `.mtx` file\n",
    "    prefix = sample + \"_\",                # sample name as prefix\n",
    "    var_names='gene_symbols',             # use gene symbols for the variable names (variables-axis index)\n",
    "    cache=True)                          # write a cache file for faster subsequent reading\n",
    "    adata.var_names_make_unique()        # make sure genes with same name don´t cause trouble\n",
    "    adatas.append(adata)\n",
    "print(adatas)"
   ]
  },
  {
   "cell_type": "code",
   "execution_count": null,
   "id": "cc795101-245d-45e2-a97e-45aa0ee577d6",
   "metadata": {
    "tags": []
   },
   "outputs": [],
   "source": [
    "#hier direkt concat, davor noch obs columns für condition, batch, und gfp y/n reinmachen\n",
    "#dann qc machen auf allen\n",
    "#plots in seaborn direkt nebeneinander mit der gleichen achse (wie beim best practice buch -> histogramme), auch mal schauen wegen <2500\n",
    "#<3500 und mt <6"
   ]
  },
  {
   "cell_type": "code",
   "execution_count": null,
   "id": "a6b87151-2c99-488c-b6c7-fb3bf765df72",
   "metadata": {
    "tags": []
   },
   "outputs": [],
   "source": [
    "#adata = adatas[1]\n",
    "counter=0\n",
    "for sample in samplenames:\n",
    "    #adata = \"adatas[counter]\"\n",
    "    \n",
    "    #sc.pp.filter_cells(adatas[counter], min_genes=250)  #filter out cells with less than 250 genes (from publication), usually it´s 200?\n",
    "    sc.pp.filter_genes(adatas[counter], min_cells=3) #filter out genes that are seen in less than 3 cells\n",
    "    \n",
    "    # mitochondrial genes\n",
    "    adatas[counter].var[\"mt\"] = adatas[counter].var_names.str.startswith(\"mt-\")\n",
    "    sc.pp.calculate_qc_metrics(adatas[counter], qc_vars=[\"mt\"], inplace=True, percent_top=None, log1p=True) \n",
    "    sc.pl.violin(adatas[counter], [ 'total_counts', 'pct_counts_mt', 'n_genes_by_counts'],\n",
    "                 jitter=0.4, multi_panel=True)\n",
    "    sc.pl.scatter(adatas[counter], x='total_counts', y='n_genes_by_counts')\n",
    "    sc.pl.scatter(adatas[counter], x='total_counts', y='pct_counts_mt')\n",
    "    \n",
    "    adatas[counter] = adatas[counter][adatas[counter].obs.n_genes_by_counts < 2500, :]\n",
    "    adatas[counter] = adatas[counter][adatas[counter].obs.pct_counts_mt < 10, :] #Hier percent gegen [5] für standard oder [10] von pub tauschen (oder MAD nehmen wie in best practices)\n",
    "    \n",
    "    #add obs with condition, batch and gfp y/n info\n",
    "    adata_copy = adatas[counter].copy()\n",
    "    adata_copy.obs[\"batch\"]=sample\n",
    "    adata_copy.obs[\"condition\"]=(sample.split(sep=\"_\")[1])[:-1]\n",
    "    adata_copy.obs[\"gfp\"]=sample.split(sep=\"_\")[2]\n",
    "    adatas[counter] = adata_copy\n",
    "    #print(adata.var)\n",
    "    #print(adata.obs)\n",
    "    counter+=1"
   ]
  },
  {
   "cell_type": "code",
   "execution_count": null,
   "id": "d3a09a77-97c4-4aff-8d69-a5587ea959b8",
   "metadata": {
    "tags": []
   },
   "outputs": [],
   "source": [
    "big_adata = adatas[0].concatenate(adatas[1:], join=\"outer\") #index_unique=None?"
   ]
  },
  {
   "cell_type": "code",
   "execution_count": null,
   "id": "9d7a590c-b651-4345-a4a9-8a15dd1c4947",
   "metadata": {},
   "outputs": [],
   "source": [
    "print(big_adata)"
   ]
  },
  {
   "cell_type": "code",
   "execution_count": null,
   "id": "17cd94af-8ae9-42bf-8abe-aaae8fc588a6",
   "metadata": {
    "tags": []
   },
   "outputs": [],
   "source": [
    "adatas[1].obs"
   ]
  },
  {
   "cell_type": "code",
   "execution_count": null,
   "id": "be179fc1-4521-4f7a-91e5-7871b9bc65ee",
   "metadata": {},
   "outputs": [],
   "source": [
    "#preprocessing for each adata object in the list\n",
    "for adata in adatas:\n",
    "    sc.pp.filter_cells(adata, min_genes=250)  #filter out genes with less than 250 genes (from publication)\n",
    "    '''sc.pp.filter_cells(ts, min_genes=300)\n",
    "    sc.pp.filter_cells(ts, max_genes=4600)     #daniels cut offs\n",
    "    sc.pp.filter_cells(ts, max_counts=20000)'''\n",
    "    # mitochondrial genes\n",
    "    adata.var[\"mt\"] = adata.var_names.str.startswith(\"mt-\")\n",
    "    # ribosomal genes\n",
    "    adata.var[\"ribo\"] = adata.var_names.str.startswith((\"rps\", \"rpl\"))\n",
    "    # hemoglobin genes.\n",
    "    adata.var[\"hb\"] = adata.var_names.str.contains((\"^hb[^(p)]\"))\n",
    "    sc.pp.calculate_qc_metrics(\n",
    "    adata, qc_vars=[\"mt\", \"ribo\", \"hb\"], inplace=True, percent_top=[10], log1p=True)\n",
    "    adata"
   ]
  }
 ],
 "metadata": {
  "kernelspec": {
   "display_name": "Python 3 (ipykernel)",
   "language": "python",
   "name": "python3"
  },
  "language_info": {
   "codemirror_mode": {
    "name": "ipython",
    "version": 3
   },
   "file_extension": ".py",
   "mimetype": "text/x-python",
   "name": "python",
   "nbconvert_exporter": "python",
   "pygments_lexer": "ipython3",
   "version": "3.9.16"
  }
 },
 "nbformat": 4,
 "nbformat_minor": 5
}
